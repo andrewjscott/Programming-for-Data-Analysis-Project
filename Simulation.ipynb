{
 "cells": [
  {
   "cell_type": "markdown",
   "id": "bbd3c1b4-99a0-429a-b948-ca3058890676",
   "metadata": {},
   "source": [
    "Author: Andrew Scott"
   ]
  },
  {
   "cell_type": "code",
   "execution_count": null,
   "id": "8fa1c9a3-666b-4622-853b-27d423f98852",
   "metadata": {},
   "outputs": [],
   "source": []
  },
  {
   "cell_type": "code",
   "execution_count": 1,
   "id": "0c50677a-778d-4943-b5e1-3bc61f78577b",
   "metadata": {},
   "outputs": [],
   "source": [
    "# Package for numerical calculations and arrays\n",
    "import numpy as np\n",
    "\n",
    "# Accessing datasets\n",
    "import statsmodels.api as sm\n",
    "\n",
    "# For dataframes\n",
    "import pandas as pd\n",
    "\n",
    "# Generating plots\n",
    "import matplotlib.pyplot as plt\n",
    "\n",
    "# Generating plots \n",
    "import seaborn as sns\n",
    "\n",
    "# For accessing dates and times\n",
    "import datetime as dt\n",
    "\n",
    "# A magic command for helping display matplotlib plots in notebooks\n",
    "%matplotlib inline"
   ]
  },
  {
   "cell_type": "markdown",
   "id": "5570edc8-50fb-4bb9-977a-31720efa377c",
   "metadata": {},
   "source": [
    "The plan is to use a real-world dataset to serve as a model for the simulated dataset. I have decided to simulate the following dataset that was originally published by Ronald Fisher that consists of cats and their gender, weight, and heart weight[x]. The dataset is part of the MASS package for the programming language R. However, these datasets can be accessed in python using the statsmodel package. https://kolesnikov.ga/Datasets_in_Python/"
   ]
  },
  {
   "cell_type": "code",
   "execution_count": 2,
   "id": "114b8392-7a4e-4dfd-927a-1af4f6b390d8",
   "metadata": {},
   "outputs": [],
   "source": [
    "# Load the cats dataset \n",
    "cats = sm.datasets.get_rdataset(dataname='cats', package='MASS')"
   ]
  },
  {
   "cell_type": "code",
   "execution_count": 3,
   "id": "3a234df6-8d7a-42ed-8cae-2e92db0082bf",
   "metadata": {},
   "outputs": [
    {
     "name": "stdout",
     "output_type": "stream",
     "text": [
      ".. container::\n",
      "\n",
      "   ==== ===============\n",
      "   cats R Documentation\n",
      "   ==== ===============\n",
      "\n",
      "   .. rubric:: Anatomical Data from Domestic Cats\n",
      "      :name: anatomical-data-from-domestic-cats\n",
      "\n",
      "   .. rubric:: Description\n",
      "      :name: description\n",
      "\n",
      "   The heart and body weights of samples of male and female cats used\n",
      "   for *digitalis* experiments. The cats were all adult, over 2 kg body\n",
      "   weight.\n",
      "\n",
      "   .. rubric:: Usage\n",
      "      :name: usage\n",
      "\n",
      "   ::\n",
      "\n",
      "      cats\n",
      "\n",
      "   .. rubric:: Format\n",
      "      :name: format\n",
      "\n",
      "   This data frame contains the following columns:\n",
      "\n",
      "   ``Sex``\n",
      "      sex: Factor with levels ``\"F\"`` and ``\"M\"``.\n",
      "\n",
      "   ``Bwt``\n",
      "      body weight in kg.\n",
      "\n",
      "   ``Hwt``\n",
      "      heart weight in g.\n",
      "\n",
      "   .. rubric:: Source\n",
      "      :name: source\n",
      "\n",
      "   R. A. Fisher (1947) The analysis of covariance method for the\n",
      "   relation between a part and the whole, *Biometrics* **3**, 65–68.\n",
      "\n",
      "   .. rubric:: References\n",
      "      :name: references\n",
      "\n",
      "   Venables, W. N. and Ripley, B. D. (2002) *Modern Applied Statistics\n",
      "   with S.* Fourth edition. Springer.\n",
      "\n"
     ]
    }
   ],
   "source": [
    "# Prnt some information about the dataset \n",
    "print(cats.__doc__)"
   ]
  },
  {
   "cell_type": "code",
   "execution_count": 4,
   "id": "938967ab-9154-430d-929d-cfd207d91552",
   "metadata": {},
   "outputs": [],
   "source": [
    "# Load the cats dataset to a pandas dataframe\n",
    "df_cats = cats.data"
   ]
  },
  {
   "cell_type": "code",
   "execution_count": 5,
   "id": "9b0f5f58-72a6-4f20-a33d-2b7bf0a04d26",
   "metadata": {},
   "outputs": [
    {
     "data": {
      "text/html": [
       "<div>\n",
       "<style scoped>\n",
       "    .dataframe tbody tr th:only-of-type {\n",
       "        vertical-align: middle;\n",
       "    }\n",
       "\n",
       "    .dataframe tbody tr th {\n",
       "        vertical-align: top;\n",
       "    }\n",
       "\n",
       "    .dataframe thead th {\n",
       "        text-align: right;\n",
       "    }\n",
       "</style>\n",
       "<table border=\"1\" class=\"dataframe\">\n",
       "  <thead>\n",
       "    <tr style=\"text-align: right;\">\n",
       "      <th></th>\n",
       "      <th>Sex</th>\n",
       "      <th>Bwt</th>\n",
       "      <th>Hwt</th>\n",
       "    </tr>\n",
       "  </thead>\n",
       "  <tbody>\n",
       "    <tr>\n",
       "      <th>0</th>\n",
       "      <td>F</td>\n",
       "      <td>2.0</td>\n",
       "      <td>7.0</td>\n",
       "    </tr>\n",
       "    <tr>\n",
       "      <th>1</th>\n",
       "      <td>F</td>\n",
       "      <td>2.0</td>\n",
       "      <td>7.4</td>\n",
       "    </tr>\n",
       "    <tr>\n",
       "      <th>2</th>\n",
       "      <td>F</td>\n",
       "      <td>2.0</td>\n",
       "      <td>9.5</td>\n",
       "    </tr>\n",
       "    <tr>\n",
       "      <th>3</th>\n",
       "      <td>F</td>\n",
       "      <td>2.1</td>\n",
       "      <td>7.2</td>\n",
       "    </tr>\n",
       "    <tr>\n",
       "      <th>4</th>\n",
       "      <td>F</td>\n",
       "      <td>2.1</td>\n",
       "      <td>7.3</td>\n",
       "    </tr>\n",
       "  </tbody>\n",
       "</table>\n",
       "</div>"
      ],
      "text/plain": [
       "  Sex  Bwt  Hwt\n",
       "0   F  2.0  7.0\n",
       "1   F  2.0  7.4\n",
       "2   F  2.0  9.5\n",
       "3   F  2.1  7.2\n",
       "4   F  2.1  7.3"
      ]
     },
     "execution_count": 5,
     "metadata": {},
     "output_type": "execute_result"
    }
   ],
   "source": [
    "# View the first few rows of the dataframe\n",
    "df_cats.head()"
   ]
  },
  {
   "cell_type": "code",
   "execution_count": 6,
   "id": "4d270986-79bb-459a-8d56-158629905e6d",
   "metadata": {},
   "outputs": [
    {
     "data": {
      "text/plain": [
       "(144, 3)"
      ]
     },
     "execution_count": 6,
     "metadata": {},
     "output_type": "execute_result"
    }
   ],
   "source": [
    "# View the shape of the dataframe\n",
    "df_cats.shape"
   ]
  },
  {
   "cell_type": "code",
   "execution_count": 7,
   "id": "cc8864a2-27aa-4b7e-95a7-2be5aefbd5c7",
   "metadata": {},
   "outputs": [
    {
     "data": {
      "text/html": [
       "<div>\n",
       "<style scoped>\n",
       "    .dataframe tbody tr th:only-of-type {\n",
       "        vertical-align: middle;\n",
       "    }\n",
       "\n",
       "    .dataframe tbody tr th {\n",
       "        vertical-align: top;\n",
       "    }\n",
       "\n",
       "    .dataframe thead th {\n",
       "        text-align: right;\n",
       "    }\n",
       "</style>\n",
       "<table border=\"1\" class=\"dataframe\">\n",
       "  <thead>\n",
       "    <tr style=\"text-align: right;\">\n",
       "      <th></th>\n",
       "      <th>Bwt</th>\n",
       "      <th>Hwt</th>\n",
       "    </tr>\n",
       "  </thead>\n",
       "  <tbody>\n",
       "    <tr>\n",
       "      <th>count</th>\n",
       "      <td>144.000000</td>\n",
       "      <td>144.000000</td>\n",
       "    </tr>\n",
       "    <tr>\n",
       "      <th>mean</th>\n",
       "      <td>2.723611</td>\n",
       "      <td>10.630556</td>\n",
       "    </tr>\n",
       "    <tr>\n",
       "      <th>std</th>\n",
       "      <td>0.485307</td>\n",
       "      <td>2.434636</td>\n",
       "    </tr>\n",
       "    <tr>\n",
       "      <th>min</th>\n",
       "      <td>2.000000</td>\n",
       "      <td>6.300000</td>\n",
       "    </tr>\n",
       "    <tr>\n",
       "      <th>25%</th>\n",
       "      <td>2.300000</td>\n",
       "      <td>8.950000</td>\n",
       "    </tr>\n",
       "    <tr>\n",
       "      <th>50%</th>\n",
       "      <td>2.700000</td>\n",
       "      <td>10.100000</td>\n",
       "    </tr>\n",
       "    <tr>\n",
       "      <th>75%</th>\n",
       "      <td>3.025000</td>\n",
       "      <td>12.125000</td>\n",
       "    </tr>\n",
       "    <tr>\n",
       "      <th>max</th>\n",
       "      <td>3.900000</td>\n",
       "      <td>20.500000</td>\n",
       "    </tr>\n",
       "  </tbody>\n",
       "</table>\n",
       "</div>"
      ],
      "text/plain": [
       "              Bwt         Hwt\n",
       "count  144.000000  144.000000\n",
       "mean     2.723611   10.630556\n",
       "std      0.485307    2.434636\n",
       "min      2.000000    6.300000\n",
       "25%      2.300000    8.950000\n",
       "50%      2.700000   10.100000\n",
       "75%      3.025000   12.125000\n",
       "max      3.900000   20.500000"
      ]
     },
     "execution_count": 7,
     "metadata": {},
     "output_type": "execute_result"
    }
   ],
   "source": [
    "# View summary statistics of dataframe\n",
    "df_cats.describe()"
   ]
  },
  {
   "cell_type": "code",
   "execution_count": 8,
   "id": "cd443ff3-2575-46ce-8074-f52afdd5eafc",
   "metadata": {},
   "outputs": [
    {
     "data": {
      "text/plain": [
       "M    97\n",
       "F    47\n",
       "Name: Sex, dtype: int64"
      ]
     },
     "execution_count": 8,
     "metadata": {},
     "output_type": "execute_result"
    }
   ],
   "source": [
    "# Show the amount of male and female cats in the dataset\n",
    "df_cats['Sex'].value_counts()"
   ]
  },
  {
   "cell_type": "code",
   "execution_count": 9,
   "id": "ed4e466d-2a00-425f-9a46-d773625804f9",
   "metadata": {},
   "outputs": [],
   "source": [
    "# Save the original dataset\n",
    "# Access the current date and time.\n",
    "now = dt.datetime.now()\n",
    "\n",
    "# Formatting the current date and time as a string and saving to a variable.\n",
    "current_time = now.strftime('%Y%m%d_%H%M%S')\n",
    "\n",
    "# A path to save the dataframe, using dt to create unique file names\n",
    "path = 'cats-dataset/cats_original_'  + current_time + '.csv'\n",
    "\n",
    "# Save pandas data frame to disk.\n",
    "df_cats.to_csv(path)"
   ]
  },
  {
   "cell_type": "code",
   "execution_count": null,
   "id": "1abb306b-8d6e-4fad-b2f6-2ee98437ac65",
   "metadata": {},
   "outputs": [],
   "source": []
  },
  {
   "cell_type": "markdown",
   "id": "102034d8-7fac-4d7c-baf6-e21ce42fd0cb",
   "metadata": {},
   "source": [
    "The above summaries gives an overview as to the dimensions and datatypes involved. There are three variable types - a binary male/female column, and two numerical columns containing body weights and heart weights. We will have to invent a fourth column when simulating this dataset to meet the criteria of simulated dataset having at least four variables. "
   ]
  },
  {
   "cell_type": "markdown",
   "id": "be1a3195-e906-42ea-9eb7-247c7a9d685b",
   "metadata": {},
   "source": [
    "Ignoring the sex for now and focusing on the numerical values, we could generate some random bodyweight and heartweight data using numpy by assuming a normal distribution for both variables, and using the summary statistics as a basis for the random data."
   ]
  },
  {
   "cell_type": "code",
   "execution_count": 10,
   "id": "8709bb83-037e-41cd-8fda-908499d7c903",
   "metadata": {},
   "outputs": [
    {
     "data": {
      "text/plain": [
       "array([3.53887385, 2.64234481, 2.27966558, 2.95829305, 2.88432972,\n",
       "       2.24103498, 2.79642534, 3.76954795, 2.29651783, 2.92287568,\n",
       "       2.14577528, 2.66172254, 3.71115486, 2.3842016 , 2.47096469,\n",
       "       3.06740288, 1.92744625, 2.17793091, 3.34127147, 3.60882125,\n",
       "       1.98799513, 2.74689294, 3.16800638, 3.21811613, 2.16011129,\n",
       "       2.5828392 , 2.63467624, 2.37010681, 2.97142793, 3.02898181,\n",
       "       2.83425732, 2.71903773, 3.5800975 , 2.28939622, 2.28125245,\n",
       "       1.9710175 , 3.30795341, 2.74244661, 1.35135148, 3.12888168,\n",
       "       2.88502482, 2.77855897, 2.45954963, 3.08749456, 3.11802245,\n",
       "       3.01427089, 2.70339305, 3.20309995, 2.411627  , 2.07876565,\n",
       "       3.20418531, 3.43918367, 2.17428005, 2.73313567, 2.64152833,\n",
       "       2.49661374, 3.03098021, 2.15789645, 2.84519278, 2.55972536,\n",
       "       2.13096633, 3.23960685, 2.61448778, 2.94138875, 2.36380605,\n",
       "       2.71946496, 3.26893583, 2.43798778, 2.67034081, 2.69344267,\n",
       "       3.09643706, 2.7652855 , 2.40895915, 1.86771919, 2.54453729,\n",
       "       3.07685713, 2.74683316, 2.28744881, 3.31023834, 2.25571061,\n",
       "       2.51345031, 3.06948486, 2.46441777, 1.42018096, 2.58038417,\n",
       "       2.57258814, 2.90635146, 2.71739177, 2.63472274, 2.91184355,\n",
       "       2.72180566, 2.57481656, 2.37689001, 3.27985694, 2.89495554,\n",
       "       2.17032503, 3.11428519, 3.05948725, 3.27540841, 3.38702449])"
      ]
     },
     "execution_count": 10,
     "metadata": {},
     "output_type": "execute_result"
    }
   ],
   "source": [
    "# Construct a new Generator with the default BitGenerator (PCG64)\n",
    "rng = np.random.default_rng()\n",
    "\n",
    "# Numpy randomly generated bwt\n",
    "# A random example of 100 samples from a normal distribution\n",
    "mu = 2.723611\n",
    "sigma = 0.485307\n",
    "\n",
    "random_bwt = rng.normal(mu, sigma, size=100)\n",
    "random_bwt"
   ]
  },
  {
   "cell_type": "code",
   "execution_count": 11,
   "id": "2eced47e-177b-4e3a-972c-f736565b9493",
   "metadata": {},
   "outputs": [
    {
     "data": {
      "text/plain": [
       "array([11.55169856,  8.29998191, 14.31703353, 10.50667014,  8.41068011,\n",
       "       10.61702633,  9.98367626,  8.56264426,  8.97526811, 13.67327682,\n",
       "        8.23327995, 14.24045818, 12.19613967,  9.32711729,  8.57230482,\n",
       "        8.32494696, 18.86615331, 10.61208426, 13.18591488,  7.93568616,\n",
       "        7.87224325, 12.21304238, 12.09003451, 12.48395804, 11.43512623,\n",
       "        8.85477958,  9.01104526,  9.51819506, 12.70327256,  7.31873067,\n",
       "       10.95959826, 11.78856025, 11.29145768,  7.27313638,  4.57864285,\n",
       "       12.32593569, 12.92484375, 11.88309053,  9.5642452 , 10.69775102,\n",
       "       13.20342231,  8.67836763, 11.68207806, 10.53564983, 13.92856585,\n",
       "       13.59781961, 12.88168554,  3.21235673,  9.55014843,  9.70802018,\n",
       "        8.87458542, 13.22291904, 11.59570769, 10.74498393, 12.9259367 ,\n",
       "       12.88979043, 11.22723413, 13.51281683, 13.14842294, 15.37262909,\n",
       "        6.44102671, 10.88561516,  9.85526473, 13.13921077, 12.09275106,\n",
       "       12.29694355, 13.6241651 ,  7.61625634, 13.24411764, 12.16344869,\n",
       "        8.521567  , 10.80760587, 10.1161477 , 12.39958304, 15.0824022 ,\n",
       "        9.89636036, 12.23408804,  8.27824295, 11.70820391, 11.23650588,\n",
       "       11.29605643,  8.79966104, 13.73421391, 10.0863889 , 10.00878216,\n",
       "       10.38520459,  8.65414767,  7.74236007, 15.49880061,  8.1660398 ,\n",
       "       10.30196242, 11.39217837, 13.78807345, 11.40071396, 13.01131041,\n",
       "       11.41419417, 11.65669425, 13.32201258, 10.57519568, 13.65994267])"
      ]
     },
     "execution_count": 11,
     "metadata": {},
     "output_type": "execute_result"
    }
   ],
   "source": [
    "# Numpy randomly generated hwt\n",
    "# A random example of 100 samples from a normal distribution\n",
    "mu = 10.630556\n",
    "sigma = 2.434636\n",
    "\n",
    "random_hwt = rng.normal(mu, sigma, size=100)\n",
    "random_hwt"
   ]
  },
  {
   "cell_type": "code",
   "execution_count": 12,
   "id": "3e5122da-2e1f-47fb-9483-382a8140a00a",
   "metadata": {},
   "outputs": [
    {
     "data": {
      "text/html": [
       "<div>\n",
       "<style scoped>\n",
       "    .dataframe tbody tr th:only-of-type {\n",
       "        vertical-align: middle;\n",
       "    }\n",
       "\n",
       "    .dataframe tbody tr th {\n",
       "        vertical-align: top;\n",
       "    }\n",
       "\n",
       "    .dataframe thead th {\n",
       "        text-align: right;\n",
       "    }\n",
       "</style>\n",
       "<table border=\"1\" class=\"dataframe\">\n",
       "  <thead>\n",
       "    <tr style=\"text-align: right;\">\n",
       "      <th></th>\n",
       "      <th>random_bwt</th>\n",
       "      <th>random_hwt</th>\n",
       "    </tr>\n",
       "  </thead>\n",
       "  <tbody>\n",
       "    <tr>\n",
       "      <th>0</th>\n",
       "      <td>3.538874</td>\n",
       "      <td>11.551699</td>\n",
       "    </tr>\n",
       "    <tr>\n",
       "      <th>1</th>\n",
       "      <td>2.642345</td>\n",
       "      <td>8.299982</td>\n",
       "    </tr>\n",
       "    <tr>\n",
       "      <th>2</th>\n",
       "      <td>2.279666</td>\n",
       "      <td>14.317034</td>\n",
       "    </tr>\n",
       "    <tr>\n",
       "      <th>3</th>\n",
       "      <td>2.958293</td>\n",
       "      <td>10.506670</td>\n",
       "    </tr>\n",
       "    <tr>\n",
       "      <th>4</th>\n",
       "      <td>2.884330</td>\n",
       "      <td>8.410680</td>\n",
       "    </tr>\n",
       "    <tr>\n",
       "      <th>...</th>\n",
       "      <td>...</td>\n",
       "      <td>...</td>\n",
       "    </tr>\n",
       "    <tr>\n",
       "      <th>95</th>\n",
       "      <td>2.170325</td>\n",
       "      <td>11.414194</td>\n",
       "    </tr>\n",
       "    <tr>\n",
       "      <th>96</th>\n",
       "      <td>3.114285</td>\n",
       "      <td>11.656694</td>\n",
       "    </tr>\n",
       "    <tr>\n",
       "      <th>97</th>\n",
       "      <td>3.059487</td>\n",
       "      <td>13.322013</td>\n",
       "    </tr>\n",
       "    <tr>\n",
       "      <th>98</th>\n",
       "      <td>3.275408</td>\n",
       "      <td>10.575196</td>\n",
       "    </tr>\n",
       "    <tr>\n",
       "      <th>99</th>\n",
       "      <td>3.387024</td>\n",
       "      <td>13.659943</td>\n",
       "    </tr>\n",
       "  </tbody>\n",
       "</table>\n",
       "<p>100 rows × 2 columns</p>\n",
       "</div>"
      ],
      "text/plain": [
       "    random_bwt  random_hwt\n",
       "0     3.538874   11.551699\n",
       "1     2.642345    8.299982\n",
       "2     2.279666   14.317034\n",
       "3     2.958293   10.506670\n",
       "4     2.884330    8.410680\n",
       "..         ...         ...\n",
       "95    2.170325   11.414194\n",
       "96    3.114285   11.656694\n",
       "97    3.059487   13.322013\n",
       "98    3.275408   10.575196\n",
       "99    3.387024   13.659943\n",
       "\n",
       "[100 rows x 2 columns]"
      ]
     },
     "execution_count": 12,
     "metadata": {},
     "output_type": "execute_result"
    }
   ],
   "source": [
    "# Create a new df with the random np arrays\n",
    "# https://stackoverflow.com/questions/29949757/creating-pandas-dataframe-between-two-numpy-arrays-then-draw-scatter-plot\n",
    "random_df = pd.DataFrame({'random_bwt':random_bwt, 'random_hwt':random_hwt})\n",
    "random_df"
   ]
  },
  {
   "cell_type": "code",
   "execution_count": 13,
   "id": "59ed3479-99fa-4c87-a519-11337d6f1c3d",
   "metadata": {},
   "outputs": [
    {
     "data": {
      "text/html": [
       "<div>\n",
       "<style scoped>\n",
       "    .dataframe tbody tr th:only-of-type {\n",
       "        vertical-align: middle;\n",
       "    }\n",
       "\n",
       "    .dataframe tbody tr th {\n",
       "        vertical-align: top;\n",
       "    }\n",
       "\n",
       "    .dataframe thead th {\n",
       "        text-align: right;\n",
       "    }\n",
       "</style>\n",
       "<table border=\"1\" class=\"dataframe\">\n",
       "  <thead>\n",
       "    <tr style=\"text-align: right;\">\n",
       "      <th></th>\n",
       "      <th>random_bwt</th>\n",
       "      <th>random_hwt</th>\n",
       "    </tr>\n",
       "  </thead>\n",
       "  <tbody>\n",
       "    <tr>\n",
       "      <th>count</th>\n",
       "      <td>100.000000</td>\n",
       "      <td>100.000000</td>\n",
       "    </tr>\n",
       "    <tr>\n",
       "      <th>mean</th>\n",
       "      <td>2.720101</td>\n",
       "      <td>11.002063</td>\n",
       "    </tr>\n",
       "    <tr>\n",
       "      <th>std</th>\n",
       "      <td>0.467064</td>\n",
       "      <td>2.417767</td>\n",
       "    </tr>\n",
       "    <tr>\n",
       "      <th>min</th>\n",
       "      <td>1.351351</td>\n",
       "      <td>3.212357</td>\n",
       "    </tr>\n",
       "    <tr>\n",
       "      <th>25%</th>\n",
       "      <td>2.402770</td>\n",
       "      <td>9.248099</td>\n",
       "    </tr>\n",
       "    <tr>\n",
       "      <th>50%</th>\n",
       "      <td>2.719251</td>\n",
       "      <td>11.263982</td>\n",
       "    </tr>\n",
       "    <tr>\n",
       "      <th>75%</th>\n",
       "      <td>3.067923</td>\n",
       "      <td>12.883712</td>\n",
       "    </tr>\n",
       "    <tr>\n",
       "      <th>max</th>\n",
       "      <td>3.769548</td>\n",
       "      <td>18.866153</td>\n",
       "    </tr>\n",
       "  </tbody>\n",
       "</table>\n",
       "</div>"
      ],
      "text/plain": [
       "       random_bwt  random_hwt\n",
       "count  100.000000  100.000000\n",
       "mean     2.720101   11.002063\n",
       "std      0.467064    2.417767\n",
       "min      1.351351    3.212357\n",
       "25%      2.402770    9.248099\n",
       "50%      2.719251   11.263982\n",
       "75%      3.067923   12.883712\n",
       "max      3.769548   18.866153"
      ]
     },
     "execution_count": 13,
     "metadata": {},
     "output_type": "execute_result"
    }
   ],
   "source": [
    "# View summary statistics\n",
    "random_df.describe()"
   ]
  },
  {
   "cell_type": "markdown",
   "id": "2fe8b346-97d2-4ee0-8c24-55a0cf22c0bb",
   "metadata": {},
   "source": [
    "We can see from the summary statistics that our random dataframe has somewhat similar summary statistics to the original. Despite this, it is not an acceptable simulation of the original dataset. This will become apparant by plotting scatterplots of the original data and the random data."
   ]
  },
  {
   "cell_type": "code",
   "execution_count": 14,
   "id": "b247a4ec-97ad-48d5-a8bb-f73494f3e441",
   "metadata": {},
   "outputs": [
    {
     "data": {
      "text/plain": [
       "<AxesSubplot:xlabel='Bwt', ylabel='Hwt'>"
      ]
     },
     "execution_count": 14,
     "metadata": {},
     "output_type": "execute_result"
    },
    {
     "data": {
      "image/png": "[encoded data removed]",
      "text/plain": [
       "<Figure size 432x288 with 1 Axes>"
      ]
     },
     "metadata": {
      "needs_background": "light"
     },
     "output_type": "display_data"
    }
   ],
   "source": [
    "# scatterplot of original bwt and hwt\n",
    "sns.scatterplot(data = df_cats, x = 'Bwt', y= 'Hwt')"
   ]
  },
  {
   "cell_type": "code",
   "execution_count": 15,
   "id": "e280799c-9c6b-46e4-9126-b8db4b73d055",
   "metadata": {},
   "outputs": [
    {
     "data": {
      "text/plain": [
       "<AxesSubplot:xlabel='random_bwt', ylabel='random_hwt'>"
      ]
     },
     "execution_count": 15,
     "metadata": {},
     "output_type": "execute_result"
    },
    {
     "data": {
      "image/png": "[encoded data removed]",
      "text/plain": [
       "<Figure size 432x288 with 1 Axes>"
      ]
     },
     "metadata": {
      "needs_background": "light"
     },
     "output_type": "display_data"
    }
   ],
   "source": [
    "# scatterplot of bwt and hwt\n",
    "sns.scatterplot(data = random_df, x = 'random_bwt', y= 'random_hwt')"
   ]
  },
  {
   "cell_type": "markdown",
   "id": "2cff464c-0846-4fe7-80a7-c7869322f9e6",
   "metadata": {},
   "source": [
    "As we can see, there appears to be a positive correlation between a cat's bodyweight and heartweight, whereas in the random dataframe there is little correlation. Thsi can also be shown numerically. "
   ]
  },
  {
   "cell_type": "code",
   "execution_count": 16,
   "id": "348562b4-f561-47a4-8fe6-d98c00d3ad39",
   "metadata": {},
   "outputs": [
    {
     "data": {
      "text/html": [
       "<div>\n",
       "<style scoped>\n",
       "    .dataframe tbody tr th:only-of-type {\n",
       "        vertical-align: middle;\n",
       "    }\n",
       "\n",
       "    .dataframe tbody tr th {\n",
       "        vertical-align: top;\n",
       "    }\n",
       "\n",
       "    .dataframe thead th {\n",
       "        text-align: right;\n",
       "    }\n",
       "</style>\n",
       "<table border=\"1\" class=\"dataframe\">\n",
       "  <thead>\n",
       "    <tr style=\"text-align: right;\">\n",
       "      <th></th>\n",
       "      <th>Bwt</th>\n",
       "      <th>Hwt</th>\n",
       "    </tr>\n",
       "  </thead>\n",
       "  <tbody>\n",
       "    <tr>\n",
       "      <th>Bwt</th>\n",
       "      <td>1.000000</td>\n",
       "      <td>0.804127</td>\n",
       "    </tr>\n",
       "    <tr>\n",
       "      <th>Hwt</th>\n",
       "      <td>0.804127</td>\n",
       "      <td>1.000000</td>\n",
       "    </tr>\n",
       "  </tbody>\n",
       "</table>\n",
       "</div>"
      ],
      "text/plain": [
       "          Bwt       Hwt\n",
       "Bwt  1.000000  0.804127\n",
       "Hwt  0.804127  1.000000"
      ]
     },
     "execution_count": 16,
     "metadata": {},
     "output_type": "execute_result"
    }
   ],
   "source": [
    "# Show the correlation bodyweight and heartweight\n",
    "df_cats.corr()"
   ]
  },
  {
   "cell_type": "code",
   "execution_count": 17,
   "id": "499e2814-7769-44d8-9964-e7e559afca3b",
   "metadata": {},
   "outputs": [
    {
     "data": {
      "text/html": [
       "<div>\n",
       "<style scoped>\n",
       "    .dataframe tbody tr th:only-of-type {\n",
       "        vertical-align: middle;\n",
       "    }\n",
       "\n",
       "    .dataframe tbody tr th {\n",
       "        vertical-align: top;\n",
       "    }\n",
       "\n",
       "    .dataframe thead th {\n",
       "        text-align: right;\n",
       "    }\n",
       "</style>\n",
       "<table border=\"1\" class=\"dataframe\">\n",
       "  <thead>\n",
       "    <tr style=\"text-align: right;\">\n",
       "      <th></th>\n",
       "      <th>random_bwt</th>\n",
       "      <th>random_hwt</th>\n",
       "    </tr>\n",
       "  </thead>\n",
       "  <tbody>\n",
       "    <tr>\n",
       "      <th>random_bwt</th>\n",
       "      <td>1.000000</td>\n",
       "      <td>0.040726</td>\n",
       "    </tr>\n",
       "    <tr>\n",
       "      <th>random_hwt</th>\n",
       "      <td>0.040726</td>\n",
       "      <td>1.000000</td>\n",
       "    </tr>\n",
       "  </tbody>\n",
       "</table>\n",
       "</div>"
      ],
      "text/plain": [
       "            random_bwt  random_hwt\n",
       "random_bwt    1.000000    0.040726\n",
       "random_hwt    0.040726    1.000000"
      ]
     },
     "execution_count": 17,
     "metadata": {},
     "output_type": "execute_result"
    }
   ],
   "source": [
    "# Show the correlation bodyweight and heartweight\n",
    "random_df.corr()"
   ]
  },
  {
   "cell_type": "markdown",
   "id": "d69cd60d-41e5-45c1-b8cc-8dd5f98fbf53",
   "metadata": {},
   "source": [
    "This means that in general, lighter cats have lighter hearts and heavier cats have heavier hearts. While 0.8 is a very sreong correlation[x], it is not perfect. There are some rather rare instances where a cat has a heavier heart than another cat that have a higher bodyweight. For that reason, it will not suffice to just sort the random values so that the lightest cat is matched with the lightest heart all the way up to the heaviest cat and the heaviest heart. Further investigation in to the original dataset might provide clues as to how best to proceed. "
   ]
  },
  {
   "cell_type": "code",
   "execution_count": null,
   "id": "17468cd4-1373-4c35-a635-cff357b63286",
   "metadata": {},
   "outputs": [],
   "source": []
  },
  {
   "cell_type": "code",
   "execution_count": null,
   "id": "bf68f2f8-949f-4433-b171-040fb2345590",
   "metadata": {},
   "outputs": [],
   "source": []
  },
  {
   "cell_type": "code",
   "execution_count": null,
   "id": "c2314e65-2356-478a-8284-1648143a0dfa",
   "metadata": {},
   "outputs": [],
   "source": []
  },
  {
   "cell_type": "code",
   "execution_count": null,
   "id": "f88c1c4e-ef24-4779-a08b-3cd4de190ec1",
   "metadata": {},
   "outputs": [],
   "source": []
  },
  {
   "cell_type": "markdown",
   "id": "a9a1eabc-cab0-404c-9b8c-abeba75c5720",
   "metadata": {},
   "source": [
    "As the sex of the cat may impact the other variables, it would be a good idea to also look at the summary statistics for each sex. The idea to use both groupby and describe in the same line of code came from https://stackoverflow.com/questions/42579148/get-columns-describe-from-group-by."
   ]
  },
  {
   "cell_type": "code",
   "execution_count": null,
   "id": "4cb0b883-609a-4347-92a7-cc3fcfd78c47",
   "metadata": {},
   "outputs": [],
   "source": []
  },
  {
   "cell_type": "code",
   "execution_count": 18,
   "id": "47f7f2dc-2811-442e-9127-8bdf5d792e9c",
   "metadata": {},
   "outputs": [
    {
     "data": {
      "text/html": [
       "<div>\n",
       "<style scoped>\n",
       "    .dataframe tbody tr th:only-of-type {\n",
       "        vertical-align: middle;\n",
       "    }\n",
       "\n",
       "    .dataframe tbody tr th {\n",
       "        vertical-align: top;\n",
       "    }\n",
       "\n",
       "    .dataframe thead tr th {\n",
       "        text-align: left;\n",
       "    }\n",
       "\n",
       "    .dataframe thead tr:last-of-type th {\n",
       "        text-align: right;\n",
       "    }\n",
       "</style>\n",
       "<table border=\"1\" class=\"dataframe\">\n",
       "  <thead>\n",
       "    <tr>\n",
       "      <th></th>\n",
       "      <th colspan=\"8\" halign=\"left\">Bwt</th>\n",
       "      <th colspan=\"8\" halign=\"left\">Hwt</th>\n",
       "    </tr>\n",
       "    <tr>\n",
       "      <th></th>\n",
       "      <th>count</th>\n",
       "      <th>mean</th>\n",
       "      <th>std</th>\n",
       "      <th>min</th>\n",
       "      <th>25%</th>\n",
       "      <th>50%</th>\n",
       "      <th>75%</th>\n",
       "      <th>max</th>\n",
       "      <th>count</th>\n",
       "      <th>mean</th>\n",
       "      <th>std</th>\n",
       "      <th>min</th>\n",
       "      <th>25%</th>\n",
       "      <th>50%</th>\n",
       "      <th>75%</th>\n",
       "      <th>max</th>\n",
       "    </tr>\n",
       "    <tr>\n",
       "      <th>Sex</th>\n",
       "      <th></th>\n",
       "      <th></th>\n",
       "      <th></th>\n",
       "      <th></th>\n",
       "      <th></th>\n",
       "      <th></th>\n",
       "      <th></th>\n",
       "      <th></th>\n",
       "      <th></th>\n",
       "      <th></th>\n",
       "      <th></th>\n",
       "      <th></th>\n",
       "      <th></th>\n",
       "      <th></th>\n",
       "      <th></th>\n",
       "      <th></th>\n",
       "    </tr>\n",
       "  </thead>\n",
       "  <tbody>\n",
       "    <tr>\n",
       "      <th>F</th>\n",
       "      <td>47.0</td>\n",
       "      <td>2.359574</td>\n",
       "      <td>0.273988</td>\n",
       "      <td>2.0</td>\n",
       "      <td>2.15</td>\n",
       "      <td>2.3</td>\n",
       "      <td>2.5</td>\n",
       "      <td>3.0</td>\n",
       "      <td>47.0</td>\n",
       "      <td>9.202128</td>\n",
       "      <td>1.357666</td>\n",
       "      <td>6.3</td>\n",
       "      <td>8.35</td>\n",
       "      <td>9.1</td>\n",
       "      <td>10.1</td>\n",
       "      <td>13.0</td>\n",
       "    </tr>\n",
       "    <tr>\n",
       "      <th>M</th>\n",
       "      <td>97.0</td>\n",
       "      <td>2.900000</td>\n",
       "      <td>0.467484</td>\n",
       "      <td>2.0</td>\n",
       "      <td>2.50</td>\n",
       "      <td>2.9</td>\n",
       "      <td>3.2</td>\n",
       "      <td>3.9</td>\n",
       "      <td>97.0</td>\n",
       "      <td>11.322680</td>\n",
       "      <td>2.542288</td>\n",
       "      <td>6.5</td>\n",
       "      <td>9.40</td>\n",
       "      <td>11.4</td>\n",
       "      <td>12.8</td>\n",
       "      <td>20.5</td>\n",
       "    </tr>\n",
       "  </tbody>\n",
       "</table>\n",
       "</div>"
      ],
      "text/plain": [
       "      Bwt                                                 Hwt             \\\n",
       "    count      mean       std  min   25%  50%  75%  max count       mean   \n",
       "Sex                                                                        \n",
       "F    47.0  2.359574  0.273988  2.0  2.15  2.3  2.5  3.0  47.0   9.202128   \n",
       "M    97.0  2.900000  0.467484  2.0  2.50  2.9  3.2  3.9  97.0  11.322680   \n",
       "\n",
       "                                            \n",
       "          std  min   25%   50%   75%   max  \n",
       "Sex                                         \n",
       "F    1.357666  6.3  8.35   9.1  10.1  13.0  \n",
       "M    2.542288  6.5  9.40  11.4  12.8  20.5  "
      ]
     },
     "execution_count": 18,
     "metadata": {},
     "output_type": "execute_result"
    }
   ],
   "source": [
    "# View summary statistics for each sex\n",
    "df_cats.groupby(['Sex']).describe()"
   ]
  },
  {
   "cell_type": "markdown",
   "id": "80b5c848-f110-451f-8a0d-ab3e1769a224",
   "metadata": {},
   "source": [
    "The standard deviations of the male values for body weight and heart weight are much higher than for females, suggesting there is typically a greater variation in male sizes, whereas females tend to be more similar in body and heart weights to one another. "
   ]
  },
  {
   "cell_type": "code",
   "execution_count": null,
   "id": "e7f862af-dd75-4137-a9f2-f73196e636dc",
   "metadata": {},
   "outputs": [],
   "source": []
  },
  {
   "cell_type": "code",
   "execution_count": null,
   "id": "8903f816-58b4-438b-aec8-5ff10d8d81ad",
   "metadata": {},
   "outputs": [],
   "source": []
  },
  {
   "cell_type": "markdown",
   "id": "412deaaf-f370-4a09-b085-8cdc830ac8fc",
   "metadata": {},
   "source": [
    "It it will be helpful to plot the dataset to visualise the distributions of each variable. It will help to decide if the assumption of normally distributed data is justified. "
   ]
  },
  {
   "cell_type": "code",
   "execution_count": null,
   "id": "c8216240-34be-4fbf-9b68-a50df3a0bd2c",
   "metadata": {},
   "outputs": [],
   "source": []
  },
  {
   "cell_type": "code",
   "execution_count": 19,
   "id": "7a898c34-2449-4b8a-91f2-6323b19d70c7",
   "metadata": {},
   "outputs": [
    {
     "data": {
      "text/plain": [
       "<AxesSubplot:xlabel='Bwt', ylabel='Count'>"
      ]
     },
     "execution_count": 19,
     "metadata": {},
     "output_type": "execute_result"
    },
    {
     "data": {
      "image/png": "[encoded data removed]",
      "text/plain": [
       "<Figure size 432x288 with 1 Axes>"
      ]
     },
     "metadata": {
      "needs_background": "light"
     },
     "output_type": "display_data"
    }
   ],
   "source": [
    "# Plotting the body weight\n",
    "sns.histplot(data = df_cats, x = 'Bwt')"
   ]
  },
  {
   "cell_type": "code",
   "execution_count": 20,
   "id": "3b53e3a2-3b83-445f-a99b-b60ac35d626d",
   "metadata": {},
   "outputs": [
    {
     "data": {
      "text/plain": [
       "<AxesSubplot:xlabel='Bwt', ylabel='Count'>"
      ]
     },
     "execution_count": 20,
     "metadata": {},
     "output_type": "execute_result"
    },
    {
     "data": {
      "image/png": "[encoded data removed]",
      "text/plain": [
       "<Figure size 432x288 with 1 Axes>"
      ]
     },
     "metadata": {
      "needs_background": "light"
     },
     "output_type": "display_data"
    }
   ],
   "source": [
    "# Plotting the bodyweight by sex\n",
    "sns.histplot(data = df_cats, x = 'Bwt', hue = 'Sex', multiple=\"dodge\", kde=True)"
   ]
  },
  {
   "cell_type": "markdown",
   "id": "89760c52-c275-408e-b06d-ba8ca2076ede",
   "metadata": {},
   "source": []
  },
  {
   "cell_type": "code",
   "execution_count": 21,
   "id": "446a3eed-e452-493c-b98f-c92f52d6dc92",
   "metadata": {},
   "outputs": [
    {
     "data": {
      "text/plain": [
       "<AxesSubplot:xlabel='Hwt', ylabel='Count'>"
      ]
     },
     "execution_count": 21,
     "metadata": {},
     "output_type": "execute_result"
    },
    {
     "data": {
      "image/png": "[encoded data removed]",
      "text/plain": [
       "<Figure size 432x288 with 1 Axes>"
      ]
     },
     "metadata": {
      "needs_background": "light"
     },
     "output_type": "display_data"
    }
   ],
   "source": [
    "# Plotting the heart weight\n",
    "sns.histplot(data = df_cats, x = 'Hwt')"
   ]
  },
  {
   "cell_type": "code",
   "execution_count": 22,
   "id": "b60b63a5-a96a-48e5-9f7a-4ab42df13997",
   "metadata": {},
   "outputs": [
    {
     "data": {
      "text/plain": [
       "<AxesSubplot:xlabel='Hwt', ylabel='Count'>"
      ]
     },
     "execution_count": 22,
     "metadata": {},
     "output_type": "execute_result"
    },
    {
     "data": {
      "image/png": "[encoded data removed]",
      "text/plain": [
       "<Figure size 432x288 with 1 Axes>"
      ]
     },
     "metadata": {
      "needs_background": "light"
     },
     "output_type": "display_data"
    }
   ],
   "source": [
    "# Plotting the heart weight by sex\n",
    "sns.histplot(data = df_cats, x = 'Hwt', hue = 'Sex', multiple=\"dodge\", kde=True)"
   ]
  },
  {
   "cell_type": "markdown",
   "id": "9f463b42-c07b-4a9f-8a99-5db1ceb47142",
   "metadata": {},
   "source": [
    "Both the summary statistics and the plots suggest that sex has an influence over the distribution of the variables. \n",
    "The male datapoints appear to come close to the bell-shaped curve of a normal distribution, whereas the female datapoints seem to skew slightly.\n",
    "\n",
    "It might be a good idea to create two new dataframes containing the data for each sex."
   ]
  },
  {
   "cell_type": "code",
   "execution_count": 23,
   "id": "71b730c9-a7b7-44cb-94fd-28a67941f573",
   "metadata": {},
   "outputs": [],
   "source": [
    "# https://stackoverflow.com/questions/17071871/how-do-i-select-rows-from-a-dataframe-based-on-column-values\n",
    "# New df for each sex\n",
    "df_cats_female = df_cats.loc[df_cats['Sex'] == 'F']\n",
    "df_cats_male = df_cats.loc[df_cats['Sex'] == 'M']"
   ]
  },
  {
   "cell_type": "code",
   "execution_count": 63,
   "id": "872edfcb-da77-4666-aea1-c2a94ef2afd5",
   "metadata": {},
   "outputs": [
    {
     "data": {
      "text/html": [
       "<div>\n",
       "<style scoped>\n",
       "    .dataframe tbody tr th:only-of-type {\n",
       "        vertical-align: middle;\n",
       "    }\n",
       "\n",
       "    .dataframe tbody tr th {\n",
       "        vertical-align: top;\n",
       "    }\n",
       "\n",
       "    .dataframe thead th {\n",
       "        text-align: right;\n",
       "    }\n",
       "</style>\n",
       "<table border=\"1\" class=\"dataframe\">\n",
       "  <thead>\n",
       "    <tr style=\"text-align: right;\">\n",
       "      <th></th>\n",
       "      <th>Bwt</th>\n",
       "      <th>Hwt</th>\n",
       "    </tr>\n",
       "  </thead>\n",
       "  <tbody>\n",
       "    <tr>\n",
       "      <th>Bwt</th>\n",
       "      <td>1.00000</td>\n",
       "      <td>0.53205</td>\n",
       "    </tr>\n",
       "    <tr>\n",
       "      <th>Hwt</th>\n",
       "      <td>0.53205</td>\n",
       "      <td>1.00000</td>\n",
       "    </tr>\n",
       "  </tbody>\n",
       "</table>\n",
       "</div>"
      ],
      "text/plain": [
       "         Bwt      Hwt\n",
       "Bwt  1.00000  0.53205\n",
       "Hwt  0.53205  1.00000"
      ]
     },
     "execution_count": 63,
     "metadata": {},
     "output_type": "execute_result"
    }
   ],
   "source": [
    "df_cats_female.corr()"
   ]
  },
  {
   "cell_type": "code",
   "execution_count": 64,
   "id": "c2e6633a-1496-43e1-8c31-6072aab78f4c",
   "metadata": {},
   "outputs": [
    {
     "data": {
      "text/html": [
       "<div>\n",
       "<style scoped>\n",
       "    .dataframe tbody tr th:only-of-type {\n",
       "        vertical-align: middle;\n",
       "    }\n",
       "\n",
       "    .dataframe tbody tr th {\n",
       "        vertical-align: top;\n",
       "    }\n",
       "\n",
       "    .dataframe thead th {\n",
       "        text-align: right;\n",
       "    }\n",
       "</style>\n",
       "<table border=\"1\" class=\"dataframe\">\n",
       "  <thead>\n",
       "    <tr style=\"text-align: right;\">\n",
       "      <th></th>\n",
       "      <th>Bwt</th>\n",
       "      <th>Hwt</th>\n",
       "    </tr>\n",
       "  </thead>\n",
       "  <tbody>\n",
       "    <tr>\n",
       "      <th>Bwt</th>\n",
       "      <td>1.00000</td>\n",
       "      <td>0.79303</td>\n",
       "    </tr>\n",
       "    <tr>\n",
       "      <th>Hwt</th>\n",
       "      <td>0.79303</td>\n",
       "      <td>1.00000</td>\n",
       "    </tr>\n",
       "  </tbody>\n",
       "</table>\n",
       "</div>"
      ],
      "text/plain": [
       "         Bwt      Hwt\n",
       "Bwt  1.00000  0.79303\n",
       "Hwt  0.79303  1.00000"
      ]
     },
     "execution_count": 64,
     "metadata": {},
     "output_type": "execute_result"
    }
   ],
   "source": [
    "df_cats_male.corr()"
   ]
  },
  {
   "cell_type": "markdown",
   "id": "a3200851-c3c0-4eb9-9f13-0cd586b795c3",
   "metadata": {},
   "source": [
    "It is interesting to note that while both males and females have a strong positive correlation between bodyweight and heartweight, the correlation is much higher in males than females."
   ]
  },
  {
   "cell_type": "markdown",
   "id": "9da2f137-24da-4e51-8039-6945cd94f87f",
   "metadata": {},
   "source": [
    "We can use a statistical test for normality. \n",
    "\n",
    "https://www.ncbi.nlm.nih.gov/pmc/articles/PMC6350423/ recommends using Shapiro–Wilk test when sample sizes are under 50, which is the case with female samples. It can also be used for samples above 50, however, so it can also be used to test the male data also.\n",
    "\n",
    "The Shapiro-Wilk tests a null hypothesis that the data comes from a normal distribution. If the p-value is greater that 0.05, then the test fails to reject that null hypothesis. "
   ]
  },
  {
   "cell_type": "code",
   "execution_count": 24,
   "id": "e808ce23-ebac-49eb-973d-341cf22f51fe",
   "metadata": {},
   "outputs": [
    {
     "data": {
      "text/plain": [
       "ShapiroResult(statistic=0.9788321852684021, pvalue=0.11895745247602463)"
      ]
     },
     "execution_count": 24,
     "metadata": {},
     "output_type": "execute_result"
    }
   ],
   "source": [
    "from scipy.stats import shapiro\n",
    "\n",
    "#perform Shapiro-Wilk test on male body weight\n",
    "shapiro(df_cats_male['Bwt'])"
   ]
  },
  {
   "cell_type": "code",
   "execution_count": 25,
   "id": "ff3c5a5a-8224-45f9-a563-4cfb99d9597e",
   "metadata": {},
   "outputs": [
    {
     "data": {
      "text/plain": [
       "ShapiroResult(statistic=0.9772655963897705, pvalue=0.09039346873760223)"
      ]
     },
     "execution_count": 25,
     "metadata": {},
     "output_type": "execute_result"
    }
   ],
   "source": [
    "#perform Shapiro-Wilk test on male heart weight\n",
    "shapiro(df_cats_male['Hwt'])"
   ]
  },
  {
   "cell_type": "code",
   "execution_count": 26,
   "id": "cd74542a-5e49-4d84-97ca-6484c5c8539f",
   "metadata": {},
   "outputs": [
    {
     "data": {
      "text/plain": [
       "ShapiroResult(statistic=0.8909613490104675, pvalue=0.0003754299250431359)"
      ]
     },
     "execution_count": 26,
     "metadata": {},
     "output_type": "execute_result"
    }
   ],
   "source": [
    "#perform Shapiro-Wilk test on female body weight\n",
    "shapiro(df_cats_female['Bwt'])"
   ]
  },
  {
   "cell_type": "code",
   "execution_count": 27,
   "id": "84567965-f916-4906-b137-fa7aedededb7",
   "metadata": {},
   "outputs": [
    {
     "data": {
      "text/plain": [
       "ShapiroResult(statistic=0.9787967205047607, pvalue=0.5434856414794922)"
      ]
     },
     "execution_count": 27,
     "metadata": {},
     "output_type": "execute_result"
    }
   ],
   "source": [
    "#perform Shapiro-Wilk test on female heart weight\n",
    "shapiro(df_cats_female['Hwt'])"
   ]
  },
  {
   "cell_type": "markdown",
   "id": "41ed95c7-24da-4478-b3bd-9be9c75bf13c",
   "metadata": {},
   "source": [
    "These test results suggest that we can assume that male body weights, heart weights, and female heart weights were drawn from a normal distribution. However, the p-value for female body weights suggests that we can assume that this data is not normally distributed. This is unusual, as weights are often normally distributed[x]. This may be a false result due to the low sample size https://machinelearningmastery.com/how-to-transform-data-to-fit-the-normal-distribution/ \n",
    "\n",
    "We could transform this data so it produces more of a normal distribution. https://www.statology.org/box-cox-transformation-python/"
   ]
  },
  {
   "cell_type": "code",
   "execution_count": null,
   "id": "fe2fda9a-fcc8-413d-980d-22ecc315713f",
   "metadata": {},
   "outputs": [],
   "source": []
  },
  {
   "cell_type": "code",
   "execution_count": null,
   "id": "ae30a5b4-2e64-4c3a-984f-66047b8b0637",
   "metadata": {},
   "outputs": [],
   "source": []
  },
  {
   "cell_type": "code",
   "execution_count": 28,
   "id": "064a56ed-fd8b-4436-baec-22de9446b316",
   "metadata": {},
   "outputs": [],
   "source": [
    "#perform Box-Cox transformation on original data\n",
    "from scipy.stats import boxcox \n",
    "transformed_data, best_lambda = boxcox(df_cats_female['Bwt']) "
   ]
  },
  {
   "cell_type": "code",
   "execution_count": 29,
   "id": "52cb017b-0e3b-4e98-b15f-b2432e3b8996",
   "metadata": {},
   "outputs": [
    {
     "data": {
      "text/plain": [
       "<AxesSubplot:ylabel='Count'>"
      ]
     },
     "execution_count": 29,
     "metadata": {},
     "output_type": "execute_result"
    },
    {
     "data": {
      "image/png": "[encoded data removed]",
      "text/plain": [
       "<Figure size 432x288 with 1 Axes>"
      ]
     },
     "metadata": {
      "needs_background": "light"
     },
     "output_type": "display_data"
    }
   ],
   "source": [
    "#plot the distribution of the transformed data values\n",
    "sns.histplot(transformed_data, kde=True) "
   ]
  },
  {
   "cell_type": "markdown",
   "id": "890e2008-4734-40a5-9e25-1e1bd6e517a3",
   "metadata": {},
   "source": [
    "The transformed data can now be sampled from a normal distribution, and then transformed back to scale using inverse Box-Cox https://docs.scipy.org/doc/scipy/reference/generated/scipy.special.inv_boxcox.html"
   ]
  },
  {
   "cell_type": "code",
   "execution_count": 37,
   "id": "5cbffad9-33ce-4268-ad27-7b1869751be6",
   "metadata": {},
   "outputs": [
    {
     "data": {
      "text/html": [
       "<div>\n",
       "<style scoped>\n",
       "    .dataframe tbody tr th:only-of-type {\n",
       "        vertical-align: middle;\n",
       "    }\n",
       "\n",
       "    .dataframe tbody tr th {\n",
       "        vertical-align: top;\n",
       "    }\n",
       "\n",
       "    .dataframe thead th {\n",
       "        text-align: right;\n",
       "    }\n",
       "</style>\n",
       "<table border=\"1\" class=\"dataframe\">\n",
       "  <thead>\n",
       "    <tr style=\"text-align: right;\">\n",
       "      <th></th>\n",
       "      <th>0</th>\n",
       "    </tr>\n",
       "  </thead>\n",
       "  <tbody>\n",
       "    <tr>\n",
       "      <th>count</th>\n",
       "      <td>47.000000</td>\n",
       "    </tr>\n",
       "    <tr>\n",
       "      <th>mean</th>\n",
       "      <td>0.287894</td>\n",
       "    </tr>\n",
       "    <tr>\n",
       "      <th>std</th>\n",
       "      <td>0.006621</td>\n",
       "    </tr>\n",
       "    <tr>\n",
       "      <th>min</th>\n",
       "      <td>0.275920</td>\n",
       "    </tr>\n",
       "    <tr>\n",
       "      <th>25%</th>\n",
       "      <td>0.282643</td>\n",
       "    </tr>\n",
       "    <tr>\n",
       "      <th>50%</th>\n",
       "      <td>0.287809</td>\n",
       "    </tr>\n",
       "    <tr>\n",
       "      <th>75%</th>\n",
       "      <td>0.292722</td>\n",
       "    </tr>\n",
       "    <tr>\n",
       "      <th>max</th>\n",
       "      <td>0.299788</td>\n",
       "    </tr>\n",
       "  </tbody>\n",
       "</table>\n",
       "</div>"
      ],
      "text/plain": [
       "               0\n",
       "count  47.000000\n",
       "mean    0.287894\n",
       "std     0.006621\n",
       "min     0.275920\n",
       "25%     0.282643\n",
       "50%     0.287809\n",
       "75%     0.292722\n",
       "max     0.299788"
      ]
     },
     "execution_count": 37,
     "metadata": {},
     "output_type": "execute_result"
    }
   ],
   "source": [
    "# Use pandas to get summary statistics for the transformed data\n",
    "pd.DataFrame(transformed_data).describe()"
   ]
  },
  {
   "cell_type": "code",
   "execution_count": 42,
   "id": "e7509404-c675-4e98-b8a1-7e20e4a37a24",
   "metadata": {},
   "outputs": [],
   "source": [
    "# Transformed female bodyweight randomly generated\n",
    "mu = 0.287894\n",
    "sigma = 0.006621\n",
    "\n",
    "random_female_bwt_t = rng.normal(mu, sigma, size=100)"
   ]
  },
  {
   "cell_type": "code",
   "execution_count": 43,
   "id": "00581985-fe33-4001-aa70-7a3825693029",
   "metadata": {},
   "outputs": [
    {
     "data": {
      "text/plain": [
       "array([0.28878377, 0.28958444, 0.26853676, 0.28655226, 0.27448051,\n",
       "       0.28130158, 0.28661225, 0.27942085, 0.29387669, 0.28118227,\n",
       "       0.28152387, 0.27900451, 0.28215677, 0.28344343, 0.28880412,\n",
       "       0.29178321, 0.29438919, 0.28921157, 0.29007345, 0.28970427,\n",
       "       0.30156804, 0.29437209, 0.28225145, 0.28364332, 0.28503576,\n",
       "       0.28089949, 0.29138484, 0.27453006, 0.29443891, 0.28587643,\n",
       "       0.29099762, 0.28503601, 0.28302726, 0.29546292, 0.27814304,\n",
       "       0.28719854, 0.28013559, 0.2933481 , 0.28050238, 0.28712665,\n",
       "       0.30027532, 0.28678189, 0.2921955 , 0.27969501, 0.28824821,\n",
       "       0.28531981, 0.29443257, 0.28369764, 0.28093899, 0.28812707,\n",
       "       0.2916646 , 0.29228987, 0.30564085, 0.27576878, 0.2897945 ,\n",
       "       0.29397718, 0.29043511, 0.29269418, 0.29394729, 0.29516335,\n",
       "       0.29319939, 0.29835096, 0.29574656, 0.28710991, 0.29273233,\n",
       "       0.28941245, 0.29022225, 0.27788826, 0.29341476, 0.28408261,\n",
       "       0.27593245, 0.28852467, 0.29216164, 0.28366058, 0.30177962,\n",
       "       0.28984221, 0.28811812, 0.29461014, 0.2834759 , 0.2681268 ,\n",
       "       0.29786257, 0.29052617, 0.29246333, 0.27850832, 0.29560981,\n",
       "       0.2854419 , 0.29311493, 0.2998122 , 0.27645289, 0.28120613,\n",
       "       0.29673847, 0.29467029, 0.28250491, 0.2751004 , 0.29524932,\n",
       "       0.27664772, 0.2920829 , 0.29728263, 0.28764788, 0.28381136])"
      ]
     },
     "execution_count": 43,
     "metadata": {},
     "output_type": "execute_result"
    }
   ],
   "source": [
    "random_female_bwt_t"
   ]
  },
  {
   "cell_type": "markdown",
   "id": "0f5b760b-1ed0-4daf-a821-061ec7a2b498",
   "metadata": {},
   "source": [
    "To inverse the Box-Cox transformation we need to find the lambda used in the original transformation"
   ]
  },
  {
   "cell_type": "code",
   "execution_count": 44,
   "id": "7ccf52c7-89bc-4c3c-9c35-8784587468e2",
   "metadata": {},
   "outputs": [
    {
     "data": {
      "text/plain": [
       "-3.240870600964595"
      ]
     },
     "execution_count": 44,
     "metadata": {},
     "output_type": "execute_result"
    }
   ],
   "source": [
    "# Display lambda\n",
    "best_lambda"
   ]
  },
  {
   "cell_type": "code",
   "execution_count": 45,
   "id": "8c749a2f-039a-4ade-ba97-a18675b49440",
   "metadata": {},
   "outputs": [],
   "source": [
    "# Inverse Box-Cox transformation to transform random data to original scale\n",
    "from scipy.special import inv_boxcox\n",
    "random_female_bwt = inv_boxcox(random_female_bwt_t, best_lambda)"
   ]
  },
  {
   "cell_type": "code",
   "execution_count": 46,
   "id": "c63cb854-8918-4efc-a2dc-d7a3bb165269",
   "metadata": {},
   "outputs": [
    {
     "data": {
      "text/plain": [
       "array([2.33441144, 2.36437295, 1.87803238, 2.25865425, 1.97354452,\n",
       "       2.11434449, 2.26055744, 2.07125985, 2.55907076, 2.11149697,\n",
       "       2.11969362, 2.06221241, 2.13524376, 2.16841526, 2.33515328,\n",
       "       2.45595472, 2.58728007, 2.35021821, 2.38349807, 2.36899944,\n",
       "       3.21748967, 2.5863175 , 2.13761197, 2.1737682 , 2.21268543,\n",
       "       2.10481251, 2.43823411, 1.97443089, 2.59008812, 2.23767181,\n",
       "       2.42151719, 2.21269249, 2.15744697, 2.65096014, 2.04401092,\n",
       "       2.27952361, 2.08719302, 2.5312946 , 2.0955747 , 2.2771617 ,\n",
       "       3.0533789 , 2.26597657, 2.47488402, 2.07731045, 2.31524275,\n",
       "       2.2209953 , 2.5897295 , 2.1752326 , 2.1057408 , 2.3109985 ,\n",
       "       2.45062128, 2.47930488, 4.2130015 , 1.99715133, 2.37250835,\n",
       "       2.5644997 , 2.39807386, 2.49863168, 2.56287971, 2.63252439,\n",
       "       2.52370751, 2.86278517, 2.66893116, 2.27661319, 2.50048846,\n",
       "       2.357799  , 2.3894496 , 2.03875665, 2.53472736, 2.18573238,\n",
       "       2.00023742, 2.32505419, 2.47330616, 2.17423294, 3.24814452,\n",
       "       2.37437275, 2.31068597, 2.5998574 , 2.16928104, 1.87213604,\n",
       "       2.82179955, 2.4018037 , 2.48751869, 2.05164531, 2.6602023 ,\n",
       "       2.22460807, 2.51944071, 3.00255391, 2.01018638, 2.11206525,\n",
       "       2.73612138, 2.6033261 , 2.1440072 , 1.98475514, 2.63775946,\n",
       "       2.01396538, 2.46965275, 2.77620025, 2.29452671, 2.17831198])"
      ]
     },
     "execution_count": 46,
     "metadata": {},
     "output_type": "execute_result"
    }
   ],
   "source": [
    "# have a look at the transformed data\n",
    "random_female_bwt"
   ]
  },
  {
   "cell_type": "code",
   "execution_count": 48,
   "id": "0c03e5a6-9cb2-4345-83ed-cc164305d588",
   "metadata": {},
   "outputs": [
    {
     "data": {
      "text/html": [
       "<div>\n",
       "<style scoped>\n",
       "    .dataframe tbody tr th:only-of-type {\n",
       "        vertical-align: middle;\n",
       "    }\n",
       "\n",
       "    .dataframe tbody tr th {\n",
       "        vertical-align: top;\n",
       "    }\n",
       "\n",
       "    .dataframe thead th {\n",
       "        text-align: right;\n",
       "    }\n",
       "</style>\n",
       "<table border=\"1\" class=\"dataframe\">\n",
       "  <thead>\n",
       "    <tr style=\"text-align: right;\">\n",
       "      <th></th>\n",
       "      <th>0</th>\n",
       "    </tr>\n",
       "  </thead>\n",
       "  <tbody>\n",
       "    <tr>\n",
       "      <th>count</th>\n",
       "      <td>100.000000</td>\n",
       "    </tr>\n",
       "    <tr>\n",
       "      <th>mean</th>\n",
       "      <td>2.370983</td>\n",
       "    </tr>\n",
       "    <tr>\n",
       "      <th>std</th>\n",
       "      <td>0.330380</td>\n",
       "    </tr>\n",
       "    <tr>\n",
       "      <th>min</th>\n",
       "      <td>1.872136</td>\n",
       "    </tr>\n",
       "    <tr>\n",
       "      <th>25%</th>\n",
       "      <td>2.142408</td>\n",
       "    </tr>\n",
       "    <tr>\n",
       "      <th>50%</th>\n",
       "      <td>2.329733</td>\n",
       "    </tr>\n",
       "    <tr>\n",
       "      <th>75%</th>\n",
       "      <td>2.525604</td>\n",
       "    </tr>\n",
       "    <tr>\n",
       "      <th>max</th>\n",
       "      <td>4.213001</td>\n",
       "    </tr>\n",
       "  </tbody>\n",
       "</table>\n",
       "</div>"
      ],
      "text/plain": [
       "                0\n",
       "count  100.000000\n",
       "mean     2.370983\n",
       "std      0.330380\n",
       "min      1.872136\n",
       "25%      2.142408\n",
       "50%      2.329733\n",
       "75%      2.525604\n",
       "max      4.213001"
      ]
     },
     "execution_count": 48,
     "metadata": {},
     "output_type": "execute_result"
    }
   ],
   "source": [
    "# Have a look at the descriptive stats of the random female Bwt data\n",
    "# Original 47 samples had a mean of 2.359574 and a std of 0.273988\n",
    "pd.DataFrame(random_female_bwt).describe()"
   ]
  },
  {
   "cell_type": "code",
   "execution_count": null,
   "id": "ad96ef8b-dfa0-449f-9369-21973cfa43f3",
   "metadata": {},
   "outputs": [],
   "source": []
  },
  {
   "cell_type": "code",
   "execution_count": null,
   "id": "62b6212f-dc78-4288-b1f5-49331391f0f0",
   "metadata": {},
   "outputs": [],
   "source": []
  },
  {
   "cell_type": "code",
   "execution_count": null,
   "id": "4bfb6267-b601-4a71-9156-c91887c79451",
   "metadata": {},
   "outputs": [],
   "source": []
  },
  {
   "cell_type": "code",
   "execution_count": null,
   "id": "f22cafb8-3b8f-4b3e-8f9f-bd2dc5c63a22",
   "metadata": {},
   "outputs": [],
   "source": []
  },
  {
   "cell_type": "code",
   "execution_count": null,
   "id": "b9fa9caf-09c2-44d5-9fe0-1f3ab1750512",
   "metadata": {},
   "outputs": [],
   "source": []
  },
  {
   "cell_type": "code",
   "execution_count": null,
   "id": "e47d1aba-a363-42f2-8d6f-054328f13c07",
   "metadata": {},
   "outputs": [],
   "source": []
  },
  {
   "cell_type": "code",
   "execution_count": null,
   "id": "12b2cfa7-5e89-4f7a-bb5c-e9f30cfec28b",
   "metadata": {},
   "outputs": [],
   "source": []
  },
  {
   "cell_type": "code",
   "execution_count": null,
   "id": "2817a118-9906-4b46-86dd-47232527ba3c",
   "metadata": {},
   "outputs": [],
   "source": []
  },
  {
   "cell_type": "code",
   "execution_count": null,
   "id": "c3b06612-b627-4ac5-8c2e-69f18be9e401",
   "metadata": {},
   "outputs": [],
   "source": []
  },
  {
   "cell_type": "code",
   "execution_count": null,
   "id": "afa8e31a-83b8-4edb-b6a2-4d994d448b6e",
   "metadata": {},
   "outputs": [],
   "source": []
  },
  {
   "cell_type": "code",
   "execution_count": null,
   "id": "99f33c07-3864-4cab-afd3-95d4cc321351",
   "metadata": {},
   "outputs": [],
   "source": []
  },
  {
   "cell_type": "code",
   "execution_count": null,
   "id": "6d2de79f-6eed-4844-933d-69e9e38930fc",
   "metadata": {},
   "outputs": [],
   "source": []
  },
  {
   "cell_type": "code",
   "execution_count": null,
   "id": "b1dca766-db76-4feb-b5b7-0013417fcc24",
   "metadata": {},
   "outputs": [],
   "source": []
  },
  {
   "cell_type": "markdown",
   "id": "93ba2503-9acc-4dda-a25e-02e10cebd4df",
   "metadata": {},
   "source": [
    "### Generating random data using Copulas - https://sdv.dev/Copulas/tutorials/00_Quickstart.html"
   ]
  },
  {
   "cell_type": "code",
   "execution_count": 30,
   "id": "bc9c15d4-f604-44a1-bd88-f9489c75c79c",
   "metadata": {},
   "outputs": [],
   "source": [
    "from copulas.multivariate import GaussianMultivariate\n",
    "\n",
    "copula = GaussianMultivariate()"
   ]
  },
  {
   "cell_type": "code",
   "execution_count": 31,
   "id": "339b2054-1be1-48c5-ad8e-48bcace0db4f",
   "metadata": {},
   "outputs": [],
   "source": [
    "df_test = df_cats[['Bwt', 'Hwt']]"
   ]
  },
  {
   "cell_type": "code",
   "execution_count": 32,
   "id": "a3ca9295-93b5-46b1-8b38-c278a696193b",
   "metadata": {},
   "outputs": [
    {
     "name": "stderr",
     "output_type": "stream",
     "text": [
      "C:\\Users\\disco\\anaconda3\\lib\\site-packages\\scipy\\stats\\_continuous_distns.py:5003: RuntimeWarning: divide by zero encountered in true_divide\n",
      "  return c**2 / (c**2 - n**2)\n",
      "C:\\Users\\disco\\anaconda3\\lib\\site-packages\\scipy\\stats\\_distn_infrastructure.py:2494: RuntimeWarning: invalid value encountered in double_scalars\n",
      "  Lhat = muhat - Shat*mu\n",
      "C:\\Users\\disco\\anaconda3\\lib\\site-packages\\scipy\\stats\\_continuous_distns.py:621: RuntimeWarning: invalid value encountered in sqrt\n",
      "  sk = 2*(b-a)*np.sqrt(a + b + 1) / (a + b + 2) / np.sqrt(a*b)\n",
      "C:\\Users\\disco\\anaconda3\\lib\\site-packages\\scipy\\optimize\\minpack.py:175: RuntimeWarning: The iteration is not making good progress, as measured by the \n",
      "  improvement from the last ten iterations.\n",
      "  warnings.warn(msg, RuntimeWarning)\n"
     ]
    }
   ],
   "source": [
    "copula.fit(df_test)"
   ]
  },
  {
   "cell_type": "code",
   "execution_count": 33,
   "id": "0af9c2e9-7262-4976-90ee-bb0b3cae7765",
   "metadata": {},
   "outputs": [
    {
     "data": {
      "text/html": [
       "<div>\n",
       "<style scoped>\n",
       "    .dataframe tbody tr th:only-of-type {\n",
       "        vertical-align: middle;\n",
       "    }\n",
       "\n",
       "    .dataframe tbody tr th {\n",
       "        vertical-align: top;\n",
       "    }\n",
       "\n",
       "    .dataframe thead th {\n",
       "        text-align: right;\n",
       "    }\n",
       "</style>\n",
       "<table border=\"1\" class=\"dataframe\">\n",
       "  <thead>\n",
       "    <tr style=\"text-align: right;\">\n",
       "      <th></th>\n",
       "      <th>Bwt</th>\n",
       "      <th>Hwt</th>\n",
       "    </tr>\n",
       "  </thead>\n",
       "  <tbody>\n",
       "    <tr>\n",
       "      <th>0</th>\n",
       "      <td>2.900606</td>\n",
       "      <td>12.849959</td>\n",
       "    </tr>\n",
       "    <tr>\n",
       "      <th>1</th>\n",
       "      <td>3.306608</td>\n",
       "      <td>12.513591</td>\n",
       "    </tr>\n",
       "    <tr>\n",
       "      <th>2</th>\n",
       "      <td>2.479074</td>\n",
       "      <td>8.547575</td>\n",
       "    </tr>\n",
       "    <tr>\n",
       "      <th>3</th>\n",
       "      <td>2.829289</td>\n",
       "      <td>10.558515</td>\n",
       "    </tr>\n",
       "    <tr>\n",
       "      <th>4</th>\n",
       "      <td>2.695678</td>\n",
       "      <td>9.789802</td>\n",
       "    </tr>\n",
       "    <tr>\n",
       "      <th>...</th>\n",
       "      <td>...</td>\n",
       "      <td>...</td>\n",
       "    </tr>\n",
       "    <tr>\n",
       "      <th>995</th>\n",
       "      <td>2.643960</td>\n",
       "      <td>10.471471</td>\n",
       "    </tr>\n",
       "    <tr>\n",
       "      <th>996</th>\n",
       "      <td>2.617346</td>\n",
       "      <td>12.405955</td>\n",
       "    </tr>\n",
       "    <tr>\n",
       "      <th>997</th>\n",
       "      <td>3.081773</td>\n",
       "      <td>10.498928</td>\n",
       "    </tr>\n",
       "    <tr>\n",
       "      <th>998</th>\n",
       "      <td>2.407719</td>\n",
       "      <td>8.242127</td>\n",
       "    </tr>\n",
       "    <tr>\n",
       "      <th>999</th>\n",
       "      <td>2.410924</td>\n",
       "      <td>11.750372</td>\n",
       "    </tr>\n",
       "  </tbody>\n",
       "</table>\n",
       "<p>1000 rows × 2 columns</p>\n",
       "</div>"
      ],
      "text/plain": [
       "          Bwt        Hwt\n",
       "0    2.900606  12.849959\n",
       "1    3.306608  12.513591\n",
       "2    2.479074   8.547575\n",
       "3    2.829289  10.558515\n",
       "4    2.695678   9.789802\n",
       "..        ...        ...\n",
       "995  2.643960  10.471471\n",
       "996  2.617346  12.405955\n",
       "997  3.081773  10.498928\n",
       "998  2.407719   8.242127\n",
       "999  2.410924  11.750372\n",
       "\n",
       "[1000 rows x 2 columns]"
      ]
     },
     "execution_count": 33,
     "metadata": {},
     "output_type": "execute_result"
    }
   ],
   "source": [
    "num_samples = 1000\n",
    "\n",
    "synthetic_data = copula.sample(num_samples)\n",
    "synthetic_data"
   ]
  },
  {
   "cell_type": "code",
   "execution_count": 34,
   "id": "0e3c237d-38c1-4564-9034-ee8010f1c55a",
   "metadata": {},
   "outputs": [
    {
     "data": {
      "text/html": [
       "<div>\n",
       "<style scoped>\n",
       "    .dataframe tbody tr th:only-of-type {\n",
       "        vertical-align: middle;\n",
       "    }\n",
       "\n",
       "    .dataframe tbody tr th {\n",
       "        vertical-align: top;\n",
       "    }\n",
       "\n",
       "    .dataframe thead th {\n",
       "        text-align: right;\n",
       "    }\n",
       "</style>\n",
       "<table border=\"1\" class=\"dataframe\">\n",
       "  <thead>\n",
       "    <tr style=\"text-align: right;\">\n",
       "      <th></th>\n",
       "      <th>Bwt</th>\n",
       "      <th>Hwt</th>\n",
       "    </tr>\n",
       "  </thead>\n",
       "  <tbody>\n",
       "    <tr>\n",
       "      <th>count</th>\n",
       "      <td>1000.000000</td>\n",
       "      <td>1000.000000</td>\n",
       "    </tr>\n",
       "    <tr>\n",
       "      <th>mean</th>\n",
       "      <td>2.727882</td>\n",
       "      <td>10.590522</td>\n",
       "    </tr>\n",
       "    <tr>\n",
       "      <th>std</th>\n",
       "      <td>0.486153</td>\n",
       "      <td>2.350903</td>\n",
       "    </tr>\n",
       "    <tr>\n",
       "      <th>min</th>\n",
       "      <td>2.000561</td>\n",
       "      <td>5.727437</td>\n",
       "    </tr>\n",
       "    <tr>\n",
       "      <th>25%</th>\n",
       "      <td>2.314288</td>\n",
       "      <td>8.787589</td>\n",
       "    </tr>\n",
       "    <tr>\n",
       "      <th>50%</th>\n",
       "      <td>2.677992</td>\n",
       "      <td>10.290810</td>\n",
       "    </tr>\n",
       "    <tr>\n",
       "      <th>75%</th>\n",
       "      <td>3.082670</td>\n",
       "      <td>12.052472</td>\n",
       "    </tr>\n",
       "    <tr>\n",
       "      <th>max</th>\n",
       "      <td>3.897065</td>\n",
       "      <td>19.353621</td>\n",
       "    </tr>\n",
       "  </tbody>\n",
       "</table>\n",
       "</div>"
      ],
      "text/plain": [
       "               Bwt          Hwt\n",
       "count  1000.000000  1000.000000\n",
       "mean      2.727882    10.590522\n",
       "std       0.486153     2.350903\n",
       "min       2.000561     5.727437\n",
       "25%       2.314288     8.787589\n",
       "50%       2.677992    10.290810\n",
       "75%       3.082670    12.052472\n",
       "max       3.897065    19.353621"
      ]
     },
     "execution_count": 34,
     "metadata": {},
     "output_type": "execute_result"
    }
   ],
   "source": [
    "synthetic_data.describe()"
   ]
  },
  {
   "cell_type": "code",
   "execution_count": null,
   "id": "0303a505-d2aa-4077-a96f-067bc68425e7",
   "metadata": {},
   "outputs": [],
   "source": []
  },
  {
   "cell_type": "code",
   "execution_count": null,
   "id": "60040d51-d7da-48bb-b810-7ec0bac90527",
   "metadata": {},
   "outputs": [],
   "source": []
  },
  {
   "cell_type": "code",
   "execution_count": null,
   "id": "a4a0aded-67d0-40b7-ae5f-02bb3cc8be78",
   "metadata": {},
   "outputs": [],
   "source": []
  },
  {
   "cell_type": "code",
   "execution_count": null,
   "id": "458e843c-bf3a-4c54-a5e3-6a335af5327a",
   "metadata": {},
   "outputs": [],
   "source": []
  }
 ],
 "metadata": {
  "kernelspec": {
   "display_name": "Python 3",
   "language": "python",
   "name": "python3"
  },
  "language_info": {
   "codemirror_mode": {
    "name": "ipython",
    "version": 3
   },
   "file_extension": ".py",
   "mimetype": "text/x-python",
   "name": "python",
   "nbconvert_exporter": "python",
   "pygments_lexer": "ipython3",
   "version": "3.8.8"
  }
 },
 "nbformat": 4,
 "nbformat_minor": 5
}
