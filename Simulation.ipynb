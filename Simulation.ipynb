{
 "cells": [
  {
   "cell_type": "markdown",
   "id": "bbd3c1b4-99a0-429a-b948-ca3058890676",
   "metadata": {},
   "source": [
    "Author: Andrew Scott"
   ]
  },
  {
   "cell_type": "code",
   "execution_count": null,
   "id": "8fa1c9a3-666b-4622-853b-27d423f98852",
   "metadata": {},
   "outputs": [],
   "source": []
  },
  {
   "cell_type": "code",
   "execution_count": 1,
   "id": "0c50677a-778d-4943-b5e1-3bc61f78577b",
   "metadata": {},
   "outputs": [],
   "source": [
    "# Package for numerical calculations and arrays\n",
    "import numpy as np\n",
    "\n",
    "# Accessing datasets\n",
    "import statsmodels.api as sm\n",
    "\n",
    "# For dataframes\n",
    "import pandas as pd\n",
    "\n",
    "# Generating plots\n",
    "import matplotlib.pyplot as plt\n",
    "\n",
    "# Generating plots \n",
    "import seaborn as sns\n",
    "\n",
    "# For accessing dates and times\n",
    "import datetime as dt\n",
    "\n",
    "# A magic command for helping display matplotlib plots in notebooks\n",
    "%matplotlib inline"
   ]
  },
  {
   "cell_type": "markdown",
   "id": "5570edc8-50fb-4bb9-977a-31720efa377c",
   "metadata": {},
   "source": [
    "The plan is to use a real-world dataset to serve as a model for the simulated dataset. I have decided to simulate the following dataset that was originally published by Ronald Fisher that consists of cats and their gender, weight, and heart weight[x]. The dataset is part of the MASS package for the programming language R. However, these datasets can be accessed in python using the statsmodel package. https://kolesnikov.ga/Datasets_in_Python/"
   ]
  },
  {
   "cell_type": "code",
   "execution_count": 2,
   "id": "114b8392-7a4e-4dfd-927a-1af4f6b390d8",
   "metadata": {},
   "outputs": [],
   "source": [
    "# Load the cats dataset \n",
    "cats = sm.datasets.get_rdataset(dataname='cats', package='MASS')"
   ]
  },
  {
   "cell_type": "code",
   "execution_count": 3,
   "id": "3a234df6-8d7a-42ed-8cae-2e92db0082bf",
   "metadata": {},
   "outputs": [
    {
     "name": "stdout",
     "output_type": "stream",
     "text": [
      ".. container::\n",
      "\n",
      "   ==== ===============\n",
      "   cats R Documentation\n",
      "   ==== ===============\n",
      "\n",
      "   .. rubric:: Anatomical Data from Domestic Cats\n",
      "      :name: anatomical-data-from-domestic-cats\n",
      "\n",
      "   .. rubric:: Description\n",
      "      :name: description\n",
      "\n",
      "   The heart and body weights of samples of male and female cats used\n",
      "   for *digitalis* experiments. The cats were all adult, over 2 kg body\n",
      "   weight.\n",
      "\n",
      "   .. rubric:: Usage\n",
      "      :name: usage\n",
      "\n",
      "   ::\n",
      "\n",
      "      cats\n",
      "\n",
      "   .. rubric:: Format\n",
      "      :name: format\n",
      "\n",
      "   This data frame contains the following columns:\n",
      "\n",
      "   ``Sex``\n",
      "      sex: Factor with levels ``\"F\"`` and ``\"M\"``.\n",
      "\n",
      "   ``Bwt``\n",
      "      body weight in kg.\n",
      "\n",
      "   ``Hwt``\n",
      "      heart weight in g.\n",
      "\n",
      "   .. rubric:: Source\n",
      "      :name: source\n",
      "\n",
      "   R. A. Fisher (1947) The analysis of covariance method for the\n",
      "   relation between a part and the whole, *Biometrics* **3**, 65–68.\n",
      "\n",
      "   .. rubric:: References\n",
      "      :name: references\n",
      "\n",
      "   Venables, W. N. and Ripley, B. D. (2002) *Modern Applied Statistics\n",
      "   with S.* Fourth edition. Springer.\n",
      "\n"
     ]
    }
   ],
   "source": [
    "# Prnt some information about the dataset \n",
    "print(cats.__doc__)"
   ]
  },
  {
   "cell_type": "code",
   "execution_count": 4,
   "id": "938967ab-9154-430d-929d-cfd207d91552",
   "metadata": {},
   "outputs": [],
   "source": [
    "# Load the cats dataset to a pandas dataframe\n",
    "df_cats = cats.data"
   ]
  },
  {
   "cell_type": "code",
   "execution_count": 5,
   "id": "9b0f5f58-72a6-4f20-a33d-2b7bf0a04d26",
   "metadata": {},
   "outputs": [
    {
     "data": {
      "text/html": [
       "<div>\n",
       "<style scoped>\n",
       "    .dataframe tbody tr th:only-of-type {\n",
       "        vertical-align: middle;\n",
       "    }\n",
       "\n",
       "    .dataframe tbody tr th {\n",
       "        vertical-align: top;\n",
       "    }\n",
       "\n",
       "    .dataframe thead th {\n",
       "        text-align: right;\n",
       "    }\n",
       "</style>\n",
       "<table border=\"1\" class=\"dataframe\">\n",
       "  <thead>\n",
       "    <tr style=\"text-align: right;\">\n",
       "      <th></th>\n",
       "      <th>Sex</th>\n",
       "      <th>Bwt</th>\n",
       "      <th>Hwt</th>\n",
       "    </tr>\n",
       "  </thead>\n",
       "  <tbody>\n",
       "    <tr>\n",
       "      <th>0</th>\n",
       "      <td>F</td>\n",
       "      <td>2.0</td>\n",
       "      <td>7.0</td>\n",
       "    </tr>\n",
       "    <tr>\n",
       "      <th>1</th>\n",
       "      <td>F</td>\n",
       "      <td>2.0</td>\n",
       "      <td>7.4</td>\n",
       "    </tr>\n",
       "    <tr>\n",
       "      <th>2</th>\n",
       "      <td>F</td>\n",
       "      <td>2.0</td>\n",
       "      <td>9.5</td>\n",
       "    </tr>\n",
       "    <tr>\n",
       "      <th>3</th>\n",
       "      <td>F</td>\n",
       "      <td>2.1</td>\n",
       "      <td>7.2</td>\n",
       "    </tr>\n",
       "    <tr>\n",
       "      <th>4</th>\n",
       "      <td>F</td>\n",
       "      <td>2.1</td>\n",
       "      <td>7.3</td>\n",
       "    </tr>\n",
       "  </tbody>\n",
       "</table>\n",
       "</div>"
      ],
      "text/plain": [
       "  Sex  Bwt  Hwt\n",
       "0   F  2.0  7.0\n",
       "1   F  2.0  7.4\n",
       "2   F  2.0  9.5\n",
       "3   F  2.1  7.2\n",
       "4   F  2.1  7.3"
      ]
     },
     "execution_count": 5,
     "metadata": {},
     "output_type": "execute_result"
    }
   ],
   "source": [
    "# View the first few rows of the dataframe\n",
    "df_cats.head()"
   ]
  },
  {
   "cell_type": "code",
   "execution_count": 6,
   "id": "4d270986-79bb-459a-8d56-158629905e6d",
   "metadata": {},
   "outputs": [
    {
     "data": {
      "text/plain": [
       "(144, 3)"
      ]
     },
     "execution_count": 6,
     "metadata": {},
     "output_type": "execute_result"
    }
   ],
   "source": [
    "# View the shape of the dataframe\n",
    "df_cats.shape"
   ]
  },
  {
   "cell_type": "code",
   "execution_count": 7,
   "id": "cc8864a2-27aa-4b7e-95a7-2be5aefbd5c7",
   "metadata": {},
   "outputs": [
    {
     "data": {
      "text/html": [
       "<div>\n",
       "<style scoped>\n",
       "    .dataframe tbody tr th:only-of-type {\n",
       "        vertical-align: middle;\n",
       "    }\n",
       "\n",
       "    .dataframe tbody tr th {\n",
       "        vertical-align: top;\n",
       "    }\n",
       "\n",
       "    .dataframe thead th {\n",
       "        text-align: right;\n",
       "    }\n",
       "</style>\n",
       "<table border=\"1\" class=\"dataframe\">\n",
       "  <thead>\n",
       "    <tr style=\"text-align: right;\">\n",
       "      <th></th>\n",
       "      <th>Bwt</th>\n",
       "      <th>Hwt</th>\n",
       "    </tr>\n",
       "  </thead>\n",
       "  <tbody>\n",
       "    <tr>\n",
       "      <th>count</th>\n",
       "      <td>144.000000</td>\n",
       "      <td>144.000000</td>\n",
       "    </tr>\n",
       "    <tr>\n",
       "      <th>mean</th>\n",
       "      <td>2.723611</td>\n",
       "      <td>10.630556</td>\n",
       "    </tr>\n",
       "    <tr>\n",
       "      <th>std</th>\n",
       "      <td>0.485307</td>\n",
       "      <td>2.434636</td>\n",
       "    </tr>\n",
       "    <tr>\n",
       "      <th>min</th>\n",
       "      <td>2.000000</td>\n",
       "      <td>6.300000</td>\n",
       "    </tr>\n",
       "    <tr>\n",
       "      <th>25%</th>\n",
       "      <td>2.300000</td>\n",
       "      <td>8.950000</td>\n",
       "    </tr>\n",
       "    <tr>\n",
       "      <th>50%</th>\n",
       "      <td>2.700000</td>\n",
       "      <td>10.100000</td>\n",
       "    </tr>\n",
       "    <tr>\n",
       "      <th>75%</th>\n",
       "      <td>3.025000</td>\n",
       "      <td>12.125000</td>\n",
       "    </tr>\n",
       "    <tr>\n",
       "      <th>max</th>\n",
       "      <td>3.900000</td>\n",
       "      <td>20.500000</td>\n",
       "    </tr>\n",
       "  </tbody>\n",
       "</table>\n",
       "</div>"
      ],
      "text/plain": [
       "              Bwt         Hwt\n",
       "count  144.000000  144.000000\n",
       "mean     2.723611   10.630556\n",
       "std      0.485307    2.434636\n",
       "min      2.000000    6.300000\n",
       "25%      2.300000    8.950000\n",
       "50%      2.700000   10.100000\n",
       "75%      3.025000   12.125000\n",
       "max      3.900000   20.500000"
      ]
     },
     "execution_count": 7,
     "metadata": {},
     "output_type": "execute_result"
    }
   ],
   "source": [
    "# View summary statistics of dataframe\n",
    "df_cats.describe()"
   ]
  },
  {
   "cell_type": "code",
   "execution_count": 8,
   "id": "cd443ff3-2575-46ce-8074-f52afdd5eafc",
   "metadata": {},
   "outputs": [
    {
     "data": {
      "text/plain": [
       "M    97\n",
       "F    47\n",
       "Name: Sex, dtype: int64"
      ]
     },
     "execution_count": 8,
     "metadata": {},
     "output_type": "execute_result"
    }
   ],
   "source": [
    "# Show the amount of male and female cats in the dataset\n",
    "df_cats['Sex'].value_counts()"
   ]
  },
  {
   "cell_type": "code",
   "execution_count": 9,
   "id": "ed4e466d-2a00-425f-9a46-d773625804f9",
   "metadata": {},
   "outputs": [],
   "source": [
    "# Save the original dataset\n",
    "# Access the current date and time.\n",
    "now = dt.datetime.now()\n",
    "\n",
    "# Formatting the current date and time as a string and saving to a variable.\n",
    "current_time = now.strftime('%Y%m%d_%H%M%S')\n",
    "\n",
    "# A path to save the dataframe, using dt to create unique file names\n",
    "path = 'cats-dataset/cats-original-data/cats_original_'  + current_time + '.csv'\n",
    "\n",
    "# Save pandas data frame to disk.\n",
    "df_cats.to_csv(path)"
   ]
  },
  {
   "cell_type": "code",
   "execution_count": null,
   "id": "1abb306b-8d6e-4fad-b2f6-2ee98437ac65",
   "metadata": {},
   "outputs": [],
   "source": []
  },
  {
   "cell_type": "markdown",
   "id": "102034d8-7fac-4d7c-baf6-e21ce42fd0cb",
   "metadata": {},
   "source": [
    "The above summaries gives an overview as to the dimensions and datatypes involved. There are three variable types - a binary male/female column, and two numerical columns containing body weights and heart weights. We will have to invent a fourth column when simulating this dataset to meet the criteria of simulated dataset having at least four variables. "
   ]
  },
  {
   "cell_type": "markdown",
   "id": "be1a3195-e906-42ea-9eb7-247c7a9d685b",
   "metadata": {},
   "source": [
    "Ignoring the sex for now and focusing on the numerical values, we could generate some random bodyweight and heartweight data using numpy by assuming a normal distribution for both variables, and using the summary statistics as a basis for the random data."
   ]
  },
  {
   "cell_type": "code",
   "execution_count": 10,
   "id": "8709bb83-037e-41cd-8fda-908499d7c903",
   "metadata": {},
   "outputs": [
    {
     "data": {
      "text/plain": [
       "array([2.17930379, 2.8431481 , 2.58133273, 2.59291175, 3.07554702,\n",
       "       3.0397276 , 3.23124009, 2.53951761, 2.54360903, 3.15743213,\n",
       "       3.29549089, 1.90281974, 2.3432193 , 2.593383  , 2.81058881,\n",
       "       2.19762536, 3.03754655, 2.69848523, 3.19382971, 2.61704186,\n",
       "       3.02988841, 2.24868163, 1.84241256, 2.8658994 , 2.95768856,\n",
       "       1.29199448, 2.93591153, 1.86295528, 2.86961876, 2.61109233,\n",
       "       2.86935197, 3.36814523, 3.04395907, 2.35416663, 2.50633595,\n",
       "       3.35781195, 2.48054651, 2.93788186, 1.9561881 , 3.73832929,\n",
       "       2.45700317, 2.10373047, 2.31305787, 2.55667255, 1.88387285,\n",
       "       2.14499153, 2.88014605, 2.10001704, 2.9114496 , 2.50124325,\n",
       "       2.57483043, 2.64137358, 2.83579697, 2.4796103 , 2.29659046,\n",
       "       2.50352536, 1.86356256, 2.42191691, 3.18094962, 2.75987015,\n",
       "       2.97608982, 2.2216094 , 2.39047272, 2.69899322, 2.48979544,\n",
       "       2.41736389, 2.29241721, 2.34977951, 2.28580472, 2.49622027,\n",
       "       2.18661026, 2.6883948 , 2.49648407, 2.5500638 , 2.74314949,\n",
       "       3.11171791, 2.46817672, 2.69047342, 3.2268315 , 1.62433261,\n",
       "       2.78226915, 3.16062385, 2.46098531, 2.99725313, 2.99656997,\n",
       "       2.24410489, 3.30700739, 2.10844437, 3.34045178, 2.48546751,\n",
       "       3.15219302, 1.2528908 , 4.39420821, 2.45471175, 2.83322338,\n",
       "       2.29711786, 2.95500882, 1.84531663, 1.66201672, 2.60881479])"
      ]
     },
     "execution_count": 10,
     "metadata": {},
     "output_type": "execute_result"
    }
   ],
   "source": [
    "# Construct a new Generator with the default BitGenerator (PCG64)\n",
    "# Seeded for reproducible results\n",
    "rng = np.random.default_rng(seed = 501)\n",
    "\n",
    "# Numpy randomly generated bwt\n",
    "# A random example of 100 samples from a normal distribution\n",
    "mu = 2.723611\n",
    "sigma = 0.485307\n",
    "\n",
    "random_bwt = rng.normal(mu, sigma, size=100)\n",
    "random_bwt"
   ]
  },
  {
   "cell_type": "code",
   "execution_count": 11,
   "id": "2eced47e-177b-4e3a-972c-f736565b9493",
   "metadata": {},
   "outputs": [
    {
     "data": {
      "text/plain": [
       "array([10.70327711, 13.40663078, 12.84970519, 14.56471838,  6.10888679,\n",
       "       10.26866323,  3.39810752, 13.09217136, 12.91101626,  7.6739178 ,\n",
       "       11.22223463, 13.47122407, 11.99775933, 10.22979087, 13.33225091,\n",
       "        8.04155487,  9.02562462, 15.08476254,  9.25996586,  7.31613876,\n",
       "       14.87259583, 10.33293915, 10.15928348, 11.15132039, 10.99798703,\n",
       "        8.96461709,  8.89837108,  5.21569666,  7.67256412,  9.04706882,\n",
       "        6.89324895,  6.24879464,  9.71492776, 13.22696129,  7.07036394,\n",
       "        6.42732728, 10.4120992 , 10.15191115, 10.84750728, 13.39416132,\n",
       "        7.61068531,  7.6880468 ,  8.14014958, 12.80379584, 13.04108787,\n",
       "       10.70800049,  8.98488646,  8.30251315,  6.92052211, 10.44207291,\n",
       "       12.81688662,  9.24665373, 11.11225172, 11.83328487,  7.12443517,\n",
       "       10.82509563, 15.50113951,  9.24621924,  9.00823422, 14.27518224,\n",
       "        9.17547483, 10.39830593, 11.38067027, 10.55205973,  9.65653148,\n",
       "       12.43183373,  7.61768863,  9.30786842, 13.87582411, 10.33061253,\n",
       "       11.45955024, 17.07729875, 10.03870064,  8.38978398, 12.17929974,\n",
       "       13.50781208,  8.79526352, 15.16801461,  7.31099846,  9.76497159,\n",
       "       10.33355185, 11.10820055,  5.56051153,  7.94419604,  9.55713855,\n",
       "       11.24713645, 12.3114425 , 13.2374004 , 12.15191005, 14.80307407,\n",
       "       11.40684212, 10.3983785 , 10.84089161,  5.88791719, 12.44182684,\n",
       "       14.53472112,  7.30664043,  9.37072237,  9.15515915,  8.80900346])"
      ]
     },
     "execution_count": 11,
     "metadata": {},
     "output_type": "execute_result"
    }
   ],
   "source": [
    "# Numpy randomly generated hwt\n",
    "# A random example of 100 samples from a normal distribution\n",
    "mu = 10.630556\n",
    "sigma = 2.434636\n",
    "\n",
    "random_hwt = rng.normal(mu, sigma, size=100)\n",
    "random_hwt"
   ]
  },
  {
   "cell_type": "code",
   "execution_count": 12,
   "id": "3e5122da-2e1f-47fb-9483-382a8140a00a",
   "metadata": {},
   "outputs": [
    {
     "data": {
      "text/html": [
       "<div>\n",
       "<style scoped>\n",
       "    .dataframe tbody tr th:only-of-type {\n",
       "        vertical-align: middle;\n",
       "    }\n",
       "\n",
       "    .dataframe tbody tr th {\n",
       "        vertical-align: top;\n",
       "    }\n",
       "\n",
       "    .dataframe thead th {\n",
       "        text-align: right;\n",
       "    }\n",
       "</style>\n",
       "<table border=\"1\" class=\"dataframe\">\n",
       "  <thead>\n",
       "    <tr style=\"text-align: right;\">\n",
       "      <th></th>\n",
       "      <th>random_bwt</th>\n",
       "      <th>random_hwt</th>\n",
       "    </tr>\n",
       "  </thead>\n",
       "  <tbody>\n",
       "    <tr>\n",
       "      <th>0</th>\n",
       "      <td>2.179304</td>\n",
       "      <td>10.703277</td>\n",
       "    </tr>\n",
       "    <tr>\n",
       "      <th>1</th>\n",
       "      <td>2.843148</td>\n",
       "      <td>13.406631</td>\n",
       "    </tr>\n",
       "    <tr>\n",
       "      <th>2</th>\n",
       "      <td>2.581333</td>\n",
       "      <td>12.849705</td>\n",
       "    </tr>\n",
       "    <tr>\n",
       "      <th>3</th>\n",
       "      <td>2.592912</td>\n",
       "      <td>14.564718</td>\n",
       "    </tr>\n",
       "    <tr>\n",
       "      <th>4</th>\n",
       "      <td>3.075547</td>\n",
       "      <td>6.108887</td>\n",
       "    </tr>\n",
       "    <tr>\n",
       "      <th>...</th>\n",
       "      <td>...</td>\n",
       "      <td>...</td>\n",
       "    </tr>\n",
       "    <tr>\n",
       "      <th>95</th>\n",
       "      <td>2.297118</td>\n",
       "      <td>14.534721</td>\n",
       "    </tr>\n",
       "    <tr>\n",
       "      <th>96</th>\n",
       "      <td>2.955009</td>\n",
       "      <td>7.306640</td>\n",
       "    </tr>\n",
       "    <tr>\n",
       "      <th>97</th>\n",
       "      <td>1.845317</td>\n",
       "      <td>9.370722</td>\n",
       "    </tr>\n",
       "    <tr>\n",
       "      <th>98</th>\n",
       "      <td>1.662017</td>\n",
       "      <td>9.155159</td>\n",
       "    </tr>\n",
       "    <tr>\n",
       "      <th>99</th>\n",
       "      <td>2.608815</td>\n",
       "      <td>8.809003</td>\n",
       "    </tr>\n",
       "  </tbody>\n",
       "</table>\n",
       "<p>100 rows × 2 columns</p>\n",
       "</div>"
      ],
      "text/plain": [
       "    random_bwt  random_hwt\n",
       "0     2.179304   10.703277\n",
       "1     2.843148   13.406631\n",
       "2     2.581333   12.849705\n",
       "3     2.592912   14.564718\n",
       "4     3.075547    6.108887\n",
       "..         ...         ...\n",
       "95    2.297118   14.534721\n",
       "96    2.955009    7.306640\n",
       "97    1.845317    9.370722\n",
       "98    1.662017    9.155159\n",
       "99    2.608815    8.809003\n",
       "\n",
       "[100 rows x 2 columns]"
      ]
     },
     "execution_count": 12,
     "metadata": {},
     "output_type": "execute_result"
    }
   ],
   "source": [
    "# Create a new df with the random np arrays\n",
    "# https://stackoverflow.com/questions/29949757/creating-pandas-dataframe-between-two-numpy-arrays-then-draw-scatter-plot\n",
    "random_df = pd.DataFrame({'random_bwt':random_bwt, 'random_hwt':random_hwt})\n",
    "random_df"
   ]
  },
  {
   "cell_type": "code",
   "execution_count": 13,
   "id": "59ed3479-99fa-4c87-a519-11337d6f1c3d",
   "metadata": {},
   "outputs": [
    {
     "data": {
      "text/html": [
       "<div>\n",
       "<style scoped>\n",
       "    .dataframe tbody tr th:only-of-type {\n",
       "        vertical-align: middle;\n",
       "    }\n",
       "\n",
       "    .dataframe tbody tr th {\n",
       "        vertical-align: top;\n",
       "    }\n",
       "\n",
       "    .dataframe thead th {\n",
       "        text-align: right;\n",
       "    }\n",
       "</style>\n",
       "<table border=\"1\" class=\"dataframe\">\n",
       "  <thead>\n",
       "    <tr style=\"text-align: right;\">\n",
       "      <th></th>\n",
       "      <th>random_bwt</th>\n",
       "      <th>random_hwt</th>\n",
       "    </tr>\n",
       "  </thead>\n",
       "  <tbody>\n",
       "    <tr>\n",
       "      <th>count</th>\n",
       "      <td>100.000000</td>\n",
       "      <td>100.000000</td>\n",
       "    </tr>\n",
       "    <tr>\n",
       "      <th>mean</th>\n",
       "      <td>2.607563</td>\n",
       "      <td>10.381145</td>\n",
       "    </tr>\n",
       "    <tr>\n",
       "      <th>std</th>\n",
       "      <td>0.495739</td>\n",
       "      <td>2.627939</td>\n",
       "    </tr>\n",
       "    <tr>\n",
       "      <th>min</th>\n",
       "      <td>1.252891</td>\n",
       "      <td>3.398108</td>\n",
       "    </tr>\n",
       "    <tr>\n",
       "      <th>25%</th>\n",
       "      <td>2.309073</td>\n",
       "      <td>8.805568</td>\n",
       "    </tr>\n",
       "    <tr>\n",
       "      <th>50%</th>\n",
       "      <td>2.578082</td>\n",
       "      <td>10.333246</td>\n",
       "    </tr>\n",
       "    <tr>\n",
       "      <th>75%</th>\n",
       "      <td>2.942164</td>\n",
       "      <td>12.341540</td>\n",
       "    </tr>\n",
       "    <tr>\n",
       "      <th>max</th>\n",
       "      <td>4.394208</td>\n",
       "      <td>17.077299</td>\n",
       "    </tr>\n",
       "  </tbody>\n",
       "</table>\n",
       "</div>"
      ],
      "text/plain": [
       "       random_bwt  random_hwt\n",
       "count  100.000000  100.000000\n",
       "mean     2.607563   10.381145\n",
       "std      0.495739    2.627939\n",
       "min      1.252891    3.398108\n",
       "25%      2.309073    8.805568\n",
       "50%      2.578082   10.333246\n",
       "75%      2.942164   12.341540\n",
       "max      4.394208   17.077299"
      ]
     },
     "execution_count": 13,
     "metadata": {},
     "output_type": "execute_result"
    }
   ],
   "source": [
    "# View summary statistics\n",
    "random_df.describe()"
   ]
  },
  {
   "cell_type": "markdown",
   "id": "2fe8b346-97d2-4ee0-8c24-55a0cf22c0bb",
   "metadata": {},
   "source": [
    "We can see from the summary statistics that our random dataframe has somewhat similar summary statistics to the original. Despite this, it is not an acceptable simulation of the original dataset. This will become apparant by plotting scatterplots of the original data and the random data."
   ]
  },
  {
   "cell_type": "code",
   "execution_count": 14,
   "id": "b247a4ec-97ad-48d5-a8bb-f73494f3e441",
   "metadata": {},
   "outputs": [
    {
     "data": {
      "text/plain": [
       "<AxesSubplot:xlabel='Bwt', ylabel='Hwt'>"
      ]
     },
     "execution_count": 14,
     "metadata": {},
     "output_type": "execute_result"
    },
    {
     "data": {
      "image/png": "[encoded data removed]",
      "text/plain": [
       "<Figure size 432x288 with 1 Axes>"
      ]
     },
     "metadata": {
      "needs_background": "light"
     },
     "output_type": "display_data"
    }
   ],
   "source": [
    "# sCATterplot of original bwt and hwt\n",
    "sns.scatterplot(data = df_cats, x = 'Bwt', y= 'Hwt')"
   ]
  },
  {
   "cell_type": "code",
   "execution_count": 15,
   "id": "e280799c-9c6b-46e4-9126-b8db4b73d055",
   "metadata": {},
   "outputs": [
    {
     "data": {
      "text/plain": [
       "<AxesSubplot:xlabel='random_bwt', ylabel='random_hwt'>"
      ]
     },
     "execution_count": 15,
     "metadata": {},
     "output_type": "execute_result"
    },
    {
     "data": {
      "image/png": "[encoded data removed]",
      "text/plain": [
       "<Figure size 432x288 with 1 Axes>"
      ]
     },
     "metadata": {
      "needs_background": "light"
     },
     "output_type": "display_data"
    }
   ],
   "source": [
    "# sCATterplot of bwt and hwt\n",
    "sns.scatterplot(data = random_df, x = 'random_bwt', y= 'random_hwt')"
   ]
  },
  {
   "cell_type": "markdown",
   "id": "2cff464c-0846-4fe7-80a7-c7869322f9e6",
   "metadata": {},
   "source": [
    "As we can see, there appears to be a positive correlation between a cat's bodyweight and heartweight, whereas in the random dataframe there is little correlation. Thsi can also be shown numerically. "
   ]
  },
  {
   "cell_type": "code",
   "execution_count": 16,
   "id": "348562b4-f561-47a4-8fe6-d98c00d3ad39",
   "metadata": {},
   "outputs": [
    {
     "data": {
      "text/html": [
       "<div>\n",
       "<style scoped>\n",
       "    .dataframe tbody tr th:only-of-type {\n",
       "        vertical-align: middle;\n",
       "    }\n",
       "\n",
       "    .dataframe tbody tr th {\n",
       "        vertical-align: top;\n",
       "    }\n",
       "\n",
       "    .dataframe thead th {\n",
       "        text-align: right;\n",
       "    }\n",
       "</style>\n",
       "<table border=\"1\" class=\"dataframe\">\n",
       "  <thead>\n",
       "    <tr style=\"text-align: right;\">\n",
       "      <th></th>\n",
       "      <th>Bwt</th>\n",
       "      <th>Hwt</th>\n",
       "    </tr>\n",
       "  </thead>\n",
       "  <tbody>\n",
       "    <tr>\n",
       "      <th>Bwt</th>\n",
       "      <td>1.000000</td>\n",
       "      <td>0.804127</td>\n",
       "    </tr>\n",
       "    <tr>\n",
       "      <th>Hwt</th>\n",
       "      <td>0.804127</td>\n",
       "      <td>1.000000</td>\n",
       "    </tr>\n",
       "  </tbody>\n",
       "</table>\n",
       "</div>"
      ],
      "text/plain": [
       "          Bwt       Hwt\n",
       "Bwt  1.000000  0.804127\n",
       "Hwt  0.804127  1.000000"
      ]
     },
     "execution_count": 16,
     "metadata": {},
     "output_type": "execute_result"
    }
   ],
   "source": [
    "# Show the correlation bodyweight and heartweight\n",
    "df_cats.corr()"
   ]
  },
  {
   "cell_type": "code",
   "execution_count": 17,
   "id": "499e2814-7769-44d8-9964-e7e559afca3b",
   "metadata": {},
   "outputs": [
    {
     "data": {
      "text/html": [
       "<div>\n",
       "<style scoped>\n",
       "    .dataframe tbody tr th:only-of-type {\n",
       "        vertical-align: middle;\n",
       "    }\n",
       "\n",
       "    .dataframe tbody tr th {\n",
       "        vertical-align: top;\n",
       "    }\n",
       "\n",
       "    .dataframe thead th {\n",
       "        text-align: right;\n",
       "    }\n",
       "</style>\n",
       "<table border=\"1\" class=\"dataframe\">\n",
       "  <thead>\n",
       "    <tr style=\"text-align: right;\">\n",
       "      <th></th>\n",
       "      <th>random_bwt</th>\n",
       "      <th>random_hwt</th>\n",
       "    </tr>\n",
       "  </thead>\n",
       "  <tbody>\n",
       "    <tr>\n",
       "      <th>random_bwt</th>\n",
       "      <td>1.000000</td>\n",
       "      <td>-0.055416</td>\n",
       "    </tr>\n",
       "    <tr>\n",
       "      <th>random_hwt</th>\n",
       "      <td>-0.055416</td>\n",
       "      <td>1.000000</td>\n",
       "    </tr>\n",
       "  </tbody>\n",
       "</table>\n",
       "</div>"
      ],
      "text/plain": [
       "            random_bwt  random_hwt\n",
       "random_bwt    1.000000   -0.055416\n",
       "random_hwt   -0.055416    1.000000"
      ]
     },
     "execution_count": 17,
     "metadata": {},
     "output_type": "execute_result"
    }
   ],
   "source": [
    "# Show the correlation bodyweight and heartweight\n",
    "random_df.corr()"
   ]
  },
  {
   "cell_type": "markdown",
   "id": "d69cd60d-41e5-45c1-b8cc-8dd5f98fbf53",
   "metadata": {},
   "source": [
    "This means that in general, lighter cats have lighter hearts and heavier cats have heavier hearts. While 0.8 is a very strong correlation[x], it is not perfect. There are some rather rare instances where a cat has a heavier heart than another cat that have a higher bodyweight. For that reason, it will not suffice to just sort the random values so that the lightest cat is matched with the lightest heart all the way up to the heaviest cat and the heaviest heart.  "
   ]
  },
  {
   "cell_type": "markdown",
   "id": "69d0b9cf-8d93-4d21-9ad6-5bb02db5a6df",
   "metadata": {},
   "source": [
    "Since the data appears to be correlated, one potential solution is to assume that the data is normally distributed and then use numpy random's multivariate_normal method, which samples from multiple correlated normal distributions given the mean of the normal distributions and their covariance matrix."
   ]
  },
  {
   "cell_type": "code",
   "execution_count": 18,
   "id": "bf68f2f8-949f-4433-b171-040fb2345590",
   "metadata": {},
   "outputs": [],
   "source": [
    "# Create a df containing only the numerical bwt and hwt columns\n",
    "df_cats_num = df_cats[['Bwt', 'Hwt']]"
   ]
  },
  {
   "cell_type": "code",
   "execution_count": 19,
   "id": "61c5ee56-943d-4622-8de4-81883741efa0",
   "metadata": {},
   "outputs": [
    {
     "data": {
      "text/plain": [
       "array([[0.23552253, 0.95011267],\n",
       "       [0.95011267, 5.92745144]])"
      ]
     },
     "execution_count": 19,
     "metadata": {},
     "output_type": "execute_result"
    }
   ],
   "source": [
    "# Get covariance matrix of dataframe\n",
    "df_cats_num.cov().to_numpy()"
   ]
  },
  {
   "cell_type": "code",
   "execution_count": 20,
   "id": "6e7f0786-5bd9-48eb-8e48-60379dddf6ee",
   "metadata": {},
   "outputs": [],
   "source": [
    "# Generate multivariate random data based on the original df mean and covariance\n",
    "mean = [2.723611, 10.630556]\n",
    "cov = [[0.23552253, 0.95011267], [0.95011267, 5.92745144]]\n",
    "size = 144\n",
    "\n",
    "cats_mvn = rng.multivariate_normal(mean, cov, size)"
   ]
  },
  {
   "cell_type": "code",
   "execution_count": null,
   "id": "b953cf35-5f2f-4826-9a69-f08a8933502d",
   "metadata": {},
   "outputs": [],
   "source": []
  },
  {
   "cell_type": "code",
   "execution_count": 21,
   "id": "11d5df19-1b04-4e12-a267-62132318bc0b",
   "metadata": {},
   "outputs": [],
   "source": [
    "# Convert random array to pandas df\n",
    "df_cats_mvn = pd.DataFrame(cats_mvn, columns = ['Bwt', 'Hwt'])"
   ]
  },
  {
   "cell_type": "code",
   "execution_count": 22,
   "id": "36b0485c-6516-401b-8449-8838eb08872c",
   "metadata": {},
   "outputs": [
    {
     "data": {
      "text/html": [
       "<div>\n",
       "<style scoped>\n",
       "    .dataframe tbody tr th:only-of-type {\n",
       "        vertical-align: middle;\n",
       "    }\n",
       "\n",
       "    .dataframe tbody tr th {\n",
       "        vertical-align: top;\n",
       "    }\n",
       "\n",
       "    .dataframe thead th {\n",
       "        text-align: right;\n",
       "    }\n",
       "</style>\n",
       "<table border=\"1\" class=\"dataframe\">\n",
       "  <thead>\n",
       "    <tr style=\"text-align: right;\">\n",
       "      <th></th>\n",
       "      <th>Bwt</th>\n",
       "      <th>Hwt</th>\n",
       "    </tr>\n",
       "  </thead>\n",
       "  <tbody>\n",
       "    <tr>\n",
       "      <th>count</th>\n",
       "      <td>144.000000</td>\n",
       "      <td>144.000000</td>\n",
       "    </tr>\n",
       "    <tr>\n",
       "      <th>mean</th>\n",
       "      <td>2.727470</td>\n",
       "      <td>10.619237</td>\n",
       "    </tr>\n",
       "    <tr>\n",
       "      <th>std</th>\n",
       "      <td>0.426279</td>\n",
       "      <td>2.178917</td>\n",
       "    </tr>\n",
       "    <tr>\n",
       "      <th>min</th>\n",
       "      <td>1.756078</td>\n",
       "      <td>6.080195</td>\n",
       "    </tr>\n",
       "    <tr>\n",
       "      <th>25%</th>\n",
       "      <td>2.426996</td>\n",
       "      <td>8.997623</td>\n",
       "    </tr>\n",
       "    <tr>\n",
       "      <th>50%</th>\n",
       "      <td>2.743171</td>\n",
       "      <td>10.536973</td>\n",
       "    </tr>\n",
       "    <tr>\n",
       "      <th>75%</th>\n",
       "      <td>2.978730</td>\n",
       "      <td>12.087864</td>\n",
       "    </tr>\n",
       "    <tr>\n",
       "      <th>max</th>\n",
       "      <td>3.933044</td>\n",
       "      <td>17.655224</td>\n",
       "    </tr>\n",
       "  </tbody>\n",
       "</table>\n",
       "</div>"
      ],
      "text/plain": [
       "              Bwt         Hwt\n",
       "count  144.000000  144.000000\n",
       "mean     2.727470   10.619237\n",
       "std      0.426279    2.178917\n",
       "min      1.756078    6.080195\n",
       "25%      2.426996    8.997623\n",
       "50%      2.743171   10.536973\n",
       "75%      2.978730   12.087864\n",
       "max      3.933044   17.655224"
      ]
     },
     "execution_count": 22,
     "metadata": {},
     "output_type": "execute_result"
    }
   ],
   "source": [
    "# View description of random dataset\n",
    "df_cats_mvn.describe()"
   ]
  },
  {
   "cell_type": "code",
   "execution_count": 23,
   "id": "fa19ddd8-0703-4faa-b600-8527b660e804",
   "metadata": {},
   "outputs": [
    {
     "data": {
      "text/plain": [
       "<AxesSubplot:xlabel='Bwt', ylabel='Hwt'>"
      ]
     },
     "execution_count": 23,
     "metadata": {},
     "output_type": "execute_result"
    },
    {
     "data": {
      "image/png": "[encoded data removed]",
      "text/plain": [
       "<Figure size 432x288 with 1 Axes>"
      ]
     },
     "metadata": {
      "needs_background": "light"
     },
     "output_type": "display_data"
    }
   ],
   "source": [
    "# Plot multivariate random data\n",
    "sns.scatterplot(data = df_cats_mvn, x = 'Bwt', y= 'Hwt')"
   ]
  },
  {
   "cell_type": "markdown",
   "id": "5d5fc572-2d32-4ec3-823d-b1cc7b3d0365",
   "metadata": {},
   "source": [
    "This random data certainly appears to be more in line with the original dataset. We could split the data above and below 3.0 and assign a sex of male or female to the data below 3.0 and all male to the data above 3.0, akin to the original dataset. It might be worthwhile however to dive even deeper and see if there's a difference between the sexes that would be obscured by randomly generating both sexes at once as is done here.  "
   ]
  },
  {
   "cell_type": "code",
   "execution_count": null,
   "id": "b15be697-851a-4d80-a4e4-8dc7b86a18b9",
   "metadata": {},
   "outputs": [],
   "source": []
  },
  {
   "cell_type": "code",
   "execution_count": null,
   "id": "5e60959e-973c-4ef4-89e8-5ef51ef2e87f",
   "metadata": {},
   "outputs": [],
   "source": []
  },
  {
   "cell_type": "code",
   "execution_count": null,
   "id": "520fd3f9-4a24-4033-b692-b143a68fae72",
   "metadata": {},
   "outputs": [],
   "source": []
  },
  {
   "cell_type": "code",
   "execution_count": null,
   "id": "c2314e65-2356-478a-8284-1648143a0dfa",
   "metadata": {},
   "outputs": [],
   "source": []
  },
  {
   "cell_type": "code",
   "execution_count": null,
   "id": "f88c1c4e-ef24-4779-a08b-3cd4de190ec1",
   "metadata": {},
   "outputs": [],
   "source": []
  },
  {
   "cell_type": "markdown",
   "id": "a9a1eabc-cab0-404c-9b8c-abeba75c5720",
   "metadata": {},
   "source": [
    "As the sex of the cat may impact the other variables, it would be a good idea to also look at the summary statistics for each sex. The idea to use both groupby and describe in the same line of code came from https://stackoverflow.com/questions/42579148/get-columns-describe-from-group-by."
   ]
  },
  {
   "cell_type": "code",
   "execution_count": null,
   "id": "4cb0b883-609a-4347-92a7-cc3fcfd78c47",
   "metadata": {},
   "outputs": [],
   "source": []
  },
  {
   "cell_type": "code",
   "execution_count": 24,
   "id": "47f7f2dc-2811-442e-9127-8bdf5d792e9c",
   "metadata": {},
   "outputs": [
    {
     "data": {
      "text/html": [
       "<div>\n",
       "<style scoped>\n",
       "    .dataframe tbody tr th:only-of-type {\n",
       "        vertical-align: middle;\n",
       "    }\n",
       "\n",
       "    .dataframe tbody tr th {\n",
       "        vertical-align: top;\n",
       "    }\n",
       "\n",
       "    .dataframe thead tr th {\n",
       "        text-align: left;\n",
       "    }\n",
       "\n",
       "    .dataframe thead tr:last-of-type th {\n",
       "        text-align: right;\n",
       "    }\n",
       "</style>\n",
       "<table border=\"1\" class=\"dataframe\">\n",
       "  <thead>\n",
       "    <tr>\n",
       "      <th></th>\n",
       "      <th colspan=\"8\" halign=\"left\">Bwt</th>\n",
       "      <th colspan=\"8\" halign=\"left\">Hwt</th>\n",
       "    </tr>\n",
       "    <tr>\n",
       "      <th></th>\n",
       "      <th>count</th>\n",
       "      <th>mean</th>\n",
       "      <th>std</th>\n",
       "      <th>min</th>\n",
       "      <th>25%</th>\n",
       "      <th>50%</th>\n",
       "      <th>75%</th>\n",
       "      <th>max</th>\n",
       "      <th>count</th>\n",
       "      <th>mean</th>\n",
       "      <th>std</th>\n",
       "      <th>min</th>\n",
       "      <th>25%</th>\n",
       "      <th>50%</th>\n",
       "      <th>75%</th>\n",
       "      <th>max</th>\n",
       "    </tr>\n",
       "    <tr>\n",
       "      <th>Sex</th>\n",
       "      <th></th>\n",
       "      <th></th>\n",
       "      <th></th>\n",
       "      <th></th>\n",
       "      <th></th>\n",
       "      <th></th>\n",
       "      <th></th>\n",
       "      <th></th>\n",
       "      <th></th>\n",
       "      <th></th>\n",
       "      <th></th>\n",
       "      <th></th>\n",
       "      <th></th>\n",
       "      <th></th>\n",
       "      <th></th>\n",
       "      <th></th>\n",
       "    </tr>\n",
       "  </thead>\n",
       "  <tbody>\n",
       "    <tr>\n",
       "      <th>F</th>\n",
       "      <td>47.0</td>\n",
       "      <td>2.359574</td>\n",
       "      <td>0.273988</td>\n",
       "      <td>2.0</td>\n",
       "      <td>2.15</td>\n",
       "      <td>2.3</td>\n",
       "      <td>2.5</td>\n",
       "      <td>3.0</td>\n",
       "      <td>47.0</td>\n",
       "      <td>9.202128</td>\n",
       "      <td>1.357666</td>\n",
       "      <td>6.3</td>\n",
       "      <td>8.35</td>\n",
       "      <td>9.1</td>\n",
       "      <td>10.1</td>\n",
       "      <td>13.0</td>\n",
       "    </tr>\n",
       "    <tr>\n",
       "      <th>M</th>\n",
       "      <td>97.0</td>\n",
       "      <td>2.900000</td>\n",
       "      <td>0.467484</td>\n",
       "      <td>2.0</td>\n",
       "      <td>2.50</td>\n",
       "      <td>2.9</td>\n",
       "      <td>3.2</td>\n",
       "      <td>3.9</td>\n",
       "      <td>97.0</td>\n",
       "      <td>11.322680</td>\n",
       "      <td>2.542288</td>\n",
       "      <td>6.5</td>\n",
       "      <td>9.40</td>\n",
       "      <td>11.4</td>\n",
       "      <td>12.8</td>\n",
       "      <td>20.5</td>\n",
       "    </tr>\n",
       "  </tbody>\n",
       "</table>\n",
       "</div>"
      ],
      "text/plain": [
       "      Bwt                                                 Hwt             \\\n",
       "    count      mean       std  min   25%  50%  75%  max count       mean   \n",
       "Sex                                                                        \n",
       "F    47.0  2.359574  0.273988  2.0  2.15  2.3  2.5  3.0  47.0   9.202128   \n",
       "M    97.0  2.900000  0.467484  2.0  2.50  2.9  3.2  3.9  97.0  11.322680   \n",
       "\n",
       "                                            \n",
       "          std  min   25%   50%   75%   max  \n",
       "Sex                                         \n",
       "F    1.357666  6.3  8.35   9.1  10.1  13.0  \n",
       "M    2.542288  6.5  9.40  11.4  12.8  20.5  "
      ]
     },
     "execution_count": 24,
     "metadata": {},
     "output_type": "execute_result"
    }
   ],
   "source": [
    "# View summary statistics for each sex\n",
    "df_cats.groupby(['Sex']).describe()"
   ]
  },
  {
   "cell_type": "markdown",
   "id": "80b5c848-f110-451f-8a0d-ab3e1769a224",
   "metadata": {},
   "source": [
    "The standard deviations of the male values for body weight and heart weight are much higher than for females, suggesting there is typically a greater variation in male sizes, whereas females tend to be more similar in body and heart weights to one another. "
   ]
  },
  {
   "cell_type": "code",
   "execution_count": null,
   "id": "e7f862af-dd75-4137-a9f2-f73196e636dc",
   "metadata": {},
   "outputs": [],
   "source": []
  },
  {
   "cell_type": "code",
   "execution_count": null,
   "id": "8903f816-58b4-438b-aec8-5ff10d8d81ad",
   "metadata": {},
   "outputs": [],
   "source": []
  },
  {
   "cell_type": "markdown",
   "id": "412deaaf-f370-4a09-b085-8cdc830ac8fc",
   "metadata": {},
   "source": [
    "It it will be helpful to plot the dataset to visualise the distributions of each variable. It will help to decide if the assumption of normally distributed data is justified. "
   ]
  },
  {
   "cell_type": "code",
   "execution_count": null,
   "id": "c8216240-34be-4fbf-9b68-a50df3a0bd2c",
   "metadata": {},
   "outputs": [],
   "source": []
  },
  {
   "cell_type": "code",
   "execution_count": 25,
   "id": "7a898c34-2449-4b8a-91f2-6323b19d70c7",
   "metadata": {},
   "outputs": [
    {
     "data": {
      "text/plain": [
       "<AxesSubplot:xlabel='Bwt', ylabel='Count'>"
      ]
     },
     "execution_count": 25,
     "metadata": {},
     "output_type": "execute_result"
    },
    {
     "data": {
      "image/png": "[encoded data removed]",
      "text/plain": [
       "<Figure size 432x288 with 1 Axes>"
      ]
     },
     "metadata": {
      "needs_background": "light"
     },
     "output_type": "display_data"
    }
   ],
   "source": [
    "# Plotting the body weight\n",
    "sns.histplot(data = df_cats, x = 'Bwt')"
   ]
  },
  {
   "cell_type": "code",
   "execution_count": 26,
   "id": "3b53e3a2-3b83-445f-a99b-b60ac35d626d",
   "metadata": {},
   "outputs": [
    {
     "data": {
      "text/plain": [
       "<AxesSubplot:xlabel='Bwt', ylabel='Count'>"
      ]
     },
     "execution_count": 26,
     "metadata": {},
     "output_type": "execute_result"
    },
    {
     "data": {
      "image/png": "[encoded data removed]",
      "text/plain": [
       "<Figure size 432x288 with 1 Axes>"
      ]
     },
     "metadata": {
      "needs_background": "light"
     },
     "output_type": "display_data"
    }
   ],
   "source": [
    "# Plotting the bodyweight by sex\n",
    "sns.histplot(data = df_cats, x = 'Bwt', hue = 'Sex', multiple=\"dodge\", kde=True)"
   ]
  },
  {
   "cell_type": "code",
   "execution_count": null,
   "id": "8d91b473-b835-4198-996f-ca2242dd407c",
   "metadata": {},
   "outputs": [],
   "source": []
  },
  {
   "cell_type": "code",
   "execution_count": 27,
   "id": "446a3eed-e452-493c-b98f-c92f52d6dc92",
   "metadata": {},
   "outputs": [
    {
     "data": {
      "text/plain": [
       "<AxesSubplot:xlabel='Hwt', ylabel='Count'>"
      ]
     },
     "execution_count": 27,
     "metadata": {},
     "output_type": "execute_result"
    },
    {
     "data": {
      "image/png": "[encoded data removed]",
      "text/plain": [
       "<Figure size 432x288 with 1 Axes>"
      ]
     },
     "metadata": {
      "needs_background": "light"
     },
     "output_type": "display_data"
    }
   ],
   "source": [
    "# Plotting the heart weight\n",
    "sns.histplot(data = df_cats, x = 'Hwt')"
   ]
  },
  {
   "cell_type": "code",
   "execution_count": 28,
   "id": "b60b63a5-a96a-48e5-9f7a-4ab42df13997",
   "metadata": {},
   "outputs": [
    {
     "data": {
      "text/plain": [
       "<AxesSubplot:xlabel='Hwt', ylabel='Count'>"
      ]
     },
     "execution_count": 28,
     "metadata": {},
     "output_type": "execute_result"
    },
    {
     "data": {
      "image/png": "[encoded data removed]",
      "text/plain": [
       "<Figure size 432x288 with 1 Axes>"
      ]
     },
     "metadata": {
      "needs_background": "light"
     },
     "output_type": "display_data"
    }
   ],
   "source": [
    "# Plotting the heart weight by sex\n",
    "sns.histplot(data = df_cats, x = 'Hwt', hue = 'Sex', multiple=\"dodge\", kde=True)"
   ]
  },
  {
   "cell_type": "markdown",
   "id": "9f463b42-c07b-4a9f-8a99-5db1ceb47142",
   "metadata": {},
   "source": [
    "Both the summary statistics and the plots suggest that sex has an influence over the distribution of the variables. \n",
    "The male datapoints appear to come close to the bell-shaped curve of a normal distribution, whereas the female datapoints seem to skew slightly.\n",
    "\n",
    "It might be a good idea to create two new dataframes containing the data for each sex."
   ]
  },
  {
   "cell_type": "code",
   "execution_count": 29,
   "id": "71b730c9-a7b7-44cb-94fd-28a67941f573",
   "metadata": {},
   "outputs": [],
   "source": [
    "# https://stackoverflow.com/questions/17071871/how-do-i-select-rows-from-a-dataframe-based-on-column-values\n",
    "# New df for each sex\n",
    "df_cats_female = df_cats.loc[df_cats['Sex'] == 'F']\n",
    "df_cats_male = df_cats.loc[df_cats['Sex'] == 'M']"
   ]
  },
  {
   "cell_type": "code",
   "execution_count": 30,
   "id": "872edfcb-da77-4666-aea1-c2a94ef2afd5",
   "metadata": {},
   "outputs": [
    {
     "data": {
      "text/html": [
       "<div>\n",
       "<style scoped>\n",
       "    .dataframe tbody tr th:only-of-type {\n",
       "        vertical-align: middle;\n",
       "    }\n",
       "\n",
       "    .dataframe tbody tr th {\n",
       "        vertical-align: top;\n",
       "    }\n",
       "\n",
       "    .dataframe thead th {\n",
       "        text-align: right;\n",
       "    }\n",
       "</style>\n",
       "<table border=\"1\" class=\"dataframe\">\n",
       "  <thead>\n",
       "    <tr style=\"text-align: right;\">\n",
       "      <th></th>\n",
       "      <th>Bwt</th>\n",
       "      <th>Hwt</th>\n",
       "    </tr>\n",
       "  </thead>\n",
       "  <tbody>\n",
       "    <tr>\n",
       "      <th>Bwt</th>\n",
       "      <td>1.00000</td>\n",
       "      <td>0.53205</td>\n",
       "    </tr>\n",
       "    <tr>\n",
       "      <th>Hwt</th>\n",
       "      <td>0.53205</td>\n",
       "      <td>1.00000</td>\n",
       "    </tr>\n",
       "  </tbody>\n",
       "</table>\n",
       "</div>"
      ],
      "text/plain": [
       "         Bwt      Hwt\n",
       "Bwt  1.00000  0.53205\n",
       "Hwt  0.53205  1.00000"
      ]
     },
     "execution_count": 30,
     "metadata": {},
     "output_type": "execute_result"
    }
   ],
   "source": [
    "df_cats_female.corr()"
   ]
  },
  {
   "cell_type": "code",
   "execution_count": 31,
   "id": "c2e6633a-1496-43e1-8c31-6072aab78f4c",
   "metadata": {},
   "outputs": [
    {
     "data": {
      "text/html": [
       "<div>\n",
       "<style scoped>\n",
       "    .dataframe tbody tr th:only-of-type {\n",
       "        vertical-align: middle;\n",
       "    }\n",
       "\n",
       "    .dataframe tbody tr th {\n",
       "        vertical-align: top;\n",
       "    }\n",
       "\n",
       "    .dataframe thead th {\n",
       "        text-align: right;\n",
       "    }\n",
       "</style>\n",
       "<table border=\"1\" class=\"dataframe\">\n",
       "  <thead>\n",
       "    <tr style=\"text-align: right;\">\n",
       "      <th></th>\n",
       "      <th>Bwt</th>\n",
       "      <th>Hwt</th>\n",
       "    </tr>\n",
       "  </thead>\n",
       "  <tbody>\n",
       "    <tr>\n",
       "      <th>Bwt</th>\n",
       "      <td>1.00000</td>\n",
       "      <td>0.79303</td>\n",
       "    </tr>\n",
       "    <tr>\n",
       "      <th>Hwt</th>\n",
       "      <td>0.79303</td>\n",
       "      <td>1.00000</td>\n",
       "    </tr>\n",
       "  </tbody>\n",
       "</table>\n",
       "</div>"
      ],
      "text/plain": [
       "         Bwt      Hwt\n",
       "Bwt  1.00000  0.79303\n",
       "Hwt  0.79303  1.00000"
      ]
     },
     "execution_count": 31,
     "metadata": {},
     "output_type": "execute_result"
    }
   ],
   "source": [
    "df_cats_male.corr()"
   ]
  },
  {
   "cell_type": "markdown",
   "id": "a3200851-c3c0-4eb9-9f13-0cd586b795c3",
   "metadata": {},
   "source": [
    "It is interesting to note that while both males and females have a strong positive correlation between bodyweight and heartweight, the correlation is much higher in males than females."
   ]
  },
  {
   "cell_type": "markdown",
   "id": "9da2f137-24da-4e51-8039-6945cd94f87f",
   "metadata": {},
   "source": [
    "We can use a statistical test for normality. \n",
    "\n",
    "https://www.ncbi.nlm.nih.gov/pmc/articles/PMC6350423/ recommends using Shapiro–Wilk test when sample sizes are under 50, which is the case with female samples. It can also be used for samples above 50, however, so it can also be used to test the male data also.\n",
    "\n",
    "The Shapiro-Wilk tests a null hypothesis that the data comes from a normal distribution. If the p-value is greater that 0.05, then the test fails to reject that null hypothesis. "
   ]
  },
  {
   "cell_type": "code",
   "execution_count": 32,
   "id": "e808ce23-ebac-49eb-973d-341cf22f51fe",
   "metadata": {},
   "outputs": [
    {
     "data": {
      "text/plain": [
       "ShapiroResult(statistic=0.9788321852684021, pvalue=0.11895745247602463)"
      ]
     },
     "execution_count": 32,
     "metadata": {},
     "output_type": "execute_result"
    }
   ],
   "source": [
    "from scipy.stats import shapiro\n",
    "\n",
    "#perform Shapiro-Wilk test on male body weight\n",
    "shapiro(df_cats_male['Bwt'])"
   ]
  },
  {
   "cell_type": "code",
   "execution_count": 33,
   "id": "ff3c5a5a-8224-45f9-a563-4cfb99d9597e",
   "metadata": {},
   "outputs": [
    {
     "data": {
      "text/plain": [
       "ShapiroResult(statistic=0.9772655963897705, pvalue=0.09039346873760223)"
      ]
     },
     "execution_count": 33,
     "metadata": {},
     "output_type": "execute_result"
    }
   ],
   "source": [
    "#perform Shapiro-Wilk test on male heart weight\n",
    "shapiro(df_cats_male['Hwt'])"
   ]
  },
  {
   "cell_type": "code",
   "execution_count": 34,
   "id": "cd74542a-5e49-4d84-97ca-6484c5c8539f",
   "metadata": {},
   "outputs": [
    {
     "data": {
      "text/plain": [
       "ShapiroResult(statistic=0.8909613490104675, pvalue=0.0003754299250431359)"
      ]
     },
     "execution_count": 34,
     "metadata": {},
     "output_type": "execute_result"
    }
   ],
   "source": [
    "#perform Shapiro-Wilk test on female body weight\n",
    "shapiro(df_cats_female['Bwt'])"
   ]
  },
  {
   "cell_type": "code",
   "execution_count": 35,
   "id": "84567965-f916-4906-b137-fa7aedededb7",
   "metadata": {},
   "outputs": [
    {
     "data": {
      "text/plain": [
       "ShapiroResult(statistic=0.9787967205047607, pvalue=0.5434856414794922)"
      ]
     },
     "execution_count": 35,
     "metadata": {},
     "output_type": "execute_result"
    }
   ],
   "source": [
    "#perform Shapiro-Wilk test on female heart weight\n",
    "shapiro(df_cats_female['Hwt'])"
   ]
  },
  {
   "cell_type": "markdown",
   "id": "41ed95c7-24da-4478-b3bd-9be9c75bf13c",
   "metadata": {},
   "source": [
    "These test results suggest that we can assume that male body weights, heart weights, and female heart weights were drawn from a normal distribution. However, the p-value for female body weights suggests that we can assume that this data is not normally distributed. This is unusual, as weights are often normally distributed[x]. This may be a false result due to the low sample size https://machinelearningmastery.com/how-to-transform-data-to-fit-the-normal-distribution/ \n",
    "\n",
    "For now, we will proceed as before and use numpy random's multivariate normal to generate data for each sex and see if it will generate a sample that sufficiently simulates the original."
   ]
  },
  {
   "cell_type": "code",
   "execution_count": 36,
   "id": "fe2fda9a-fcc8-413d-980d-22ecc315713f",
   "metadata": {},
   "outputs": [
    {
     "data": {
      "text/html": [
       "<div>\n",
       "<style scoped>\n",
       "    .dataframe tbody tr th:only-of-type {\n",
       "        vertical-align: middle;\n",
       "    }\n",
       "\n",
       "    .dataframe tbody tr th {\n",
       "        vertical-align: top;\n",
       "    }\n",
       "\n",
       "    .dataframe thead th {\n",
       "        text-align: right;\n",
       "    }\n",
       "</style>\n",
       "<table border=\"1\" class=\"dataframe\">\n",
       "  <thead>\n",
       "    <tr style=\"text-align: right;\">\n",
       "      <th></th>\n",
       "      <th>Bwt</th>\n",
       "      <th>Hwt</th>\n",
       "    </tr>\n",
       "  </thead>\n",
       "  <tbody>\n",
       "    <tr>\n",
       "      <th>Bwt</th>\n",
       "      <td>0.075069</td>\n",
       "      <td>0.197914</td>\n",
       "    </tr>\n",
       "    <tr>\n",
       "      <th>Hwt</th>\n",
       "      <td>0.197914</td>\n",
       "      <td>1.843256</td>\n",
       "    </tr>\n",
       "  </tbody>\n",
       "</table>\n",
       "</div>"
      ],
      "text/plain": [
       "          Bwt       Hwt\n",
       "Bwt  0.075069  0.197914\n",
       "Hwt  0.197914  1.843256"
      ]
     },
     "execution_count": 36,
     "metadata": {},
     "output_type": "execute_result"
    }
   ],
   "source": [
    "# Generate random data for female cats\n",
    "# Get covariance matrix for female cats\n",
    "df_cats_female.cov()"
   ]
  },
  {
   "cell_type": "code",
   "execution_count": null,
   "id": "016af62d-6b2c-454e-ac04-244cafff805c",
   "metadata": {},
   "outputs": [],
   "source": []
  },
  {
   "cell_type": "code",
   "execution_count": null,
   "id": "59e73dd7-abf1-4c26-a641-6dd5dd973eb7",
   "metadata": {},
   "outputs": [],
   "source": []
  },
  {
   "cell_type": "code",
   "execution_count": null,
   "id": "57f779cd-7187-4353-af34-238afbef7d2f",
   "metadata": {},
   "outputs": [],
   "source": []
  },
  {
   "cell_type": "code",
   "execution_count": null,
   "id": "530b9907-1561-4b96-8f6a-731519110bd3",
   "metadata": {},
   "outputs": [],
   "source": []
  },
  {
   "cell_type": "code",
   "execution_count": null,
   "id": "f6e2e446-b262-4563-ba70-7525e58ad2cf",
   "metadata": {},
   "outputs": [],
   "source": []
  },
  {
   "cell_type": "code",
   "execution_count": null,
   "id": "7b4147eb-35b7-4df2-9b7a-5e148a07419e",
   "metadata": {},
   "outputs": [],
   "source": []
  },
  {
   "cell_type": "code",
   "execution_count": 37,
   "id": "ae30a5b4-2e64-4c3a-984f-66047b8b0637",
   "metadata": {},
   "outputs": [],
   "source": [
    "# Generate multivariate random data based on the original female df mean and covariance\n",
    "mean_f = [2.359574, 9.202128]\n",
    "cov_f = [[0.07506938, 0.19791397], [0.19791397, 1.84325624]]\n",
    "size_f = 47 # Match the number of females from original dataset\n",
    "\n",
    "\n",
    "female_cats_mvn = rng.multivariate_normal(mean_f, cov_f, size_f)"
   ]
  },
  {
   "cell_type": "code",
   "execution_count": 38,
   "id": "064a56ed-fd8b-4436-baec-22de9446b316",
   "metadata": {},
   "outputs": [],
   "source": [
    "# Convert random array to pandas df\n",
    "df_female_cats_mvn = pd.DataFrame(female_cats_mvn, columns = ['Bwt', 'Hwt'])"
   ]
  },
  {
   "cell_type": "code",
   "execution_count": 39,
   "id": "52cb017b-0e3b-4e98-b15f-b2432e3b8996",
   "metadata": {},
   "outputs": [
    {
     "data": {
      "text/html": [
       "<div>\n",
       "<style scoped>\n",
       "    .dataframe tbody tr th:only-of-type {\n",
       "        vertical-align: middle;\n",
       "    }\n",
       "\n",
       "    .dataframe tbody tr th {\n",
       "        vertical-align: top;\n",
       "    }\n",
       "\n",
       "    .dataframe thead th {\n",
       "        text-align: right;\n",
       "    }\n",
       "</style>\n",
       "<table border=\"1\" class=\"dataframe\">\n",
       "  <thead>\n",
       "    <tr style=\"text-align: right;\">\n",
       "      <th></th>\n",
       "      <th>Bwt</th>\n",
       "      <th>Hwt</th>\n",
       "    </tr>\n",
       "  </thead>\n",
       "  <tbody>\n",
       "    <tr>\n",
       "      <th>count</th>\n",
       "      <td>47.000000</td>\n",
       "      <td>47.000000</td>\n",
       "    </tr>\n",
       "    <tr>\n",
       "      <th>mean</th>\n",
       "      <td>2.355740</td>\n",
       "      <td>8.946741</td>\n",
       "    </tr>\n",
       "    <tr>\n",
       "      <th>std</th>\n",
       "      <td>0.238650</td>\n",
       "      <td>1.403378</td>\n",
       "    </tr>\n",
       "    <tr>\n",
       "      <th>min</th>\n",
       "      <td>1.752350</td>\n",
       "      <td>5.908395</td>\n",
       "    </tr>\n",
       "    <tr>\n",
       "      <th>25%</th>\n",
       "      <td>2.186459</td>\n",
       "      <td>7.889774</td>\n",
       "    </tr>\n",
       "    <tr>\n",
       "      <th>50%</th>\n",
       "      <td>2.329810</td>\n",
       "      <td>9.025656</td>\n",
       "    </tr>\n",
       "    <tr>\n",
       "      <th>75%</th>\n",
       "      <td>2.525623</td>\n",
       "      <td>9.837076</td>\n",
       "    </tr>\n",
       "    <tr>\n",
       "      <th>max</th>\n",
       "      <td>2.867885</td>\n",
       "      <td>11.950115</td>\n",
       "    </tr>\n",
       "  </tbody>\n",
       "</table>\n",
       "</div>"
      ],
      "text/plain": [
       "             Bwt        Hwt\n",
       "count  47.000000  47.000000\n",
       "mean    2.355740   8.946741\n",
       "std     0.238650   1.403378\n",
       "min     1.752350   5.908395\n",
       "25%     2.186459   7.889774\n",
       "50%     2.329810   9.025656\n",
       "75%     2.525623   9.837076\n",
       "max     2.867885  11.950115"
      ]
     },
     "execution_count": 39,
     "metadata": {},
     "output_type": "execute_result"
    }
   ],
   "source": [
    "df_female_cats_mvn.describe()"
   ]
  },
  {
   "cell_type": "code",
   "execution_count": null,
   "id": "0306620c-dbe2-4caa-8ff0-0074aed0a4e6",
   "metadata": {},
   "outputs": [],
   "source": []
  },
  {
   "cell_type": "code",
   "execution_count": null,
   "id": "604366e5-b130-4f0a-9658-5f76c0320135",
   "metadata": {},
   "outputs": [],
   "source": []
  },
  {
   "cell_type": "code",
   "execution_count": 40,
   "id": "91af9d2e-d8dd-41ba-880d-1f052b2d496a",
   "metadata": {},
   "outputs": [],
   "source": [
    "# Add a column with sex of female\n",
    "df_female_cats_mvn['Sex'] = 'F'"
   ]
  },
  {
   "cell_type": "code",
   "execution_count": 41,
   "id": "5cbffad9-33ce-4268-ad27-7b1869751be6",
   "metadata": {},
   "outputs": [
    {
     "data": {
      "text/html": [
       "<div>\n",
       "<style scoped>\n",
       "    .dataframe tbody tr th:only-of-type {\n",
       "        vertical-align: middle;\n",
       "    }\n",
       "\n",
       "    .dataframe tbody tr th {\n",
       "        vertical-align: top;\n",
       "    }\n",
       "\n",
       "    .dataframe thead th {\n",
       "        text-align: right;\n",
       "    }\n",
       "</style>\n",
       "<table border=\"1\" class=\"dataframe\">\n",
       "  <thead>\n",
       "    <tr style=\"text-align: right;\">\n",
       "      <th></th>\n",
       "      <th>Bwt</th>\n",
       "      <th>Hwt</th>\n",
       "      <th>Sex</th>\n",
       "    </tr>\n",
       "  </thead>\n",
       "  <tbody>\n",
       "    <tr>\n",
       "      <th>0</th>\n",
       "      <td>2.522447</td>\n",
       "      <td>8.297698</td>\n",
       "      <td>F</td>\n",
       "    </tr>\n",
       "    <tr>\n",
       "      <th>1</th>\n",
       "      <td>2.492555</td>\n",
       "      <td>10.402778</td>\n",
       "      <td>F</td>\n",
       "    </tr>\n",
       "    <tr>\n",
       "      <th>2</th>\n",
       "      <td>2.475531</td>\n",
       "      <td>8.502075</td>\n",
       "      <td>F</td>\n",
       "    </tr>\n",
       "    <tr>\n",
       "      <th>3</th>\n",
       "      <td>2.181832</td>\n",
       "      <td>9.183459</td>\n",
       "      <td>F</td>\n",
       "    </tr>\n",
       "    <tr>\n",
       "      <th>4</th>\n",
       "      <td>2.222886</td>\n",
       "      <td>9.146523</td>\n",
       "      <td>F</td>\n",
       "    </tr>\n",
       "    <tr>\n",
       "      <th>5</th>\n",
       "      <td>2.294218</td>\n",
       "      <td>8.768476</td>\n",
       "      <td>F</td>\n",
       "    </tr>\n",
       "    <tr>\n",
       "      <th>6</th>\n",
       "      <td>2.299740</td>\n",
       "      <td>8.734757</td>\n",
       "      <td>F</td>\n",
       "    </tr>\n",
       "    <tr>\n",
       "      <th>7</th>\n",
       "      <td>2.334002</td>\n",
       "      <td>9.809693</td>\n",
       "      <td>F</td>\n",
       "    </tr>\n",
       "    <tr>\n",
       "      <th>8</th>\n",
       "      <td>2.344861</td>\n",
       "      <td>10.873049</td>\n",
       "      <td>F</td>\n",
       "    </tr>\n",
       "    <tr>\n",
       "      <th>9</th>\n",
       "      <td>2.300776</td>\n",
       "      <td>11.950115</td>\n",
       "      <td>F</td>\n",
       "    </tr>\n",
       "    <tr>\n",
       "      <th>10</th>\n",
       "      <td>2.867885</td>\n",
       "      <td>11.514887</td>\n",
       "      <td>F</td>\n",
       "    </tr>\n",
       "    <tr>\n",
       "      <th>11</th>\n",
       "      <td>2.287582</td>\n",
       "      <td>10.198268</td>\n",
       "      <td>F</td>\n",
       "    </tr>\n",
       "    <tr>\n",
       "      <th>12</th>\n",
       "      <td>2.569319</td>\n",
       "      <td>9.775426</td>\n",
       "      <td>F</td>\n",
       "    </tr>\n",
       "    <tr>\n",
       "      <th>13</th>\n",
       "      <td>2.276161</td>\n",
       "      <td>8.757309</td>\n",
       "      <td>F</td>\n",
       "    </tr>\n",
       "    <tr>\n",
       "      <th>14</th>\n",
       "      <td>2.421244</td>\n",
       "      <td>9.215434</td>\n",
       "      <td>F</td>\n",
       "    </tr>\n",
       "    <tr>\n",
       "      <th>15</th>\n",
       "      <td>2.132288</td>\n",
       "      <td>7.416322</td>\n",
       "      <td>F</td>\n",
       "    </tr>\n",
       "    <tr>\n",
       "      <th>16</th>\n",
       "      <td>2.608859</td>\n",
       "      <td>9.421601</td>\n",
       "      <td>F</td>\n",
       "    </tr>\n",
       "    <tr>\n",
       "      <th>17</th>\n",
       "      <td>2.329810</td>\n",
       "      <td>7.886877</td>\n",
       "      <td>F</td>\n",
       "    </tr>\n",
       "    <tr>\n",
       "      <th>18</th>\n",
       "      <td>2.499683</td>\n",
       "      <td>7.214374</td>\n",
       "      <td>F</td>\n",
       "    </tr>\n",
       "    <tr>\n",
       "      <th>19</th>\n",
       "      <td>1.752350</td>\n",
       "      <td>5.908395</td>\n",
       "      <td>F</td>\n",
       "    </tr>\n",
       "    <tr>\n",
       "      <th>20</th>\n",
       "      <td>2.538656</td>\n",
       "      <td>7.799016</td>\n",
       "      <td>F</td>\n",
       "    </tr>\n",
       "    <tr>\n",
       "      <th>21</th>\n",
       "      <td>2.591195</td>\n",
       "      <td>9.864425</td>\n",
       "      <td>F</td>\n",
       "    </tr>\n",
       "    <tr>\n",
       "      <th>22</th>\n",
       "      <td>2.131836</td>\n",
       "      <td>8.028548</td>\n",
       "      <td>F</td>\n",
       "    </tr>\n",
       "    <tr>\n",
       "      <th>23</th>\n",
       "      <td>2.628908</td>\n",
       "      <td>9.971943</td>\n",
       "      <td>F</td>\n",
       "    </tr>\n",
       "    <tr>\n",
       "      <th>24</th>\n",
       "      <td>2.023430</td>\n",
       "      <td>9.626731</td>\n",
       "      <td>F</td>\n",
       "    </tr>\n",
       "    <tr>\n",
       "      <th>25</th>\n",
       "      <td>2.088295</td>\n",
       "      <td>8.791097</td>\n",
       "      <td>F</td>\n",
       "    </tr>\n",
       "    <tr>\n",
       "      <th>26</th>\n",
       "      <td>2.694440</td>\n",
       "      <td>10.250163</td>\n",
       "      <td>F</td>\n",
       "    </tr>\n",
       "    <tr>\n",
       "      <th>27</th>\n",
       "      <td>2.404156</td>\n",
       "      <td>8.456399</td>\n",
       "      <td>F</td>\n",
       "    </tr>\n",
       "    <tr>\n",
       "      <th>28</th>\n",
       "      <td>2.463627</td>\n",
       "      <td>7.892671</td>\n",
       "      <td>F</td>\n",
       "    </tr>\n",
       "    <tr>\n",
       "      <th>29</th>\n",
       "      <td>2.079710</td>\n",
       "      <td>7.469269</td>\n",
       "      <td>F</td>\n",
       "    </tr>\n",
       "    <tr>\n",
       "      <th>30</th>\n",
       "      <td>2.565677</td>\n",
       "      <td>8.667321</td>\n",
       "      <td>F</td>\n",
       "    </tr>\n",
       "    <tr>\n",
       "      <th>31</th>\n",
       "      <td>1.943431</td>\n",
       "      <td>7.032187</td>\n",
       "      <td>F</td>\n",
       "    </tr>\n",
       "    <tr>\n",
       "      <th>32</th>\n",
       "      <td>2.173199</td>\n",
       "      <td>6.562773</td>\n",
       "      <td>F</td>\n",
       "    </tr>\n",
       "    <tr>\n",
       "      <th>33</th>\n",
       "      <td>2.054878</td>\n",
       "      <td>9.460725</td>\n",
       "      <td>F</td>\n",
       "    </tr>\n",
       "    <tr>\n",
       "      <th>34</th>\n",
       "      <td>2.303422</td>\n",
       "      <td>7.083379</td>\n",
       "      <td>F</td>\n",
       "    </tr>\n",
       "    <tr>\n",
       "      <th>35</th>\n",
       "      <td>2.214615</td>\n",
       "      <td>11.033753</td>\n",
       "      <td>F</td>\n",
       "    </tr>\n",
       "    <tr>\n",
       "      <th>36</th>\n",
       "      <td>2.263482</td>\n",
       "      <td>6.777734</td>\n",
       "      <td>F</td>\n",
       "    </tr>\n",
       "    <tr>\n",
       "      <th>37</th>\n",
       "      <td>2.691380</td>\n",
       "      <td>9.439921</td>\n",
       "      <td>F</td>\n",
       "    </tr>\n",
       "    <tr>\n",
       "      <th>38</th>\n",
       "      <td>2.527845</td>\n",
       "      <td>10.841067</td>\n",
       "      <td>F</td>\n",
       "    </tr>\n",
       "    <tr>\n",
       "      <th>39</th>\n",
       "      <td>2.523401</td>\n",
       "      <td>10.513174</td>\n",
       "      <td>F</td>\n",
       "    </tr>\n",
       "    <tr>\n",
       "      <th>40</th>\n",
       "      <td>2.191087</td>\n",
       "      <td>8.573795</td>\n",
       "      <td>F</td>\n",
       "    </tr>\n",
       "    <tr>\n",
       "      <th>41</th>\n",
       "      <td>2.773081</td>\n",
       "      <td>9.501069</td>\n",
       "      <td>F</td>\n",
       "    </tr>\n",
       "    <tr>\n",
       "      <th>42</th>\n",
       "      <td>2.163648</td>\n",
       "      <td>6.721889</td>\n",
       "      <td>F</td>\n",
       "    </tr>\n",
       "    <tr>\n",
       "      <th>43</th>\n",
       "      <td>2.490462</td>\n",
       "      <td>9.809726</td>\n",
       "      <td>F</td>\n",
       "    </tr>\n",
       "    <tr>\n",
       "      <th>44</th>\n",
       "      <td>2.724580</td>\n",
       "      <td>10.712539</td>\n",
       "      <td>F</td>\n",
       "    </tr>\n",
       "    <tr>\n",
       "      <th>45</th>\n",
       "      <td>2.274363</td>\n",
       "      <td>9.025656</td>\n",
       "      <td>F</td>\n",
       "    </tr>\n",
       "    <tr>\n",
       "      <th>46</th>\n",
       "      <td>1.982939</td>\n",
       "      <td>7.612349</td>\n",
       "      <td>F</td>\n",
       "    </tr>\n",
       "  </tbody>\n",
       "</table>\n",
       "</div>"
      ],
      "text/plain": [
       "         Bwt        Hwt Sex\n",
       "0   2.522447   8.297698   F\n",
       "1   2.492555  10.402778   F\n",
       "2   2.475531   8.502075   F\n",
       "3   2.181832   9.183459   F\n",
       "4   2.222886   9.146523   F\n",
       "5   2.294218   8.768476   F\n",
       "6   2.299740   8.734757   F\n",
       "7   2.334002   9.809693   F\n",
       "8   2.344861  10.873049   F\n",
       "9   2.300776  11.950115   F\n",
       "10  2.867885  11.514887   F\n",
       "11  2.287582  10.198268   F\n",
       "12  2.569319   9.775426   F\n",
       "13  2.276161   8.757309   F\n",
       "14  2.421244   9.215434   F\n",
       "15  2.132288   7.416322   F\n",
       "16  2.608859   9.421601   F\n",
       "17  2.329810   7.886877   F\n",
       "18  2.499683   7.214374   F\n",
       "19  1.752350   5.908395   F\n",
       "20  2.538656   7.799016   F\n",
       "21  2.591195   9.864425   F\n",
       "22  2.131836   8.028548   F\n",
       "23  2.628908   9.971943   F\n",
       "24  2.023430   9.626731   F\n",
       "25  2.088295   8.791097   F\n",
       "26  2.694440  10.250163   F\n",
       "27  2.404156   8.456399   F\n",
       "28  2.463627   7.892671   F\n",
       "29  2.079710   7.469269   F\n",
       "30  2.565677   8.667321   F\n",
       "31  1.943431   7.032187   F\n",
       "32  2.173199   6.562773   F\n",
       "33  2.054878   9.460725   F\n",
       "34  2.303422   7.083379   F\n",
       "35  2.214615  11.033753   F\n",
       "36  2.263482   6.777734   F\n",
       "37  2.691380   9.439921   F\n",
       "38  2.527845  10.841067   F\n",
       "39  2.523401  10.513174   F\n",
       "40  2.191087   8.573795   F\n",
       "41  2.773081   9.501069   F\n",
       "42  2.163648   6.721889   F\n",
       "43  2.490462   9.809726   F\n",
       "44  2.724580  10.712539   F\n",
       "45  2.274363   9.025656   F\n",
       "46  1.982939   7.612349   F"
      ]
     },
     "execution_count": 41,
     "metadata": {},
     "output_type": "execute_result"
    }
   ],
   "source": [
    "# View dataframe\n",
    "df_female_cats_mvn"
   ]
  },
  {
   "cell_type": "code",
   "execution_count": 42,
   "id": "e7509404-c675-4e98-b8a1-7e20e4a37a24",
   "metadata": {},
   "outputs": [
    {
     "data": {
      "text/html": [
       "<div>\n",
       "<style scoped>\n",
       "    .dataframe tbody tr th:only-of-type {\n",
       "        vertical-align: middle;\n",
       "    }\n",
       "\n",
       "    .dataframe tbody tr th {\n",
       "        vertical-align: top;\n",
       "    }\n",
       "\n",
       "    .dataframe thead th {\n",
       "        text-align: right;\n",
       "    }\n",
       "</style>\n",
       "<table border=\"1\" class=\"dataframe\">\n",
       "  <thead>\n",
       "    <tr style=\"text-align: right;\">\n",
       "      <th></th>\n",
       "      <th>Bwt</th>\n",
       "      <th>Hwt</th>\n",
       "    </tr>\n",
       "  </thead>\n",
       "  <tbody>\n",
       "    <tr>\n",
       "      <th>Bwt</th>\n",
       "      <td>0.218542</td>\n",
       "      <td>0.94250</td>\n",
       "    </tr>\n",
       "    <tr>\n",
       "      <th>Hwt</th>\n",
       "      <td>0.942500</td>\n",
       "      <td>6.46323</td>\n",
       "    </tr>\n",
       "  </tbody>\n",
       "</table>\n",
       "</div>"
      ],
      "text/plain": [
       "          Bwt      Hwt\n",
       "Bwt  0.218542  0.94250\n",
       "Hwt  0.942500  6.46323"
      ]
     },
     "execution_count": 42,
     "metadata": {},
     "output_type": "execute_result"
    }
   ],
   "source": [
    "# Generate random data for male cats\n",
    "# Get covariance matrix for male cats\n",
    "df_cats_male.cov()"
   ]
  },
  {
   "cell_type": "code",
   "execution_count": 43,
   "id": "00581985-fe33-4001-aa70-7a3825693029",
   "metadata": {},
   "outputs": [],
   "source": [
    "# Generate multivariate random data based on the original male df mean and covariance\n",
    "mean_m = [2.900000, 11.322680]\n",
    "cov_m = [[0.21854167, 0.9425], [0.9425, 6.46323024]]\n",
    "size_m = 97 # Match the number of males from original dataset\n",
    "\n",
    "male_cats_mvn = rng.multivariate_normal(mean_m, cov_m, size_m)"
   ]
  },
  {
   "cell_type": "code",
   "execution_count": 44,
   "id": "319fce3b-9978-4197-8e69-fa78eebf7187",
   "metadata": {},
   "outputs": [],
   "source": [
    "# Convert random array to pandas df\n",
    "df_male_cats_mvn = pd.DataFrame(male_cats_mvn, columns = ['Bwt', 'Hwt'])"
   ]
  },
  {
   "cell_type": "code",
   "execution_count": 45,
   "id": "7ccf52c7-89bc-4c3c-9c35-8784587468e2",
   "metadata": {},
   "outputs": [
    {
     "data": {
      "text/html": [
       "<div>\n",
       "<style scoped>\n",
       "    .dataframe tbody tr th:only-of-type {\n",
       "        vertical-align: middle;\n",
       "    }\n",
       "\n",
       "    .dataframe tbody tr th {\n",
       "        vertical-align: top;\n",
       "    }\n",
       "\n",
       "    .dataframe thead th {\n",
       "        text-align: right;\n",
       "    }\n",
       "</style>\n",
       "<table border=\"1\" class=\"dataframe\">\n",
       "  <thead>\n",
       "    <tr style=\"text-align: right;\">\n",
       "      <th></th>\n",
       "      <th>Bwt</th>\n",
       "      <th>Hwt</th>\n",
       "    </tr>\n",
       "  </thead>\n",
       "  <tbody>\n",
       "    <tr>\n",
       "      <th>count</th>\n",
       "      <td>97.000000</td>\n",
       "      <td>97.000000</td>\n",
       "    </tr>\n",
       "    <tr>\n",
       "      <th>mean</th>\n",
       "      <td>2.886138</td>\n",
       "      <td>11.232388</td>\n",
       "    </tr>\n",
       "    <tr>\n",
       "      <th>std</th>\n",
       "      <td>0.499029</td>\n",
       "      <td>2.752377</td>\n",
       "    </tr>\n",
       "    <tr>\n",
       "      <th>min</th>\n",
       "      <td>1.954291</td>\n",
       "      <td>4.725192</td>\n",
       "    </tr>\n",
       "    <tr>\n",
       "      <th>25%</th>\n",
       "      <td>2.490628</td>\n",
       "      <td>9.163956</td>\n",
       "    </tr>\n",
       "    <tr>\n",
       "      <th>50%</th>\n",
       "      <td>2.877611</td>\n",
       "      <td>11.037862</td>\n",
       "    </tr>\n",
       "    <tr>\n",
       "      <th>75%</th>\n",
       "      <td>3.203926</td>\n",
       "      <td>13.145520</td>\n",
       "    </tr>\n",
       "    <tr>\n",
       "      <th>max</th>\n",
       "      <td>4.308814</td>\n",
       "      <td>18.346890</td>\n",
       "    </tr>\n",
       "  </tbody>\n",
       "</table>\n",
       "</div>"
      ],
      "text/plain": [
       "             Bwt        Hwt\n",
       "count  97.000000  97.000000\n",
       "mean    2.886138  11.232388\n",
       "std     0.499029   2.752377\n",
       "min     1.954291   4.725192\n",
       "25%     2.490628   9.163956\n",
       "50%     2.877611  11.037862\n",
       "75%     3.203926  13.145520\n",
       "max     4.308814  18.346890"
      ]
     },
     "execution_count": 45,
     "metadata": {},
     "output_type": "execute_result"
    }
   ],
   "source": [
    "df_male_cats_mvn.describe()"
   ]
  },
  {
   "cell_type": "code",
   "execution_count": 46,
   "id": "8c749a2f-039a-4ade-ba97-a18675b49440",
   "metadata": {},
   "outputs": [],
   "source": [
    "# Add a column with sex of female\n",
    "df_male_cats_mvn['Sex'] = 'M'"
   ]
  },
  {
   "cell_type": "code",
   "execution_count": 47,
   "id": "c63cb854-8918-4efc-a2dc-d7a3bb165269",
   "metadata": {},
   "outputs": [
    {
     "data": {
      "text/html": [
       "<div>\n",
       "<style scoped>\n",
       "    .dataframe tbody tr th:only-of-type {\n",
       "        vertical-align: middle;\n",
       "    }\n",
       "\n",
       "    .dataframe tbody tr th {\n",
       "        vertical-align: top;\n",
       "    }\n",
       "\n",
       "    .dataframe thead th {\n",
       "        text-align: right;\n",
       "    }\n",
       "</style>\n",
       "<table border=\"1\" class=\"dataframe\">\n",
       "  <thead>\n",
       "    <tr style=\"text-align: right;\">\n",
       "      <th></th>\n",
       "      <th>Bwt</th>\n",
       "      <th>Hwt</th>\n",
       "      <th>Sex</th>\n",
       "    </tr>\n",
       "  </thead>\n",
       "  <tbody>\n",
       "    <tr>\n",
       "      <th>0</th>\n",
       "      <td>2.498770</td>\n",
       "      <td>8.974813</td>\n",
       "      <td>M</td>\n",
       "    </tr>\n",
       "    <tr>\n",
       "      <th>1</th>\n",
       "      <td>2.772193</td>\n",
       "      <td>12.212678</td>\n",
       "      <td>M</td>\n",
       "    </tr>\n",
       "    <tr>\n",
       "      <th>2</th>\n",
       "      <td>2.519866</td>\n",
       "      <td>9.472758</td>\n",
       "      <td>M</td>\n",
       "    </tr>\n",
       "    <tr>\n",
       "      <th>3</th>\n",
       "      <td>2.294579</td>\n",
       "      <td>9.163956</td>\n",
       "      <td>M</td>\n",
       "    </tr>\n",
       "    <tr>\n",
       "      <th>4</th>\n",
       "      <td>2.429634</td>\n",
       "      <td>8.741393</td>\n",
       "      <td>M</td>\n",
       "    </tr>\n",
       "    <tr>\n",
       "      <th>...</th>\n",
       "      <td>...</td>\n",
       "      <td>...</td>\n",
       "      <td>...</td>\n",
       "    </tr>\n",
       "    <tr>\n",
       "      <th>92</th>\n",
       "      <td>3.008427</td>\n",
       "      <td>10.004401</td>\n",
       "      <td>M</td>\n",
       "    </tr>\n",
       "    <tr>\n",
       "      <th>93</th>\n",
       "      <td>2.740933</td>\n",
       "      <td>12.272868</td>\n",
       "      <td>M</td>\n",
       "    </tr>\n",
       "    <tr>\n",
       "      <th>94</th>\n",
       "      <td>3.148222</td>\n",
       "      <td>10.524619</td>\n",
       "      <td>M</td>\n",
       "    </tr>\n",
       "    <tr>\n",
       "      <th>95</th>\n",
       "      <td>3.546292</td>\n",
       "      <td>14.367670</td>\n",
       "      <td>M</td>\n",
       "    </tr>\n",
       "    <tr>\n",
       "      <th>96</th>\n",
       "      <td>2.110525</td>\n",
       "      <td>8.032569</td>\n",
       "      <td>M</td>\n",
       "    </tr>\n",
       "  </tbody>\n",
       "</table>\n",
       "<p>97 rows × 3 columns</p>\n",
       "</div>"
      ],
      "text/plain": [
       "         Bwt        Hwt Sex\n",
       "0   2.498770   8.974813   M\n",
       "1   2.772193  12.212678   M\n",
       "2   2.519866   9.472758   M\n",
       "3   2.294579   9.163956   M\n",
       "4   2.429634   8.741393   M\n",
       "..       ...        ...  ..\n",
       "92  3.008427  10.004401   M\n",
       "93  2.740933  12.272868   M\n",
       "94  3.148222  10.524619   M\n",
       "95  3.546292  14.367670   M\n",
       "96  2.110525   8.032569   M\n",
       "\n",
       "[97 rows x 3 columns]"
      ]
     },
     "execution_count": 47,
     "metadata": {},
     "output_type": "execute_result"
    }
   ],
   "source": [
    "# View dataframe\n",
    "df_male_cats_mvn"
   ]
  },
  {
   "cell_type": "code",
   "execution_count": 48,
   "id": "0c03e5a6-9cb2-4345-83ed-cc164305d588",
   "metadata": {},
   "outputs": [],
   "source": [
    "# ConCAT male and female dfs\n",
    "all_cats_mvn = pd.concat([df_female_cats_mvn, df_male_cats_mvn])"
   ]
  },
  {
   "cell_type": "code",
   "execution_count": 49,
   "id": "6d89ddbe-5f38-41d5-9e2e-898d4a90dff2",
   "metadata": {},
   "outputs": [],
   "source": [
    "# Round the values of the random df to one decimal place as with the original dataset\n",
    "all_cats_mvn = all_cats_mvn.round(1)"
   ]
  },
  {
   "cell_type": "code",
   "execution_count": 50,
   "id": "4ee06c82-e65c-4a32-b85f-9dc4c6433cea",
   "metadata": {},
   "outputs": [
    {
     "data": {
      "text/html": [
       "<div>\n",
       "<style scoped>\n",
       "    .dataframe tbody tr th:only-of-type {\n",
       "        vertical-align: middle;\n",
       "    }\n",
       "\n",
       "    .dataframe tbody tr th {\n",
       "        vertical-align: top;\n",
       "    }\n",
       "\n",
       "    .dataframe thead th {\n",
       "        text-align: right;\n",
       "    }\n",
       "</style>\n",
       "<table border=\"1\" class=\"dataframe\">\n",
       "  <thead>\n",
       "    <tr style=\"text-align: right;\">\n",
       "      <th></th>\n",
       "      <th>Sex</th>\n",
       "      <th>Bwt</th>\n",
       "      <th>Hwt</th>\n",
       "    </tr>\n",
       "  </thead>\n",
       "  <tbody>\n",
       "    <tr>\n",
       "      <th>0</th>\n",
       "      <td>F</td>\n",
       "      <td>2.5</td>\n",
       "      <td>8.3</td>\n",
       "    </tr>\n",
       "    <tr>\n",
       "      <th>1</th>\n",
       "      <td>F</td>\n",
       "      <td>2.5</td>\n",
       "      <td>10.4</td>\n",
       "    </tr>\n",
       "    <tr>\n",
       "      <th>2</th>\n",
       "      <td>F</td>\n",
       "      <td>2.5</td>\n",
       "      <td>8.5</td>\n",
       "    </tr>\n",
       "    <tr>\n",
       "      <th>3</th>\n",
       "      <td>F</td>\n",
       "      <td>2.2</td>\n",
       "      <td>9.2</td>\n",
       "    </tr>\n",
       "    <tr>\n",
       "      <th>4</th>\n",
       "      <td>F</td>\n",
       "      <td>2.2</td>\n",
       "      <td>9.1</td>\n",
       "    </tr>\n",
       "    <tr>\n",
       "      <th>...</th>\n",
       "      <td>...</td>\n",
       "      <td>...</td>\n",
       "      <td>...</td>\n",
       "    </tr>\n",
       "    <tr>\n",
       "      <th>92</th>\n",
       "      <td>M</td>\n",
       "      <td>3.0</td>\n",
       "      <td>10.0</td>\n",
       "    </tr>\n",
       "    <tr>\n",
       "      <th>93</th>\n",
       "      <td>M</td>\n",
       "      <td>2.7</td>\n",
       "      <td>12.3</td>\n",
       "    </tr>\n",
       "    <tr>\n",
       "      <th>94</th>\n",
       "      <td>M</td>\n",
       "      <td>3.1</td>\n",
       "      <td>10.5</td>\n",
       "    </tr>\n",
       "    <tr>\n",
       "      <th>95</th>\n",
       "      <td>M</td>\n",
       "      <td>3.5</td>\n",
       "      <td>14.4</td>\n",
       "    </tr>\n",
       "    <tr>\n",
       "      <th>96</th>\n",
       "      <td>M</td>\n",
       "      <td>2.1</td>\n",
       "      <td>8.0</td>\n",
       "    </tr>\n",
       "  </tbody>\n",
       "</table>\n",
       "<p>144 rows × 3 columns</p>\n",
       "</div>"
      ],
      "text/plain": [
       "   Sex  Bwt   Hwt\n",
       "0    F  2.5   8.3\n",
       "1    F  2.5  10.4\n",
       "2    F  2.5   8.5\n",
       "3    F  2.2   9.2\n",
       "4    F  2.2   9.1\n",
       "..  ..  ...   ...\n",
       "92   M  3.0  10.0\n",
       "93   M  2.7  12.3\n",
       "94   M  3.1  10.5\n",
       "95   M  3.5  14.4\n",
       "96   M  2.1   8.0\n",
       "\n",
       "[144 rows x 3 columns]"
      ]
     },
     "execution_count": 50,
     "metadata": {},
     "output_type": "execute_result"
    }
   ],
   "source": [
    "# Move Sex column to the front as with original dataset\n",
    "# # https://stackoverflow.com/questions/25122099/move-column-by-name-to-front-of-table-in-pandas\n",
    "sex = all_cats_mvn['Sex']\n",
    "all_cats_mvn.drop(labels=['Sex'], axis=1,inplace = True)\n",
    "all_cats_mvn.insert(0, 'Sex', sex)\n",
    "all_cats_mvn"
   ]
  },
  {
   "cell_type": "code",
   "execution_count": 51,
   "id": "ad96ef8b-dfa0-449f-9369-21973cfa43f3",
   "metadata": {},
   "outputs": [
    {
     "data": {
      "text/html": [
       "<div>\n",
       "<style scoped>\n",
       "    .dataframe tbody tr th:only-of-type {\n",
       "        vertical-align: middle;\n",
       "    }\n",
       "\n",
       "    .dataframe tbody tr th {\n",
       "        vertical-align: top;\n",
       "    }\n",
       "\n",
       "    .dataframe thead th {\n",
       "        text-align: right;\n",
       "    }\n",
       "</style>\n",
       "<table border=\"1\" class=\"dataframe\">\n",
       "  <thead>\n",
       "    <tr style=\"text-align: right;\">\n",
       "      <th></th>\n",
       "      <th>Bwt</th>\n",
       "      <th>Hwt</th>\n",
       "    </tr>\n",
       "  </thead>\n",
       "  <tbody>\n",
       "    <tr>\n",
       "      <th>count</th>\n",
       "      <td>144.000000</td>\n",
       "      <td>144.000000</td>\n",
       "    </tr>\n",
       "    <tr>\n",
       "      <th>mean</th>\n",
       "      <td>2.709028</td>\n",
       "      <td>10.487500</td>\n",
       "    </tr>\n",
       "    <tr>\n",
       "      <th>std</th>\n",
       "      <td>0.495421</td>\n",
       "      <td>2.620998</td>\n",
       "    </tr>\n",
       "    <tr>\n",
       "      <th>min</th>\n",
       "      <td>1.800000</td>\n",
       "      <td>4.700000</td>\n",
       "    </tr>\n",
       "    <tr>\n",
       "      <th>25%</th>\n",
       "      <td>2.300000</td>\n",
       "      <td>8.700000</td>\n",
       "    </tr>\n",
       "    <tr>\n",
       "      <th>50%</th>\n",
       "      <td>2.600000</td>\n",
       "      <td>10.300000</td>\n",
       "    </tr>\n",
       "    <tr>\n",
       "      <th>75%</th>\n",
       "      <td>3.100000</td>\n",
       "      <td>12.100000</td>\n",
       "    </tr>\n",
       "    <tr>\n",
       "      <th>max</th>\n",
       "      <td>4.300000</td>\n",
       "      <td>18.300000</td>\n",
       "    </tr>\n",
       "  </tbody>\n",
       "</table>\n",
       "</div>"
      ],
      "text/plain": [
       "              Bwt         Hwt\n",
       "count  144.000000  144.000000\n",
       "mean     2.709028   10.487500\n",
       "std      0.495421    2.620998\n",
       "min      1.800000    4.700000\n",
       "25%      2.300000    8.700000\n",
       "50%      2.600000   10.300000\n",
       "75%      3.100000   12.100000\n",
       "max      4.300000   18.300000"
      ]
     },
     "execution_count": 51,
     "metadata": {},
     "output_type": "execute_result"
    }
   ],
   "source": [
    "all_cats_mvn.describe()"
   ]
  },
  {
   "cell_type": "code",
   "execution_count": 52,
   "id": "f89821db-f6d3-42c0-90dd-fdf3b09e7475",
   "metadata": {},
   "outputs": [
    {
     "data": {
      "text/plain": [
       "<AxesSubplot:xlabel='Bwt', ylabel='Hwt'>"
      ]
     },
     "execution_count": 52,
     "metadata": {},
     "output_type": "execute_result"
    },
    {
     "data": {
      "image/png": "[encoded data removed]",
      "text/plain": [
       "<Figure size 432x288 with 1 Axes>"
      ]
     },
     "metadata": {
      "needs_background": "light"
     },
     "output_type": "display_data"
    }
   ],
   "source": [
    "# scatterplot of original bwt and hwt\n",
    "sns.scatterplot(data = all_cats_mvn, x = 'Bwt', y= 'Hwt', hue = 'Sex')"
   ]
  },
  {
   "cell_type": "code",
   "execution_count": 53,
   "id": "6b8f1e6e-fb9c-45ed-8ca3-88258c84f446",
   "metadata": {},
   "outputs": [
    {
     "data": {
      "text/html": [
       "<div>\n",
       "<style scoped>\n",
       "    .dataframe tbody tr th:only-of-type {\n",
       "        vertical-align: middle;\n",
       "    }\n",
       "\n",
       "    .dataframe tbody tr th {\n",
       "        vertical-align: top;\n",
       "    }\n",
       "\n",
       "    .dataframe thead th {\n",
       "        text-align: right;\n",
       "    }\n",
       "</style>\n",
       "<table border=\"1\" class=\"dataframe\">\n",
       "  <thead>\n",
       "    <tr style=\"text-align: right;\">\n",
       "      <th></th>\n",
       "      <th>Bwt</th>\n",
       "      <th>Hwt</th>\n",
       "    </tr>\n",
       "  </thead>\n",
       "  <tbody>\n",
       "    <tr>\n",
       "      <th>Bwt</th>\n",
       "      <td>1.000000</td>\n",
       "      <td>0.827563</td>\n",
       "    </tr>\n",
       "    <tr>\n",
       "      <th>Hwt</th>\n",
       "      <td>0.827563</td>\n",
       "      <td>1.000000</td>\n",
       "    </tr>\n",
       "  </tbody>\n",
       "</table>\n",
       "</div>"
      ],
      "text/plain": [
       "          Bwt       Hwt\n",
       "Bwt  1.000000  0.827563\n",
       "Hwt  0.827563  1.000000"
      ]
     },
     "execution_count": 53,
     "metadata": {},
     "output_type": "execute_result"
    }
   ],
   "source": [
    "all_cats_mvn.corr()"
   ]
  },
  {
   "cell_type": "code",
   "execution_count": 54,
   "id": "1d572e8d-6d84-43c5-9303-d78352ba7ffb",
   "metadata": {},
   "outputs": [
    {
     "data": {
      "text/plain": [
       "<AxesSubplot:xlabel='Bwt', ylabel='Count'>"
      ]
     },
     "execution_count": 54,
     "metadata": {},
     "output_type": "execute_result"
    },
    {
     "data": {
      "image/png": "[encoded data removed]",
      "text/plain": [
       "<Figure size 432x288 with 1 Axes>"
      ]
     },
     "metadata": {
      "needs_background": "light"
     },
     "output_type": "display_data"
    }
   ],
   "source": [
    "# Plotting the random bodyweight by sex\n",
    "sns.histplot(data = all_cats_mvn, x = 'Bwt', hue = 'Sex', multiple=\"dodge\", kde=True)"
   ]
  },
  {
   "cell_type": "code",
   "execution_count": 55,
   "id": "b6537b95-7887-475c-97b4-c67ef572abbe",
   "metadata": {},
   "outputs": [
    {
     "data": {
      "text/plain": [
       "<AxesSubplot:xlabel='Hwt', ylabel='Count'>"
      ]
     },
     "execution_count": 55,
     "metadata": {},
     "output_type": "execute_result"
    },
    {
     "data": {
      "image/png": "[encoded data removed]",
      "text/plain": [
       "<Figure size 432x288 with 1 Axes>"
      ]
     },
     "metadata": {
      "needs_background": "light"
     },
     "output_type": "display_data"
    }
   ],
   "source": [
    "# Plotting the random heart weight by sex\n",
    "sns.histplot(data = all_cats_mvn, x = 'Hwt', hue = 'Sex', multiple=\"dodge\", kde=True)"
   ]
  },
  {
   "cell_type": "markdown",
   "id": "a6133b6d-56dc-44dc-88d4-fcb5d54f6f91",
   "metadata": {},
   "source": [
    "Let's remind ourselves of the descriptive statistics, scatterplot, and correlation of the original dataset for comparison."
   ]
  },
  {
   "cell_type": "code",
   "execution_count": 56,
   "id": "4bfb6267-b601-4a71-9156-c91887c79451",
   "metadata": {},
   "outputs": [
    {
     "data": {
      "text/html": [
       "<div>\n",
       "<style scoped>\n",
       "    .dataframe tbody tr th:only-of-type {\n",
       "        vertical-align: middle;\n",
       "    }\n",
       "\n",
       "    .dataframe tbody tr th {\n",
       "        vertical-align: top;\n",
       "    }\n",
       "\n",
       "    .dataframe thead th {\n",
       "        text-align: right;\n",
       "    }\n",
       "</style>\n",
       "<table border=\"1\" class=\"dataframe\">\n",
       "  <thead>\n",
       "    <tr style=\"text-align: right;\">\n",
       "      <th></th>\n",
       "      <th>Bwt</th>\n",
       "      <th>Hwt</th>\n",
       "    </tr>\n",
       "  </thead>\n",
       "  <tbody>\n",
       "    <tr>\n",
       "      <th>count</th>\n",
       "      <td>144.000000</td>\n",
       "      <td>144.000000</td>\n",
       "    </tr>\n",
       "    <tr>\n",
       "      <th>mean</th>\n",
       "      <td>2.723611</td>\n",
       "      <td>10.630556</td>\n",
       "    </tr>\n",
       "    <tr>\n",
       "      <th>std</th>\n",
       "      <td>0.485307</td>\n",
       "      <td>2.434636</td>\n",
       "    </tr>\n",
       "    <tr>\n",
       "      <th>min</th>\n",
       "      <td>2.000000</td>\n",
       "      <td>6.300000</td>\n",
       "    </tr>\n",
       "    <tr>\n",
       "      <th>25%</th>\n",
       "      <td>2.300000</td>\n",
       "      <td>8.950000</td>\n",
       "    </tr>\n",
       "    <tr>\n",
       "      <th>50%</th>\n",
       "      <td>2.700000</td>\n",
       "      <td>10.100000</td>\n",
       "    </tr>\n",
       "    <tr>\n",
       "      <th>75%</th>\n",
       "      <td>3.025000</td>\n",
       "      <td>12.125000</td>\n",
       "    </tr>\n",
       "    <tr>\n",
       "      <th>max</th>\n",
       "      <td>3.900000</td>\n",
       "      <td>20.500000</td>\n",
       "    </tr>\n",
       "  </tbody>\n",
       "</table>\n",
       "</div>"
      ],
      "text/plain": [
       "              Bwt         Hwt\n",
       "count  144.000000  144.000000\n",
       "mean     2.723611   10.630556\n",
       "std      0.485307    2.434636\n",
       "min      2.000000    6.300000\n",
       "25%      2.300000    8.950000\n",
       "50%      2.700000   10.100000\n",
       "75%      3.025000   12.125000\n",
       "max      3.900000   20.500000"
      ]
     },
     "execution_count": 56,
     "metadata": {},
     "output_type": "execute_result"
    }
   ],
   "source": [
    "df_cats.describe()"
   ]
  },
  {
   "cell_type": "code",
   "execution_count": 57,
   "id": "f22cafb8-3b8f-4b3e-8f9f-bd2dc5c63a22",
   "metadata": {},
   "outputs": [
    {
     "data": {
      "text/plain": [
       "<AxesSubplot:xlabel='Bwt', ylabel='Hwt'>"
      ]
     },
     "execution_count": 57,
     "metadata": {},
     "output_type": "execute_result"
    },
    {
     "data": {
      "image/png": "[encoded data removed]",
      "text/plain": [
       "<Figure size 432x288 with 1 Axes>"
      ]
     },
     "metadata": {
      "needs_background": "light"
     },
     "output_type": "display_data"
    }
   ],
   "source": [
    "# scatterplot of original bwt and hwt\n",
    "sns.scatterplot(data = df_cats, x = 'Bwt', y= 'Hwt', hue='Sex')"
   ]
  },
  {
   "cell_type": "code",
   "execution_count": 58,
   "id": "09e08c38-4140-4a93-ad17-0d1444340fd5",
   "metadata": {},
   "outputs": [
    {
     "data": {
      "text/html": [
       "<div>\n",
       "<style scoped>\n",
       "    .dataframe tbody tr th:only-of-type {\n",
       "        vertical-align: middle;\n",
       "    }\n",
       "\n",
       "    .dataframe tbody tr th {\n",
       "        vertical-align: top;\n",
       "    }\n",
       "\n",
       "    .dataframe thead th {\n",
       "        text-align: right;\n",
       "    }\n",
       "</style>\n",
       "<table border=\"1\" class=\"dataframe\">\n",
       "  <thead>\n",
       "    <tr style=\"text-align: right;\">\n",
       "      <th></th>\n",
       "      <th>Bwt</th>\n",
       "      <th>Hwt</th>\n",
       "    </tr>\n",
       "  </thead>\n",
       "  <tbody>\n",
       "    <tr>\n",
       "      <th>Bwt</th>\n",
       "      <td>1.000000</td>\n",
       "      <td>0.804127</td>\n",
       "    </tr>\n",
       "    <tr>\n",
       "      <th>Hwt</th>\n",
       "      <td>0.804127</td>\n",
       "      <td>1.000000</td>\n",
       "    </tr>\n",
       "  </tbody>\n",
       "</table>\n",
       "</div>"
      ],
      "text/plain": [
       "          Bwt       Hwt\n",
       "Bwt  1.000000  0.804127\n",
       "Hwt  0.804127  1.000000"
      ]
     },
     "execution_count": 58,
     "metadata": {},
     "output_type": "execute_result"
    }
   ],
   "source": [
    "df_cats.corr()"
   ]
  },
  {
   "cell_type": "code",
   "execution_count": 59,
   "id": "9ecf8f1f-4fdf-4c92-863c-2b711d09a9df",
   "metadata": {},
   "outputs": [
    {
     "data": {
      "text/plain": [
       "<AxesSubplot:xlabel='Bwt', ylabel='Count'>"
      ]
     },
     "execution_count": 59,
     "metadata": {},
     "output_type": "execute_result"
    },
    {
     "data": {
      "image/png": "[encoded data removed]",
      "text/plain": [
       "<Figure size 432x288 with 1 Axes>"
      ]
     },
     "metadata": {
      "needs_background": "light"
     },
     "output_type": "display_data"
    }
   ],
   "source": [
    "# Plotting the bodyweight by sex\n",
    "sns.histplot(data = df_cats, x = 'Bwt', hue = 'Sex', multiple=\"dodge\", kde=True)"
   ]
  },
  {
   "cell_type": "code",
   "execution_count": 60,
   "id": "45ccd3fd-e161-40e8-9408-577e4c47f1e8",
   "metadata": {},
   "outputs": [
    {
     "data": {
      "text/plain": [
       "<AxesSubplot:xlabel='Hwt', ylabel='Count'>"
      ]
     },
     "execution_count": 60,
     "metadata": {},
     "output_type": "execute_result"
    },
    {
     "data": {
      "image/png": "[encoded data removed]",
      "text/plain": [
       "<Figure size 432x288 with 1 Axes>"
      ]
     },
     "metadata": {
      "needs_background": "light"
     },
     "output_type": "display_data"
    }
   ],
   "source": [
    "# Plotting the heart weight by sex\n",
    "sns.histplot(data = df_cats, x = 'Hwt', hue = 'Sex', multiple=\"dodge\", kde=True)"
   ]
  },
  {
   "cell_type": "markdown",
   "id": "86778097-ea9a-498d-b31a-4519f3d21423",
   "metadata": {},
   "source": []
  },
  {
   "cell_type": "markdown",
   "id": "4e51e07a-098f-490d-b882-fce270d01112",
   "metadata": {},
   "source": [
    "The dataset now needs more variables to meet the criteria for the assignment. Two new columns will now be randomly generated for the dataset. The first will be a unique ID for each sample, and the second will be to give each cat a name. "
   ]
  },
  {
   "cell_type": "code",
   "execution_count": 61,
   "id": "12b2cfa7-5e89-4f7a-bb5c-e9f30cfec28b",
   "metadata": {},
   "outputs": [],
   "source": [
    "# Variables to be used in generating the correct id numbers\n",
    "count = all_cats_mvn['Bwt'].count()\n",
    "possible_id = np.arange(100000,1000000)"
   ]
  },
  {
   "cell_type": "code",
   "execution_count": 62,
   "id": "2817a118-9906-4b46-86dd-47232527ba3c",
   "metadata": {},
   "outputs": [],
   "source": [
    "# Generate random 6 digit IDs\n",
    "cat_id = rng.choice(possible_id, size=count, replace=False)"
   ]
  },
  {
   "cell_type": "code",
   "execution_count": 63,
   "id": "c3b06612-b627-4ac5-8c2e-69f18be9e401",
   "metadata": {},
   "outputs": [],
   "source": [
    "# Add ID to df and move ID to be first column\n",
    "all_cats_mvn['ID'] = cat_id\n",
    "all_cats_mvn.drop(labels=['ID'], axis=1,inplace = True)\n",
    "all_cats_mvn.insert(0, 'ID', cat_id)"
   ]
  },
  {
   "cell_type": "code",
   "execution_count": 64,
   "id": "afa8e31a-83b8-4edb-b6a2-4d994d448b6e",
   "metadata": {},
   "outputs": [
    {
     "data": {
      "text/html": [
       "<div>\n",
       "<style scoped>\n",
       "    .dataframe tbody tr th:only-of-type {\n",
       "        vertical-align: middle;\n",
       "    }\n",
       "\n",
       "    .dataframe tbody tr th {\n",
       "        vertical-align: top;\n",
       "    }\n",
       "\n",
       "    .dataframe thead th {\n",
       "        text-align: right;\n",
       "    }\n",
       "</style>\n",
       "<table border=\"1\" class=\"dataframe\">\n",
       "  <thead>\n",
       "    <tr style=\"text-align: right;\">\n",
       "      <th></th>\n",
       "      <th>ID</th>\n",
       "      <th>Sex</th>\n",
       "      <th>Bwt</th>\n",
       "      <th>Hwt</th>\n",
       "    </tr>\n",
       "  </thead>\n",
       "  <tbody>\n",
       "    <tr>\n",
       "      <th>0</th>\n",
       "      <td>480953</td>\n",
       "      <td>F</td>\n",
       "      <td>2.5</td>\n",
       "      <td>8.3</td>\n",
       "    </tr>\n",
       "    <tr>\n",
       "      <th>1</th>\n",
       "      <td>978443</td>\n",
       "      <td>F</td>\n",
       "      <td>2.5</td>\n",
       "      <td>10.4</td>\n",
       "    </tr>\n",
       "    <tr>\n",
       "      <th>2</th>\n",
       "      <td>413795</td>\n",
       "      <td>F</td>\n",
       "      <td>2.5</td>\n",
       "      <td>8.5</td>\n",
       "    </tr>\n",
       "    <tr>\n",
       "      <th>3</th>\n",
       "      <td>872538</td>\n",
       "      <td>F</td>\n",
       "      <td>2.2</td>\n",
       "      <td>9.2</td>\n",
       "    </tr>\n",
       "    <tr>\n",
       "      <th>4</th>\n",
       "      <td>912009</td>\n",
       "      <td>F</td>\n",
       "      <td>2.2</td>\n",
       "      <td>9.1</td>\n",
       "    </tr>\n",
       "    <tr>\n",
       "      <th>...</th>\n",
       "      <td>...</td>\n",
       "      <td>...</td>\n",
       "      <td>...</td>\n",
       "      <td>...</td>\n",
       "    </tr>\n",
       "    <tr>\n",
       "      <th>92</th>\n",
       "      <td>272876</td>\n",
       "      <td>M</td>\n",
       "      <td>3.0</td>\n",
       "      <td>10.0</td>\n",
       "    </tr>\n",
       "    <tr>\n",
       "      <th>93</th>\n",
       "      <td>163728</td>\n",
       "      <td>M</td>\n",
       "      <td>2.7</td>\n",
       "      <td>12.3</td>\n",
       "    </tr>\n",
       "    <tr>\n",
       "      <th>94</th>\n",
       "      <td>296723</td>\n",
       "      <td>M</td>\n",
       "      <td>3.1</td>\n",
       "      <td>10.5</td>\n",
       "    </tr>\n",
       "    <tr>\n",
       "      <th>95</th>\n",
       "      <td>479809</td>\n",
       "      <td>M</td>\n",
       "      <td>3.5</td>\n",
       "      <td>14.4</td>\n",
       "    </tr>\n",
       "    <tr>\n",
       "      <th>96</th>\n",
       "      <td>997652</td>\n",
       "      <td>M</td>\n",
       "      <td>2.1</td>\n",
       "      <td>8.0</td>\n",
       "    </tr>\n",
       "  </tbody>\n",
       "</table>\n",
       "<p>144 rows × 4 columns</p>\n",
       "</div>"
      ],
      "text/plain": [
       "        ID Sex  Bwt   Hwt\n",
       "0   480953   F  2.5   8.3\n",
       "1   978443   F  2.5  10.4\n",
       "2   413795   F  2.5   8.5\n",
       "3   872538   F  2.2   9.2\n",
       "4   912009   F  2.2   9.1\n",
       "..     ...  ..  ...   ...\n",
       "92  272876   M  3.0  10.0\n",
       "93  163728   M  2.7  12.3\n",
       "94  296723   M  3.1  10.5\n",
       "95  479809   M  3.5  14.4\n",
       "96  997652   M  2.1   8.0\n",
       "\n",
       "[144 rows x 4 columns]"
      ]
     },
     "execution_count": 64,
     "metadata": {},
     "output_type": "execute_result"
    }
   ],
   "source": [
    "all_cats_mvn"
   ]
  },
  {
   "cell_type": "markdown",
   "id": "f1e0545e-f828-425e-aad2-8bffa102fd64",
   "metadata": {},
   "source": [
    "A column of cat names will now be generated. A zip file containing a txt file with cat names was retreived from https://www.kessels.com/CatNames/. The file was manually edited to delete comma symbols which caused issues importing the file, and information in parentheses explaining the names were also deleted. Some offensive names were also manually removed, but some may have been missed and remain. This txt file will be used to generate random names for the cats in the random dataset."
   ]
  },
  {
   "cell_type": "code",
   "execution_count": 65,
   "id": "f1af2e6c-db8e-4c7e-b394-f27982b6b74b",
   "metadata": {},
   "outputs": [],
   "source": [
    "# Load cat names to pandas. Changed encoding as original recorded an error\n",
    "# \"'utf-8' codec can't decode byte 0xda\"\n",
    "# https://stackoverflow.com/questions/18171739/unicodedecodeerror-when-reading-csv-file-in-pandas-with-python\n",
    "cat_names = pd.read_csv('cats-dataset/CatNames.txt', names = ['Cat Names'],\n",
    "                        encoding = \"ISO-8859-1\")"
   ]
  },
  {
   "cell_type": "code",
   "execution_count": 66,
   "id": "02bd8bcb-1673-4c9a-9623-ae9db0697041",
   "metadata": {},
   "outputs": [],
   "source": [
    "# Retrieve random cat names from the dataframe \n",
    "random_cat_names = rng.choice(cat_names, size=count)"
   ]
  },
  {
   "cell_type": "code",
   "execution_count": 67,
   "id": "c8f4e29d-c214-4735-8384-593a469bd193",
   "metadata": {},
   "outputs": [],
   "source": [
    "# Add name column to dataframe\n",
    "all_cats_mvn['Name'] = random_cat_names"
   ]
  },
  {
   "cell_type": "code",
   "execution_count": 68,
   "id": "238062fb-aa1c-43d0-a9b2-54530450f77f",
   "metadata": {},
   "outputs": [
    {
     "data": {
      "text/html": [
       "<div>\n",
       "<style scoped>\n",
       "    .dataframe tbody tr th:only-of-type {\n",
       "        vertical-align: middle;\n",
       "    }\n",
       "\n",
       "    .dataframe tbody tr th {\n",
       "        vertical-align: top;\n",
       "    }\n",
       "\n",
       "    .dataframe thead th {\n",
       "        text-align: right;\n",
       "    }\n",
       "</style>\n",
       "<table border=\"1\" class=\"dataframe\">\n",
       "  <thead>\n",
       "    <tr style=\"text-align: right;\">\n",
       "      <th></th>\n",
       "      <th>ID</th>\n",
       "      <th>Sex</th>\n",
       "      <th>Bwt</th>\n",
       "      <th>Hwt</th>\n",
       "      <th>Name</th>\n",
       "    </tr>\n",
       "  </thead>\n",
       "  <tbody>\n",
       "    <tr>\n",
       "      <th>0</th>\n",
       "      <td>480953</td>\n",
       "      <td>F</td>\n",
       "      <td>2.5</td>\n",
       "      <td>8.3</td>\n",
       "      <td>Calli</td>\n",
       "    </tr>\n",
       "    <tr>\n",
       "      <th>1</th>\n",
       "      <td>978443</td>\n",
       "      <td>F</td>\n",
       "      <td>2.5</td>\n",
       "      <td>10.4</td>\n",
       "      <td>Yemma-Lee</td>\n",
       "    </tr>\n",
       "    <tr>\n",
       "      <th>2</th>\n",
       "      <td>413795</td>\n",
       "      <td>F</td>\n",
       "      <td>2.5</td>\n",
       "      <td>8.5</td>\n",
       "      <td>Pyewackett</td>\n",
       "    </tr>\n",
       "    <tr>\n",
       "      <th>3</th>\n",
       "      <td>872538</td>\n",
       "      <td>F</td>\n",
       "      <td>2.2</td>\n",
       "      <td>9.2</td>\n",
       "      <td>Okee</td>\n",
       "    </tr>\n",
       "    <tr>\n",
       "      <th>4</th>\n",
       "      <td>912009</td>\n",
       "      <td>F</td>\n",
       "      <td>2.2</td>\n",
       "      <td>9.1</td>\n",
       "      <td>Piper Belle</td>\n",
       "    </tr>\n",
       "    <tr>\n",
       "      <th>...</th>\n",
       "      <td>...</td>\n",
       "      <td>...</td>\n",
       "      <td>...</td>\n",
       "      <td>...</td>\n",
       "      <td>...</td>\n",
       "    </tr>\n",
       "    <tr>\n",
       "      <th>92</th>\n",
       "      <td>272876</td>\n",
       "      <td>M</td>\n",
       "      <td>3.0</td>\n",
       "      <td>10.0</td>\n",
       "      <td>Amadeus</td>\n",
       "    </tr>\n",
       "    <tr>\n",
       "      <th>93</th>\n",
       "      <td>163728</td>\n",
       "      <td>M</td>\n",
       "      <td>2.7</td>\n",
       "      <td>12.3</td>\n",
       "      <td>Mark I love you</td>\n",
       "    </tr>\n",
       "    <tr>\n",
       "      <th>94</th>\n",
       "      <td>296723</td>\n",
       "      <td>M</td>\n",
       "      <td>3.1</td>\n",
       "      <td>10.5</td>\n",
       "      <td>Hedy Lammarr</td>\n",
       "    </tr>\n",
       "    <tr>\n",
       "      <th>95</th>\n",
       "      <td>479809</td>\n",
       "      <td>M</td>\n",
       "      <td>3.5</td>\n",
       "      <td>14.4</td>\n",
       "      <td>Kid</td>\n",
       "    </tr>\n",
       "    <tr>\n",
       "      <th>96</th>\n",
       "      <td>997652</td>\n",
       "      <td>M</td>\n",
       "      <td>2.1</td>\n",
       "      <td>8.0</td>\n",
       "      <td>Fat Cat</td>\n",
       "    </tr>\n",
       "  </tbody>\n",
       "</table>\n",
       "<p>144 rows × 5 columns</p>\n",
       "</div>"
      ],
      "text/plain": [
       "        ID Sex  Bwt   Hwt             Name\n",
       "0   480953   F  2.5   8.3            Calli\n",
       "1   978443   F  2.5  10.4        Yemma-Lee\n",
       "2   413795   F  2.5   8.5       Pyewackett\n",
       "3   872538   F  2.2   9.2             Okee\n",
       "4   912009   F  2.2   9.1      Piper Belle\n",
       "..     ...  ..  ...   ...              ...\n",
       "92  272876   M  3.0  10.0          Amadeus\n",
       "93  163728   M  2.7  12.3  Mark I love you\n",
       "94  296723   M  3.1  10.5     Hedy Lammarr\n",
       "95  479809   M  3.5  14.4              Kid\n",
       "96  997652   M  2.1   8.0          Fat Cat\n",
       "\n",
       "[144 rows x 5 columns]"
      ]
     },
     "execution_count": 68,
     "metadata": {},
     "output_type": "execute_result"
    }
   ],
   "source": [
    "all_cats_mvn"
   ]
  },
  {
   "cell_type": "code",
   "execution_count": 69,
   "id": "6d2de79f-6eed-4844-933d-69e9e38930fc",
   "metadata": {},
   "outputs": [],
   "source": [
    "# A path to save the dataframe, using dt to create unique file names\n",
    "path = 'cats-dataset/cats-random-data/cats_random_'  + current_time + '.csv'\n",
    "\n",
    "# Save pandas data frame to disk.\n",
    "all_cats_mvn.to_csv(path)\n"
   ]
  },
  {
   "cell_type": "code",
   "execution_count": null,
   "id": "b1dca766-db76-4feb-b5b7-0013417fcc24",
   "metadata": {},
   "outputs": [],
   "source": []
  },
  {
   "cell_type": "markdown",
   "id": "63536129-32d9-435d-834c-e4e73a67e808",
   "metadata": {},
   "source": [
    "With the random data looking good, a bonus would be to have a function that would allow us to quickly generate the amount of random samples as specified. "
   ]
  },
  {
   "cell_type": "code",
   "execution_count": 70,
   "id": "128667fa-0003-49de-a955-b8560c0011b3",
   "metadata": {},
   "outputs": [],
   "source": [
    "# Function to generate number of random samples specified by user\n",
    "# User specifies two numbers, one for each sex\n",
    "def random_cat_df(females=1, males=1):\n",
    "    # Unseeded to provide different random data each time              \n",
    "    rng = np.random.default_rng()\n",
    "\n",
    "    # Generate random female data based on original data statistics and user specified sample size\n",
    "    mean_f = [2.359574, 9.202128]\n",
    "    cov_f = [[0.07506938, 0.19791397], [0.19791397, 1.84325624]]\n",
    "    female_cats = rng.multivariate_normal(mean_f, cov_f, females)\n",
    "    \n",
    "    # Convert random array to pandas df\n",
    "    df_female = pd.DataFrame(female_cats, columns = ['Bwt', 'Hwt'])\n",
    "    \n",
    "    # Add a column with sex of female\n",
    "    df_female['Sex'] = 'F'\n",
    "    \n",
    "    # Generate multivariate random data based on the original male df mean and covariance\n",
    "    mean_m = [2.900000, 11.322680]\n",
    "    cov_m = [[0.21854167, 0.9425], [0.9425, 6.46323024]]\n",
    "    male_cats = rng.multivariate_normal(mean_m, cov_m, males)\n",
    "    \n",
    "    # Convert random array to pandas df\n",
    "    df_male = pd.DataFrame(male_cats, columns = ['Bwt', 'Hwt'])\n",
    "    \n",
    "    # Add a column with sex of female\n",
    "    df_male['Sex'] = 'M'\n",
    "    \n",
    "    # ConCAT male and female dfs\n",
    "    all_cats = pd.concat([df_female, df_male])\n",
    "    \n",
    "    # Round the values of the random df to one decimal place as with the original dataset\n",
    "    all_cats = all_cats.round(1)\n",
    "    \n",
    "    # Move Sex column to the front as with original dataset\n",
    "    sex = all_cats['Sex']\n",
    "    all_cats.drop(labels=['Sex'], axis=1,inplace = True)\n",
    "    all_cats.insert(0, 'Sex', sex)\n",
    "    all_cats\n",
    "    \n",
    "    # Variables to be used in generating the correct id numbers\n",
    "    count = all_cats['Bwt'].count()\n",
    "    possible_id = np.arange(100000,1000000)\n",
    "        \n",
    "    # Generate random 6 digit IDs\n",
    "    cat_id = rng.choice(possible_id, size=count, replace=False)\n",
    "    \n",
    "    # Add ID to df and move ID to be first column\n",
    "    all_cats['ID'] = cat_id\n",
    "    all_cats.drop(labels=['ID'], axis=1,inplace = True)\n",
    "    all_cats.insert(0, 'ID', cat_id)\n",
    "    \n",
    "    # Load cat names to pandas\n",
    "    cat_names = pd.read_csv('cats-dataset/CatNames.txt', names = ['Cat Names'],\n",
    "                        encoding = \"ISO-8859-1\")\n",
    "    \n",
    "    # Retrieve random cat names from the dataframe \n",
    "    random_cat_names = rng.choice(cat_names, size=count)\n",
    "    \n",
    "    # Add name column to dataframe\n",
    "    all_cats['Name'] = random_cat_names\n",
    "            \n",
    "    return all_cats"
   ]
  },
  {
   "cell_type": "code",
   "execution_count": 71,
   "id": "01aa01f9-a656-438b-a34b-ad9a36486e55",
   "metadata": {},
   "outputs": [],
   "source": [
    "# Test random cat df with a higher sample than the original\n",
    "# User can change the amount of samples generated by changing the numbers passed to female and male\n",
    "df = random_cat_df(females=250, males=500)"
   ]
  },
  {
   "cell_type": "code",
   "execution_count": 72,
   "id": "5b47f89a-6233-42bf-bb12-6a8af2f80c81",
   "metadata": {},
   "outputs": [
    {
     "data": {
      "text/html": [
       "<div>\n",
       "<style scoped>\n",
       "    .dataframe tbody tr th:only-of-type {\n",
       "        vertical-align: middle;\n",
       "    }\n",
       "\n",
       "    .dataframe tbody tr th {\n",
       "        vertical-align: top;\n",
       "    }\n",
       "\n",
       "    .dataframe thead th {\n",
       "        text-align: right;\n",
       "    }\n",
       "</style>\n",
       "<table border=\"1\" class=\"dataframe\">\n",
       "  <thead>\n",
       "    <tr style=\"text-align: right;\">\n",
       "      <th></th>\n",
       "      <th>ID</th>\n",
       "      <th>Sex</th>\n",
       "      <th>Bwt</th>\n",
       "      <th>Hwt</th>\n",
       "      <th>Name</th>\n",
       "    </tr>\n",
       "  </thead>\n",
       "  <tbody>\n",
       "    <tr>\n",
       "      <th>0</th>\n",
       "      <td>460399</td>\n",
       "      <td>F</td>\n",
       "      <td>2.5</td>\n",
       "      <td>11.4</td>\n",
       "      <td>Tarquin</td>\n",
       "    </tr>\n",
       "    <tr>\n",
       "      <th>1</th>\n",
       "      <td>726987</td>\n",
       "      <td>F</td>\n",
       "      <td>2.5</td>\n",
       "      <td>9.9</td>\n",
       "      <td>Zentaur</td>\n",
       "    </tr>\n",
       "    <tr>\n",
       "      <th>2</th>\n",
       "      <td>286332</td>\n",
       "      <td>F</td>\n",
       "      <td>2.8</td>\n",
       "      <td>11.0</td>\n",
       "      <td>Maliboo</td>\n",
       "    </tr>\n",
       "    <tr>\n",
       "      <th>3</th>\n",
       "      <td>898668</td>\n",
       "      <td>F</td>\n",
       "      <td>1.6</td>\n",
       "      <td>6.8</td>\n",
       "      <td>Fletcher</td>\n",
       "    </tr>\n",
       "    <tr>\n",
       "      <th>4</th>\n",
       "      <td>543851</td>\n",
       "      <td>F</td>\n",
       "      <td>2.4</td>\n",
       "      <td>9.0</td>\n",
       "      <td>Zag</td>\n",
       "    </tr>\n",
       "    <tr>\n",
       "      <th>...</th>\n",
       "      <td>...</td>\n",
       "      <td>...</td>\n",
       "      <td>...</td>\n",
       "      <td>...</td>\n",
       "      <td>...</td>\n",
       "    </tr>\n",
       "    <tr>\n",
       "      <th>495</th>\n",
       "      <td>884625</td>\n",
       "      <td>M</td>\n",
       "      <td>2.8</td>\n",
       "      <td>9.1</td>\n",
       "      <td>Permanently Pretty</td>\n",
       "    </tr>\n",
       "    <tr>\n",
       "      <th>496</th>\n",
       "      <td>387574</td>\n",
       "      <td>M</td>\n",
       "      <td>2.9</td>\n",
       "      <td>11.0</td>\n",
       "      <td>Blimpy</td>\n",
       "    </tr>\n",
       "    <tr>\n",
       "      <th>497</th>\n",
       "      <td>282213</td>\n",
       "      <td>M</td>\n",
       "      <td>2.5</td>\n",
       "      <td>10.8</td>\n",
       "      <td>Zarko</td>\n",
       "    </tr>\n",
       "    <tr>\n",
       "      <th>498</th>\n",
       "      <td>231188</td>\n",
       "      <td>M</td>\n",
       "      <td>2.6</td>\n",
       "      <td>9.2</td>\n",
       "      <td>Pixo</td>\n",
       "    </tr>\n",
       "    <tr>\n",
       "      <th>499</th>\n",
       "      <td>583833</td>\n",
       "      <td>M</td>\n",
       "      <td>2.7</td>\n",
       "      <td>10.1</td>\n",
       "      <td>Taeki</td>\n",
       "    </tr>\n",
       "  </tbody>\n",
       "</table>\n",
       "<p>750 rows × 5 columns</p>\n",
       "</div>"
      ],
      "text/plain": [
       "         ID Sex  Bwt   Hwt                Name\n",
       "0    460399   F  2.5  11.4             Tarquin\n",
       "1    726987   F  2.5   9.9             Zentaur\n",
       "2    286332   F  2.8  11.0             Maliboo\n",
       "3    898668   F  1.6   6.8            Fletcher\n",
       "4    543851   F  2.4   9.0                 Zag\n",
       "..      ...  ..  ...   ...                 ...\n",
       "495  884625   M  2.8   9.1  Permanently Pretty\n",
       "496  387574   M  2.9  11.0              Blimpy\n",
       "497  282213   M  2.5  10.8               Zarko\n",
       "498  231188   M  2.6   9.2                Pixo\n",
       "499  583833   M  2.7  10.1               Taeki\n",
       "\n",
       "[750 rows x 5 columns]"
      ]
     },
     "execution_count": 72,
     "metadata": {},
     "output_type": "execute_result"
    }
   ],
   "source": [
    "df"
   ]
  },
  {
   "cell_type": "code",
   "execution_count": 73,
   "id": "a5959a96-29cc-4f23-86dc-14cda586d830",
   "metadata": {},
   "outputs": [
    {
     "data": {
      "text/plain": [
       "<AxesSubplot:xlabel='Bwt', ylabel='Hwt'>"
      ]
     },
     "execution_count": 73,
     "metadata": {},
     "output_type": "execute_result"
    },
    {
     "data": {
      "image/png": "[encoded data removed]",
      "text/plain": [
       "<Figure size 432x288 with 1 Axes>"
      ]
     },
     "metadata": {
      "needs_background": "light"
     },
     "output_type": "display_data"
    }
   ],
   "source": [
    "# scatterplot of random function bwt and hwt\n",
    "sns.scatterplot(data = df, x = 'Bwt', y= 'Hwt', hue='Sex')"
   ]
  },
  {
   "cell_type": "code",
   "execution_count": 74,
   "id": "15afe79b-4885-48cc-b09e-55cca5f2290e",
   "metadata": {},
   "outputs": [
    {
     "data": {
      "text/plain": [
       "<AxesSubplot:xlabel='Bwt', ylabel='Count'>"
      ]
     },
     "execution_count": 74,
     "metadata": {},
     "output_type": "execute_result"
    },
    {
     "data": {
      "image/png": "[encoded data removed]",
      "text/plain": [
       "<Figure size 432x288 with 1 Axes>"
      ]
     },
     "metadata": {
      "needs_background": "light"
     },
     "output_type": "display_data"
    }
   ],
   "source": [
    "# Plotting the random function bodyweight by sex\n",
    "sns.histplot(data = df, x = 'Bwt', hue = 'Sex', multiple=\"dodge\", kde=True)"
   ]
  },
  {
   "cell_type": "code",
   "execution_count": 75,
   "id": "65ab574f-bb88-4af8-831d-e398d186becd",
   "metadata": {},
   "outputs": [
    {
     "data": {
      "text/plain": [
       "<AxesSubplot:xlabel='Hwt', ylabel='Count'>"
      ]
     },
     "execution_count": 75,
     "metadata": {},
     "output_type": "execute_result"
    },
    {
     "data": {
      "image/png": "[encoded data removed]",
      "text/plain": [
       "<Figure size 432x288 with 1 Axes>"
      ]
     },
     "metadata": {
      "needs_background": "light"
     },
     "output_type": "display_data"
    }
   ],
   "source": [
    "# Plotting the random function heart weight by sex\n",
    "sns.histplot(data = df, x = 'Hwt', hue = 'Sex', multiple=\"dodge\", kde=True)"
   ]
  },
  {
   "cell_type": "code",
   "execution_count": null,
   "id": "6f6d181c-6c01-4ab2-8a79-fd703ea97a2d",
   "metadata": {},
   "outputs": [],
   "source": []
  },
  {
   "cell_type": "code",
   "execution_count": 76,
   "id": "967634a8-f6ff-4fac-b97e-0f8ecf79b444",
   "metadata": {},
   "outputs": [],
   "source": [
    "# A path to save the dataframe, using dt to create unique file names\n",
    "path = 'cats-dataset/cats-random-data/cats_random_function_'  + current_time + '.csv'\n",
    "\n",
    "# Save pandas data frame to disk.\n",
    "df.to_csv(path)"
   ]
  },
  {
   "cell_type": "code",
   "execution_count": null,
   "id": "a99af492-7ad7-4326-9b4c-b176bd3c8f91",
   "metadata": {},
   "outputs": [],
   "source": []
  },
  {
   "cell_type": "markdown",
   "id": "93ba2503-9acc-4dda-a25e-02e10cebd4df",
   "metadata": {},
   "source": [
    "### Generating random data using Copulas - https://sdv.dev/Copulas/tutorials/00_Quickstart.html"
   ]
  },
  {
   "cell_type": "code",
   "execution_count": 77,
   "id": "bc9c15d4-f604-44a1-bd88-f9489c75c79c",
   "metadata": {},
   "outputs": [],
   "source": [
    "from copulas.multivariate import GaussianMultivariate\n",
    "\n",
    "copula = GaussianMultivariate()"
   ]
  },
  {
   "cell_type": "code",
   "execution_count": 78,
   "id": "339b2054-1be1-48c5-ad8e-48bcace0db4f",
   "metadata": {},
   "outputs": [],
   "source": [
    "df_test = df_cats_female[['Bwt', 'Hwt']]"
   ]
  },
  {
   "cell_type": "code",
   "execution_count": 79,
   "id": "a3ca9295-93b5-46b1-8b38-c278a696193b",
   "metadata": {},
   "outputs": [
    {
     "name": "stderr",
     "output_type": "stream",
     "text": [
      "C:\\Users\\disco\\anaconda3\\lib\\site-packages\\scipy\\stats\\_continuous_distns.py:621: RuntimeWarning: invalid value encountered in sqrt\n",
      "  sk = 2*(b-a)*np.sqrt(a + b + 1) / (a + b + 2) / np.sqrt(a*b)\n",
      "C:\\Users\\disco\\anaconda3\\lib\\site-packages\\scipy\\stats\\_continuous_distns.py:5003: RuntimeWarning: divide by zero encountered in true_divide\n",
      "  return c**2 / (c**2 - n**2)\n",
      "C:\\Users\\disco\\anaconda3\\lib\\site-packages\\scipy\\stats\\_distn_infrastructure.py:2494: RuntimeWarning: invalid value encountered in double_scalars\n",
      "  Lhat = muhat - Shat*mu\n"
     ]
    }
   ],
   "source": [
    "copula.fit(df_test)"
   ]
  },
  {
   "cell_type": "code",
   "execution_count": 80,
   "id": "0af9c2e9-7262-4976-90ee-bb0b3cae7765",
   "metadata": {},
   "outputs": [
    {
     "data": {
      "text/html": [
       "<div>\n",
       "<style scoped>\n",
       "    .dataframe tbody tr th:only-of-type {\n",
       "        vertical-align: middle;\n",
       "    }\n",
       "\n",
       "    .dataframe tbody tr th {\n",
       "        vertical-align: top;\n",
       "    }\n",
       "\n",
       "    .dataframe thead th {\n",
       "        text-align: right;\n",
       "    }\n",
       "</style>\n",
       "<table border=\"1\" class=\"dataframe\">\n",
       "  <thead>\n",
       "    <tr style=\"text-align: right;\">\n",
       "      <th></th>\n",
       "      <th>Bwt</th>\n",
       "      <th>Hwt</th>\n",
       "    </tr>\n",
       "  </thead>\n",
       "  <tbody>\n",
       "    <tr>\n",
       "      <th>0</th>\n",
       "      <td>2.353763</td>\n",
       "      <td>10.750592</td>\n",
       "    </tr>\n",
       "    <tr>\n",
       "      <th>1</th>\n",
       "      <td>2.203677</td>\n",
       "      <td>11.540496</td>\n",
       "    </tr>\n",
       "    <tr>\n",
       "      <th>2</th>\n",
       "      <td>2.460397</td>\n",
       "      <td>10.701966</td>\n",
       "    </tr>\n",
       "    <tr>\n",
       "      <th>3</th>\n",
       "      <td>2.206681</td>\n",
       "      <td>7.763087</td>\n",
       "    </tr>\n",
       "    <tr>\n",
       "      <th>4</th>\n",
       "      <td>2.101363</td>\n",
       "      <td>7.706743</td>\n",
       "    </tr>\n",
       "    <tr>\n",
       "      <th>5</th>\n",
       "      <td>2.090858</td>\n",
       "      <td>10.194011</td>\n",
       "    </tr>\n",
       "    <tr>\n",
       "      <th>6</th>\n",
       "      <td>2.410668</td>\n",
       "      <td>6.696038</td>\n",
       "    </tr>\n",
       "    <tr>\n",
       "      <th>7</th>\n",
       "      <td>2.161479</td>\n",
       "      <td>9.936295</td>\n",
       "    </tr>\n",
       "    <tr>\n",
       "      <th>8</th>\n",
       "      <td>2.084316</td>\n",
       "      <td>9.036996</td>\n",
       "    </tr>\n",
       "    <tr>\n",
       "      <th>9</th>\n",
       "      <td>2.240670</td>\n",
       "      <td>10.353334</td>\n",
       "    </tr>\n",
       "    <tr>\n",
       "      <th>10</th>\n",
       "      <td>2.143154</td>\n",
       "      <td>8.106748</td>\n",
       "    </tr>\n",
       "    <tr>\n",
       "      <th>11</th>\n",
       "      <td>2.495867</td>\n",
       "      <td>8.959137</td>\n",
       "    </tr>\n",
       "    <tr>\n",
       "      <th>12</th>\n",
       "      <td>3.345591</td>\n",
       "      <td>11.958811</td>\n",
       "    </tr>\n",
       "    <tr>\n",
       "      <th>13</th>\n",
       "      <td>2.622136</td>\n",
       "      <td>7.990297</td>\n",
       "    </tr>\n",
       "    <tr>\n",
       "      <th>14</th>\n",
       "      <td>2.026610</td>\n",
       "      <td>7.225500</td>\n",
       "    </tr>\n",
       "    <tr>\n",
       "      <th>15</th>\n",
       "      <td>2.128084</td>\n",
       "      <td>7.276881</td>\n",
       "    </tr>\n",
       "    <tr>\n",
       "      <th>16</th>\n",
       "      <td>2.326171</td>\n",
       "      <td>9.656203</td>\n",
       "    </tr>\n",
       "    <tr>\n",
       "      <th>17</th>\n",
       "      <td>2.496511</td>\n",
       "      <td>7.814198</td>\n",
       "    </tr>\n",
       "    <tr>\n",
       "      <th>18</th>\n",
       "      <td>2.127136</td>\n",
       "      <td>7.307430</td>\n",
       "    </tr>\n",
       "    <tr>\n",
       "      <th>19</th>\n",
       "      <td>2.076088</td>\n",
       "      <td>9.360333</td>\n",
       "    </tr>\n",
       "    <tr>\n",
       "      <th>20</th>\n",
       "      <td>2.304379</td>\n",
       "      <td>8.815104</td>\n",
       "    </tr>\n",
       "    <tr>\n",
       "      <th>21</th>\n",
       "      <td>2.287657</td>\n",
       "      <td>8.470180</td>\n",
       "    </tr>\n",
       "    <tr>\n",
       "      <th>22</th>\n",
       "      <td>2.053300</td>\n",
       "      <td>6.745504</td>\n",
       "    </tr>\n",
       "    <tr>\n",
       "      <th>23</th>\n",
       "      <td>2.212293</td>\n",
       "      <td>9.912916</td>\n",
       "    </tr>\n",
       "    <tr>\n",
       "      <th>24</th>\n",
       "      <td>2.596659</td>\n",
       "      <td>9.925882</td>\n",
       "    </tr>\n",
       "    <tr>\n",
       "      <th>25</th>\n",
       "      <td>2.883951</td>\n",
       "      <td>9.743811</td>\n",
       "    </tr>\n",
       "    <tr>\n",
       "      <th>26</th>\n",
       "      <td>2.548375</td>\n",
       "      <td>9.532736</td>\n",
       "    </tr>\n",
       "    <tr>\n",
       "      <th>27</th>\n",
       "      <td>2.556511</td>\n",
       "      <td>12.322892</td>\n",
       "    </tr>\n",
       "    <tr>\n",
       "      <th>28</th>\n",
       "      <td>2.353608</td>\n",
       "      <td>8.529798</td>\n",
       "    </tr>\n",
       "    <tr>\n",
       "      <th>29</th>\n",
       "      <td>2.016801</td>\n",
       "      <td>10.193797</td>\n",
       "    </tr>\n",
       "    <tr>\n",
       "      <th>30</th>\n",
       "      <td>2.777473</td>\n",
       "      <td>8.908146</td>\n",
       "    </tr>\n",
       "    <tr>\n",
       "      <th>31</th>\n",
       "      <td>2.172519</td>\n",
       "      <td>8.820492</td>\n",
       "    </tr>\n",
       "    <tr>\n",
       "      <th>32</th>\n",
       "      <td>2.602974</td>\n",
       "      <td>9.390974</td>\n",
       "    </tr>\n",
       "    <tr>\n",
       "      <th>33</th>\n",
       "      <td>2.340806</td>\n",
       "      <td>11.390439</td>\n",
       "    </tr>\n",
       "    <tr>\n",
       "      <th>34</th>\n",
       "      <td>2.380762</td>\n",
       "      <td>11.484427</td>\n",
       "    </tr>\n",
       "    <tr>\n",
       "      <th>35</th>\n",
       "      <td>2.250939</td>\n",
       "      <td>9.957714</td>\n",
       "    </tr>\n",
       "    <tr>\n",
       "      <th>36</th>\n",
       "      <td>3.273473</td>\n",
       "      <td>10.395687</td>\n",
       "    </tr>\n",
       "    <tr>\n",
       "      <th>37</th>\n",
       "      <td>2.968206</td>\n",
       "      <td>12.128118</td>\n",
       "    </tr>\n",
       "    <tr>\n",
       "      <th>38</th>\n",
       "      <td>2.211005</td>\n",
       "      <td>8.997224</td>\n",
       "    </tr>\n",
       "    <tr>\n",
       "      <th>39</th>\n",
       "      <td>2.273665</td>\n",
       "      <td>8.483742</td>\n",
       "    </tr>\n",
       "    <tr>\n",
       "      <th>40</th>\n",
       "      <td>2.642759</td>\n",
       "      <td>10.826976</td>\n",
       "    </tr>\n",
       "    <tr>\n",
       "      <th>41</th>\n",
       "      <td>2.406662</td>\n",
       "      <td>9.251165</td>\n",
       "    </tr>\n",
       "    <tr>\n",
       "      <th>42</th>\n",
       "      <td>2.317181</td>\n",
       "      <td>9.650550</td>\n",
       "    </tr>\n",
       "    <tr>\n",
       "      <th>43</th>\n",
       "      <td>2.565885</td>\n",
       "      <td>8.079559</td>\n",
       "    </tr>\n",
       "    <tr>\n",
       "      <th>44</th>\n",
       "      <td>2.563540</td>\n",
       "      <td>7.020931</td>\n",
       "    </tr>\n",
       "    <tr>\n",
       "      <th>45</th>\n",
       "      <td>2.249612</td>\n",
       "      <td>11.266032</td>\n",
       "    </tr>\n",
       "    <tr>\n",
       "      <th>46</th>\n",
       "      <td>2.337895</td>\n",
       "      <td>7.275126</td>\n",
       "    </tr>\n",
       "  </tbody>\n",
       "</table>\n",
       "</div>"
      ],
      "text/plain": [
       "         Bwt        Hwt\n",
       "0   2.353763  10.750592\n",
       "1   2.203677  11.540496\n",
       "2   2.460397  10.701966\n",
       "3   2.206681   7.763087\n",
       "4   2.101363   7.706743\n",
       "5   2.090858  10.194011\n",
       "6   2.410668   6.696038\n",
       "7   2.161479   9.936295\n",
       "8   2.084316   9.036996\n",
       "9   2.240670  10.353334\n",
       "10  2.143154   8.106748\n",
       "11  2.495867   8.959137\n",
       "12  3.345591  11.958811\n",
       "13  2.622136   7.990297\n",
       "14  2.026610   7.225500\n",
       "15  2.128084   7.276881\n",
       "16  2.326171   9.656203\n",
       "17  2.496511   7.814198\n",
       "18  2.127136   7.307430\n",
       "19  2.076088   9.360333\n",
       "20  2.304379   8.815104\n",
       "21  2.287657   8.470180\n",
       "22  2.053300   6.745504\n",
       "23  2.212293   9.912916\n",
       "24  2.596659   9.925882\n",
       "25  2.883951   9.743811\n",
       "26  2.548375   9.532736\n",
       "27  2.556511  12.322892\n",
       "28  2.353608   8.529798\n",
       "29  2.016801  10.193797\n",
       "30  2.777473   8.908146\n",
       "31  2.172519   8.820492\n",
       "32  2.602974   9.390974\n",
       "33  2.340806  11.390439\n",
       "34  2.380762  11.484427\n",
       "35  2.250939   9.957714\n",
       "36  3.273473  10.395687\n",
       "37  2.968206  12.128118\n",
       "38  2.211005   8.997224\n",
       "39  2.273665   8.483742\n",
       "40  2.642759  10.826976\n",
       "41  2.406662   9.251165\n",
       "42  2.317181   9.650550\n",
       "43  2.565885   8.079559\n",
       "44  2.563540   7.020931\n",
       "45  2.249612  11.266032\n",
       "46  2.337895   7.275126"
      ]
     },
     "execution_count": 80,
     "metadata": {},
     "output_type": "execute_result"
    }
   ],
   "source": [
    "f_samples = 47\n",
    "\n",
    "synthetic_data = copula.sample(f_samples)\n",
    "synthetic_data"
   ]
  },
  {
   "cell_type": "code",
   "execution_count": 81,
   "id": "0e3c237d-38c1-4564-9034-ee8010f1c55a",
   "metadata": {},
   "outputs": [
    {
     "data": {
      "text/html": [
       "<div>\n",
       "<style scoped>\n",
       "    .dataframe tbody tr th:only-of-type {\n",
       "        vertical-align: middle;\n",
       "    }\n",
       "\n",
       "    .dataframe tbody tr th {\n",
       "        vertical-align: top;\n",
       "    }\n",
       "\n",
       "    .dataframe thead th {\n",
       "        text-align: right;\n",
       "    }\n",
       "</style>\n",
       "<table border=\"1\" class=\"dataframe\">\n",
       "  <thead>\n",
       "    <tr style=\"text-align: right;\">\n",
       "      <th></th>\n",
       "      <th>Bwt</th>\n",
       "      <th>Hwt</th>\n",
       "    </tr>\n",
       "  </thead>\n",
       "  <tbody>\n",
       "    <tr>\n",
       "      <th>count</th>\n",
       "      <td>47.000000</td>\n",
       "      <td>47.000000</td>\n",
       "    </tr>\n",
       "    <tr>\n",
       "      <th>mean</th>\n",
       "      <td>2.388300</td>\n",
       "      <td>9.316064</td>\n",
       "    </tr>\n",
       "    <tr>\n",
       "      <th>std</th>\n",
       "      <td>0.297065</td>\n",
       "      <td>1.505045</td>\n",
       "    </tr>\n",
       "    <tr>\n",
       "      <th>min</th>\n",
       "      <td>2.016801</td>\n",
       "      <td>6.696038</td>\n",
       "    </tr>\n",
       "    <tr>\n",
       "      <th>25%</th>\n",
       "      <td>2.188098</td>\n",
       "      <td>8.093153</td>\n",
       "    </tr>\n",
       "    <tr>\n",
       "      <th>50%</th>\n",
       "      <td>2.326171</td>\n",
       "      <td>9.360333</td>\n",
       "    </tr>\n",
       "    <tr>\n",
       "      <th>75%</th>\n",
       "      <td>2.552443</td>\n",
       "      <td>10.273673</td>\n",
       "    </tr>\n",
       "    <tr>\n",
       "      <th>max</th>\n",
       "      <td>3.345591</td>\n",
       "      <td>12.322892</td>\n",
       "    </tr>\n",
       "  </tbody>\n",
       "</table>\n",
       "</div>"
      ],
      "text/plain": [
       "             Bwt        Hwt\n",
       "count  47.000000  47.000000\n",
       "mean    2.388300   9.316064\n",
       "std     0.297065   1.505045\n",
       "min     2.016801   6.696038\n",
       "25%     2.188098   8.093153\n",
       "50%     2.326171   9.360333\n",
       "75%     2.552443  10.273673\n",
       "max     3.345591  12.322892"
      ]
     },
     "execution_count": 81,
     "metadata": {},
     "output_type": "execute_result"
    }
   ],
   "source": [
    "synthetic_data.describe()"
   ]
  },
  {
   "cell_type": "code",
   "execution_count": null,
   "id": "0303a505-d2aa-4077-a96f-067bc68425e7",
   "metadata": {},
   "outputs": [],
   "source": []
  },
  {
   "cell_type": "code",
   "execution_count": null,
   "id": "60040d51-d7da-48bb-b810-7ec0bac90527",
   "metadata": {},
   "outputs": [],
   "source": []
  },
  {
   "cell_type": "code",
   "execution_count": null,
   "id": "a4a0aded-67d0-40b7-ae5f-02bb3cc8be78",
   "metadata": {},
   "outputs": [],
   "source": []
  },
  {
   "cell_type": "code",
   "execution_count": null,
   "id": "458e843c-bf3a-4c54-a5e3-6a335af5327a",
   "metadata": {},
   "outputs": [],
   "source": []
  }
 ],
 "metadata": {
  "kernelspec": {
   "display_name": "Python 3",
   "language": "python",
   "name": "python3"
  },
  "language_info": {
   "codemirror_mode": {
    "name": "ipython",
    "version": 3
   },
   "file_extension": ".py",
   "mimetype": "text/x-python",
   "name": "python",
   "nbconvert_exporter": "python",
   "pygments_lexer": "ipython3",
   "version": "3.8.8"
  }
 },
 "nbformat": 4,
 "nbformat_minor": 5
}
