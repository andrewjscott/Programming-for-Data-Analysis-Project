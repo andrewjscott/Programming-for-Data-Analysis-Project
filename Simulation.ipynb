{
 "cells": [
  {
   "cell_type": "markdown",
   "id": "bbd3c1b4-99a0-429a-b948-ca3058890676",
   "metadata": {},
   "source": [
    "Author: Andrew Scott"
   ]
  },
  {
   "cell_type": "code",
   "execution_count": null,
   "id": "8fa1c9a3-666b-4622-853b-27d423f98852",
   "metadata": {},
   "outputs": [],
   "source": []
  },
  {
   "cell_type": "code",
   "execution_count": 1,
   "id": "0c50677a-778d-4943-b5e1-3bc61f78577b",
   "metadata": {},
   "outputs": [],
   "source": [
    "# Package for numerical calculations and arrays\n",
    "import numpy as np\n",
    "\n",
    "# Accessing datasets\n",
    "import statsmodels.api as sm\n",
    "\n",
    "# For dataframes\n",
    "import pandas as pd\n",
    "\n",
    "# Generating plots\n",
    "import matplotlib.pyplot as plt\n",
    "\n",
    "# Generating plots \n",
    "import seaborn as sns\n",
    "\n",
    "# For accessing dates and times\n",
    "import datetime as dt\n",
    "\n",
    "# A magic command for helping display matplotlib plots in notebooks\n",
    "%matplotlib inline"
   ]
  },
  {
   "cell_type": "markdown",
   "id": "5570edc8-50fb-4bb9-977a-31720efa377c",
   "metadata": {},
   "source": [
    "The plan is to use a real-world dataset to serve as a model for the simulated dataset. I have decided to simulate the following dataset that was originally published by Ronald Fisher that consists of cats and their gender, weight, and heart weight[x]. The dataset is part of the MASS package for the programming language R. However, these datasets can be accessed in python using the statsmodel package. https://kolesnikov.ga/Datasets_in_Python/"
   ]
  },
  {
   "cell_type": "code",
   "execution_count": 2,
   "id": "114b8392-7a4e-4dfd-927a-1af4f6b390d8",
   "metadata": {},
   "outputs": [],
   "source": [
    "# Load the cats dataset \n",
    "cats = sm.datasets.get_rdataset(dataname='cats', package='MASS')"
   ]
  },
  {
   "cell_type": "code",
   "execution_count": 3,
   "id": "3a234df6-8d7a-42ed-8cae-2e92db0082bf",
   "metadata": {},
   "outputs": [
    {
     "name": "stdout",
     "output_type": "stream",
     "text": [
      ".. container::\n",
      "\n",
      "   ==== ===============\n",
      "   cats R Documentation\n",
      "   ==== ===============\n",
      "\n",
      "   .. rubric:: Anatomical Data from Domestic Cats\n",
      "      :name: anatomical-data-from-domestic-cats\n",
      "\n",
      "   .. rubric:: Description\n",
      "      :name: description\n",
      "\n",
      "   The heart and body weights of samples of male and female cats used\n",
      "   for *digitalis* experiments. The cats were all adult, over 2 kg body\n",
      "   weight.\n",
      "\n",
      "   .. rubric:: Usage\n",
      "      :name: usage\n",
      "\n",
      "   ::\n",
      "\n",
      "      cats\n",
      "\n",
      "   .. rubric:: Format\n",
      "      :name: format\n",
      "\n",
      "   This data frame contains the following columns:\n",
      "\n",
      "   ``Sex``\n",
      "      sex: Factor with levels ``\"F\"`` and ``\"M\"``.\n",
      "\n",
      "   ``Bwt``\n",
      "      body weight in kg.\n",
      "\n",
      "   ``Hwt``\n",
      "      heart weight in g.\n",
      "\n",
      "   .. rubric:: Source\n",
      "      :name: source\n",
      "\n",
      "   R. A. Fisher (1947) The analysis of covariance method for the\n",
      "   relation between a part and the whole, *Biometrics* **3**, 65–68.\n",
      "\n",
      "   .. rubric:: References\n",
      "      :name: references\n",
      "\n",
      "   Venables, W. N. and Ripley, B. D. (2002) *Modern Applied Statistics\n",
      "   with S.* Fourth edition. Springer.\n",
      "\n"
     ]
    }
   ],
   "source": [
    "# Prnt some information about the dataset \n",
    "print(cats.__doc__)"
   ]
  },
  {
   "cell_type": "code",
   "execution_count": 4,
   "id": "938967ab-9154-430d-929d-cfd207d91552",
   "metadata": {},
   "outputs": [],
   "source": [
    "# Load the cats dataset to a pandas dataframe\n",
    "df_cats = cats.data"
   ]
  },
  {
   "cell_type": "code",
   "execution_count": 5,
   "id": "9b0f5f58-72a6-4f20-a33d-2b7bf0a04d26",
   "metadata": {},
   "outputs": [
    {
     "data": {
      "text/html": [
       "<div>\n",
       "<style scoped>\n",
       "    .dataframe tbody tr th:only-of-type {\n",
       "        vertical-align: middle;\n",
       "    }\n",
       "\n",
       "    .dataframe tbody tr th {\n",
       "        vertical-align: top;\n",
       "    }\n",
       "\n",
       "    .dataframe thead th {\n",
       "        text-align: right;\n",
       "    }\n",
       "</style>\n",
       "<table border=\"1\" class=\"dataframe\">\n",
       "  <thead>\n",
       "    <tr style=\"text-align: right;\">\n",
       "      <th></th>\n",
       "      <th>Sex</th>\n",
       "      <th>Bwt</th>\n",
       "      <th>Hwt</th>\n",
       "    </tr>\n",
       "  </thead>\n",
       "  <tbody>\n",
       "    <tr>\n",
       "      <th>0</th>\n",
       "      <td>F</td>\n",
       "      <td>2.0</td>\n",
       "      <td>7.0</td>\n",
       "    </tr>\n",
       "    <tr>\n",
       "      <th>1</th>\n",
       "      <td>F</td>\n",
       "      <td>2.0</td>\n",
       "      <td>7.4</td>\n",
       "    </tr>\n",
       "    <tr>\n",
       "      <th>2</th>\n",
       "      <td>F</td>\n",
       "      <td>2.0</td>\n",
       "      <td>9.5</td>\n",
       "    </tr>\n",
       "    <tr>\n",
       "      <th>3</th>\n",
       "      <td>F</td>\n",
       "      <td>2.1</td>\n",
       "      <td>7.2</td>\n",
       "    </tr>\n",
       "    <tr>\n",
       "      <th>4</th>\n",
       "      <td>F</td>\n",
       "      <td>2.1</td>\n",
       "      <td>7.3</td>\n",
       "    </tr>\n",
       "  </tbody>\n",
       "</table>\n",
       "</div>"
      ],
      "text/plain": [
       "  Sex  Bwt  Hwt\n",
       "0   F  2.0  7.0\n",
       "1   F  2.0  7.4\n",
       "2   F  2.0  9.5\n",
       "3   F  2.1  7.2\n",
       "4   F  2.1  7.3"
      ]
     },
     "execution_count": 5,
     "metadata": {},
     "output_type": "execute_result"
    }
   ],
   "source": [
    "# View the first few rows of the dataframe\n",
    "df_cats.head()"
   ]
  },
  {
   "cell_type": "code",
   "execution_count": 6,
   "id": "4d270986-79bb-459a-8d56-158629905e6d",
   "metadata": {},
   "outputs": [
    {
     "data": {
      "text/plain": [
       "(144, 3)"
      ]
     },
     "execution_count": 6,
     "metadata": {},
     "output_type": "execute_result"
    }
   ],
   "source": [
    "# View the shape of the dataframe\n",
    "df_cats.shape"
   ]
  },
  {
   "cell_type": "code",
   "execution_count": 7,
   "id": "cc8864a2-27aa-4b7e-95a7-2be5aefbd5c7",
   "metadata": {},
   "outputs": [
    {
     "data": {
      "text/html": [
       "<div>\n",
       "<style scoped>\n",
       "    .dataframe tbody tr th:only-of-type {\n",
       "        vertical-align: middle;\n",
       "    }\n",
       "\n",
       "    .dataframe tbody tr th {\n",
       "        vertical-align: top;\n",
       "    }\n",
       "\n",
       "    .dataframe thead th {\n",
       "        text-align: right;\n",
       "    }\n",
       "</style>\n",
       "<table border=\"1\" class=\"dataframe\">\n",
       "  <thead>\n",
       "    <tr style=\"text-align: right;\">\n",
       "      <th></th>\n",
       "      <th>Bwt</th>\n",
       "      <th>Hwt</th>\n",
       "    </tr>\n",
       "  </thead>\n",
       "  <tbody>\n",
       "    <tr>\n",
       "      <th>count</th>\n",
       "      <td>144.000000</td>\n",
       "      <td>144.000000</td>\n",
       "    </tr>\n",
       "    <tr>\n",
       "      <th>mean</th>\n",
       "      <td>2.723611</td>\n",
       "      <td>10.630556</td>\n",
       "    </tr>\n",
       "    <tr>\n",
       "      <th>std</th>\n",
       "      <td>0.485307</td>\n",
       "      <td>2.434636</td>\n",
       "    </tr>\n",
       "    <tr>\n",
       "      <th>min</th>\n",
       "      <td>2.000000</td>\n",
       "      <td>6.300000</td>\n",
       "    </tr>\n",
       "    <tr>\n",
       "      <th>25%</th>\n",
       "      <td>2.300000</td>\n",
       "      <td>8.950000</td>\n",
       "    </tr>\n",
       "    <tr>\n",
       "      <th>50%</th>\n",
       "      <td>2.700000</td>\n",
       "      <td>10.100000</td>\n",
       "    </tr>\n",
       "    <tr>\n",
       "      <th>75%</th>\n",
       "      <td>3.025000</td>\n",
       "      <td>12.125000</td>\n",
       "    </tr>\n",
       "    <tr>\n",
       "      <th>max</th>\n",
       "      <td>3.900000</td>\n",
       "      <td>20.500000</td>\n",
       "    </tr>\n",
       "  </tbody>\n",
       "</table>\n",
       "</div>"
      ],
      "text/plain": [
       "              Bwt         Hwt\n",
       "count  144.000000  144.000000\n",
       "mean     2.723611   10.630556\n",
       "std      0.485307    2.434636\n",
       "min      2.000000    6.300000\n",
       "25%      2.300000    8.950000\n",
       "50%      2.700000   10.100000\n",
       "75%      3.025000   12.125000\n",
       "max      3.900000   20.500000"
      ]
     },
     "execution_count": 7,
     "metadata": {},
     "output_type": "execute_result"
    }
   ],
   "source": [
    "# View summary statistics of dataframe\n",
    "df_cats.describe()"
   ]
  },
  {
   "cell_type": "code",
   "execution_count": 8,
   "id": "cd443ff3-2575-46ce-8074-f52afdd5eafc",
   "metadata": {},
   "outputs": [
    {
     "data": {
      "text/plain": [
       "M    97\n",
       "F    47\n",
       "Name: Sex, dtype: int64"
      ]
     },
     "execution_count": 8,
     "metadata": {},
     "output_type": "execute_result"
    }
   ],
   "source": [
    "# Show the amount of male and female cats in the dataset\n",
    "df_cats['Sex'].value_counts()"
   ]
  },
  {
   "cell_type": "code",
   "execution_count": 9,
   "id": "ed4e466d-2a00-425f-9a46-d773625804f9",
   "metadata": {},
   "outputs": [],
   "source": [
    "# Save the original dataset\n",
    "# Access the current date and time.\n",
    "now = dt.datetime.now()\n",
    "\n",
    "# Formatting the current date and time as a string and saving to a variable.\n",
    "current_time = now.strftime('%Y%m%d_%H%M%S')\n",
    "\n",
    "# A path to save the dataframe, using dt to create unique file names\n",
    "path = 'cats-dataset/cats_original_'  + current_time + '.csv'\n",
    "\n",
    "# Save pandas data frame to disk.\n",
    "df_cats.to_csv(path)"
   ]
  },
  {
   "cell_type": "code",
   "execution_count": null,
   "id": "1abb306b-8d6e-4fad-b2f6-2ee98437ac65",
   "metadata": {},
   "outputs": [],
   "source": []
  },
  {
   "cell_type": "markdown",
   "id": "102034d8-7fac-4d7c-baf6-e21ce42fd0cb",
   "metadata": {},
   "source": [
    "The above summaries gives an overview as to the dimensions and datatypes involved. There are three variable types - a binary male/female column, and two numerical columns containing body weights and heart weights. We will have to invent a fourth column when simulating this dataset to meet the criteria of simulated dataset having at least four variables. "
   ]
  },
  {
   "cell_type": "markdown",
   "id": "be1a3195-e906-42ea-9eb7-247c7a9d685b",
   "metadata": {},
   "source": [
    "Ignoring the sex for now and focusing on the numerical values, we could generate some random bodyweight and heartweight data using numpy by assuming a normal distribution for both variables, and using the summary statistics as a basis for the random data."
   ]
  },
  {
   "cell_type": "code",
   "execution_count": 10,
   "id": "8709bb83-037e-41cd-8fda-908499d7c903",
   "metadata": {},
   "outputs": [
    {
     "data": {
      "text/plain": [
       "array([3.0379304 , 3.49893829, 2.86692521, 3.76928529, 2.58181916,\n",
       "       2.04712778, 1.97229166, 2.13442014, 3.02409131, 2.31017196,\n",
       "       2.82205707, 3.46952751, 3.20296156, 3.51214639, 2.18732424,\n",
       "       2.3876786 , 3.02557902, 2.73448847, 2.13204222, 2.76279749,\n",
       "       2.59411618, 2.23202211, 2.63373554, 3.01003369, 2.62971428,\n",
       "       2.66510187, 3.66941041, 2.78535106, 2.10876254, 2.63997726,\n",
       "       2.31261263, 2.7545835 , 2.99586475, 2.10399404, 2.75322207,\n",
       "       2.12585955, 2.50308485, 2.51665005, 3.32008464, 2.96631326,\n",
       "       2.1835509 , 3.09605842, 4.4540362 , 2.15877078, 2.68671755,\n",
       "       2.88977252, 2.55719176, 2.96155055, 2.11526559, 2.05742983,\n",
       "       3.21289747, 2.88436721, 2.18375955, 3.1123685 , 2.62348659,\n",
       "       2.81168347, 2.5386634 , 2.85845191, 2.52098397, 2.32273822,\n",
       "       2.41105043, 2.82331396, 2.29305787, 2.84419159, 2.78268134,\n",
       "       3.27470254, 2.24176869, 3.7313166 , 3.42398421, 1.7556854 ,\n",
       "       2.67548853, 2.72126581, 2.92492397, 2.8217267 , 3.29864586,\n",
       "       2.29541995, 2.3147773 , 3.07256896, 2.16236418, 2.69733389,\n",
       "       2.72906951, 2.11259677, 3.12351187, 2.58916347, 2.79553669,\n",
       "       2.35849644, 2.88745369, 3.09814382, 3.74777342, 2.88618472,\n",
       "       2.81043252, 2.72536771, 3.12531521, 3.12716743, 3.30488884,\n",
       "       3.43462264, 2.284483  , 2.44575241, 3.32159868, 2.49573371])"
      ]
     },
     "execution_count": 10,
     "metadata": {},
     "output_type": "execute_result"
    }
   ],
   "source": [
    "# Construct a new Generator with the default BitGenerator (PCG64)\n",
    "# Seeded for reproducible results\n",
    "rng = np.random.default_rng(seed = 236)\n",
    "\n",
    "# Numpy randomly generated bwt\n",
    "# A random example of 100 samples from a normal distribution\n",
    "mu = 2.723611\n",
    "sigma = 0.485307\n",
    "\n",
    "random_bwt = rng.normal(mu, sigma, size=100)\n",
    "random_bwt"
   ]
  },
  {
   "cell_type": "code",
   "execution_count": 11,
   "id": "2eced47e-177b-4e3a-972c-f736565b9493",
   "metadata": {},
   "outputs": [
    {
     "data": {
      "text/plain": [
       "array([ 8.99450549, 12.70161373, 11.06630271, 11.45401534, 10.20050227,\n",
       "        9.98008363,  9.84851768,  9.60279138,  9.12190847, 13.40627855,\n",
       "       11.15397533, 13.0257444 ,  9.35312156,  9.9639264 ,  7.38379563,\n",
       "        9.82565342,  6.87523668,  8.65930466,  7.3972405 , 11.03759109,\n",
       "        6.17226162, 12.28654087,  8.51270944, 14.54440802, 11.16166225,\n",
       "       11.341478  , 10.84668597, 16.33346691, 10.78237968,  9.06848998,\n",
       "       11.36817068,  7.31690681, 10.53075406, 10.37012298, 13.39177044,\n",
       "        9.36405055, 10.49936754, 11.71350783,  8.07022425, 11.49882441,\n",
       "        9.79616386, 10.7608329 ,  8.03101235, 11.48104639, 10.44286805,\n",
       "        8.63151037, 14.49265516,  7.57831834, 10.79659233,  6.36654919,\n",
       "        9.00966097,  9.32951039,  8.72806985,  8.57328711,  7.83565821,\n",
       "        7.98577817, 14.37103719,  8.64203433, 11.24020596,  8.84327428,\n",
       "       12.50540553, 11.13347294, 10.99432104, 10.48742567, 13.07757377,\n",
       "       10.92155799,  9.1713495 , 15.77387749,  8.77959011, 13.92095687,\n",
       "       12.64249542, 10.45882897, 11.9985834 , 12.74166239,  8.62556563,\n",
       "       11.75827362, 10.59431298, 12.06194667,  9.57699535,  9.17283022,\n",
       "       10.72174579, 10.03317436,  7.58207806, 13.83971274, 10.53131643,\n",
       "       10.38616643,  9.73195498,  9.87543235, 12.57021226,  9.73824059,\n",
       "        8.22228921, 15.87057911, 12.98654344, 11.56241   , 10.87651968,\n",
       "        8.20947768, 14.89714209,  8.88633996, 11.84717088, 10.52574049])"
      ]
     },
     "execution_count": 11,
     "metadata": {},
     "output_type": "execute_result"
    }
   ],
   "source": [
    "# Numpy randomly generated hwt\n",
    "# A random example of 100 samples from a normal distribution\n",
    "mu = 10.630556\n",
    "sigma = 2.434636\n",
    "\n",
    "random_hwt = rng.normal(mu, sigma, size=100)\n",
    "random_hwt"
   ]
  },
  {
   "cell_type": "code",
   "execution_count": 12,
   "id": "3e5122da-2e1f-47fb-9483-382a8140a00a",
   "metadata": {},
   "outputs": [
    {
     "data": {
      "text/html": [
       "<div>\n",
       "<style scoped>\n",
       "    .dataframe tbody tr th:only-of-type {\n",
       "        vertical-align: middle;\n",
       "    }\n",
       "\n",
       "    .dataframe tbody tr th {\n",
       "        vertical-align: top;\n",
       "    }\n",
       "\n",
       "    .dataframe thead th {\n",
       "        text-align: right;\n",
       "    }\n",
       "</style>\n",
       "<table border=\"1\" class=\"dataframe\">\n",
       "  <thead>\n",
       "    <tr style=\"text-align: right;\">\n",
       "      <th></th>\n",
       "      <th>random_bwt</th>\n",
       "      <th>random_hwt</th>\n",
       "    </tr>\n",
       "  </thead>\n",
       "  <tbody>\n",
       "    <tr>\n",
       "      <th>0</th>\n",
       "      <td>3.037930</td>\n",
       "      <td>8.994505</td>\n",
       "    </tr>\n",
       "    <tr>\n",
       "      <th>1</th>\n",
       "      <td>3.498938</td>\n",
       "      <td>12.701614</td>\n",
       "    </tr>\n",
       "    <tr>\n",
       "      <th>2</th>\n",
       "      <td>2.866925</td>\n",
       "      <td>11.066303</td>\n",
       "    </tr>\n",
       "    <tr>\n",
       "      <th>3</th>\n",
       "      <td>3.769285</td>\n",
       "      <td>11.454015</td>\n",
       "    </tr>\n",
       "    <tr>\n",
       "      <th>4</th>\n",
       "      <td>2.581819</td>\n",
       "      <td>10.200502</td>\n",
       "    </tr>\n",
       "    <tr>\n",
       "      <th>...</th>\n",
       "      <td>...</td>\n",
       "      <td>...</td>\n",
       "    </tr>\n",
       "    <tr>\n",
       "      <th>95</th>\n",
       "      <td>3.434623</td>\n",
       "      <td>8.209478</td>\n",
       "    </tr>\n",
       "    <tr>\n",
       "      <th>96</th>\n",
       "      <td>2.284483</td>\n",
       "      <td>14.897142</td>\n",
       "    </tr>\n",
       "    <tr>\n",
       "      <th>97</th>\n",
       "      <td>2.445752</td>\n",
       "      <td>8.886340</td>\n",
       "    </tr>\n",
       "    <tr>\n",
       "      <th>98</th>\n",
       "      <td>3.321599</td>\n",
       "      <td>11.847171</td>\n",
       "    </tr>\n",
       "    <tr>\n",
       "      <th>99</th>\n",
       "      <td>2.495734</td>\n",
       "      <td>10.525740</td>\n",
       "    </tr>\n",
       "  </tbody>\n",
       "</table>\n",
       "<p>100 rows × 2 columns</p>\n",
       "</div>"
      ],
      "text/plain": [
       "    random_bwt  random_hwt\n",
       "0     3.037930    8.994505\n",
       "1     3.498938   12.701614\n",
       "2     2.866925   11.066303\n",
       "3     3.769285   11.454015\n",
       "4     2.581819   10.200502\n",
       "..         ...         ...\n",
       "95    3.434623    8.209478\n",
       "96    2.284483   14.897142\n",
       "97    2.445752    8.886340\n",
       "98    3.321599   11.847171\n",
       "99    2.495734   10.525740\n",
       "\n",
       "[100 rows x 2 columns]"
      ]
     },
     "execution_count": 12,
     "metadata": {},
     "output_type": "execute_result"
    }
   ],
   "source": [
    "# Create a new df with the random np arrays\n",
    "# https://stackoverflow.com/questions/29949757/creating-pandas-dataframe-between-two-numpy-arrays-then-draw-scatter-plot\n",
    "random_df = pd.DataFrame({'random_bwt':random_bwt, 'random_hwt':random_hwt})\n",
    "random_df"
   ]
  },
  {
   "cell_type": "code",
   "execution_count": 13,
   "id": "59ed3479-99fa-4c87-a519-11337d6f1c3d",
   "metadata": {},
   "outputs": [
    {
     "data": {
      "text/html": [
       "<div>\n",
       "<style scoped>\n",
       "    .dataframe tbody tr th:only-of-type {\n",
       "        vertical-align: middle;\n",
       "    }\n",
       "\n",
       "    .dataframe tbody tr th {\n",
       "        vertical-align: top;\n",
       "    }\n",
       "\n",
       "    .dataframe thead th {\n",
       "        text-align: right;\n",
       "    }\n",
       "</style>\n",
       "<table border=\"1\" class=\"dataframe\">\n",
       "  <thead>\n",
       "    <tr style=\"text-align: right;\">\n",
       "      <th></th>\n",
       "      <th>random_bwt</th>\n",
       "      <th>random_hwt</th>\n",
       "    </tr>\n",
       "  </thead>\n",
       "  <tbody>\n",
       "    <tr>\n",
       "      <th>count</th>\n",
       "      <td>100.000000</td>\n",
       "      <td>100.000000</td>\n",
       "    </tr>\n",
       "    <tr>\n",
       "      <th>mean</th>\n",
       "      <td>2.749994</td>\n",
       "      <td>10.544532</td>\n",
       "    </tr>\n",
       "    <tr>\n",
       "      <th>std</th>\n",
       "      <td>0.478749</td>\n",
       "      <td>2.122688</td>\n",
       "    </tr>\n",
       "    <tr>\n",
       "      <th>min</th>\n",
       "      <td>1.755685</td>\n",
       "      <td>6.172262</td>\n",
       "    </tr>\n",
       "    <tr>\n",
       "      <th>25%</th>\n",
       "      <td>2.349557</td>\n",
       "      <td>9.005872</td>\n",
       "    </tr>\n",
       "    <tr>\n",
       "      <th>50%</th>\n",
       "      <td>2.743855</td>\n",
       "      <td>10.493397</td>\n",
       "    </tr>\n",
       "    <tr>\n",
       "      <th>75%</th>\n",
       "      <td>3.028667</td>\n",
       "      <td>11.600184</td>\n",
       "    </tr>\n",
       "    <tr>\n",
       "      <th>max</th>\n",
       "      <td>4.454036</td>\n",
       "      <td>16.333467</td>\n",
       "    </tr>\n",
       "  </tbody>\n",
       "</table>\n",
       "</div>"
      ],
      "text/plain": [
       "       random_bwt  random_hwt\n",
       "count  100.000000  100.000000\n",
       "mean     2.749994   10.544532\n",
       "std      0.478749    2.122688\n",
       "min      1.755685    6.172262\n",
       "25%      2.349557    9.005872\n",
       "50%      2.743855   10.493397\n",
       "75%      3.028667   11.600184\n",
       "max      4.454036   16.333467"
      ]
     },
     "execution_count": 13,
     "metadata": {},
     "output_type": "execute_result"
    }
   ],
   "source": [
    "# View summary statistics\n",
    "random_df.describe()"
   ]
  },
  {
   "cell_type": "markdown",
   "id": "2fe8b346-97d2-4ee0-8c24-55a0cf22c0bb",
   "metadata": {},
   "source": [
    "We can see from the summary statistics that our random dataframe has somewhat similar summary statistics to the original. Despite this, it is not an acceptable simulation of the original dataset. This will become apparant by plotting scatterplots of the original data and the random data."
   ]
  },
  {
   "cell_type": "code",
   "execution_count": 14,
   "id": "b247a4ec-97ad-48d5-a8bb-f73494f3e441",
   "metadata": {},
   "outputs": [
    {
     "data": {
      "text/plain": [
       "<AxesSubplot:xlabel='Bwt', ylabel='Hwt'>"
      ]
     },
     "execution_count": 14,
     "metadata": {},
     "output_type": "execute_result"
    },
    {
     "data": {
      "image/png": "[encoded data removed]",
      "text/plain": [
       "<Figure size 432x288 with 1 Axes>"
      ]
     },
     "metadata": {
      "needs_background": "light"
     },
     "output_type": "display_data"
    }
   ],
   "source": [
    "# scatterplot of original bwt and hwt\n",
    "sns.scatterplot(data = df_cats, x = 'Bwt', y= 'Hwt')"
   ]
  },
  {
   "cell_type": "code",
   "execution_count": 15,
   "id": "e280799c-9c6b-46e4-9126-b8db4b73d055",
   "metadata": {},
   "outputs": [
    {
     "data": {
      "text/plain": [
       "<AxesSubplot:xlabel='random_bwt', ylabel='random_hwt'>"
      ]
     },
     "execution_count": 15,
     "metadata": {},
     "output_type": "execute_result"
    },
    {
     "data": {
      "image/png": "[encoded data removed]",
      "text/plain": [
       "<Figure size 432x288 with 1 Axes>"
      ]
     },
     "metadata": {
      "needs_background": "light"
     },
     "output_type": "display_data"
    }
   ],
   "source": [
    "# scatterplot of bwt and hwt\n",
    "sns.scatterplot(data = random_df, x = 'random_bwt', y= 'random_hwt')"
   ]
  },
  {
   "cell_type": "markdown",
   "id": "2cff464c-0846-4fe7-80a7-c7869322f9e6",
   "metadata": {},
   "source": [
    "As we can see, there appears to be a positive correlation between a cat's bodyweight and heartweight, whereas in the random dataframe there is little correlation. Thsi can also be shown numerically. "
   ]
  },
  {
   "cell_type": "code",
   "execution_count": 16,
   "id": "348562b4-f561-47a4-8fe6-d98c00d3ad39",
   "metadata": {},
   "outputs": [
    {
     "data": {
      "text/html": [
       "<div>\n",
       "<style scoped>\n",
       "    .dataframe tbody tr th:only-of-type {\n",
       "        vertical-align: middle;\n",
       "    }\n",
       "\n",
       "    .dataframe tbody tr th {\n",
       "        vertical-align: top;\n",
       "    }\n",
       "\n",
       "    .dataframe thead th {\n",
       "        text-align: right;\n",
       "    }\n",
       "</style>\n",
       "<table border=\"1\" class=\"dataframe\">\n",
       "  <thead>\n",
       "    <tr style=\"text-align: right;\">\n",
       "      <th></th>\n",
       "      <th>Bwt</th>\n",
       "      <th>Hwt</th>\n",
       "    </tr>\n",
       "  </thead>\n",
       "  <tbody>\n",
       "    <tr>\n",
       "      <th>Bwt</th>\n",
       "      <td>1.000000</td>\n",
       "      <td>0.804127</td>\n",
       "    </tr>\n",
       "    <tr>\n",
       "      <th>Hwt</th>\n",
       "      <td>0.804127</td>\n",
       "      <td>1.000000</td>\n",
       "    </tr>\n",
       "  </tbody>\n",
       "</table>\n",
       "</div>"
      ],
      "text/plain": [
       "          Bwt       Hwt\n",
       "Bwt  1.000000  0.804127\n",
       "Hwt  0.804127  1.000000"
      ]
     },
     "execution_count": 16,
     "metadata": {},
     "output_type": "execute_result"
    }
   ],
   "source": [
    "# Show the correlation bodyweight and heartweight\n",
    "df_cats.corr()"
   ]
  },
  {
   "cell_type": "code",
   "execution_count": 17,
   "id": "499e2814-7769-44d8-9964-e7e559afca3b",
   "metadata": {},
   "outputs": [
    {
     "data": {
      "text/html": [
       "<div>\n",
       "<style scoped>\n",
       "    .dataframe tbody tr th:only-of-type {\n",
       "        vertical-align: middle;\n",
       "    }\n",
       "\n",
       "    .dataframe tbody tr th {\n",
       "        vertical-align: top;\n",
       "    }\n",
       "\n",
       "    .dataframe thead th {\n",
       "        text-align: right;\n",
       "    }\n",
       "</style>\n",
       "<table border=\"1\" class=\"dataframe\">\n",
       "  <thead>\n",
       "    <tr style=\"text-align: right;\">\n",
       "      <th></th>\n",
       "      <th>random_bwt</th>\n",
       "      <th>random_hwt</th>\n",
       "    </tr>\n",
       "  </thead>\n",
       "  <tbody>\n",
       "    <tr>\n",
       "      <th>random_bwt</th>\n",
       "      <td>1.000000</td>\n",
       "      <td>0.019211</td>\n",
       "    </tr>\n",
       "    <tr>\n",
       "      <th>random_hwt</th>\n",
       "      <td>0.019211</td>\n",
       "      <td>1.000000</td>\n",
       "    </tr>\n",
       "  </tbody>\n",
       "</table>\n",
       "</div>"
      ],
      "text/plain": [
       "            random_bwt  random_hwt\n",
       "random_bwt    1.000000    0.019211\n",
       "random_hwt    0.019211    1.000000"
      ]
     },
     "execution_count": 17,
     "metadata": {},
     "output_type": "execute_result"
    }
   ],
   "source": [
    "# Show the correlation bodyweight and heartweight\n",
    "random_df.corr()"
   ]
  },
  {
   "cell_type": "markdown",
   "id": "d69cd60d-41e5-45c1-b8cc-8dd5f98fbf53",
   "metadata": {},
   "source": [
    "This means that in general, lighter cats have lighter hearts and heavier cats have heavier hearts. While 0.8 is a very strong correlation[x], it is not perfect. There are some rather rare instances where a cat has a heavier heart than another cat that have a higher bodyweight. For that reason, it will not suffice to just sort the random values so that the lightest cat is matched with the lightest heart all the way up to the heaviest cat and the heaviest heart.  "
   ]
  },
  {
   "cell_type": "markdown",
   "id": "69d0b9cf-8d93-4d21-9ad6-5bb02db5a6df",
   "metadata": {},
   "source": [
    "Since the data appears to be correlated, one potential solution is to assume that the data is normally distributed and then use numpy random's multivariate_normal method, which samples from multiple correlated normal distributions given the mean of the normal distributions and their covariance matrix."
   ]
  },
  {
   "cell_type": "code",
   "execution_count": 18,
   "id": "bf68f2f8-949f-4433-b171-040fb2345590",
   "metadata": {},
   "outputs": [],
   "source": [
    "# Create a df containing only the numerical bwt and hwt columns\n",
    "df_cats_num = df_cats[['Bwt', 'Hwt']]"
   ]
  },
  {
   "cell_type": "code",
   "execution_count": 19,
   "id": "61c5ee56-943d-4622-8de4-81883741efa0",
   "metadata": {},
   "outputs": [
    {
     "data": {
      "text/html": [
       "<div>\n",
       "<style scoped>\n",
       "    .dataframe tbody tr th:only-of-type {\n",
       "        vertical-align: middle;\n",
       "    }\n",
       "\n",
       "    .dataframe tbody tr th {\n",
       "        vertical-align: top;\n",
       "    }\n",
       "\n",
       "    .dataframe thead th {\n",
       "        text-align: right;\n",
       "    }\n",
       "</style>\n",
       "<table border=\"1\" class=\"dataframe\">\n",
       "  <thead>\n",
       "    <tr style=\"text-align: right;\">\n",
       "      <th></th>\n",
       "      <th>Bwt</th>\n",
       "      <th>Hwt</th>\n",
       "    </tr>\n",
       "  </thead>\n",
       "  <tbody>\n",
       "    <tr>\n",
       "      <th>Bwt</th>\n",
       "      <td>0.235523</td>\n",
       "      <td>0.950113</td>\n",
       "    </tr>\n",
       "    <tr>\n",
       "      <th>Hwt</th>\n",
       "      <td>0.950113</td>\n",
       "      <td>5.927451</td>\n",
       "    </tr>\n",
       "  </tbody>\n",
       "</table>\n",
       "</div>"
      ],
      "text/plain": [
       "          Bwt       Hwt\n",
       "Bwt  0.235523  0.950113\n",
       "Hwt  0.950113  5.927451"
      ]
     },
     "execution_count": 19,
     "metadata": {},
     "output_type": "execute_result"
    }
   ],
   "source": [
    "# Get covariance matrix of dataframe\n",
    "df_cats_num.cov()"
   ]
  },
  {
   "cell_type": "code",
   "execution_count": 20,
   "id": "6e7f0786-5bd9-48eb-8e48-60379dddf6ee",
   "metadata": {},
   "outputs": [],
   "source": [
    "# Generate multivariate random data based on the original df mean and covariance\n",
    "mean = [2.723611, 10.630556]\n",
    "cov = [[0.235523, 0.950113], [0.950113, 5.927451]]\n",
    "size = 200\n",
    "\n",
    "cats_mvn = rng.multivariate_normal(mean, cov, size)"
   ]
  },
  {
   "cell_type": "code",
   "execution_count": null,
   "id": "b953cf35-5f2f-4826-9a69-f08a8933502d",
   "metadata": {},
   "outputs": [],
   "source": []
  },
  {
   "cell_type": "code",
   "execution_count": 21,
   "id": "11d5df19-1b04-4e12-a267-62132318bc0b",
   "metadata": {},
   "outputs": [],
   "source": [
    "# Convert random array to pandas df\n",
    "df_cats_mvn = pd.DataFrame(cats_mvn, columns = ['Bwt', 'Hwt'])"
   ]
  },
  {
   "cell_type": "code",
   "execution_count": 22,
   "id": "36b0485c-6516-401b-8449-8838eb08872c",
   "metadata": {},
   "outputs": [
    {
     "data": {
      "text/html": [
       "<div>\n",
       "<style scoped>\n",
       "    .dataframe tbody tr th:only-of-type {\n",
       "        vertical-align: middle;\n",
       "    }\n",
       "\n",
       "    .dataframe tbody tr th {\n",
       "        vertical-align: top;\n",
       "    }\n",
       "\n",
       "    .dataframe thead th {\n",
       "        text-align: right;\n",
       "    }\n",
       "</style>\n",
       "<table border=\"1\" class=\"dataframe\">\n",
       "  <thead>\n",
       "    <tr style=\"text-align: right;\">\n",
       "      <th></th>\n",
       "      <th>Bwt</th>\n",
       "      <th>Hwt</th>\n",
       "    </tr>\n",
       "  </thead>\n",
       "  <tbody>\n",
       "    <tr>\n",
       "      <th>count</th>\n",
       "      <td>200.000000</td>\n",
       "      <td>200.000000</td>\n",
       "    </tr>\n",
       "    <tr>\n",
       "      <th>mean</th>\n",
       "      <td>2.690309</td>\n",
       "      <td>10.459662</td>\n",
       "    </tr>\n",
       "    <tr>\n",
       "      <th>std</th>\n",
       "      <td>0.483840</td>\n",
       "      <td>2.434967</td>\n",
       "    </tr>\n",
       "    <tr>\n",
       "      <th>min</th>\n",
       "      <td>1.261357</td>\n",
       "      <td>5.442668</td>\n",
       "    </tr>\n",
       "    <tr>\n",
       "      <th>25%</th>\n",
       "      <td>2.341779</td>\n",
       "      <td>8.772470</td>\n",
       "    </tr>\n",
       "    <tr>\n",
       "      <th>50%</th>\n",
       "      <td>2.701826</td>\n",
       "      <td>10.310965</td>\n",
       "    </tr>\n",
       "    <tr>\n",
       "      <th>75%</th>\n",
       "      <td>3.011708</td>\n",
       "      <td>12.076855</td>\n",
       "    </tr>\n",
       "    <tr>\n",
       "      <th>max</th>\n",
       "      <td>3.992983</td>\n",
       "      <td>16.522552</td>\n",
       "    </tr>\n",
       "  </tbody>\n",
       "</table>\n",
       "</div>"
      ],
      "text/plain": [
       "              Bwt         Hwt\n",
       "count  200.000000  200.000000\n",
       "mean     2.690309   10.459662\n",
       "std      0.483840    2.434967\n",
       "min      1.261357    5.442668\n",
       "25%      2.341779    8.772470\n",
       "50%      2.701826   10.310965\n",
       "75%      3.011708   12.076855\n",
       "max      3.992983   16.522552"
      ]
     },
     "execution_count": 22,
     "metadata": {},
     "output_type": "execute_result"
    }
   ],
   "source": [
    "# View description of random dataset\n",
    "df_cats_mvn.describe()"
   ]
  },
  {
   "cell_type": "code",
   "execution_count": 23,
   "id": "fa19ddd8-0703-4faa-b600-8527b660e804",
   "metadata": {},
   "outputs": [
    {
     "data": {
      "text/plain": [
       "<AxesSubplot:xlabel='Bwt', ylabel='Hwt'>"
      ]
     },
     "execution_count": 23,
     "metadata": {},
     "output_type": "execute_result"
    },
    {
     "data": {
      "image/png": "[encoded data removed]",
      "text/plain": [
       "<Figure size 432x288 with 1 Axes>"
      ]
     },
     "metadata": {
      "needs_background": "light"
     },
     "output_type": "display_data"
    }
   ],
   "source": [
    "# Plot multivariate random data\n",
    "sns.scatterplot(data = df_cats_mvn, x = 'Bwt', y= 'Hwt')"
   ]
  },
  {
   "cell_type": "markdown",
   "id": "5d5fc572-2d32-4ec3-823d-b1cc7b3d0365",
   "metadata": {},
   "source": [
    "This random data certainly appears to be more in line with the original dataset. We could split the data above and below 3.0 and assign a sex of male or female to the data below 3.0 and all male to the data above 3.0, akin to the original dataset. It might be worthwhile however to dive even deeper and see if there's a difference between the sexes that would be obscured by randomly generating both sexes at once as is done here.  "
   ]
  },
  {
   "cell_type": "code",
   "execution_count": null,
   "id": "b15be697-851a-4d80-a4e4-8dc7b86a18b9",
   "metadata": {},
   "outputs": [],
   "source": []
  },
  {
   "cell_type": "code",
   "execution_count": null,
   "id": "5e60959e-973c-4ef4-89e8-5ef51ef2e87f",
   "metadata": {},
   "outputs": [],
   "source": []
  },
  {
   "cell_type": "code",
   "execution_count": null,
   "id": "520fd3f9-4a24-4033-b692-b143a68fae72",
   "metadata": {},
   "outputs": [],
   "source": []
  },
  {
   "cell_type": "code",
   "execution_count": null,
   "id": "c2314e65-2356-478a-8284-1648143a0dfa",
   "metadata": {},
   "outputs": [],
   "source": []
  },
  {
   "cell_type": "code",
   "execution_count": null,
   "id": "f88c1c4e-ef24-4779-a08b-3cd4de190ec1",
   "metadata": {},
   "outputs": [],
   "source": []
  },
  {
   "cell_type": "markdown",
   "id": "a9a1eabc-cab0-404c-9b8c-abeba75c5720",
   "metadata": {},
   "source": [
    "As the sex of the cat may impact the other variables, it would be a good idea to also look at the summary statistics for each sex. The idea to use both groupby and describe in the same line of code came from https://stackoverflow.com/questions/42579148/get-columns-describe-from-group-by."
   ]
  },
  {
   "cell_type": "code",
   "execution_count": null,
   "id": "4cb0b883-609a-4347-92a7-cc3fcfd78c47",
   "metadata": {},
   "outputs": [],
   "source": []
  },
  {
   "cell_type": "code",
   "execution_count": 24,
   "id": "47f7f2dc-2811-442e-9127-8bdf5d792e9c",
   "metadata": {},
   "outputs": [
    {
     "data": {
      "text/html": [
       "<div>\n",
       "<style scoped>\n",
       "    .dataframe tbody tr th:only-of-type {\n",
       "        vertical-align: middle;\n",
       "    }\n",
       "\n",
       "    .dataframe tbody tr th {\n",
       "        vertical-align: top;\n",
       "    }\n",
       "\n",
       "    .dataframe thead tr th {\n",
       "        text-align: left;\n",
       "    }\n",
       "\n",
       "    .dataframe thead tr:last-of-type th {\n",
       "        text-align: right;\n",
       "    }\n",
       "</style>\n",
       "<table border=\"1\" class=\"dataframe\">\n",
       "  <thead>\n",
       "    <tr>\n",
       "      <th></th>\n",
       "      <th colspan=\"8\" halign=\"left\">Bwt</th>\n",
       "      <th colspan=\"8\" halign=\"left\">Hwt</th>\n",
       "    </tr>\n",
       "    <tr>\n",
       "      <th></th>\n",
       "      <th>count</th>\n",
       "      <th>mean</th>\n",
       "      <th>std</th>\n",
       "      <th>min</th>\n",
       "      <th>25%</th>\n",
       "      <th>50%</th>\n",
       "      <th>75%</th>\n",
       "      <th>max</th>\n",
       "      <th>count</th>\n",
       "      <th>mean</th>\n",
       "      <th>std</th>\n",
       "      <th>min</th>\n",
       "      <th>25%</th>\n",
       "      <th>50%</th>\n",
       "      <th>75%</th>\n",
       "      <th>max</th>\n",
       "    </tr>\n",
       "    <tr>\n",
       "      <th>Sex</th>\n",
       "      <th></th>\n",
       "      <th></th>\n",
       "      <th></th>\n",
       "      <th></th>\n",
       "      <th></th>\n",
       "      <th></th>\n",
       "      <th></th>\n",
       "      <th></th>\n",
       "      <th></th>\n",
       "      <th></th>\n",
       "      <th></th>\n",
       "      <th></th>\n",
       "      <th></th>\n",
       "      <th></th>\n",
       "      <th></th>\n",
       "      <th></th>\n",
       "    </tr>\n",
       "  </thead>\n",
       "  <tbody>\n",
       "    <tr>\n",
       "      <th>F</th>\n",
       "      <td>47.0</td>\n",
       "      <td>2.359574</td>\n",
       "      <td>0.273988</td>\n",
       "      <td>2.0</td>\n",
       "      <td>2.15</td>\n",
       "      <td>2.3</td>\n",
       "      <td>2.5</td>\n",
       "      <td>3.0</td>\n",
       "      <td>47.0</td>\n",
       "      <td>9.202128</td>\n",
       "      <td>1.357666</td>\n",
       "      <td>6.3</td>\n",
       "      <td>8.35</td>\n",
       "      <td>9.1</td>\n",
       "      <td>10.1</td>\n",
       "      <td>13.0</td>\n",
       "    </tr>\n",
       "    <tr>\n",
       "      <th>M</th>\n",
       "      <td>97.0</td>\n",
       "      <td>2.900000</td>\n",
       "      <td>0.467484</td>\n",
       "      <td>2.0</td>\n",
       "      <td>2.50</td>\n",
       "      <td>2.9</td>\n",
       "      <td>3.2</td>\n",
       "      <td>3.9</td>\n",
       "      <td>97.0</td>\n",
       "      <td>11.322680</td>\n",
       "      <td>2.542288</td>\n",
       "      <td>6.5</td>\n",
       "      <td>9.40</td>\n",
       "      <td>11.4</td>\n",
       "      <td>12.8</td>\n",
       "      <td>20.5</td>\n",
       "    </tr>\n",
       "  </tbody>\n",
       "</table>\n",
       "</div>"
      ],
      "text/plain": [
       "      Bwt                                                 Hwt             \\\n",
       "    count      mean       std  min   25%  50%  75%  max count       mean   \n",
       "Sex                                                                        \n",
       "F    47.0  2.359574  0.273988  2.0  2.15  2.3  2.5  3.0  47.0   9.202128   \n",
       "M    97.0  2.900000  0.467484  2.0  2.50  2.9  3.2  3.9  97.0  11.322680   \n",
       "\n",
       "                                            \n",
       "          std  min   25%   50%   75%   max  \n",
       "Sex                                         \n",
       "F    1.357666  6.3  8.35   9.1  10.1  13.0  \n",
       "M    2.542288  6.5  9.40  11.4  12.8  20.5  "
      ]
     },
     "execution_count": 24,
     "metadata": {},
     "output_type": "execute_result"
    }
   ],
   "source": [
    "# View summary statistics for each sex\n",
    "df_cats.groupby(['Sex']).describe()"
   ]
  },
  {
   "cell_type": "markdown",
   "id": "80b5c848-f110-451f-8a0d-ab3e1769a224",
   "metadata": {},
   "source": [
    "The standard deviations of the male values for body weight and heart weight are much higher than for females, suggesting there is typically a greater variation in male sizes, whereas females tend to be more similar in body and heart weights to one another. "
   ]
  },
  {
   "cell_type": "code",
   "execution_count": null,
   "id": "e7f862af-dd75-4137-a9f2-f73196e636dc",
   "metadata": {},
   "outputs": [],
   "source": []
  },
  {
   "cell_type": "code",
   "execution_count": null,
   "id": "8903f816-58b4-438b-aec8-5ff10d8d81ad",
   "metadata": {},
   "outputs": [],
   "source": []
  },
  {
   "cell_type": "markdown",
   "id": "412deaaf-f370-4a09-b085-8cdc830ac8fc",
   "metadata": {},
   "source": [
    "It it will be helpful to plot the dataset to visualise the distributions of each variable. It will help to decide if the assumption of normally distributed data is justified. "
   ]
  },
  {
   "cell_type": "code",
   "execution_count": null,
   "id": "c8216240-34be-4fbf-9b68-a50df3a0bd2c",
   "metadata": {},
   "outputs": [],
   "source": []
  },
  {
   "cell_type": "code",
   "execution_count": 25,
   "id": "7a898c34-2449-4b8a-91f2-6323b19d70c7",
   "metadata": {},
   "outputs": [
    {
     "data": {
      "text/plain": [
       "<AxesSubplot:xlabel='Bwt', ylabel='Count'>"
      ]
     },
     "execution_count": 25,
     "metadata": {},
     "output_type": "execute_result"
    },
    {
     "data": {
      "image/png": "[encoded data removed]",
      "text/plain": [
       "<Figure size 432x288 with 1 Axes>"
      ]
     },
     "metadata": {
      "needs_background": "light"
     },
     "output_type": "display_data"
    }
   ],
   "source": [
    "# Plotting the body weight\n",
    "sns.histplot(data = df_cats, x = 'Bwt')"
   ]
  },
  {
   "cell_type": "code",
   "execution_count": 26,
   "id": "3b53e3a2-3b83-445f-a99b-b60ac35d626d",
   "metadata": {},
   "outputs": [
    {
     "data": {
      "text/plain": [
       "<AxesSubplot:xlabel='Bwt', ylabel='Count'>"
      ]
     },
     "execution_count": 26,
     "metadata": {},
     "output_type": "execute_result"
    },
    {
     "data": {
      "image/png": "[encoded data removed]",
      "text/plain": [
       "<Figure size 432x288 with 1 Axes>"
      ]
     },
     "metadata": {
      "needs_background": "light"
     },
     "output_type": "display_data"
    }
   ],
   "source": [
    "# Plotting the bodyweight by sex\n",
    "sns.histplot(data = df_cats, x = 'Bwt', hue = 'Sex', multiple=\"dodge\", kde=True)"
   ]
  },
  {
   "cell_type": "code",
   "execution_count": null,
   "id": "8d91b473-b835-4198-996f-ca2242dd407c",
   "metadata": {},
   "outputs": [],
   "source": []
  },
  {
   "cell_type": "code",
   "execution_count": 27,
   "id": "446a3eed-e452-493c-b98f-c92f52d6dc92",
   "metadata": {},
   "outputs": [
    {
     "data": {
      "text/plain": [
       "<AxesSubplot:xlabel='Hwt', ylabel='Count'>"
      ]
     },
     "execution_count": 27,
     "metadata": {},
     "output_type": "execute_result"
    },
    {
     "data": {
      "image/png": "[encoded data removed]",
      "text/plain": [
       "<Figure size 432x288 with 1 Axes>"
      ]
     },
     "metadata": {
      "needs_background": "light"
     },
     "output_type": "display_data"
    }
   ],
   "source": [
    "# Plotting the heart weight\n",
    "sns.histplot(data = df_cats, x = 'Hwt')"
   ]
  },
  {
   "cell_type": "code",
   "execution_count": 28,
   "id": "b60b63a5-a96a-48e5-9f7a-4ab42df13997",
   "metadata": {},
   "outputs": [
    {
     "data": {
      "text/plain": [
       "<AxesSubplot:xlabel='Hwt', ylabel='Count'>"
      ]
     },
     "execution_count": 28,
     "metadata": {},
     "output_type": "execute_result"
    },
    {
     "data": {
      "image/png": "[encoded data removed]",
      "text/plain": [
       "<Figure size 432x288 with 1 Axes>"
      ]
     },
     "metadata": {
      "needs_background": "light"
     },
     "output_type": "display_data"
    }
   ],
   "source": [
    "# Plotting the heart weight by sex\n",
    "sns.histplot(data = df_cats, x = 'Hwt', hue = 'Sex', multiple=\"dodge\", kde=True)"
   ]
  },
  {
   "cell_type": "markdown",
   "id": "9f463b42-c07b-4a9f-8a99-5db1ceb47142",
   "metadata": {},
   "source": [
    "Both the summary statistics and the plots suggest that sex has an influence over the distribution of the variables. \n",
    "The male datapoints appear to come close to the bell-shaped curve of a normal distribution, whereas the female datapoints seem to skew slightly.\n",
    "\n",
    "It might be a good idea to create two new dataframes containing the data for each sex."
   ]
  },
  {
   "cell_type": "code",
   "execution_count": 29,
   "id": "71b730c9-a7b7-44cb-94fd-28a67941f573",
   "metadata": {},
   "outputs": [],
   "source": [
    "# https://stackoverflow.com/questions/17071871/how-do-i-select-rows-from-a-dataframe-based-on-column-values\n",
    "# New df for each sex\n",
    "df_cats_female = df_cats.loc[df_cats['Sex'] == 'F']\n",
    "df_cats_male = df_cats.loc[df_cats['Sex'] == 'M']"
   ]
  },
  {
   "cell_type": "code",
   "execution_count": 30,
   "id": "872edfcb-da77-4666-aea1-c2a94ef2afd5",
   "metadata": {},
   "outputs": [
    {
     "data": {
      "text/html": [
       "<div>\n",
       "<style scoped>\n",
       "    .dataframe tbody tr th:only-of-type {\n",
       "        vertical-align: middle;\n",
       "    }\n",
       "\n",
       "    .dataframe tbody tr th {\n",
       "        vertical-align: top;\n",
       "    }\n",
       "\n",
       "    .dataframe thead th {\n",
       "        text-align: right;\n",
       "    }\n",
       "</style>\n",
       "<table border=\"1\" class=\"dataframe\">\n",
       "  <thead>\n",
       "    <tr style=\"text-align: right;\">\n",
       "      <th></th>\n",
       "      <th>Bwt</th>\n",
       "      <th>Hwt</th>\n",
       "    </tr>\n",
       "  </thead>\n",
       "  <tbody>\n",
       "    <tr>\n",
       "      <th>Bwt</th>\n",
       "      <td>1.00000</td>\n",
       "      <td>0.53205</td>\n",
       "    </tr>\n",
       "    <tr>\n",
       "      <th>Hwt</th>\n",
       "      <td>0.53205</td>\n",
       "      <td>1.00000</td>\n",
       "    </tr>\n",
       "  </tbody>\n",
       "</table>\n",
       "</div>"
      ],
      "text/plain": [
       "         Bwt      Hwt\n",
       "Bwt  1.00000  0.53205\n",
       "Hwt  0.53205  1.00000"
      ]
     },
     "execution_count": 30,
     "metadata": {},
     "output_type": "execute_result"
    }
   ],
   "source": [
    "df_cats_female.corr()"
   ]
  },
  {
   "cell_type": "code",
   "execution_count": 31,
   "id": "c2e6633a-1496-43e1-8c31-6072aab78f4c",
   "metadata": {},
   "outputs": [
    {
     "data": {
      "text/html": [
       "<div>\n",
       "<style scoped>\n",
       "    .dataframe tbody tr th:only-of-type {\n",
       "        vertical-align: middle;\n",
       "    }\n",
       "\n",
       "    .dataframe tbody tr th {\n",
       "        vertical-align: top;\n",
       "    }\n",
       "\n",
       "    .dataframe thead th {\n",
       "        text-align: right;\n",
       "    }\n",
       "</style>\n",
       "<table border=\"1\" class=\"dataframe\">\n",
       "  <thead>\n",
       "    <tr style=\"text-align: right;\">\n",
       "      <th></th>\n",
       "      <th>Bwt</th>\n",
       "      <th>Hwt</th>\n",
       "    </tr>\n",
       "  </thead>\n",
       "  <tbody>\n",
       "    <tr>\n",
       "      <th>Bwt</th>\n",
       "      <td>1.00000</td>\n",
       "      <td>0.79303</td>\n",
       "    </tr>\n",
       "    <tr>\n",
       "      <th>Hwt</th>\n",
       "      <td>0.79303</td>\n",
       "      <td>1.00000</td>\n",
       "    </tr>\n",
       "  </tbody>\n",
       "</table>\n",
       "</div>"
      ],
      "text/plain": [
       "         Bwt      Hwt\n",
       "Bwt  1.00000  0.79303\n",
       "Hwt  0.79303  1.00000"
      ]
     },
     "execution_count": 31,
     "metadata": {},
     "output_type": "execute_result"
    }
   ],
   "source": [
    "df_cats_male.corr()"
   ]
  },
  {
   "cell_type": "markdown",
   "id": "a3200851-c3c0-4eb9-9f13-0cd586b795c3",
   "metadata": {},
   "source": [
    "It is interesting to note that while both males and females have a strong positive correlation between bodyweight and heartweight, the correlation is much higher in males than females."
   ]
  },
  {
   "cell_type": "markdown",
   "id": "9da2f137-24da-4e51-8039-6945cd94f87f",
   "metadata": {},
   "source": [
    "We can use a statistical test for normality. \n",
    "\n",
    "https://www.ncbi.nlm.nih.gov/pmc/articles/PMC6350423/ recommends using Shapiro–Wilk test when sample sizes are under 50, which is the case with female samples. It can also be used for samples above 50, however, so it can also be used to test the male data also.\n",
    "\n",
    "The Shapiro-Wilk tests a null hypothesis that the data comes from a normal distribution. If the p-value is greater that 0.05, then the test fails to reject that null hypothesis. "
   ]
  },
  {
   "cell_type": "code",
   "execution_count": 32,
   "id": "e808ce23-ebac-49eb-973d-341cf22f51fe",
   "metadata": {},
   "outputs": [
    {
     "data": {
      "text/plain": [
       "ShapiroResult(statistic=0.9788321852684021, pvalue=0.11895745247602463)"
      ]
     },
     "execution_count": 32,
     "metadata": {},
     "output_type": "execute_result"
    }
   ],
   "source": [
    "from scipy.stats import shapiro\n",
    "\n",
    "#perform Shapiro-Wilk test on male body weight\n",
    "shapiro(df_cats_male['Bwt'])"
   ]
  },
  {
   "cell_type": "code",
   "execution_count": 33,
   "id": "ff3c5a5a-8224-45f9-a563-4cfb99d9597e",
   "metadata": {},
   "outputs": [
    {
     "data": {
      "text/plain": [
       "ShapiroResult(statistic=0.9772655963897705, pvalue=0.09039346873760223)"
      ]
     },
     "execution_count": 33,
     "metadata": {},
     "output_type": "execute_result"
    }
   ],
   "source": [
    "#perform Shapiro-Wilk test on male heart weight\n",
    "shapiro(df_cats_male['Hwt'])"
   ]
  },
  {
   "cell_type": "code",
   "execution_count": 34,
   "id": "cd74542a-5e49-4d84-97ca-6484c5c8539f",
   "metadata": {},
   "outputs": [
    {
     "data": {
      "text/plain": [
       "ShapiroResult(statistic=0.8909613490104675, pvalue=0.0003754299250431359)"
      ]
     },
     "execution_count": 34,
     "metadata": {},
     "output_type": "execute_result"
    }
   ],
   "source": [
    "#perform Shapiro-Wilk test on female body weight\n",
    "shapiro(df_cats_female['Bwt'])"
   ]
  },
  {
   "cell_type": "code",
   "execution_count": 35,
   "id": "84567965-f916-4906-b137-fa7aedededb7",
   "metadata": {},
   "outputs": [
    {
     "data": {
      "text/plain": [
       "ShapiroResult(statistic=0.9787967205047607, pvalue=0.5434856414794922)"
      ]
     },
     "execution_count": 35,
     "metadata": {},
     "output_type": "execute_result"
    }
   ],
   "source": [
    "#perform Shapiro-Wilk test on female heart weight\n",
    "shapiro(df_cats_female['Hwt'])"
   ]
  },
  {
   "cell_type": "markdown",
   "id": "41ed95c7-24da-4478-b3bd-9be9c75bf13c",
   "metadata": {},
   "source": [
    "These test results suggest that we can assume that male body weights, heart weights, and female heart weights were drawn from a normal distribution. However, the p-value for female body weights suggests that we can assume that this data is not normally distributed. This is unusual, as weights are often normally distributed[x]. This may be a false result due to the low sample size https://machinelearningmastery.com/how-to-transform-data-to-fit-the-normal-distribution/ \n",
    "\n",
    "For now, we will proceed as before and use numpy random's multivariate normal to generate data for each sex and see if it will generate a sample that sufficiently simulates the original."
   ]
  },
  {
   "cell_type": "code",
   "execution_count": 36,
   "id": "fe2fda9a-fcc8-413d-980d-22ecc315713f",
   "metadata": {},
   "outputs": [
    {
     "data": {
      "text/html": [
       "<div>\n",
       "<style scoped>\n",
       "    .dataframe tbody tr th:only-of-type {\n",
       "        vertical-align: middle;\n",
       "    }\n",
       "\n",
       "    .dataframe tbody tr th {\n",
       "        vertical-align: top;\n",
       "    }\n",
       "\n",
       "    .dataframe thead th {\n",
       "        text-align: right;\n",
       "    }\n",
       "</style>\n",
       "<table border=\"1\" class=\"dataframe\">\n",
       "  <thead>\n",
       "    <tr style=\"text-align: right;\">\n",
       "      <th></th>\n",
       "      <th>Bwt</th>\n",
       "      <th>Hwt</th>\n",
       "    </tr>\n",
       "  </thead>\n",
       "  <tbody>\n",
       "    <tr>\n",
       "      <th>Bwt</th>\n",
       "      <td>0.075069</td>\n",
       "      <td>0.197914</td>\n",
       "    </tr>\n",
       "    <tr>\n",
       "      <th>Hwt</th>\n",
       "      <td>0.197914</td>\n",
       "      <td>1.843256</td>\n",
       "    </tr>\n",
       "  </tbody>\n",
       "</table>\n",
       "</div>"
      ],
      "text/plain": [
       "          Bwt       Hwt\n",
       "Bwt  0.075069  0.197914\n",
       "Hwt  0.197914  1.843256"
      ]
     },
     "execution_count": 36,
     "metadata": {},
     "output_type": "execute_result"
    }
   ],
   "source": [
    "# Generate random data for female cats\n",
    "# Get covariance matrix for female cats\n",
    "df_cats_female.cov()"
   ]
  },
  {
   "cell_type": "code",
   "execution_count": 37,
   "id": "ae30a5b4-2e64-4c3a-984f-66047b8b0637",
   "metadata": {},
   "outputs": [],
   "source": [
    "# Generate multivariate random data based on the original female df mean and covariance\n",
    "mean_f = [2.359574, 9.202128]\n",
    "cov_f = [[0.075069, 0.197914], [0.197914, 1.843256]]\n",
    "size_f = 100\n",
    "\n",
    "female_cats_mvn = rng.multivariate_normal(mean, cov, size)"
   ]
  },
  {
   "cell_type": "code",
   "execution_count": 38,
   "id": "064a56ed-fd8b-4436-baec-22de9446b316",
   "metadata": {},
   "outputs": [],
   "source": [
    "# Convert random array to pandas df\n",
    "df_female_cats_mvn = pd.DataFrame(female_cats_mvn, columns = ['Bwt', 'Hwt'])"
   ]
  },
  {
   "cell_type": "code",
   "execution_count": 39,
   "id": "52cb017b-0e3b-4e98-b15f-b2432e3b8996",
   "metadata": {},
   "outputs": [
    {
     "data": {
      "text/html": [
       "<div>\n",
       "<style scoped>\n",
       "    .dataframe tbody tr th:only-of-type {\n",
       "        vertical-align: middle;\n",
       "    }\n",
       "\n",
       "    .dataframe tbody tr th {\n",
       "        vertical-align: top;\n",
       "    }\n",
       "\n",
       "    .dataframe thead th {\n",
       "        text-align: right;\n",
       "    }\n",
       "</style>\n",
       "<table border=\"1\" class=\"dataframe\">\n",
       "  <thead>\n",
       "    <tr style=\"text-align: right;\">\n",
       "      <th></th>\n",
       "      <th>Bwt</th>\n",
       "      <th>Hwt</th>\n",
       "    </tr>\n",
       "  </thead>\n",
       "  <tbody>\n",
       "    <tr>\n",
       "      <th>count</th>\n",
       "      <td>200.000000</td>\n",
       "      <td>200.000000</td>\n",
       "    </tr>\n",
       "    <tr>\n",
       "      <th>mean</th>\n",
       "      <td>2.712683</td>\n",
       "      <td>10.441264</td>\n",
       "    </tr>\n",
       "    <tr>\n",
       "      <th>std</th>\n",
       "      <td>0.473681</td>\n",
       "      <td>2.399812</td>\n",
       "    </tr>\n",
       "    <tr>\n",
       "      <th>min</th>\n",
       "      <td>1.491332</td>\n",
       "      <td>4.069209</td>\n",
       "    </tr>\n",
       "    <tr>\n",
       "      <th>25%</th>\n",
       "      <td>2.398186</td>\n",
       "      <td>8.753659</td>\n",
       "    </tr>\n",
       "    <tr>\n",
       "      <th>50%</th>\n",
       "      <td>2.673018</td>\n",
       "      <td>10.416007</td>\n",
       "    </tr>\n",
       "    <tr>\n",
       "      <th>75%</th>\n",
       "      <td>3.010240</td>\n",
       "      <td>12.188408</td>\n",
       "    </tr>\n",
       "    <tr>\n",
       "      <th>max</th>\n",
       "      <td>4.073439</td>\n",
       "      <td>17.428950</td>\n",
       "    </tr>\n",
       "  </tbody>\n",
       "</table>\n",
       "</div>"
      ],
      "text/plain": [
       "              Bwt         Hwt\n",
       "count  200.000000  200.000000\n",
       "mean     2.712683   10.441264\n",
       "std      0.473681    2.399812\n",
       "min      1.491332    4.069209\n",
       "25%      2.398186    8.753659\n",
       "50%      2.673018   10.416007\n",
       "75%      3.010240   12.188408\n",
       "max      4.073439   17.428950"
      ]
     },
     "execution_count": 39,
     "metadata": {},
     "output_type": "execute_result"
    }
   ],
   "source": [
    "df_female_cats_mvn.describe()"
   ]
  },
  {
   "cell_type": "code",
   "execution_count": 40,
   "id": "91af9d2e-d8dd-41ba-880d-1f052b2d496a",
   "metadata": {},
   "outputs": [],
   "source": [
    "# Add a column with sex of female\n",
    "df_female_cats_mvn['Sex'] = 'F'"
   ]
  },
  {
   "cell_type": "code",
   "execution_count": 41,
   "id": "5cbffad9-33ce-4268-ad27-7b1869751be6",
   "metadata": {},
   "outputs": [
    {
     "data": {
      "text/html": [
       "<div>\n",
       "<style scoped>\n",
       "    .dataframe tbody tr th:only-of-type {\n",
       "        vertical-align: middle;\n",
       "    }\n",
       "\n",
       "    .dataframe tbody tr th {\n",
       "        vertical-align: top;\n",
       "    }\n",
       "\n",
       "    .dataframe thead th {\n",
       "        text-align: right;\n",
       "    }\n",
       "</style>\n",
       "<table border=\"1\" class=\"dataframe\">\n",
       "  <thead>\n",
       "    <tr style=\"text-align: right;\">\n",
       "      <th></th>\n",
       "      <th>Bwt</th>\n",
       "      <th>Hwt</th>\n",
       "      <th>Sex</th>\n",
       "    </tr>\n",
       "  </thead>\n",
       "  <tbody>\n",
       "    <tr>\n",
       "      <th>0</th>\n",
       "      <td>2.443301</td>\n",
       "      <td>10.230715</td>\n",
       "      <td>F</td>\n",
       "    </tr>\n",
       "    <tr>\n",
       "      <th>1</th>\n",
       "      <td>2.412691</td>\n",
       "      <td>7.741395</td>\n",
       "      <td>F</td>\n",
       "    </tr>\n",
       "    <tr>\n",
       "      <th>2</th>\n",
       "      <td>2.609000</td>\n",
       "      <td>11.198781</td>\n",
       "      <td>F</td>\n",
       "    </tr>\n",
       "    <tr>\n",
       "      <th>3</th>\n",
       "      <td>3.504683</td>\n",
       "      <td>16.212305</td>\n",
       "      <td>F</td>\n",
       "    </tr>\n",
       "    <tr>\n",
       "      <th>4</th>\n",
       "      <td>2.411962</td>\n",
       "      <td>13.402982</td>\n",
       "      <td>F</td>\n",
       "    </tr>\n",
       "    <tr>\n",
       "      <th>...</th>\n",
       "      <td>...</td>\n",
       "      <td>...</td>\n",
       "      <td>...</td>\n",
       "    </tr>\n",
       "    <tr>\n",
       "      <th>195</th>\n",
       "      <td>3.263683</td>\n",
       "      <td>12.932252</td>\n",
       "      <td>F</td>\n",
       "    </tr>\n",
       "    <tr>\n",
       "      <th>196</th>\n",
       "      <td>3.135646</td>\n",
       "      <td>12.422708</td>\n",
       "      <td>F</td>\n",
       "    </tr>\n",
       "    <tr>\n",
       "      <th>197</th>\n",
       "      <td>2.505695</td>\n",
       "      <td>9.834411</td>\n",
       "      <td>F</td>\n",
       "    </tr>\n",
       "    <tr>\n",
       "      <th>198</th>\n",
       "      <td>2.546921</td>\n",
       "      <td>8.342498</td>\n",
       "      <td>F</td>\n",
       "    </tr>\n",
       "    <tr>\n",
       "      <th>199</th>\n",
       "      <td>3.178639</td>\n",
       "      <td>14.810850</td>\n",
       "      <td>F</td>\n",
       "    </tr>\n",
       "  </tbody>\n",
       "</table>\n",
       "<p>200 rows × 3 columns</p>\n",
       "</div>"
      ],
      "text/plain": [
       "          Bwt        Hwt Sex\n",
       "0    2.443301  10.230715   F\n",
       "1    2.412691   7.741395   F\n",
       "2    2.609000  11.198781   F\n",
       "3    3.504683  16.212305   F\n",
       "4    2.411962  13.402982   F\n",
       "..        ...        ...  ..\n",
       "195  3.263683  12.932252   F\n",
       "196  3.135646  12.422708   F\n",
       "197  2.505695   9.834411   F\n",
       "198  2.546921   8.342498   F\n",
       "199  3.178639  14.810850   F\n",
       "\n",
       "[200 rows x 3 columns]"
      ]
     },
     "execution_count": 41,
     "metadata": {},
     "output_type": "execute_result"
    }
   ],
   "source": [
    "# View dataframe\n",
    "df_female_cats_mvn"
   ]
  },
  {
   "cell_type": "code",
   "execution_count": 42,
   "id": "e7509404-c675-4e98-b8a1-7e20e4a37a24",
   "metadata": {},
   "outputs": [
    {
     "data": {
      "text/html": [
       "<div>\n",
       "<style scoped>\n",
       "    .dataframe tbody tr th:only-of-type {\n",
       "        vertical-align: middle;\n",
       "    }\n",
       "\n",
       "    .dataframe tbody tr th {\n",
       "        vertical-align: top;\n",
       "    }\n",
       "\n",
       "    .dataframe thead th {\n",
       "        text-align: right;\n",
       "    }\n",
       "</style>\n",
       "<table border=\"1\" class=\"dataframe\">\n",
       "  <thead>\n",
       "    <tr style=\"text-align: right;\">\n",
       "      <th></th>\n",
       "      <th>Bwt</th>\n",
       "      <th>Hwt</th>\n",
       "    </tr>\n",
       "  </thead>\n",
       "  <tbody>\n",
       "    <tr>\n",
       "      <th>Bwt</th>\n",
       "      <td>0.218542</td>\n",
       "      <td>0.94250</td>\n",
       "    </tr>\n",
       "    <tr>\n",
       "      <th>Hwt</th>\n",
       "      <td>0.942500</td>\n",
       "      <td>6.46323</td>\n",
       "    </tr>\n",
       "  </tbody>\n",
       "</table>\n",
       "</div>"
      ],
      "text/plain": [
       "          Bwt      Hwt\n",
       "Bwt  0.218542  0.94250\n",
       "Hwt  0.942500  6.46323"
      ]
     },
     "execution_count": 42,
     "metadata": {},
     "output_type": "execute_result"
    }
   ],
   "source": [
    "# Generate random data for male cats\n",
    "# Get covariance matrix for male cats\n",
    "df_cats_male.cov()"
   ]
  },
  {
   "cell_type": "code",
   "execution_count": 43,
   "id": "00581985-fe33-4001-aa70-7a3825693029",
   "metadata": {},
   "outputs": [],
   "source": [
    "# Generate multivariate random data based on the original male df mean and covariance\n",
    "mean_m = [2.900000, 11.322680]\n",
    "cov_m = [[0.218542, 0.94250], [0.942500, 6.46323]]\n",
    "size_m = 200 # Increased size vs female as original had more males than females\n",
    "\n",
    "male_cats_mvn = rng.multivariate_normal(mean, cov, size)"
   ]
  },
  {
   "cell_type": "code",
   "execution_count": 44,
   "id": "319fce3b-9978-4197-8e69-fa78eebf7187",
   "metadata": {},
   "outputs": [],
   "source": [
    "# Convert random array to pandas df\n",
    "df_male_cats_mvn = pd.DataFrame(male_cats_mvn, columns = ['Bwt', 'Hwt'])"
   ]
  },
  {
   "cell_type": "code",
   "execution_count": 45,
   "id": "7ccf52c7-89bc-4c3c-9c35-8784587468e2",
   "metadata": {},
   "outputs": [
    {
     "data": {
      "text/html": [
       "<div>\n",
       "<style scoped>\n",
       "    .dataframe tbody tr th:only-of-type {\n",
       "        vertical-align: middle;\n",
       "    }\n",
       "\n",
       "    .dataframe tbody tr th {\n",
       "        vertical-align: top;\n",
       "    }\n",
       "\n",
       "    .dataframe thead th {\n",
       "        text-align: right;\n",
       "    }\n",
       "</style>\n",
       "<table border=\"1\" class=\"dataframe\">\n",
       "  <thead>\n",
       "    <tr style=\"text-align: right;\">\n",
       "      <th></th>\n",
       "      <th>Bwt</th>\n",
       "      <th>Hwt</th>\n",
       "    </tr>\n",
       "  </thead>\n",
       "  <tbody>\n",
       "    <tr>\n",
       "      <th>count</th>\n",
       "      <td>200.000000</td>\n",
       "      <td>200.000000</td>\n",
       "    </tr>\n",
       "    <tr>\n",
       "      <th>mean</th>\n",
       "      <td>2.673927</td>\n",
       "      <td>10.431972</td>\n",
       "    </tr>\n",
       "    <tr>\n",
       "      <th>std</th>\n",
       "      <td>0.492896</td>\n",
       "      <td>2.381175</td>\n",
       "    </tr>\n",
       "    <tr>\n",
       "      <th>min</th>\n",
       "      <td>1.512569</td>\n",
       "      <td>4.423158</td>\n",
       "    </tr>\n",
       "    <tr>\n",
       "      <th>25%</th>\n",
       "      <td>2.349462</td>\n",
       "      <td>8.880550</td>\n",
       "    </tr>\n",
       "    <tr>\n",
       "      <th>50%</th>\n",
       "      <td>2.642378</td>\n",
       "      <td>10.229334</td>\n",
       "    </tr>\n",
       "    <tr>\n",
       "      <th>75%</th>\n",
       "      <td>2.979107</td>\n",
       "      <td>11.918122</td>\n",
       "    </tr>\n",
       "    <tr>\n",
       "      <th>max</th>\n",
       "      <td>4.045226</td>\n",
       "      <td>16.844460</td>\n",
       "    </tr>\n",
       "  </tbody>\n",
       "</table>\n",
       "</div>"
      ],
      "text/plain": [
       "              Bwt         Hwt\n",
       "count  200.000000  200.000000\n",
       "mean     2.673927   10.431972\n",
       "std      0.492896    2.381175\n",
       "min      1.512569    4.423158\n",
       "25%      2.349462    8.880550\n",
       "50%      2.642378   10.229334\n",
       "75%      2.979107   11.918122\n",
       "max      4.045226   16.844460"
      ]
     },
     "execution_count": 45,
     "metadata": {},
     "output_type": "execute_result"
    }
   ],
   "source": [
    "df_male_cats_mvn.describe()"
   ]
  },
  {
   "cell_type": "code",
   "execution_count": 46,
   "id": "8c749a2f-039a-4ade-ba97-a18675b49440",
   "metadata": {},
   "outputs": [],
   "source": [
    "# Add a column with sex of female\n",
    "df_male_cats_mvn['Sex'] = 'M'"
   ]
  },
  {
   "cell_type": "code",
   "execution_count": 47,
   "id": "c63cb854-8918-4efc-a2dc-d7a3bb165269",
   "metadata": {},
   "outputs": [
    {
     "data": {
      "text/html": [
       "<div>\n",
       "<style scoped>\n",
       "    .dataframe tbody tr th:only-of-type {\n",
       "        vertical-align: middle;\n",
       "    }\n",
       "\n",
       "    .dataframe tbody tr th {\n",
       "        vertical-align: top;\n",
       "    }\n",
       "\n",
       "    .dataframe thead th {\n",
       "        text-align: right;\n",
       "    }\n",
       "</style>\n",
       "<table border=\"1\" class=\"dataframe\">\n",
       "  <thead>\n",
       "    <tr style=\"text-align: right;\">\n",
       "      <th></th>\n",
       "      <th>Bwt</th>\n",
       "      <th>Hwt</th>\n",
       "      <th>Sex</th>\n",
       "    </tr>\n",
       "  </thead>\n",
       "  <tbody>\n",
       "    <tr>\n",
       "      <th>0</th>\n",
       "      <td>2.310157</td>\n",
       "      <td>9.960437</td>\n",
       "      <td>M</td>\n",
       "    </tr>\n",
       "    <tr>\n",
       "      <th>1</th>\n",
       "      <td>1.962345</td>\n",
       "      <td>10.076222</td>\n",
       "      <td>M</td>\n",
       "    </tr>\n",
       "    <tr>\n",
       "      <th>2</th>\n",
       "      <td>2.392056</td>\n",
       "      <td>7.449093</td>\n",
       "      <td>M</td>\n",
       "    </tr>\n",
       "    <tr>\n",
       "      <th>3</th>\n",
       "      <td>2.745830</td>\n",
       "      <td>11.041333</td>\n",
       "      <td>M</td>\n",
       "    </tr>\n",
       "    <tr>\n",
       "      <th>4</th>\n",
       "      <td>2.680189</td>\n",
       "      <td>8.082526</td>\n",
       "      <td>M</td>\n",
       "    </tr>\n",
       "    <tr>\n",
       "      <th>...</th>\n",
       "      <td>...</td>\n",
       "      <td>...</td>\n",
       "      <td>...</td>\n",
       "    </tr>\n",
       "    <tr>\n",
       "      <th>195</th>\n",
       "      <td>2.568642</td>\n",
       "      <td>9.431852</td>\n",
       "      <td>M</td>\n",
       "    </tr>\n",
       "    <tr>\n",
       "      <th>196</th>\n",
       "      <td>2.640643</td>\n",
       "      <td>11.004520</td>\n",
       "      <td>M</td>\n",
       "    </tr>\n",
       "    <tr>\n",
       "      <th>197</th>\n",
       "      <td>2.611926</td>\n",
       "      <td>10.476593</td>\n",
       "      <td>M</td>\n",
       "    </tr>\n",
       "    <tr>\n",
       "      <th>198</th>\n",
       "      <td>2.637750</td>\n",
       "      <td>7.697425</td>\n",
       "      <td>M</td>\n",
       "    </tr>\n",
       "    <tr>\n",
       "      <th>199</th>\n",
       "      <td>2.481915</td>\n",
       "      <td>7.181603</td>\n",
       "      <td>M</td>\n",
       "    </tr>\n",
       "  </tbody>\n",
       "</table>\n",
       "<p>200 rows × 3 columns</p>\n",
       "</div>"
      ],
      "text/plain": [
       "          Bwt        Hwt Sex\n",
       "0    2.310157   9.960437   M\n",
       "1    1.962345  10.076222   M\n",
       "2    2.392056   7.449093   M\n",
       "3    2.745830  11.041333   M\n",
       "4    2.680189   8.082526   M\n",
       "..        ...        ...  ..\n",
       "195  2.568642   9.431852   M\n",
       "196  2.640643  11.004520   M\n",
       "197  2.611926  10.476593   M\n",
       "198  2.637750   7.697425   M\n",
       "199  2.481915   7.181603   M\n",
       "\n",
       "[200 rows x 3 columns]"
      ]
     },
     "execution_count": 47,
     "metadata": {},
     "output_type": "execute_result"
    }
   ],
   "source": [
    "# View dataframe\n",
    "df_male_cats_mvn"
   ]
  },
  {
   "cell_type": "code",
   "execution_count": 48,
   "id": "0c03e5a6-9cb2-4345-83ed-cc164305d588",
   "metadata": {},
   "outputs": [],
   "source": [
    "# ConCAT male and female dfs\n",
    "all_cats_mvn = pd.concat([df_female_cats_mvn, df_male_cats_mvn])"
   ]
  },
  {
   "cell_type": "code",
   "execution_count": 49,
   "id": "6d89ddbe-5f38-41d5-9e2e-898d4a90dff2",
   "metadata": {},
   "outputs": [],
   "source": [
    "# Round the values of the random df to one decimal place as with the original dataset\n",
    "all_cats_mvn = all_cats_mvn.round(1)"
   ]
  },
  {
   "cell_type": "code",
   "execution_count": 50,
   "id": "4ee06c82-e65c-4a32-b85f-9dc4c6433cea",
   "metadata": {},
   "outputs": [
    {
     "data": {
      "text/html": [
       "<div>\n",
       "<style scoped>\n",
       "    .dataframe tbody tr th:only-of-type {\n",
       "        vertical-align: middle;\n",
       "    }\n",
       "\n",
       "    .dataframe tbody tr th {\n",
       "        vertical-align: top;\n",
       "    }\n",
       "\n",
       "    .dataframe thead th {\n",
       "        text-align: right;\n",
       "    }\n",
       "</style>\n",
       "<table border=\"1\" class=\"dataframe\">\n",
       "  <thead>\n",
       "    <tr style=\"text-align: right;\">\n",
       "      <th></th>\n",
       "      <th>Sex</th>\n",
       "      <th>Bwt</th>\n",
       "      <th>Hwt</th>\n",
       "    </tr>\n",
       "  </thead>\n",
       "  <tbody>\n",
       "    <tr>\n",
       "      <th>0</th>\n",
       "      <td>F</td>\n",
       "      <td>2.4</td>\n",
       "      <td>10.2</td>\n",
       "    </tr>\n",
       "    <tr>\n",
       "      <th>1</th>\n",
       "      <td>F</td>\n",
       "      <td>2.4</td>\n",
       "      <td>7.7</td>\n",
       "    </tr>\n",
       "    <tr>\n",
       "      <th>2</th>\n",
       "      <td>F</td>\n",
       "      <td>2.6</td>\n",
       "      <td>11.2</td>\n",
       "    </tr>\n",
       "    <tr>\n",
       "      <th>3</th>\n",
       "      <td>F</td>\n",
       "      <td>3.5</td>\n",
       "      <td>16.2</td>\n",
       "    </tr>\n",
       "    <tr>\n",
       "      <th>4</th>\n",
       "      <td>F</td>\n",
       "      <td>2.4</td>\n",
       "      <td>13.4</td>\n",
       "    </tr>\n",
       "    <tr>\n",
       "      <th>...</th>\n",
       "      <td>...</td>\n",
       "      <td>...</td>\n",
       "      <td>...</td>\n",
       "    </tr>\n",
       "    <tr>\n",
       "      <th>195</th>\n",
       "      <td>M</td>\n",
       "      <td>2.6</td>\n",
       "      <td>9.4</td>\n",
       "    </tr>\n",
       "    <tr>\n",
       "      <th>196</th>\n",
       "      <td>M</td>\n",
       "      <td>2.6</td>\n",
       "      <td>11.0</td>\n",
       "    </tr>\n",
       "    <tr>\n",
       "      <th>197</th>\n",
       "      <td>M</td>\n",
       "      <td>2.6</td>\n",
       "      <td>10.5</td>\n",
       "    </tr>\n",
       "    <tr>\n",
       "      <th>198</th>\n",
       "      <td>M</td>\n",
       "      <td>2.6</td>\n",
       "      <td>7.7</td>\n",
       "    </tr>\n",
       "    <tr>\n",
       "      <th>199</th>\n",
       "      <td>M</td>\n",
       "      <td>2.5</td>\n",
       "      <td>7.2</td>\n",
       "    </tr>\n",
       "  </tbody>\n",
       "</table>\n",
       "<p>400 rows × 3 columns</p>\n",
       "</div>"
      ],
      "text/plain": [
       "    Sex  Bwt   Hwt\n",
       "0     F  2.4  10.2\n",
       "1     F  2.4   7.7\n",
       "2     F  2.6  11.2\n",
       "3     F  3.5  16.2\n",
       "4     F  2.4  13.4\n",
       "..   ..  ...   ...\n",
       "195   M  2.6   9.4\n",
       "196   M  2.6  11.0\n",
       "197   M  2.6  10.5\n",
       "198   M  2.6   7.7\n",
       "199   M  2.5   7.2\n",
       "\n",
       "[400 rows x 3 columns]"
      ]
     },
     "execution_count": 50,
     "metadata": {},
     "output_type": "execute_result"
    }
   ],
   "source": [
    "# Move Sex column to the front as with original dataset\n",
    "# # https://stackoverflow.com/questions/25122099/move-column-by-name-to-front-of-table-in-pandas\n",
    "sex = all_cats_mvn['Sex']\n",
    "all_cats_mvn.drop(labels=['Sex'], axis=1,inplace = True)\n",
    "all_cats_mvn.insert(0, 'Sex', sex)\n",
    "all_cats_mvn"
   ]
  },
  {
   "cell_type": "code",
   "execution_count": 51,
   "id": "ad96ef8b-dfa0-449f-9369-21973cfa43f3",
   "metadata": {},
   "outputs": [
    {
     "data": {
      "text/html": [
       "<div>\n",
       "<style scoped>\n",
       "    .dataframe tbody tr th:only-of-type {\n",
       "        vertical-align: middle;\n",
       "    }\n",
       "\n",
       "    .dataframe tbody tr th {\n",
       "        vertical-align: top;\n",
       "    }\n",
       "\n",
       "    .dataframe thead th {\n",
       "        text-align: right;\n",
       "    }\n",
       "</style>\n",
       "<table border=\"1\" class=\"dataframe\">\n",
       "  <thead>\n",
       "    <tr style=\"text-align: right;\">\n",
       "      <th></th>\n",
       "      <th>Bwt</th>\n",
       "      <th>Hwt</th>\n",
       "    </tr>\n",
       "  </thead>\n",
       "  <tbody>\n",
       "    <tr>\n",
       "      <th>count</th>\n",
       "      <td>400.000000</td>\n",
       "      <td>400.000000</td>\n",
       "    </tr>\n",
       "    <tr>\n",
       "      <th>mean</th>\n",
       "      <td>2.695500</td>\n",
       "      <td>10.434000</td>\n",
       "    </tr>\n",
       "    <tr>\n",
       "      <th>std</th>\n",
       "      <td>0.482921</td>\n",
       "      <td>2.388505</td>\n",
       "    </tr>\n",
       "    <tr>\n",
       "      <th>min</th>\n",
       "      <td>1.500000</td>\n",
       "      <td>4.100000</td>\n",
       "    </tr>\n",
       "    <tr>\n",
       "      <th>25%</th>\n",
       "      <td>2.400000</td>\n",
       "      <td>8.800000</td>\n",
       "    </tr>\n",
       "    <tr>\n",
       "      <th>50%</th>\n",
       "      <td>2.700000</td>\n",
       "      <td>10.350000</td>\n",
       "    </tr>\n",
       "    <tr>\n",
       "      <th>75%</th>\n",
       "      <td>3.000000</td>\n",
       "      <td>12.025000</td>\n",
       "    </tr>\n",
       "    <tr>\n",
       "      <th>max</th>\n",
       "      <td>4.100000</td>\n",
       "      <td>17.400000</td>\n",
       "    </tr>\n",
       "  </tbody>\n",
       "</table>\n",
       "</div>"
      ],
      "text/plain": [
       "              Bwt         Hwt\n",
       "count  400.000000  400.000000\n",
       "mean     2.695500   10.434000\n",
       "std      0.482921    2.388505\n",
       "min      1.500000    4.100000\n",
       "25%      2.400000    8.800000\n",
       "50%      2.700000   10.350000\n",
       "75%      3.000000   12.025000\n",
       "max      4.100000   17.400000"
      ]
     },
     "execution_count": 51,
     "metadata": {},
     "output_type": "execute_result"
    }
   ],
   "source": [
    "all_cats_mvn.describe()"
   ]
  },
  {
   "cell_type": "code",
   "execution_count": 52,
   "id": "f89821db-f6d3-42c0-90dd-fdf3b09e7475",
   "metadata": {},
   "outputs": [
    {
     "data": {
      "text/plain": [
       "<AxesSubplot:xlabel='Bwt', ylabel='Hwt'>"
      ]
     },
     "execution_count": 52,
     "metadata": {},
     "output_type": "execute_result"
    },
    {
     "data": {
      "image/png": "[encoded data removed]",
      "text/plain": [
       "<Figure size 432x288 with 1 Axes>"
      ]
     },
     "metadata": {
      "needs_background": "light"
     },
     "output_type": "display_data"
    }
   ],
   "source": [
    "# scatterplot of original bwt and hwt\n",
    "sns.scatterplot(data = all_cats_mvn, x = 'Bwt', y= 'Hwt', hue = 'Sex')"
   ]
  },
  {
   "cell_type": "code",
   "execution_count": 53,
   "id": "6b8f1e6e-fb9c-45ed-8ca3-88258c84f446",
   "metadata": {},
   "outputs": [
    {
     "data": {
      "text/html": [
       "<div>\n",
       "<style scoped>\n",
       "    .dataframe tbody tr th:only-of-type {\n",
       "        vertical-align: middle;\n",
       "    }\n",
       "\n",
       "    .dataframe tbody tr th {\n",
       "        vertical-align: top;\n",
       "    }\n",
       "\n",
       "    .dataframe thead th {\n",
       "        text-align: right;\n",
       "    }\n",
       "</style>\n",
       "<table border=\"1\" class=\"dataframe\">\n",
       "  <thead>\n",
       "    <tr style=\"text-align: right;\">\n",
       "      <th></th>\n",
       "      <th>Bwt</th>\n",
       "      <th>Hwt</th>\n",
       "    </tr>\n",
       "  </thead>\n",
       "  <tbody>\n",
       "    <tr>\n",
       "      <th>Bwt</th>\n",
       "      <td>1.000000</td>\n",
       "      <td>0.802297</td>\n",
       "    </tr>\n",
       "    <tr>\n",
       "      <th>Hwt</th>\n",
       "      <td>0.802297</td>\n",
       "      <td>1.000000</td>\n",
       "    </tr>\n",
       "  </tbody>\n",
       "</table>\n",
       "</div>"
      ],
      "text/plain": [
       "          Bwt       Hwt\n",
       "Bwt  1.000000  0.802297\n",
       "Hwt  0.802297  1.000000"
      ]
     },
     "execution_count": 53,
     "metadata": {},
     "output_type": "execute_result"
    }
   ],
   "source": [
    "all_cats_mvn.corr()"
   ]
  },
  {
   "cell_type": "markdown",
   "id": "a6133b6d-56dc-44dc-88d4-fcb5d54f6f91",
   "metadata": {},
   "source": [
    "Let's remind ourselves of the descriptive statistics, scatterplot, and correlation of the original dataset for comparison."
   ]
  },
  {
   "cell_type": "code",
   "execution_count": 54,
   "id": "4bfb6267-b601-4a71-9156-c91887c79451",
   "metadata": {},
   "outputs": [
    {
     "data": {
      "text/html": [
       "<div>\n",
       "<style scoped>\n",
       "    .dataframe tbody tr th:only-of-type {\n",
       "        vertical-align: middle;\n",
       "    }\n",
       "\n",
       "    .dataframe tbody tr th {\n",
       "        vertical-align: top;\n",
       "    }\n",
       "\n",
       "    .dataframe thead th {\n",
       "        text-align: right;\n",
       "    }\n",
       "</style>\n",
       "<table border=\"1\" class=\"dataframe\">\n",
       "  <thead>\n",
       "    <tr style=\"text-align: right;\">\n",
       "      <th></th>\n",
       "      <th>Bwt</th>\n",
       "      <th>Hwt</th>\n",
       "    </tr>\n",
       "  </thead>\n",
       "  <tbody>\n",
       "    <tr>\n",
       "      <th>count</th>\n",
       "      <td>144.000000</td>\n",
       "      <td>144.000000</td>\n",
       "    </tr>\n",
       "    <tr>\n",
       "      <th>mean</th>\n",
       "      <td>2.723611</td>\n",
       "      <td>10.630556</td>\n",
       "    </tr>\n",
       "    <tr>\n",
       "      <th>std</th>\n",
       "      <td>0.485307</td>\n",
       "      <td>2.434636</td>\n",
       "    </tr>\n",
       "    <tr>\n",
       "      <th>min</th>\n",
       "      <td>2.000000</td>\n",
       "      <td>6.300000</td>\n",
       "    </tr>\n",
       "    <tr>\n",
       "      <th>25%</th>\n",
       "      <td>2.300000</td>\n",
       "      <td>8.950000</td>\n",
       "    </tr>\n",
       "    <tr>\n",
       "      <th>50%</th>\n",
       "      <td>2.700000</td>\n",
       "      <td>10.100000</td>\n",
       "    </tr>\n",
       "    <tr>\n",
       "      <th>75%</th>\n",
       "      <td>3.025000</td>\n",
       "      <td>12.125000</td>\n",
       "    </tr>\n",
       "    <tr>\n",
       "      <th>max</th>\n",
       "      <td>3.900000</td>\n",
       "      <td>20.500000</td>\n",
       "    </tr>\n",
       "  </tbody>\n",
       "</table>\n",
       "</div>"
      ],
      "text/plain": [
       "              Bwt         Hwt\n",
       "count  144.000000  144.000000\n",
       "mean     2.723611   10.630556\n",
       "std      0.485307    2.434636\n",
       "min      2.000000    6.300000\n",
       "25%      2.300000    8.950000\n",
       "50%      2.700000   10.100000\n",
       "75%      3.025000   12.125000\n",
       "max      3.900000   20.500000"
      ]
     },
     "execution_count": 54,
     "metadata": {},
     "output_type": "execute_result"
    }
   ],
   "source": [
    "df_cats.describe()"
   ]
  },
  {
   "cell_type": "code",
   "execution_count": 55,
   "id": "f22cafb8-3b8f-4b3e-8f9f-bd2dc5c63a22",
   "metadata": {},
   "outputs": [
    {
     "data": {
      "text/plain": [
       "<AxesSubplot:xlabel='Bwt', ylabel='Hwt'>"
      ]
     },
     "execution_count": 55,
     "metadata": {},
     "output_type": "execute_result"
    },
    {
     "data": {
      "image/png": "[encoded data removed]",
      "text/plain": [
       "<Figure size 432x288 with 1 Axes>"
      ]
     },
     "metadata": {
      "needs_background": "light"
     },
     "output_type": "display_data"
    }
   ],
   "source": [
    "# scatterplot of original bwt and hwt\n",
    "sns.scatterplot(data = df_cats, x = 'Bwt', y= 'Hwt', hue='Sex')"
   ]
  },
  {
   "cell_type": "code",
   "execution_count": 56,
   "id": "09e08c38-4140-4a93-ad17-0d1444340fd5",
   "metadata": {},
   "outputs": [
    {
     "data": {
      "text/html": [
       "<div>\n",
       "<style scoped>\n",
       "    .dataframe tbody tr th:only-of-type {\n",
       "        vertical-align: middle;\n",
       "    }\n",
       "\n",
       "    .dataframe tbody tr th {\n",
       "        vertical-align: top;\n",
       "    }\n",
       "\n",
       "    .dataframe thead th {\n",
       "        text-align: right;\n",
       "    }\n",
       "</style>\n",
       "<table border=\"1\" class=\"dataframe\">\n",
       "  <thead>\n",
       "    <tr style=\"text-align: right;\">\n",
       "      <th></th>\n",
       "      <th>Bwt</th>\n",
       "      <th>Hwt</th>\n",
       "    </tr>\n",
       "  </thead>\n",
       "  <tbody>\n",
       "    <tr>\n",
       "      <th>Bwt</th>\n",
       "      <td>1.000000</td>\n",
       "      <td>0.804127</td>\n",
       "    </tr>\n",
       "    <tr>\n",
       "      <th>Hwt</th>\n",
       "      <td>0.804127</td>\n",
       "      <td>1.000000</td>\n",
       "    </tr>\n",
       "  </tbody>\n",
       "</table>\n",
       "</div>"
      ],
      "text/plain": [
       "          Bwt       Hwt\n",
       "Bwt  1.000000  0.804127\n",
       "Hwt  0.804127  1.000000"
      ]
     },
     "execution_count": 56,
     "metadata": {},
     "output_type": "execute_result"
    }
   ],
   "source": [
    "df_cats.corr()"
   ]
  },
  {
   "cell_type": "markdown",
   "id": "374c2c9b-ad00-46a0-8be5-f3349966f1d9",
   "metadata": {},
   "source": [
    "We have A wider range of values for cats with the random dataset, which is to be expected. As the amount samples taken from a normal distribution increases, the chances of getting more extreme values from the distribution also increases [x]. The random sample have thrown up cats that are lighter than 2kg, and females heavier than 3kg, both of which were absent from the original dataset. "
   ]
  },
  {
   "cell_type": "markdown",
   "id": "4e51e07a-098f-490d-b882-fce270d01112",
   "metadata": {},
   "source": [
    "The dataset now needs more variables to meet the criteria for the assignment. Two new columns will now be randomly generated for the dataset. The first will be a unique ID for each sample, and the second will be to give each cat a name. "
   ]
  },
  {
   "cell_type": "code",
   "execution_count": 57,
   "id": "12b2cfa7-5e89-4f7a-bb5c-e9f30cfec28b",
   "metadata": {},
   "outputs": [],
   "source": [
    "# Variables to be used in generating the correct id numbers\n",
    "count = all_cats_mvn['Bwt'].count()\n",
    "possible_id = np.arange(100000,1000000)"
   ]
  },
  {
   "cell_type": "code",
   "execution_count": 58,
   "id": "2817a118-9906-4b46-86dd-47232527ba3c",
   "metadata": {},
   "outputs": [],
   "source": [
    "# Generate random 6 digit IDs\n",
    "cat_id = rng.choice(possible_id, size=count, replace=False)"
   ]
  },
  {
   "cell_type": "code",
   "execution_count": 59,
   "id": "c3b06612-b627-4ac5-8c2e-69f18be9e401",
   "metadata": {},
   "outputs": [],
   "source": [
    "# Add ID to df and move ID to be first column\n",
    "all_cats_mvn['ID'] = cat_id\n",
    "all_cats_mvn.drop(labels=['ID'], axis=1,inplace = True)\n",
    "all_cats_mvn.insert(0, 'ID', cat_id)"
   ]
  },
  {
   "cell_type": "code",
   "execution_count": 60,
   "id": "afa8e31a-83b8-4edb-b6a2-4d994d448b6e",
   "metadata": {},
   "outputs": [
    {
     "data": {
      "text/html": [
       "<div>\n",
       "<style scoped>\n",
       "    .dataframe tbody tr th:only-of-type {\n",
       "        vertical-align: middle;\n",
       "    }\n",
       "\n",
       "    .dataframe tbody tr th {\n",
       "        vertical-align: top;\n",
       "    }\n",
       "\n",
       "    .dataframe thead th {\n",
       "        text-align: right;\n",
       "    }\n",
       "</style>\n",
       "<table border=\"1\" class=\"dataframe\">\n",
       "  <thead>\n",
       "    <tr style=\"text-align: right;\">\n",
       "      <th></th>\n",
       "      <th>ID</th>\n",
       "      <th>Sex</th>\n",
       "      <th>Bwt</th>\n",
       "      <th>Hwt</th>\n",
       "    </tr>\n",
       "  </thead>\n",
       "  <tbody>\n",
       "    <tr>\n",
       "      <th>0</th>\n",
       "      <td>252902</td>\n",
       "      <td>F</td>\n",
       "      <td>2.4</td>\n",
       "      <td>10.2</td>\n",
       "    </tr>\n",
       "    <tr>\n",
       "      <th>1</th>\n",
       "      <td>678342</td>\n",
       "      <td>F</td>\n",
       "      <td>2.4</td>\n",
       "      <td>7.7</td>\n",
       "    </tr>\n",
       "    <tr>\n",
       "      <th>2</th>\n",
       "      <td>187050</td>\n",
       "      <td>F</td>\n",
       "      <td>2.6</td>\n",
       "      <td>11.2</td>\n",
       "    </tr>\n",
       "    <tr>\n",
       "      <th>3</th>\n",
       "      <td>650863</td>\n",
       "      <td>F</td>\n",
       "      <td>3.5</td>\n",
       "      <td>16.2</td>\n",
       "    </tr>\n",
       "    <tr>\n",
       "      <th>4</th>\n",
       "      <td>744517</td>\n",
       "      <td>F</td>\n",
       "      <td>2.4</td>\n",
       "      <td>13.4</td>\n",
       "    </tr>\n",
       "    <tr>\n",
       "      <th>...</th>\n",
       "      <td>...</td>\n",
       "      <td>...</td>\n",
       "      <td>...</td>\n",
       "      <td>...</td>\n",
       "    </tr>\n",
       "    <tr>\n",
       "      <th>195</th>\n",
       "      <td>580975</td>\n",
       "      <td>M</td>\n",
       "      <td>2.6</td>\n",
       "      <td>9.4</td>\n",
       "    </tr>\n",
       "    <tr>\n",
       "      <th>196</th>\n",
       "      <td>257415</td>\n",
       "      <td>M</td>\n",
       "      <td>2.6</td>\n",
       "      <td>11.0</td>\n",
       "    </tr>\n",
       "    <tr>\n",
       "      <th>197</th>\n",
       "      <td>287379</td>\n",
       "      <td>M</td>\n",
       "      <td>2.6</td>\n",
       "      <td>10.5</td>\n",
       "    </tr>\n",
       "    <tr>\n",
       "      <th>198</th>\n",
       "      <td>923024</td>\n",
       "      <td>M</td>\n",
       "      <td>2.6</td>\n",
       "      <td>7.7</td>\n",
       "    </tr>\n",
       "    <tr>\n",
       "      <th>199</th>\n",
       "      <td>772338</td>\n",
       "      <td>M</td>\n",
       "      <td>2.5</td>\n",
       "      <td>7.2</td>\n",
       "    </tr>\n",
       "  </tbody>\n",
       "</table>\n",
       "<p>400 rows × 4 columns</p>\n",
       "</div>"
      ],
      "text/plain": [
       "         ID Sex  Bwt   Hwt\n",
       "0    252902   F  2.4  10.2\n",
       "1    678342   F  2.4   7.7\n",
       "2    187050   F  2.6  11.2\n",
       "3    650863   F  3.5  16.2\n",
       "4    744517   F  2.4  13.4\n",
       "..      ...  ..  ...   ...\n",
       "195  580975   M  2.6   9.4\n",
       "196  257415   M  2.6  11.0\n",
       "197  287379   M  2.6  10.5\n",
       "198  923024   M  2.6   7.7\n",
       "199  772338   M  2.5   7.2\n",
       "\n",
       "[400 rows x 4 columns]"
      ]
     },
     "execution_count": 60,
     "metadata": {},
     "output_type": "execute_result"
    }
   ],
   "source": [
    "all_cats_mvn"
   ]
  },
  {
   "cell_type": "markdown",
   "id": "f1e0545e-f828-425e-aad2-8bffa102fd64",
   "metadata": {},
   "source": [
    "A column of cat names will now be generated. A zip file containing a txt file with cat names was retreived from https://www.kessels.com/CatNames/. This txt file will be used to generate random names for the cats in the random dataset.  "
   ]
  },
  {
   "cell_type": "code",
   "execution_count": null,
   "id": "f1af2e6c-db8e-4c7e-b394-f27982b6b74b",
   "metadata": {},
   "outputs": [],
   "source": []
  },
  {
   "cell_type": "code",
   "execution_count": null,
   "id": "02bd8bcb-1673-4c9a-9623-ae9db0697041",
   "metadata": {},
   "outputs": [],
   "source": []
  },
  {
   "cell_type": "code",
   "execution_count": null,
   "id": "c8f4e29d-c214-4735-8384-593a469bd193",
   "metadata": {},
   "outputs": [],
   "source": []
  },
  {
   "cell_type": "code",
   "execution_count": null,
   "id": "238062fb-aa1c-43d0-a9b2-54530450f77f",
   "metadata": {},
   "outputs": [],
   "source": []
  },
  {
   "cell_type": "code",
   "execution_count": null,
   "id": "6d2de79f-6eed-4844-933d-69e9e38930fc",
   "metadata": {},
   "outputs": [],
   "source": [
    "'''\n",
    "# A path to save the dataframe, using dt to create unique file names\n",
    "path = 'cats-dataset/cats_random_'  + current_time + '.csv'\n",
    "\n",
    "# Save pandas data frame to disk.\n",
    "all_cats_mvn.to_csv(path)\n",
    "'''"
   ]
  },
  {
   "cell_type": "code",
   "execution_count": null,
   "id": "b1dca766-db76-4feb-b5b7-0013417fcc24",
   "metadata": {},
   "outputs": [],
   "source": []
  },
  {
   "cell_type": "markdown",
   "id": "93ba2503-9acc-4dda-a25e-02e10cebd4df",
   "metadata": {},
   "source": [
    "### Generating random data using Copulas - https://sdv.dev/Copulas/tutorials/00_Quickstart.html"
   ]
  },
  {
   "cell_type": "code",
   "execution_count": 61,
   "id": "bc9c15d4-f604-44a1-bd88-f9489c75c79c",
   "metadata": {},
   "outputs": [],
   "source": [
    "from copulas.multivariate import GaussianMultivariate\n",
    "\n",
    "copula = GaussianMultivariate()"
   ]
  },
  {
   "cell_type": "code",
   "execution_count": 62,
   "id": "339b2054-1be1-48c5-ad8e-48bcace0db4f",
   "metadata": {},
   "outputs": [],
   "source": [
    "df_test = df_cats[['Bwt', 'Hwt']]"
   ]
  },
  {
   "cell_type": "code",
   "execution_count": 63,
   "id": "a3ca9295-93b5-46b1-8b38-c278a696193b",
   "metadata": {},
   "outputs": [
    {
     "name": "stderr",
     "output_type": "stream",
     "text": [
      "C:\\Users\\disco\\anaconda3\\lib\\site-packages\\scipy\\stats\\_continuous_distns.py:5003: RuntimeWarning: divide by zero encountered in true_divide\n",
      "  return c**2 / (c**2 - n**2)\n",
      "C:\\Users\\disco\\anaconda3\\lib\\site-packages\\scipy\\stats\\_distn_infrastructure.py:2494: RuntimeWarning: invalid value encountered in double_scalars\n",
      "  Lhat = muhat - Shat*mu\n",
      "C:\\Users\\disco\\anaconda3\\lib\\site-packages\\scipy\\stats\\_continuous_distns.py:621: RuntimeWarning: invalid value encountered in sqrt\n",
      "  sk = 2*(b-a)*np.sqrt(a + b + 1) / (a + b + 2) / np.sqrt(a*b)\n",
      "C:\\Users\\disco\\anaconda3\\lib\\site-packages\\scipy\\optimize\\minpack.py:175: RuntimeWarning: The iteration is not making good progress, as measured by the \n",
      "  improvement from the last ten iterations.\n",
      "  warnings.warn(msg, RuntimeWarning)\n"
     ]
    }
   ],
   "source": [
    "copula.fit(df_test)"
   ]
  },
  {
   "cell_type": "code",
   "execution_count": 64,
   "id": "0af9c2e9-7262-4976-90ee-bb0b3cae7765",
   "metadata": {},
   "outputs": [
    {
     "data": {
      "text/html": [
       "<div>\n",
       "<style scoped>\n",
       "    .dataframe tbody tr th:only-of-type {\n",
       "        vertical-align: middle;\n",
       "    }\n",
       "\n",
       "    .dataframe tbody tr th {\n",
       "        vertical-align: top;\n",
       "    }\n",
       "\n",
       "    .dataframe thead th {\n",
       "        text-align: right;\n",
       "    }\n",
       "</style>\n",
       "<table border=\"1\" class=\"dataframe\">\n",
       "  <thead>\n",
       "    <tr style=\"text-align: right;\">\n",
       "      <th></th>\n",
       "      <th>Bwt</th>\n",
       "      <th>Hwt</th>\n",
       "    </tr>\n",
       "  </thead>\n",
       "  <tbody>\n",
       "    <tr>\n",
       "      <th>0</th>\n",
       "      <td>3.234400</td>\n",
       "      <td>11.245782</td>\n",
       "    </tr>\n",
       "    <tr>\n",
       "      <th>1</th>\n",
       "      <td>2.096631</td>\n",
       "      <td>11.004209</td>\n",
       "    </tr>\n",
       "    <tr>\n",
       "      <th>2</th>\n",
       "      <td>3.648761</td>\n",
       "      <td>15.350572</td>\n",
       "    </tr>\n",
       "    <tr>\n",
       "      <th>3</th>\n",
       "      <td>2.317755</td>\n",
       "      <td>7.890794</td>\n",
       "    </tr>\n",
       "    <tr>\n",
       "      <th>4</th>\n",
       "      <td>3.797119</td>\n",
       "      <td>16.591965</td>\n",
       "    </tr>\n",
       "    <tr>\n",
       "      <th>...</th>\n",
       "      <td>...</td>\n",
       "      <td>...</td>\n",
       "    </tr>\n",
       "    <tr>\n",
       "      <th>995</th>\n",
       "      <td>2.582141</td>\n",
       "      <td>10.012217</td>\n",
       "    </tr>\n",
       "    <tr>\n",
       "      <th>996</th>\n",
       "      <td>2.187806</td>\n",
       "      <td>8.367497</td>\n",
       "    </tr>\n",
       "    <tr>\n",
       "      <th>997</th>\n",
       "      <td>3.523989</td>\n",
       "      <td>13.164910</td>\n",
       "    </tr>\n",
       "    <tr>\n",
       "      <th>998</th>\n",
       "      <td>2.146363</td>\n",
       "      <td>9.749860</td>\n",
       "    </tr>\n",
       "    <tr>\n",
       "      <th>999</th>\n",
       "      <td>2.296834</td>\n",
       "      <td>8.428192</td>\n",
       "    </tr>\n",
       "  </tbody>\n",
       "</table>\n",
       "<p>1000 rows × 2 columns</p>\n",
       "</div>"
      ],
      "text/plain": [
       "          Bwt        Hwt\n",
       "0    3.234400  11.245782\n",
       "1    2.096631  11.004209\n",
       "2    3.648761  15.350572\n",
       "3    2.317755   7.890794\n",
       "4    3.797119  16.591965\n",
       "..        ...        ...\n",
       "995  2.582141  10.012217\n",
       "996  2.187806   8.367497\n",
       "997  3.523989  13.164910\n",
       "998  2.146363   9.749860\n",
       "999  2.296834   8.428192\n",
       "\n",
       "[1000 rows x 2 columns]"
      ]
     },
     "execution_count": 64,
     "metadata": {},
     "output_type": "execute_result"
    }
   ],
   "source": [
    "num_samples = 1000\n",
    "\n",
    "synthetic_data = copula.sample(num_samples)\n",
    "synthetic_data"
   ]
  },
  {
   "cell_type": "code",
   "execution_count": 65,
   "id": "0e3c237d-38c1-4564-9034-ee8010f1c55a",
   "metadata": {},
   "outputs": [
    {
     "data": {
      "text/html": [
       "<div>\n",
       "<style scoped>\n",
       "    .dataframe tbody tr th:only-of-type {\n",
       "        vertical-align: middle;\n",
       "    }\n",
       "\n",
       "    .dataframe tbody tr th {\n",
       "        vertical-align: top;\n",
       "    }\n",
       "\n",
       "    .dataframe thead th {\n",
       "        text-align: right;\n",
       "    }\n",
       "</style>\n",
       "<table border=\"1\" class=\"dataframe\">\n",
       "  <thead>\n",
       "    <tr style=\"text-align: right;\">\n",
       "      <th></th>\n",
       "      <th>Bwt</th>\n",
       "      <th>Hwt</th>\n",
       "    </tr>\n",
       "  </thead>\n",
       "  <tbody>\n",
       "    <tr>\n",
       "      <th>count</th>\n",
       "      <td>1000.000000</td>\n",
       "      <td>1000.000000</td>\n",
       "    </tr>\n",
       "    <tr>\n",
       "      <th>mean</th>\n",
       "      <td>2.714127</td>\n",
       "      <td>10.570481</td>\n",
       "    </tr>\n",
       "    <tr>\n",
       "      <th>std</th>\n",
       "      <td>0.480519</td>\n",
       "      <td>2.476545</td>\n",
       "    </tr>\n",
       "    <tr>\n",
       "      <th>min</th>\n",
       "      <td>2.002872</td>\n",
       "      <td>5.914481</td>\n",
       "    </tr>\n",
       "    <tr>\n",
       "      <th>25%</th>\n",
       "      <td>2.316799</td>\n",
       "      <td>8.725357</td>\n",
       "    </tr>\n",
       "    <tr>\n",
       "      <th>50%</th>\n",
       "      <td>2.658009</td>\n",
       "      <td>10.097174</td>\n",
       "    </tr>\n",
       "    <tr>\n",
       "      <th>75%</th>\n",
       "      <td>3.037987</td>\n",
       "      <td>12.060215</td>\n",
       "    </tr>\n",
       "    <tr>\n",
       "      <th>max</th>\n",
       "      <td>3.896863</td>\n",
       "      <td>21.786612</td>\n",
       "    </tr>\n",
       "  </tbody>\n",
       "</table>\n",
       "</div>"
      ],
      "text/plain": [
       "               Bwt          Hwt\n",
       "count  1000.000000  1000.000000\n",
       "mean      2.714127    10.570481\n",
       "std       0.480519     2.476545\n",
       "min       2.002872     5.914481\n",
       "25%       2.316799     8.725357\n",
       "50%       2.658009    10.097174\n",
       "75%       3.037987    12.060215\n",
       "max       3.896863    21.786612"
      ]
     },
     "execution_count": 65,
     "metadata": {},
     "output_type": "execute_result"
    }
   ],
   "source": [
    "synthetic_data.describe()"
   ]
  },
  {
   "cell_type": "code",
   "execution_count": null,
   "id": "0303a505-d2aa-4077-a96f-067bc68425e7",
   "metadata": {},
   "outputs": [],
   "source": []
  },
  {
   "cell_type": "code",
   "execution_count": null,
   "id": "60040d51-d7da-48bb-b810-7ec0bac90527",
   "metadata": {},
   "outputs": [],
   "source": []
  },
  {
   "cell_type": "code",
   "execution_count": null,
   "id": "a4a0aded-67d0-40b7-ae5f-02bb3cc8be78",
   "metadata": {},
   "outputs": [],
   "source": []
  },
  {
   "cell_type": "code",
   "execution_count": null,
   "id": "458e843c-bf3a-4c54-a5e3-6a335af5327a",
   "metadata": {},
   "outputs": [],
   "source": []
  }
 ],
 "metadata": {
  "kernelspec": {
   "display_name": "Python 3",
   "language": "python",
   "name": "python3"
  },
  "language_info": {
   "codemirror_mode": {
    "name": "ipython",
    "version": 3
   },
   "file_extension": ".py",
   "mimetype": "text/x-python",
   "name": "python",
   "nbconvert_exporter": "python",
   "pygments_lexer": "ipython3",
   "version": "3.8.8"
  }
 },
 "nbformat": 4,
 "nbformat_minor": 5
}
