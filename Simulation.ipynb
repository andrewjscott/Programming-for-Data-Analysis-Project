{
 "cells": [
  {
   "cell_type": "markdown",
   "id": "bbd3c1b4-99a0-429a-b948-ca3058890676",
   "metadata": {},
   "source": [
    "# Data Simulation - Author: Andrew Scott"
   ]
  },
  {
   "cell_type": "markdown",
   "id": "13300bf7-304f-4e2f-bac2-22343b15e40a",
   "metadata": {},
   "source": [
    "The goal of this notebook is to demonstrate how to create a new dataset that simulates a existing real world data using Python. "
   ]
  },
  {
   "cell_type": "code",
   "execution_count": 1,
   "id": "0c50677a-778d-4943-b5e1-3bc61f78577b",
   "metadata": {},
   "outputs": [],
   "source": [
    "# Package for numerical calculations and arrays\n",
    "import numpy as np\n",
    "\n",
    "# Accessing datasets\n",
    "import statsmodels.api as sm\n",
    "\n",
    "# For dataframes\n",
    "import pandas as pd\n",
    "\n",
    "# Generating plots\n",
    "import matplotlib.pyplot as plt\n",
    "\n",
    "# Generating plots \n",
    "import seaborn as sns\n",
    "\n",
    "# For accessing dates and times\n",
    "import datetime as dt\n",
    "\n",
    "# A magic command for helping display matplotlib plots in notebooks\n",
    "%matplotlib inline"
   ]
  },
  {
   "cell_type": "markdown",
   "id": "661c7ff7-6dde-4db1-8e24-b793d39c881a",
   "metadata": {},
   "source": [
    "### Cats Dataset"
   ]
  },
  {
   "cell_type": "markdown",
   "id": "5570edc8-50fb-4bb9-977a-31720efa377c",
   "metadata": {},
   "source": [
    "The dataset being simulated is a dataset that was originally published by Ronald Fisher that consists of cats and their gender, weight, and heart weight[x]. The dataset is part of the MASS package for the programming language R. However, these datasets can be accessed in Python using the statsmodel package. https://kolesnikov.ga/Datasets_in_Python/"
   ]
  },
  {
   "cell_type": "code",
   "execution_count": 2,
   "id": "114b8392-7a4e-4dfd-927a-1af4f6b390d8",
   "metadata": {},
   "outputs": [],
   "source": [
    "# Load the cats dataset \n",
    "cats = sm.datasets.get_rdataset(dataname='cats', package='MASS')"
   ]
  },
  {
   "cell_type": "code",
   "execution_count": 3,
   "id": "3a234df6-8d7a-42ed-8cae-2e92db0082bf",
   "metadata": {},
   "outputs": [
    {
     "name": "stdout",
     "output_type": "stream",
     "text": [
      ".. container::\n",
      "\n",
      "   ==== ===============\n",
      "   cats R Documentation\n",
      "   ==== ===============\n",
      "\n",
      "   .. rubric:: Anatomical Data from Domestic Cats\n",
      "      :name: anatomical-data-from-domestic-cats\n",
      "\n",
      "   .. rubric:: Description\n",
      "      :name: description\n",
      "\n",
      "   The heart and body weights of samples of male and female cats used\n",
      "   for *digitalis* experiments. The cats were all adult, over 2 kg body\n",
      "   weight.\n",
      "\n",
      "   .. rubric:: Usage\n",
      "      :name: usage\n",
      "\n",
      "   ::\n",
      "\n",
      "      cats\n",
      "\n",
      "   .. rubric:: Format\n",
      "      :name: format\n",
      "\n",
      "   This data frame contains the following columns:\n",
      "\n",
      "   ``Sex``\n",
      "      sex: Factor with levels ``\"F\"`` and ``\"M\"``.\n",
      "\n",
      "   ``Bwt``\n",
      "      body weight in kg.\n",
      "\n",
      "   ``Hwt``\n",
      "      heart weight in g.\n",
      "\n",
      "   .. rubric:: Source\n",
      "      :name: source\n",
      "\n",
      "   R. A. Fisher (1947) The analysis of covariance method for the\n",
      "   relation between a part and the whole, *Biometrics* **3**, 65–68.\n",
      "\n",
      "   .. rubric:: References\n",
      "      :name: references\n",
      "\n",
      "   Venables, W. N. and Ripley, B. D. (2002) *Modern Applied Statistics\n",
      "   with S.* Fourth edition. Springer.\n",
      "\n"
     ]
    }
   ],
   "source": [
    "# Print some information about the dataset \n",
    "print(cats.__doc__)"
   ]
  },
  {
   "cell_type": "markdown",
   "id": "f4a25e71-7fde-423c-9390-d0a465248710",
   "metadata": {},
   "source": [
    "The documentation above states that the weight of a cat's heart and body is useful for \"digitalis experiments\". This refers to the drug digoxin, also known as digitalis, which is used to treat various heart conditions. A strong relationship between body weight and heart weight would mean that body weight could be used to calculate the dose that a cat should receive, as body weight is easier to directly measure than heart weight. This is how a dosage is currently calculated, with the recommended dosage being \"0015 -0.002 mg/lbs every 12 hours for cats\"[x] https://www.petcarerx.com/medication-guides/using-lanoxin-heart-disease-treatment-for-pets/1077. \n",
    "\n",
    "Due to the risk of toxicity by giving the wrong dose, simulation can be useful to provide an estimate for the rate of rare occurances, such as how often should we expect to see a cat with a high body weight and a low heart weight, which may require adjustments in dosages. "
   ]
  },
  {
   "cell_type": "code",
   "execution_count": 4,
   "id": "938967ab-9154-430d-929d-cfd207d91552",
   "metadata": {},
   "outputs": [],
   "source": [
    "# Load the cats dataset to a pandas dataframe\n",
    "df_cats = cats.data"
   ]
  },
  {
   "cell_type": "code",
   "execution_count": 5,
   "id": "9b0f5f58-72a6-4f20-a33d-2b7bf0a04d26",
   "metadata": {},
   "outputs": [
    {
     "data": {
      "text/html": [
       "<div>\n",
       "<style scoped>\n",
       "    .dataframe tbody tr th:only-of-type {\n",
       "        vertical-align: middle;\n",
       "    }\n",
       "\n",
       "    .dataframe tbody tr th {\n",
       "        vertical-align: top;\n",
       "    }\n",
       "\n",
       "    .dataframe thead th {\n",
       "        text-align: right;\n",
       "    }\n",
       "</style>\n",
       "<table border=\"1\" class=\"dataframe\">\n",
       "  <thead>\n",
       "    <tr style=\"text-align: right;\">\n",
       "      <th></th>\n",
       "      <th>Sex</th>\n",
       "      <th>Bwt</th>\n",
       "      <th>Hwt</th>\n",
       "    </tr>\n",
       "  </thead>\n",
       "  <tbody>\n",
       "    <tr>\n",
       "      <th>0</th>\n",
       "      <td>F</td>\n",
       "      <td>2.0</td>\n",
       "      <td>7.0</td>\n",
       "    </tr>\n",
       "    <tr>\n",
       "      <th>1</th>\n",
       "      <td>F</td>\n",
       "      <td>2.0</td>\n",
       "      <td>7.4</td>\n",
       "    </tr>\n",
       "    <tr>\n",
       "      <th>2</th>\n",
       "      <td>F</td>\n",
       "      <td>2.0</td>\n",
       "      <td>9.5</td>\n",
       "    </tr>\n",
       "    <tr>\n",
       "      <th>3</th>\n",
       "      <td>F</td>\n",
       "      <td>2.1</td>\n",
       "      <td>7.2</td>\n",
       "    </tr>\n",
       "    <tr>\n",
       "      <th>4</th>\n",
       "      <td>F</td>\n",
       "      <td>2.1</td>\n",
       "      <td>7.3</td>\n",
       "    </tr>\n",
       "  </tbody>\n",
       "</table>\n",
       "</div>"
      ],
      "text/plain": [
       "  Sex  Bwt  Hwt\n",
       "0   F  2.0  7.0\n",
       "1   F  2.0  7.4\n",
       "2   F  2.0  9.5\n",
       "3   F  2.1  7.2\n",
       "4   F  2.1  7.3"
      ]
     },
     "execution_count": 5,
     "metadata": {},
     "output_type": "execute_result"
    }
   ],
   "source": [
    "# View the first few rows of the dataframe\n",
    "df_cats.head()"
   ]
  },
  {
   "cell_type": "code",
   "execution_count": 6,
   "id": "4d270986-79bb-459a-8d56-158629905e6d",
   "metadata": {},
   "outputs": [
    {
     "data": {
      "text/plain": [
       "(144, 3)"
      ]
     },
     "execution_count": 6,
     "metadata": {},
     "output_type": "execute_result"
    }
   ],
   "source": [
    "# View the shape of the dataframe\n",
    "df_cats.shape"
   ]
  },
  {
   "cell_type": "code",
   "execution_count": 7,
   "id": "cc8864a2-27aa-4b7e-95a7-2be5aefbd5c7",
   "metadata": {},
   "outputs": [
    {
     "data": {
      "text/html": [
       "<div>\n",
       "<style scoped>\n",
       "    .dataframe tbody tr th:only-of-type {\n",
       "        vertical-align: middle;\n",
       "    }\n",
       "\n",
       "    .dataframe tbody tr th {\n",
       "        vertical-align: top;\n",
       "    }\n",
       "\n",
       "    .dataframe thead th {\n",
       "        text-align: right;\n",
       "    }\n",
       "</style>\n",
       "<table border=\"1\" class=\"dataframe\">\n",
       "  <thead>\n",
       "    <tr style=\"text-align: right;\">\n",
       "      <th></th>\n",
       "      <th>Bwt</th>\n",
       "      <th>Hwt</th>\n",
       "    </tr>\n",
       "  </thead>\n",
       "  <tbody>\n",
       "    <tr>\n",
       "      <th>count</th>\n",
       "      <td>144.000000</td>\n",
       "      <td>144.000000</td>\n",
       "    </tr>\n",
       "    <tr>\n",
       "      <th>mean</th>\n",
       "      <td>2.723611</td>\n",
       "      <td>10.630556</td>\n",
       "    </tr>\n",
       "    <tr>\n",
       "      <th>std</th>\n",
       "      <td>0.485307</td>\n",
       "      <td>2.434636</td>\n",
       "    </tr>\n",
       "    <tr>\n",
       "      <th>min</th>\n",
       "      <td>2.000000</td>\n",
       "      <td>6.300000</td>\n",
       "    </tr>\n",
       "    <tr>\n",
       "      <th>25%</th>\n",
       "      <td>2.300000</td>\n",
       "      <td>8.950000</td>\n",
       "    </tr>\n",
       "    <tr>\n",
       "      <th>50%</th>\n",
       "      <td>2.700000</td>\n",
       "      <td>10.100000</td>\n",
       "    </tr>\n",
       "    <tr>\n",
       "      <th>75%</th>\n",
       "      <td>3.025000</td>\n",
       "      <td>12.125000</td>\n",
       "    </tr>\n",
       "    <tr>\n",
       "      <th>max</th>\n",
       "      <td>3.900000</td>\n",
       "      <td>20.500000</td>\n",
       "    </tr>\n",
       "  </tbody>\n",
       "</table>\n",
       "</div>"
      ],
      "text/plain": [
       "              Bwt         Hwt\n",
       "count  144.000000  144.000000\n",
       "mean     2.723611   10.630556\n",
       "std      0.485307    2.434636\n",
       "min      2.000000    6.300000\n",
       "25%      2.300000    8.950000\n",
       "50%      2.700000   10.100000\n",
       "75%      3.025000   12.125000\n",
       "max      3.900000   20.500000"
      ]
     },
     "execution_count": 7,
     "metadata": {},
     "output_type": "execute_result"
    }
   ],
   "source": [
    "# View summary statistics of dataframe\n",
    "df_cats.describe()"
   ]
  },
  {
   "cell_type": "code",
   "execution_count": 8,
   "id": "cd443ff3-2575-46ce-8074-f52afdd5eafc",
   "metadata": {},
   "outputs": [
    {
     "data": {
      "text/plain": [
       "M    97\n",
       "F    47\n",
       "Name: Sex, dtype: int64"
      ]
     },
     "execution_count": 8,
     "metadata": {},
     "output_type": "execute_result"
    }
   ],
   "source": [
    "# Show the amount of male and female cats in the dataset\n",
    "df_cats['Sex'].value_counts()"
   ]
  },
  {
   "cell_type": "markdown",
   "id": "8d69f0d0-ac02-4469-b069-96d1801d9e21",
   "metadata": {},
   "source": [
    "Datetime will be used when saving dataframes and plots to give each file a unique filename containing the current time when the file was saved. Note that there will be dataframes and plots generated in this notebook that will not be backed up to avoid folders getting overly cluttered. Some are useful to be displayed for demonstrative purposes, but are not as important overall as those backed up. "
   ]
  },
  {
   "cell_type": "code",
   "execution_count": 9,
   "id": "ed4e466d-2a00-425f-9a46-d773625804f9",
   "metadata": {},
   "outputs": [],
   "source": [
    "# Save the original dataset\n",
    "# Access the current date and time.\n",
    "now = dt.datetime.now()\n",
    "\n",
    "# Formatting the current date and time as a string and saving to a variable.\n",
    "current_time = now.strftime('%Y%m%d_%H%M%S')\n",
    "\n",
    "# A path to save the dataframe, using dt to create unique file names\n",
    "path = 'cats-dataset/cats-original-data/cats_original_dataset/cats_original_'  + current_time + '.csv'\n",
    "\n",
    "# Save pandas data frame to disk.\n",
    "df_cats.to_csv(path)"
   ]
  },
  {
   "cell_type": "code",
   "execution_count": null,
   "id": "1abb306b-8d6e-4fad-b2f6-2ee98437ac65",
   "metadata": {},
   "outputs": [],
   "source": []
  },
  {
   "cell_type": "markdown",
   "id": "102034d8-7fac-4d7c-baf6-e21ce42fd0cb",
   "metadata": {},
   "source": [
    "The above summaries gives an overview as to the dimensions and datatypes involved. There are three variable types - a binary male/female column, and two numerical columns containing body weights and heart weights. We will have to invent a fourth column when simulating this dataset to meet the criteria of simulated dataset having at least four variables. "
   ]
  },
  {
   "cell_type": "markdown",
   "id": "97b7bd8d-d64d-4a7b-aaca-7f3d84f166d0",
   "metadata": {},
   "source": [
    "### Using Numpy's Random Module to Generate Simulated Data"
   ]
  },
  {
   "cell_type": "markdown",
   "id": "be1a3195-e906-42ea-9eb7-247c7a9d685b",
   "metadata": {},
   "source": [
    "Ignoring the sex for now and focusing on the numerical values, we could generate some random bodyweight and heartweight data using numpy by assuming a normal distribution for both variables, and using the summary statistics as a basis for the random data."
   ]
  },
  {
   "cell_type": "code",
   "execution_count": 10,
   "id": "8709bb83-037e-41cd-8fda-908499d7c903",
   "metadata": {},
   "outputs": [
    {
     "data": {
      "text/plain": [
       "array([2.17930379, 2.8431481 , 2.58133273, 2.59291175, 3.07554702,\n",
       "       3.0397276 , 3.23124009, 2.53951761, 2.54360903, 3.15743213,\n",
       "       3.29549089, 1.90281974, 2.3432193 , 2.593383  , 2.81058881,\n",
       "       2.19762536, 3.03754655, 2.69848523, 3.19382971, 2.61704186,\n",
       "       3.02988841, 2.24868163, 1.84241256, 2.8658994 , 2.95768856,\n",
       "       1.29199448, 2.93591153, 1.86295528, 2.86961876, 2.61109233,\n",
       "       2.86935197, 3.36814523, 3.04395907, 2.35416663, 2.50633595,\n",
       "       3.35781195, 2.48054651, 2.93788186, 1.9561881 , 3.73832929,\n",
       "       2.45700317, 2.10373047, 2.31305787, 2.55667255, 1.88387285,\n",
       "       2.14499153, 2.88014605, 2.10001704, 2.9114496 , 2.50124325,\n",
       "       2.57483043, 2.64137358, 2.83579697, 2.4796103 , 2.29659046,\n",
       "       2.50352536, 1.86356256, 2.42191691, 3.18094962, 2.75987015,\n",
       "       2.97608982, 2.2216094 , 2.39047272, 2.69899322, 2.48979544,\n",
       "       2.41736389, 2.29241721, 2.34977951, 2.28580472, 2.49622027,\n",
       "       2.18661026, 2.6883948 , 2.49648407, 2.5500638 , 2.74314949,\n",
       "       3.11171791, 2.46817672, 2.69047342, 3.2268315 , 1.62433261,\n",
       "       2.78226915, 3.16062385, 2.46098531, 2.99725313, 2.99656997,\n",
       "       2.24410489, 3.30700739, 2.10844437, 3.34045178, 2.48546751,\n",
       "       3.15219302, 1.2528908 , 4.39420821, 2.45471175, 2.83322338,\n",
       "       2.29711786, 2.95500882, 1.84531663, 1.66201672, 2.60881479])"
      ]
     },
     "execution_count": 10,
     "metadata": {},
     "output_type": "execute_result"
    }
   ],
   "source": [
    "# Construct a new Generator with the default BitGenerator (PCG64)\n",
    "# Seeded for reproducible results\n",
    "rng = np.random.default_rng(seed = 501)\n",
    "\n",
    "# Numpy randomly generated bwt with defined mean and std\n",
    "# 100 random samples from a normal distribution\n",
    "mu = 2.723611\n",
    "sigma = 0.485307\n",
    "random_bwt = rng.normal(mu, sigma, size=100)\n",
    "random_bwt"
   ]
  },
  {
   "cell_type": "code",
   "execution_count": 11,
   "id": "2eced47e-177b-4e3a-972c-f736565b9493",
   "metadata": {},
   "outputs": [
    {
     "data": {
      "text/plain": [
       "array([10.70327711, 13.40663078, 12.84970519, 14.56471838,  6.10888679,\n",
       "       10.26866323,  3.39810752, 13.09217136, 12.91101626,  7.6739178 ,\n",
       "       11.22223463, 13.47122407, 11.99775933, 10.22979087, 13.33225091,\n",
       "        8.04155487,  9.02562462, 15.08476254,  9.25996586,  7.31613876,\n",
       "       14.87259583, 10.33293915, 10.15928348, 11.15132039, 10.99798703,\n",
       "        8.96461709,  8.89837108,  5.21569666,  7.67256412,  9.04706882,\n",
       "        6.89324895,  6.24879464,  9.71492776, 13.22696129,  7.07036394,\n",
       "        6.42732728, 10.4120992 , 10.15191115, 10.84750728, 13.39416132,\n",
       "        7.61068531,  7.6880468 ,  8.14014958, 12.80379584, 13.04108787,\n",
       "       10.70800049,  8.98488646,  8.30251315,  6.92052211, 10.44207291,\n",
       "       12.81688662,  9.24665373, 11.11225172, 11.83328487,  7.12443517,\n",
       "       10.82509563, 15.50113951,  9.24621924,  9.00823422, 14.27518224,\n",
       "        9.17547483, 10.39830593, 11.38067027, 10.55205973,  9.65653148,\n",
       "       12.43183373,  7.61768863,  9.30786842, 13.87582411, 10.33061253,\n",
       "       11.45955024, 17.07729875, 10.03870064,  8.38978398, 12.17929974,\n",
       "       13.50781208,  8.79526352, 15.16801461,  7.31099846,  9.76497159,\n",
       "       10.33355185, 11.10820055,  5.56051153,  7.94419604,  9.55713855,\n",
       "       11.24713645, 12.3114425 , 13.2374004 , 12.15191005, 14.80307407,\n",
       "       11.40684212, 10.3983785 , 10.84089161,  5.88791719, 12.44182684,\n",
       "       14.53472112,  7.30664043,  9.37072237,  9.15515915,  8.80900346])"
      ]
     },
     "execution_count": 11,
     "metadata": {},
     "output_type": "execute_result"
    }
   ],
   "source": [
    "# Numpy randomly generated bwt with defined mean and std\n",
    "# 100 random samples from a normal distribution\n",
    "mu = 10.630556\n",
    "sigma = 2.434636\n",
    "random_hwt = rng.normal(mu, sigma, size=100)\n",
    "random_hwt"
   ]
  },
  {
   "cell_type": "code",
   "execution_count": 12,
   "id": "3e5122da-2e1f-47fb-9483-382a8140a00a",
   "metadata": {},
   "outputs": [
    {
     "data": {
      "text/html": [
       "<div>\n",
       "<style scoped>\n",
       "    .dataframe tbody tr th:only-of-type {\n",
       "        vertical-align: middle;\n",
       "    }\n",
       "\n",
       "    .dataframe tbody tr th {\n",
       "        vertical-align: top;\n",
       "    }\n",
       "\n",
       "    .dataframe thead th {\n",
       "        text-align: right;\n",
       "    }\n",
       "</style>\n",
       "<table border=\"1\" class=\"dataframe\">\n",
       "  <thead>\n",
       "    <tr style=\"text-align: right;\">\n",
       "      <th></th>\n",
       "      <th>random_bwt</th>\n",
       "      <th>random_hwt</th>\n",
       "    </tr>\n",
       "  </thead>\n",
       "  <tbody>\n",
       "    <tr>\n",
       "      <th>0</th>\n",
       "      <td>2.179304</td>\n",
       "      <td>10.703277</td>\n",
       "    </tr>\n",
       "    <tr>\n",
       "      <th>1</th>\n",
       "      <td>2.843148</td>\n",
       "      <td>13.406631</td>\n",
       "    </tr>\n",
       "    <tr>\n",
       "      <th>2</th>\n",
       "      <td>2.581333</td>\n",
       "      <td>12.849705</td>\n",
       "    </tr>\n",
       "    <tr>\n",
       "      <th>3</th>\n",
       "      <td>2.592912</td>\n",
       "      <td>14.564718</td>\n",
       "    </tr>\n",
       "    <tr>\n",
       "      <th>4</th>\n",
       "      <td>3.075547</td>\n",
       "      <td>6.108887</td>\n",
       "    </tr>\n",
       "    <tr>\n",
       "      <th>...</th>\n",
       "      <td>...</td>\n",
       "      <td>...</td>\n",
       "    </tr>\n",
       "    <tr>\n",
       "      <th>95</th>\n",
       "      <td>2.297118</td>\n",
       "      <td>14.534721</td>\n",
       "    </tr>\n",
       "    <tr>\n",
       "      <th>96</th>\n",
       "      <td>2.955009</td>\n",
       "      <td>7.306640</td>\n",
       "    </tr>\n",
       "    <tr>\n",
       "      <th>97</th>\n",
       "      <td>1.845317</td>\n",
       "      <td>9.370722</td>\n",
       "    </tr>\n",
       "    <tr>\n",
       "      <th>98</th>\n",
       "      <td>1.662017</td>\n",
       "      <td>9.155159</td>\n",
       "    </tr>\n",
       "    <tr>\n",
       "      <th>99</th>\n",
       "      <td>2.608815</td>\n",
       "      <td>8.809003</td>\n",
       "    </tr>\n",
       "  </tbody>\n",
       "</table>\n",
       "<p>100 rows × 2 columns</p>\n",
       "</div>"
      ],
      "text/plain": [
       "    random_bwt  random_hwt\n",
       "0     2.179304   10.703277\n",
       "1     2.843148   13.406631\n",
       "2     2.581333   12.849705\n",
       "3     2.592912   14.564718\n",
       "4     3.075547    6.108887\n",
       "..         ...         ...\n",
       "95    2.297118   14.534721\n",
       "96    2.955009    7.306640\n",
       "97    1.845317    9.370722\n",
       "98    1.662017    9.155159\n",
       "99    2.608815    8.809003\n",
       "\n",
       "[100 rows x 2 columns]"
      ]
     },
     "execution_count": 12,
     "metadata": {},
     "output_type": "execute_result"
    }
   ],
   "source": [
    "# Create a new df with the random np arrays\n",
    "# code adapted from:\n",
    "# https://stackoverflow.com/questions/29949757/creating-pandas-dataframe-between-two-numpy-arrays-then-draw-scatter-plot\n",
    "random_df = pd.DataFrame({'random_bwt':random_bwt, 'random_hwt':random_hwt})\n",
    "random_df"
   ]
  },
  {
   "cell_type": "code",
   "execution_count": 13,
   "id": "59ed3479-99fa-4c87-a519-11337d6f1c3d",
   "metadata": {},
   "outputs": [
    {
     "data": {
      "text/html": [
       "<div>\n",
       "<style scoped>\n",
       "    .dataframe tbody tr th:only-of-type {\n",
       "        vertical-align: middle;\n",
       "    }\n",
       "\n",
       "    .dataframe tbody tr th {\n",
       "        vertical-align: top;\n",
       "    }\n",
       "\n",
       "    .dataframe thead th {\n",
       "        text-align: right;\n",
       "    }\n",
       "</style>\n",
       "<table border=\"1\" class=\"dataframe\">\n",
       "  <thead>\n",
       "    <tr style=\"text-align: right;\">\n",
       "      <th></th>\n",
       "      <th>random_bwt</th>\n",
       "      <th>random_hwt</th>\n",
       "    </tr>\n",
       "  </thead>\n",
       "  <tbody>\n",
       "    <tr>\n",
       "      <th>count</th>\n",
       "      <td>100.000000</td>\n",
       "      <td>100.000000</td>\n",
       "    </tr>\n",
       "    <tr>\n",
       "      <th>mean</th>\n",
       "      <td>2.607563</td>\n",
       "      <td>10.381145</td>\n",
       "    </tr>\n",
       "    <tr>\n",
       "      <th>std</th>\n",
       "      <td>0.495739</td>\n",
       "      <td>2.627939</td>\n",
       "    </tr>\n",
       "    <tr>\n",
       "      <th>min</th>\n",
       "      <td>1.252891</td>\n",
       "      <td>3.398108</td>\n",
       "    </tr>\n",
       "    <tr>\n",
       "      <th>25%</th>\n",
       "      <td>2.309073</td>\n",
       "      <td>8.805568</td>\n",
       "    </tr>\n",
       "    <tr>\n",
       "      <th>50%</th>\n",
       "      <td>2.578082</td>\n",
       "      <td>10.333246</td>\n",
       "    </tr>\n",
       "    <tr>\n",
       "      <th>75%</th>\n",
       "      <td>2.942164</td>\n",
       "      <td>12.341540</td>\n",
       "    </tr>\n",
       "    <tr>\n",
       "      <th>max</th>\n",
       "      <td>4.394208</td>\n",
       "      <td>17.077299</td>\n",
       "    </tr>\n",
       "  </tbody>\n",
       "</table>\n",
       "</div>"
      ],
      "text/plain": [
       "       random_bwt  random_hwt\n",
       "count  100.000000  100.000000\n",
       "mean     2.607563   10.381145\n",
       "std      0.495739    2.627939\n",
       "min      1.252891    3.398108\n",
       "25%      2.309073    8.805568\n",
       "50%      2.578082   10.333246\n",
       "75%      2.942164   12.341540\n",
       "max      4.394208   17.077299"
      ]
     },
     "execution_count": 13,
     "metadata": {},
     "output_type": "execute_result"
    }
   ],
   "source": [
    "# View summary statistics\n",
    "random_df.describe()"
   ]
  },
  {
   "cell_type": "markdown",
   "id": "2fe8b346-97d2-4ee0-8c24-55a0cf22c0bb",
   "metadata": {},
   "source": [
    "We can see from the summary statistics that our random dataframe has somewhat similar summary statistics to the original. Despite this, it is not an acceptable simulation of the original dataset. This will become apparant by plotting scatterplots of the original data and the random data."
   ]
  },
  {
   "cell_type": "code",
   "execution_count": 14,
   "id": "b247a4ec-97ad-48d5-a8bb-f73494f3e441",
   "metadata": {},
   "outputs": [
    {
     "data": {
      "text/plain": [
       "<AxesSubplot:xlabel='Bwt', ylabel='Hwt'>"
      ]
     },
     "execution_count": 14,
     "metadata": {},
     "output_type": "execute_result"
    },
    {
     "data": {
      "image/png": "[encoded data removed]",
      "text/plain": [
       "<Figure size 432x288 with 1 Axes>"
      ]
     },
     "metadata": {
      "needs_background": "light"
     },
     "output_type": "display_data"
    }
   ],
   "source": [
    "# sCATterplot of original bwt and hwt\n",
    "sns.scatterplot(data = df_cats, x = 'Bwt', y= 'Hwt')"
   ]
  },
  {
   "cell_type": "code",
   "execution_count": 15,
   "id": "e280799c-9c6b-46e4-9126-b8db4b73d055",
   "metadata": {},
   "outputs": [
    {
     "data": {
      "text/plain": [
       "<AxesSubplot:xlabel='random_bwt', ylabel='random_hwt'>"
      ]
     },
     "execution_count": 15,
     "metadata": {},
     "output_type": "execute_result"
    },
    {
     "data": {
      "image/png": "[encoded data removed]",
      "text/plain": [
       "<Figure size 432x288 with 1 Axes>"
      ]
     },
     "metadata": {
      "needs_background": "light"
     },
     "output_type": "display_data"
    }
   ],
   "source": [
    "# sCATterplot of bwt and hwt\n",
    "sns.scatterplot(data = random_df, x = 'random_bwt', y= 'random_hwt')"
   ]
  },
  {
   "cell_type": "markdown",
   "id": "2cff464c-0846-4fe7-80a7-c7869322f9e6",
   "metadata": {},
   "source": [
    "As we can see, there appears to be a positive correlation between a cat's bodyweight and heartweight, whereas in the random dataframe there is little correlation. Thsi can also be shown numerically. "
   ]
  },
  {
   "cell_type": "code",
   "execution_count": 16,
   "id": "348562b4-f561-47a4-8fe6-d98c00d3ad39",
   "metadata": {},
   "outputs": [
    {
     "data": {
      "text/html": [
       "<div>\n",
       "<style scoped>\n",
       "    .dataframe tbody tr th:only-of-type {\n",
       "        vertical-align: middle;\n",
       "    }\n",
       "\n",
       "    .dataframe tbody tr th {\n",
       "        vertical-align: top;\n",
       "    }\n",
       "\n",
       "    .dataframe thead th {\n",
       "        text-align: right;\n",
       "    }\n",
       "</style>\n",
       "<table border=\"1\" class=\"dataframe\">\n",
       "  <thead>\n",
       "    <tr style=\"text-align: right;\">\n",
       "      <th></th>\n",
       "      <th>Bwt</th>\n",
       "      <th>Hwt</th>\n",
       "    </tr>\n",
       "  </thead>\n",
       "  <tbody>\n",
       "    <tr>\n",
       "      <th>Bwt</th>\n",
       "      <td>1.000000</td>\n",
       "      <td>0.804127</td>\n",
       "    </tr>\n",
       "    <tr>\n",
       "      <th>Hwt</th>\n",
       "      <td>0.804127</td>\n",
       "      <td>1.000000</td>\n",
       "    </tr>\n",
       "  </tbody>\n",
       "</table>\n",
       "</div>"
      ],
      "text/plain": [
       "          Bwt       Hwt\n",
       "Bwt  1.000000  0.804127\n",
       "Hwt  0.804127  1.000000"
      ]
     },
     "execution_count": 16,
     "metadata": {},
     "output_type": "execute_result"
    }
   ],
   "source": [
    "# Show the correlation bodyweight and heartweight\n",
    "df_cats.corr()"
   ]
  },
  {
   "cell_type": "code",
   "execution_count": 17,
   "id": "499e2814-7769-44d8-9964-e7e559afca3b",
   "metadata": {},
   "outputs": [
    {
     "data": {
      "text/html": [
       "<div>\n",
       "<style scoped>\n",
       "    .dataframe tbody tr th:only-of-type {\n",
       "        vertical-align: middle;\n",
       "    }\n",
       "\n",
       "    .dataframe tbody tr th {\n",
       "        vertical-align: top;\n",
       "    }\n",
       "\n",
       "    .dataframe thead th {\n",
       "        text-align: right;\n",
       "    }\n",
       "</style>\n",
       "<table border=\"1\" class=\"dataframe\">\n",
       "  <thead>\n",
       "    <tr style=\"text-align: right;\">\n",
       "      <th></th>\n",
       "      <th>random_bwt</th>\n",
       "      <th>random_hwt</th>\n",
       "    </tr>\n",
       "  </thead>\n",
       "  <tbody>\n",
       "    <tr>\n",
       "      <th>random_bwt</th>\n",
       "      <td>1.000000</td>\n",
       "      <td>-0.055416</td>\n",
       "    </tr>\n",
       "    <tr>\n",
       "      <th>random_hwt</th>\n",
       "      <td>-0.055416</td>\n",
       "      <td>1.000000</td>\n",
       "    </tr>\n",
       "  </tbody>\n",
       "</table>\n",
       "</div>"
      ],
      "text/plain": [
       "            random_bwt  random_hwt\n",
       "random_bwt    1.000000   -0.055416\n",
       "random_hwt   -0.055416    1.000000"
      ]
     },
     "execution_count": 17,
     "metadata": {},
     "output_type": "execute_result"
    }
   ],
   "source": [
    "# Show the correlation bodyweight and heartweight\n",
    "random_df.corr()"
   ]
  },
  {
   "cell_type": "markdown",
   "id": "d69cd60d-41e5-45c1-b8cc-8dd5f98fbf53",
   "metadata": {},
   "source": [
    "This means that in general, lighter cats have lighter hearts and heavier cats have heavier hearts. While 0.8 is a very strong correlation[x], it is not perfect. There are some rather rare instances where a cat has a heavier heart than another cat that have a higher bodyweight. For that reason, it will not suffice to just sort the random values so that the lightest cat is matched with the lightest heart all the way up to the heaviest cat and the heaviest heart.  "
   ]
  },
  {
   "cell_type": "markdown",
   "id": "70aa228d-c2bf-4732-8fdf-bc5c79e670b5",
   "metadata": {},
   "source": [
    "### Simulating Correlated Data with Numpy's multivariate_normal() module"
   ]
  },
  {
   "cell_type": "markdown",
   "id": "69d0b9cf-8d93-4d21-9ad6-5bb02db5a6df",
   "metadata": {},
   "source": [
    "Since the data appears to be correlated, one potential solution is to assume that the data is normally distributed and then use numpy random's multivariate_normal method, which samples from multiple correlated normal distributions given the mean of the normal distributions and their covariance matrix[x]."
   ]
  },
  {
   "cell_type": "code",
   "execution_count": 18,
   "id": "bf68f2f8-949f-4433-b171-040fb2345590",
   "metadata": {},
   "outputs": [],
   "source": [
    "# Create a df containing only the numerical bwt and hwt columns\n",
    "df_cats_num = df_cats[['Bwt', 'Hwt']]"
   ]
  },
  {
   "cell_type": "code",
   "execution_count": 19,
   "id": "61c5ee56-943d-4622-8de4-81883741efa0",
   "metadata": {},
   "outputs": [
    {
     "data": {
      "text/plain": [
       "array([[0.23552253, 0.95011267],\n",
       "       [0.95011267, 5.92745144]])"
      ]
     },
     "execution_count": 19,
     "metadata": {},
     "output_type": "execute_result"
    }
   ],
   "source": [
    "# Get covariance matrix of dataframe\n",
    "df_cats_num.cov().to_numpy()"
   ]
  },
  {
   "cell_type": "code",
   "execution_count": 20,
   "id": "6e7f0786-5bd9-48eb-8e48-60379dddf6ee",
   "metadata": {},
   "outputs": [],
   "source": [
    "# Generate multivariate random data based on the original df mean, covariance, and size\n",
    "mean = [2.723611, 10.630556]\n",
    "cov = [[0.23552253, 0.95011267], [0.95011267, 5.92745144]]\n",
    "size = 144\n",
    "\n",
    "cats_mvn = rng.multivariate_normal(mean, cov, size)"
   ]
  },
  {
   "cell_type": "code",
   "execution_count": 21,
   "id": "11d5df19-1b04-4e12-a267-62132318bc0b",
   "metadata": {},
   "outputs": [],
   "source": [
    "# Convert random array to pandas df\n",
    "df_cats_mvn = pd.DataFrame(cats_mvn, columns = ['Bwt', 'Hwt'])"
   ]
  },
  {
   "cell_type": "code",
   "execution_count": 22,
   "id": "36b0485c-6516-401b-8449-8838eb08872c",
   "metadata": {},
   "outputs": [
    {
     "data": {
      "text/html": [
       "<div>\n",
       "<style scoped>\n",
       "    .dataframe tbody tr th:only-of-type {\n",
       "        vertical-align: middle;\n",
       "    }\n",
       "\n",
       "    .dataframe tbody tr th {\n",
       "        vertical-align: top;\n",
       "    }\n",
       "\n",
       "    .dataframe thead th {\n",
       "        text-align: right;\n",
       "    }\n",
       "</style>\n",
       "<table border=\"1\" class=\"dataframe\">\n",
       "  <thead>\n",
       "    <tr style=\"text-align: right;\">\n",
       "      <th></th>\n",
       "      <th>Bwt</th>\n",
       "      <th>Hwt</th>\n",
       "    </tr>\n",
       "  </thead>\n",
       "  <tbody>\n",
       "    <tr>\n",
       "      <th>count</th>\n",
       "      <td>144.000000</td>\n",
       "      <td>144.000000</td>\n",
       "    </tr>\n",
       "    <tr>\n",
       "      <th>mean</th>\n",
       "      <td>2.727470</td>\n",
       "      <td>10.619237</td>\n",
       "    </tr>\n",
       "    <tr>\n",
       "      <th>std</th>\n",
       "      <td>0.426279</td>\n",
       "      <td>2.178917</td>\n",
       "    </tr>\n",
       "    <tr>\n",
       "      <th>min</th>\n",
       "      <td>1.756078</td>\n",
       "      <td>6.080195</td>\n",
       "    </tr>\n",
       "    <tr>\n",
       "      <th>25%</th>\n",
       "      <td>2.426996</td>\n",
       "      <td>8.997623</td>\n",
       "    </tr>\n",
       "    <tr>\n",
       "      <th>50%</th>\n",
       "      <td>2.743171</td>\n",
       "      <td>10.536973</td>\n",
       "    </tr>\n",
       "    <tr>\n",
       "      <th>75%</th>\n",
       "      <td>2.978730</td>\n",
       "      <td>12.087864</td>\n",
       "    </tr>\n",
       "    <tr>\n",
       "      <th>max</th>\n",
       "      <td>3.933044</td>\n",
       "      <td>17.655224</td>\n",
       "    </tr>\n",
       "  </tbody>\n",
       "</table>\n",
       "</div>"
      ],
      "text/plain": [
       "              Bwt         Hwt\n",
       "count  144.000000  144.000000\n",
       "mean     2.727470   10.619237\n",
       "std      0.426279    2.178917\n",
       "min      1.756078    6.080195\n",
       "25%      2.426996    8.997623\n",
       "50%      2.743171   10.536973\n",
       "75%      2.978730   12.087864\n",
       "max      3.933044   17.655224"
      ]
     },
     "execution_count": 22,
     "metadata": {},
     "output_type": "execute_result"
    }
   ],
   "source": [
    "# View description of random dataset\n",
    "df_cats_mvn.describe()"
   ]
  },
  {
   "cell_type": "code",
   "execution_count": 23,
   "id": "fa19ddd8-0703-4faa-b600-8527b660e804",
   "metadata": {},
   "outputs": [
    {
     "data": {
      "text/plain": [
       "<AxesSubplot:xlabel='Bwt', ylabel='Hwt'>"
      ]
     },
     "execution_count": 23,
     "metadata": {},
     "output_type": "execute_result"
    },
    {
     "data": {
      "image/png": "[encoded data removed]",
      "text/plain": [
       "<Figure size 432x288 with 1 Axes>"
      ]
     },
     "metadata": {
      "needs_background": "light"
     },
     "output_type": "display_data"
    }
   ],
   "source": [
    "# Plot multivariate random data\n",
    "sns.scatterplot(data = df_cats_mvn, x = 'Bwt', y= 'Hwt')"
   ]
  },
  {
   "cell_type": "markdown",
   "id": "5d5fc572-2d32-4ec3-823d-b1cc7b3d0365",
   "metadata": {},
   "source": [
    "This random data certainly appears to be more in line with the original dataset. We could split the data above and below 3.0 and assign a sex of male or female to the data below 3.0 and all male to the data above 3.0, akin to the original dataset. It might be worthwhile however to dive even deeper and see if there's a difference between the sexes that would be obscured by randomly generating both sexes at once as is done here.  "
   ]
  },
  {
   "cell_type": "markdown",
   "id": "a9a1eabc-cab0-404c-9b8c-abeba75c5720",
   "metadata": {},
   "source": [
    "As the sex of the cat may impact the other variables[x], it would be a good idea to also look at the summary statistics for each sex. "
   ]
  },
  {
   "cell_type": "markdown",
   "id": "2fafbbf0-3bde-4ab0-bb39-33d813710d2f",
   "metadata": {},
   "source": [
    "### Seperating the Dataset Based on Sex"
   ]
  },
  {
   "cell_type": "code",
   "execution_count": 24,
   "id": "47f7f2dc-2811-442e-9127-8bdf5d792e9c",
   "metadata": {},
   "outputs": [
    {
     "data": {
      "text/html": [
       "<div>\n",
       "<style scoped>\n",
       "    .dataframe tbody tr th:only-of-type {\n",
       "        vertical-align: middle;\n",
       "    }\n",
       "\n",
       "    .dataframe tbody tr th {\n",
       "        vertical-align: top;\n",
       "    }\n",
       "\n",
       "    .dataframe thead tr th {\n",
       "        text-align: left;\n",
       "    }\n",
       "\n",
       "    .dataframe thead tr:last-of-type th {\n",
       "        text-align: right;\n",
       "    }\n",
       "</style>\n",
       "<table border=\"1\" class=\"dataframe\">\n",
       "  <thead>\n",
       "    <tr>\n",
       "      <th></th>\n",
       "      <th colspan=\"8\" halign=\"left\">Bwt</th>\n",
       "      <th colspan=\"8\" halign=\"left\">Hwt</th>\n",
       "    </tr>\n",
       "    <tr>\n",
       "      <th></th>\n",
       "      <th>count</th>\n",
       "      <th>mean</th>\n",
       "      <th>std</th>\n",
       "      <th>min</th>\n",
       "      <th>25%</th>\n",
       "      <th>50%</th>\n",
       "      <th>75%</th>\n",
       "      <th>max</th>\n",
       "      <th>count</th>\n",
       "      <th>mean</th>\n",
       "      <th>std</th>\n",
       "      <th>min</th>\n",
       "      <th>25%</th>\n",
       "      <th>50%</th>\n",
       "      <th>75%</th>\n",
       "      <th>max</th>\n",
       "    </tr>\n",
       "    <tr>\n",
       "      <th>Sex</th>\n",
       "      <th></th>\n",
       "      <th></th>\n",
       "      <th></th>\n",
       "      <th></th>\n",
       "      <th></th>\n",
       "      <th></th>\n",
       "      <th></th>\n",
       "      <th></th>\n",
       "      <th></th>\n",
       "      <th></th>\n",
       "      <th></th>\n",
       "      <th></th>\n",
       "      <th></th>\n",
       "      <th></th>\n",
       "      <th></th>\n",
       "      <th></th>\n",
       "    </tr>\n",
       "  </thead>\n",
       "  <tbody>\n",
       "    <tr>\n",
       "      <th>F</th>\n",
       "      <td>47.0</td>\n",
       "      <td>2.359574</td>\n",
       "      <td>0.273988</td>\n",
       "      <td>2.0</td>\n",
       "      <td>2.15</td>\n",
       "      <td>2.3</td>\n",
       "      <td>2.5</td>\n",
       "      <td>3.0</td>\n",
       "      <td>47.0</td>\n",
       "      <td>9.202128</td>\n",
       "      <td>1.357666</td>\n",
       "      <td>6.3</td>\n",
       "      <td>8.35</td>\n",
       "      <td>9.1</td>\n",
       "      <td>10.1</td>\n",
       "      <td>13.0</td>\n",
       "    </tr>\n",
       "    <tr>\n",
       "      <th>M</th>\n",
       "      <td>97.0</td>\n",
       "      <td>2.900000</td>\n",
       "      <td>0.467484</td>\n",
       "      <td>2.0</td>\n",
       "      <td>2.50</td>\n",
       "      <td>2.9</td>\n",
       "      <td>3.2</td>\n",
       "      <td>3.9</td>\n",
       "      <td>97.0</td>\n",
       "      <td>11.322680</td>\n",
       "      <td>2.542288</td>\n",
       "      <td>6.5</td>\n",
       "      <td>9.40</td>\n",
       "      <td>11.4</td>\n",
       "      <td>12.8</td>\n",
       "      <td>20.5</td>\n",
       "    </tr>\n",
       "  </tbody>\n",
       "</table>\n",
       "</div>"
      ],
      "text/plain": [
       "      Bwt                                                 Hwt             \\\n",
       "    count      mean       std  min   25%  50%  75%  max count       mean   \n",
       "Sex                                                                        \n",
       "F    47.0  2.359574  0.273988  2.0  2.15  2.3  2.5  3.0  47.0   9.202128   \n",
       "M    97.0  2.900000  0.467484  2.0  2.50  2.9  3.2  3.9  97.0  11.322680   \n",
       "\n",
       "                                            \n",
       "          std  min   25%   50%   75%   max  \n",
       "Sex                                         \n",
       "F    1.357666  6.3  8.35   9.1  10.1  13.0  \n",
       "M    2.542288  6.5  9.40  11.4  12.8  20.5  "
      ]
     },
     "execution_count": 24,
     "metadata": {},
     "output_type": "execute_result"
    }
   ],
   "source": [
    "# View summary statistics for each sex\n",
    "# Code adapted from: https://stackoverflow.com/questions/42579148/get-columns-describe-from-group-by\n",
    "df_cats.groupby(['Sex']).describe()"
   ]
  },
  {
   "cell_type": "markdown",
   "id": "80b5c848-f110-451f-8a0d-ab3e1769a224",
   "metadata": {},
   "source": [
    "The standard deviations of the male values for body weight and heart weight are much higher than for females, suggesting there is typically a greater variation in male sizes, whereas females tend to be more similar in body and heart weights to one another. "
   ]
  },
  {
   "cell_type": "markdown",
   "id": "2b5df823-790d-4731-b205-c4895df3af8a",
   "metadata": {},
   "source": [
    "We can also look at the scatterplot again, this time colour-coded to differentiate the sex."
   ]
  },
  {
   "cell_type": "code",
   "execution_count": 25,
   "id": "8903f816-58b4-438b-aec8-5ff10d8d81ad",
   "metadata": {},
   "outputs": [
    {
     "data": {
      "image/png": "[encoded data removed]",
      "text/plain": [
       "<Figure size 432x288 with 1 Axes>"
      ]
     },
     "metadata": {
      "needs_background": "light"
     },
     "output_type": "display_data"
    }
   ],
   "source": [
    "# sCATterplot of random bwt and hwt\n",
    "sns.scatterplot(data = df_cats, x = 'Bwt', y= 'Hwt', hue = 'Sex')\n",
    "# Save plot\n",
    "path = 'cats-dataset/cats-original-data/cats_original_plots/cats_original_scatter'  + current_time + '.png'\n",
    "plt.savefig(path)"
   ]
  },
  {
   "cell_type": "markdown",
   "id": "412deaaf-f370-4a09-b085-8cdc830ac8fc",
   "metadata": {},
   "source": [
    "It it will be helpful to plot the dataset to visualise the distributions of each variable. It will help to decide if the assumption of normally distributed data is justified. "
   ]
  },
  {
   "cell_type": "code",
   "execution_count": null,
   "id": "c8216240-34be-4fbf-9b68-a50df3a0bd2c",
   "metadata": {},
   "outputs": [],
   "source": []
  },
  {
   "cell_type": "code",
   "execution_count": 26,
   "id": "7a898c34-2449-4b8a-91f2-6323b19d70c7",
   "metadata": {},
   "outputs": [
    {
     "data": {
      "text/plain": [
       "<AxesSubplot:xlabel='Bwt', ylabel='Count'>"
      ]
     },
     "execution_count": 26,
     "metadata": {},
     "output_type": "execute_result"
    },
    {
     "data": {
      "image/png": "[encoded data removed]",
      "text/plain": [
       "<Figure size 432x288 with 1 Axes>"
      ]
     },
     "metadata": {
      "needs_background": "light"
     },
     "output_type": "display_data"
    }
   ],
   "source": [
    "# Plotting the body weight of all cats\n",
    "sns.histplot(data = df_cats, x = 'Bwt')"
   ]
  },
  {
   "cell_type": "code",
   "execution_count": 27,
   "id": "3b53e3a2-3b83-445f-a99b-b60ac35d626d",
   "metadata": {},
   "outputs": [
    {
     "data": {
      "image/png": "[encoded data removed]",
      "text/plain": [
       "<Figure size 432x288 with 1 Axes>"
      ]
     },
     "metadata": {
      "needs_background": "light"
     },
     "output_type": "display_data"
    }
   ],
   "source": [
    "# Plotting the bodyweight by sex\n",
    "sns.histplot(data = df_cats, x = 'Bwt', hue = 'Sex', multiple=\"dodge\", kde=True)\n",
    "# Save plot\n",
    "path = 'cats-dataset/cats-original-data/cats_original_plots/cats_hist_bwt'  + current_time + '.png'\n",
    "plt.savefig(path)"
   ]
  },
  {
   "cell_type": "code",
   "execution_count": null,
   "id": "8d91b473-b835-4198-996f-ca2242dd407c",
   "metadata": {},
   "outputs": [],
   "source": []
  },
  {
   "cell_type": "code",
   "execution_count": 28,
   "id": "446a3eed-e452-493c-b98f-c92f52d6dc92",
   "metadata": {},
   "outputs": [
    {
     "data": {
      "text/plain": [
       "<AxesSubplot:xlabel='Hwt', ylabel='Count'>"
      ]
     },
     "execution_count": 28,
     "metadata": {},
     "output_type": "execute_result"
    },
    {
     "data": {
      "image/png": "[encoded data removed]",
      "text/plain": [
       "<Figure size 432x288 with 1 Axes>"
      ]
     },
     "metadata": {
      "needs_background": "light"
     },
     "output_type": "display_data"
    }
   ],
   "source": [
    "# Plotting the heart weight of all cats\n",
    "sns.histplot(data = df_cats, x = 'Hwt')"
   ]
  },
  {
   "cell_type": "code",
   "execution_count": 29,
   "id": "b60b63a5-a96a-48e5-9f7a-4ab42df13997",
   "metadata": {},
   "outputs": [
    {
     "data": {
      "image/png": "[encoded data removed]",
      "text/plain": [
       "<Figure size 432x288 with 1 Axes>"
      ]
     },
     "metadata": {
      "needs_background": "light"
     },
     "output_type": "display_data"
    }
   ],
   "source": [
    "# Plotting the heart weight by sex\n",
    "sns.histplot(data = df_cats, x = 'Hwt', hue = 'Sex', multiple=\"dodge\", kde=True)\n",
    "# Save plot\n",
    "path = 'cats-dataset/cats-original-data/cats_original_plots/cats_hist_hwt'  + current_time + '.png'\n",
    "plt.savefig(path)"
   ]
  },
  {
   "cell_type": "markdown",
   "id": "9f463b42-c07b-4a9f-8a99-5db1ceb47142",
   "metadata": {},
   "source": [
    "Both the summary statistics and the plots suggest that sex has an influence over the distribution of the variables. \n",
    "The male datapoints appear to come close to the bell-shaped curve of a normal distribution, whereas the female datapoints seem to skew slightly.\n",
    "\n",
    "It might be a good idea to create two new dataframes containing the data for each sex."
   ]
  },
  {
   "cell_type": "code",
   "execution_count": 30,
   "id": "71b730c9-a7b7-44cb-94fd-28a67941f573",
   "metadata": {},
   "outputs": [],
   "source": [
    "# code adapted from:\n",
    "# https://stackoverflow.com/questions/17071871/how-do-i-select-rows-from-a-dataframe-based-on-column-values\n",
    "# New df for each sex\n",
    "df_cats_female = df_cats.loc[df_cats['Sex'] == 'F']\n",
    "df_cats_male = df_cats.loc[df_cats['Sex'] == 'M']"
   ]
  },
  {
   "cell_type": "code",
   "execution_count": 31,
   "id": "872edfcb-da77-4666-aea1-c2a94ef2afd5",
   "metadata": {},
   "outputs": [
    {
     "data": {
      "text/html": [
       "<div>\n",
       "<style scoped>\n",
       "    .dataframe tbody tr th:only-of-type {\n",
       "        vertical-align: middle;\n",
       "    }\n",
       "\n",
       "    .dataframe tbody tr th {\n",
       "        vertical-align: top;\n",
       "    }\n",
       "\n",
       "    .dataframe thead th {\n",
       "        text-align: right;\n",
       "    }\n",
       "</style>\n",
       "<table border=\"1\" class=\"dataframe\">\n",
       "  <thead>\n",
       "    <tr style=\"text-align: right;\">\n",
       "      <th></th>\n",
       "      <th>Bwt</th>\n",
       "      <th>Hwt</th>\n",
       "    </tr>\n",
       "  </thead>\n",
       "  <tbody>\n",
       "    <tr>\n",
       "      <th>Bwt</th>\n",
       "      <td>1.00000</td>\n",
       "      <td>0.53205</td>\n",
       "    </tr>\n",
       "    <tr>\n",
       "      <th>Hwt</th>\n",
       "      <td>0.53205</td>\n",
       "      <td>1.00000</td>\n",
       "    </tr>\n",
       "  </tbody>\n",
       "</table>\n",
       "</div>"
      ],
      "text/plain": [
       "         Bwt      Hwt\n",
       "Bwt  1.00000  0.53205\n",
       "Hwt  0.53205  1.00000"
      ]
     },
     "execution_count": 31,
     "metadata": {},
     "output_type": "execute_result"
    }
   ],
   "source": [
    "# Correlation of original female sample\n",
    "df_cats_female.corr()"
   ]
  },
  {
   "cell_type": "markdown",
   "id": "a3200851-c3c0-4eb9-9f13-0cd586b795c3",
   "metadata": {},
   "source": [
    "It is interesting to note that while both males and females have a strong positive correlation between bodyweight and heartweight, the correlation is much higher in males than females."
   ]
  },
  {
   "cell_type": "markdown",
   "id": "72e50039-148b-4f57-8158-187f6a14a546",
   "metadata": {},
   "source": [
    "### Testing for Normal Distribution"
   ]
  },
  {
   "cell_type": "markdown",
   "id": "9da2f137-24da-4e51-8039-6945cd94f87f",
   "metadata": {},
   "source": [
    "We can use a statistical test for normality. \n",
    "\n",
    "https://www.ncbi.nlm.nih.gov/pmc/articles/PMC6350423/ recommends using Shapiro–Wilk test when sample sizes are under 50, which is the case with female samples. It can also be used for samples above 50, however, so it can also be used to test the male data also.\n",
    "\n",
    "The Shapiro-Wilk tests a null hypothesis that the data comes from a normal distribution. If the p-value is greater that 0.05, then the test fails to reject that null hypothesis. "
   ]
  },
  {
   "cell_type": "code",
   "execution_count": 32,
   "id": "e808ce23-ebac-49eb-973d-341cf22f51fe",
   "metadata": {},
   "outputs": [
    {
     "data": {
      "text/plain": [
       "ShapiroResult(statistic=0.9788321852684021, pvalue=0.11895745247602463)"
      ]
     },
     "execution_count": 32,
     "metadata": {},
     "output_type": "execute_result"
    }
   ],
   "source": [
    "from scipy.stats import shapiro\n",
    "\n",
    "#perform Shapiro-Wilk test on male body weight\n",
    "shapiro(df_cats_male['Bwt'])"
   ]
  },
  {
   "cell_type": "code",
   "execution_count": 33,
   "id": "ff3c5a5a-8224-45f9-a563-4cfb99d9597e",
   "metadata": {},
   "outputs": [
    {
     "data": {
      "text/plain": [
       "ShapiroResult(statistic=0.9772655963897705, pvalue=0.09039346873760223)"
      ]
     },
     "execution_count": 33,
     "metadata": {},
     "output_type": "execute_result"
    }
   ],
   "source": [
    "#perform Shapiro-Wilk test on male heart weight\n",
    "shapiro(df_cats_male['Hwt'])"
   ]
  },
  {
   "cell_type": "code",
   "execution_count": 34,
   "id": "cd74542a-5e49-4d84-97ca-6484c5c8539f",
   "metadata": {},
   "outputs": [
    {
     "data": {
      "text/plain": [
       "ShapiroResult(statistic=0.8909613490104675, pvalue=0.0003754299250431359)"
      ]
     },
     "execution_count": 34,
     "metadata": {},
     "output_type": "execute_result"
    }
   ],
   "source": [
    "#perform Shapiro-Wilk test on female body weight\n",
    "shapiro(df_cats_female['Bwt'])"
   ]
  },
  {
   "cell_type": "code",
   "execution_count": 35,
   "id": "84567965-f916-4906-b137-fa7aedededb7",
   "metadata": {},
   "outputs": [
    {
     "data": {
      "text/plain": [
       "ShapiroResult(statistic=0.9787967205047607, pvalue=0.5434856414794922)"
      ]
     },
     "execution_count": 35,
     "metadata": {},
     "output_type": "execute_result"
    }
   ],
   "source": [
    "#perform Shapiro-Wilk test on female heart weight\n",
    "shapiro(df_cats_female['Hwt'])"
   ]
  },
  {
   "cell_type": "markdown",
   "id": "41ed95c7-24da-4478-b3bd-9be9c75bf13c",
   "metadata": {},
   "source": [
    "These test results suggest that we can assume that male body weights, heart weights, and female heart weights were drawn from a normal distribution. However, the p-value for female body weights suggests that we can assume that this data is not normally distributed. This is unusual, as weights are often normally distributed[x]. This may be a false result due to the low sample size https://machinelearningmastery.com/how-to-transform-data-to-fit-the-normal-distribution/, or it may be because all cats under 2kg were excluded from the original dataset thus leaving us with a truncated normal distribution[x] https://www.statisticshowto.com/truncated-normal-distribution/\n",
    "\n",
    "For now, we will proceed as before and use numpy random's multivariate normal to generate data for each sex and see if it will generate a sample that sufficiently simulates the original."
   ]
  },
  {
   "cell_type": "markdown",
   "id": "e7c577be-5fb7-42a2-a248-59a350aca58c",
   "metadata": {},
   "source": [
    "### Generating Simulated Data for Each Sex"
   ]
  },
  {
   "cell_type": "markdown",
   "id": "5641e237-927e-4132-bbf0-45b6c242f54f",
   "metadata": {},
   "source": [
    "Multivariate normal requires the covariance matrix as an argument to generate the random data. The covariance can be found using the .cov() method, and the values passed in an array format. "
   ]
  },
  {
   "cell_type": "code",
   "execution_count": 36,
   "id": "fe2fda9a-fcc8-413d-980d-22ecc315713f",
   "metadata": {},
   "outputs": [
    {
     "data": {
      "text/html": [
       "<div>\n",
       "<style scoped>\n",
       "    .dataframe tbody tr th:only-of-type {\n",
       "        vertical-align: middle;\n",
       "    }\n",
       "\n",
       "    .dataframe tbody tr th {\n",
       "        vertical-align: top;\n",
       "    }\n",
       "\n",
       "    .dataframe thead th {\n",
       "        text-align: right;\n",
       "    }\n",
       "</style>\n",
       "<table border=\"1\" class=\"dataframe\">\n",
       "  <thead>\n",
       "    <tr style=\"text-align: right;\">\n",
       "      <th></th>\n",
       "      <th>Bwt</th>\n",
       "      <th>Hwt</th>\n",
       "    </tr>\n",
       "  </thead>\n",
       "  <tbody>\n",
       "    <tr>\n",
       "      <th>Bwt</th>\n",
       "      <td>0.075069</td>\n",
       "      <td>0.197914</td>\n",
       "    </tr>\n",
       "    <tr>\n",
       "      <th>Hwt</th>\n",
       "      <td>0.197914</td>\n",
       "      <td>1.843256</td>\n",
       "    </tr>\n",
       "  </tbody>\n",
       "</table>\n",
       "</div>"
      ],
      "text/plain": [
       "          Bwt       Hwt\n",
       "Bwt  0.075069  0.197914\n",
       "Hwt  0.197914  1.843256"
      ]
     },
     "execution_count": 36,
     "metadata": {},
     "output_type": "execute_result"
    }
   ],
   "source": [
    "# Generate random data for female cats\n",
    "# Get covariance matrix for female cats\n",
    "df_cats_female.cov()"
   ]
  },
  {
   "cell_type": "code",
   "execution_count": null,
   "id": "016af62d-6b2c-454e-ac04-244cafff805c",
   "metadata": {},
   "outputs": [],
   "source": []
  },
  {
   "cell_type": "code",
   "execution_count": null,
   "id": "59e73dd7-abf1-4c26-a641-6dd5dd973eb7",
   "metadata": {},
   "outputs": [],
   "source": []
  },
  {
   "cell_type": "code",
   "execution_count": null,
   "id": "57f779cd-7187-4353-af34-238afbef7d2f",
   "metadata": {},
   "outputs": [],
   "source": []
  },
  {
   "cell_type": "code",
   "execution_count": null,
   "id": "530b9907-1561-4b96-8f6a-731519110bd3",
   "metadata": {},
   "outputs": [],
   "source": []
  },
  {
   "cell_type": "code",
   "execution_count": null,
   "id": "f6e2e446-b262-4563-ba70-7525e58ad2cf",
   "metadata": {},
   "outputs": [],
   "source": []
  },
  {
   "cell_type": "code",
   "execution_count": null,
   "id": "7b4147eb-35b7-4df2-9b7a-5e148a07419e",
   "metadata": {},
   "outputs": [],
   "source": []
  },
  {
   "cell_type": "code",
   "execution_count": 37,
   "id": "ae30a5b4-2e64-4c3a-984f-66047b8b0637",
   "metadata": {},
   "outputs": [],
   "source": [
    "# Generate multivariate random data based on the original female df mean and covariance\n",
    "mean_f = [2.359574, 9.202128]\n",
    "cov_f = [[0.07506938, 0.19791397], [0.19791397, 1.84325624]]\n",
    "size_f = 47 # Match the number of females from original dataset\n",
    "female_cats_mvn = rng.multivariate_normal(mean_f, cov_f, size_f)"
   ]
  },
  {
   "cell_type": "code",
   "execution_count": 38,
   "id": "064a56ed-fd8b-4436-baec-22de9446b316",
   "metadata": {},
   "outputs": [],
   "source": [
    "# Convert random array to pandas df\n",
    "df_female_cats_mvn = pd.DataFrame(female_cats_mvn, columns = ['Bwt', 'Hwt'])"
   ]
  },
  {
   "cell_type": "code",
   "execution_count": 39,
   "id": "52cb017b-0e3b-4e98-b15f-b2432e3b8996",
   "metadata": {},
   "outputs": [
    {
     "data": {
      "text/html": [
       "<div>\n",
       "<style scoped>\n",
       "    .dataframe tbody tr th:only-of-type {\n",
       "        vertical-align: middle;\n",
       "    }\n",
       "\n",
       "    .dataframe tbody tr th {\n",
       "        vertical-align: top;\n",
       "    }\n",
       "\n",
       "    .dataframe thead th {\n",
       "        text-align: right;\n",
       "    }\n",
       "</style>\n",
       "<table border=\"1\" class=\"dataframe\">\n",
       "  <thead>\n",
       "    <tr style=\"text-align: right;\">\n",
       "      <th></th>\n",
       "      <th>Bwt</th>\n",
       "      <th>Hwt</th>\n",
       "    </tr>\n",
       "  </thead>\n",
       "  <tbody>\n",
       "    <tr>\n",
       "      <th>count</th>\n",
       "      <td>47.000000</td>\n",
       "      <td>47.000000</td>\n",
       "    </tr>\n",
       "    <tr>\n",
       "      <th>mean</th>\n",
       "      <td>2.355740</td>\n",
       "      <td>8.946741</td>\n",
       "    </tr>\n",
       "    <tr>\n",
       "      <th>std</th>\n",
       "      <td>0.238650</td>\n",
       "      <td>1.403378</td>\n",
       "    </tr>\n",
       "    <tr>\n",
       "      <th>min</th>\n",
       "      <td>1.752350</td>\n",
       "      <td>5.908395</td>\n",
       "    </tr>\n",
       "    <tr>\n",
       "      <th>25%</th>\n",
       "      <td>2.186459</td>\n",
       "      <td>7.889774</td>\n",
       "    </tr>\n",
       "    <tr>\n",
       "      <th>50%</th>\n",
       "      <td>2.329810</td>\n",
       "      <td>9.025656</td>\n",
       "    </tr>\n",
       "    <tr>\n",
       "      <th>75%</th>\n",
       "      <td>2.525623</td>\n",
       "      <td>9.837076</td>\n",
       "    </tr>\n",
       "    <tr>\n",
       "      <th>max</th>\n",
       "      <td>2.867885</td>\n",
       "      <td>11.950115</td>\n",
       "    </tr>\n",
       "  </tbody>\n",
       "</table>\n",
       "</div>"
      ],
      "text/plain": [
       "             Bwt        Hwt\n",
       "count  47.000000  47.000000\n",
       "mean    2.355740   8.946741\n",
       "std     0.238650   1.403378\n",
       "min     1.752350   5.908395\n",
       "25%     2.186459   7.889774\n",
       "50%     2.329810   9.025656\n",
       "75%     2.525623   9.837076\n",
       "max     2.867885  11.950115"
      ]
     },
     "execution_count": 39,
     "metadata": {},
     "output_type": "execute_result"
    }
   ],
   "source": [
    "# View summary statistics of the random data\n",
    "df_female_cats_mvn.describe()"
   ]
  },
  {
   "cell_type": "code",
   "execution_count": null,
   "id": "0306620c-dbe2-4caa-8ff0-0074aed0a4e6",
   "metadata": {},
   "outputs": [],
   "source": []
  },
  {
   "cell_type": "code",
   "execution_count": null,
   "id": "604366e5-b130-4f0a-9658-5f76c0320135",
   "metadata": {},
   "outputs": [],
   "source": []
  },
  {
   "cell_type": "code",
   "execution_count": 40,
   "id": "91af9d2e-d8dd-41ba-880d-1f052b2d496a",
   "metadata": {},
   "outputs": [],
   "source": [
    "# Add a column with sex of female\n",
    "df_female_cats_mvn['Sex'] = 'F'"
   ]
  },
  {
   "cell_type": "code",
   "execution_count": 41,
   "id": "5cbffad9-33ce-4268-ad27-7b1869751be6",
   "metadata": {},
   "outputs": [
    {
     "data": {
      "text/html": [
       "<div>\n",
       "<style scoped>\n",
       "    .dataframe tbody tr th:only-of-type {\n",
       "        vertical-align: middle;\n",
       "    }\n",
       "\n",
       "    .dataframe tbody tr th {\n",
       "        vertical-align: top;\n",
       "    }\n",
       "\n",
       "    .dataframe thead th {\n",
       "        text-align: right;\n",
       "    }\n",
       "</style>\n",
       "<table border=\"1\" class=\"dataframe\">\n",
       "  <thead>\n",
       "    <tr style=\"text-align: right;\">\n",
       "      <th></th>\n",
       "      <th>Bwt</th>\n",
       "      <th>Hwt</th>\n",
       "      <th>Sex</th>\n",
       "    </tr>\n",
       "  </thead>\n",
       "  <tbody>\n",
       "    <tr>\n",
       "      <th>0</th>\n",
       "      <td>2.522447</td>\n",
       "      <td>8.297698</td>\n",
       "      <td>F</td>\n",
       "    </tr>\n",
       "    <tr>\n",
       "      <th>1</th>\n",
       "      <td>2.492555</td>\n",
       "      <td>10.402778</td>\n",
       "      <td>F</td>\n",
       "    </tr>\n",
       "    <tr>\n",
       "      <th>2</th>\n",
       "      <td>2.475531</td>\n",
       "      <td>8.502075</td>\n",
       "      <td>F</td>\n",
       "    </tr>\n",
       "    <tr>\n",
       "      <th>3</th>\n",
       "      <td>2.181832</td>\n",
       "      <td>9.183459</td>\n",
       "      <td>F</td>\n",
       "    </tr>\n",
       "    <tr>\n",
       "      <th>4</th>\n",
       "      <td>2.222886</td>\n",
       "      <td>9.146523</td>\n",
       "      <td>F</td>\n",
       "    </tr>\n",
       "    <tr>\n",
       "      <th>5</th>\n",
       "      <td>2.294218</td>\n",
       "      <td>8.768476</td>\n",
       "      <td>F</td>\n",
       "    </tr>\n",
       "    <tr>\n",
       "      <th>6</th>\n",
       "      <td>2.299740</td>\n",
       "      <td>8.734757</td>\n",
       "      <td>F</td>\n",
       "    </tr>\n",
       "    <tr>\n",
       "      <th>7</th>\n",
       "      <td>2.334002</td>\n",
       "      <td>9.809693</td>\n",
       "      <td>F</td>\n",
       "    </tr>\n",
       "    <tr>\n",
       "      <th>8</th>\n",
       "      <td>2.344861</td>\n",
       "      <td>10.873049</td>\n",
       "      <td>F</td>\n",
       "    </tr>\n",
       "    <tr>\n",
       "      <th>9</th>\n",
       "      <td>2.300776</td>\n",
       "      <td>11.950115</td>\n",
       "      <td>F</td>\n",
       "    </tr>\n",
       "    <tr>\n",
       "      <th>10</th>\n",
       "      <td>2.867885</td>\n",
       "      <td>11.514887</td>\n",
       "      <td>F</td>\n",
       "    </tr>\n",
       "    <tr>\n",
       "      <th>11</th>\n",
       "      <td>2.287582</td>\n",
       "      <td>10.198268</td>\n",
       "      <td>F</td>\n",
       "    </tr>\n",
       "    <tr>\n",
       "      <th>12</th>\n",
       "      <td>2.569319</td>\n",
       "      <td>9.775426</td>\n",
       "      <td>F</td>\n",
       "    </tr>\n",
       "    <tr>\n",
       "      <th>13</th>\n",
       "      <td>2.276161</td>\n",
       "      <td>8.757309</td>\n",
       "      <td>F</td>\n",
       "    </tr>\n",
       "    <tr>\n",
       "      <th>14</th>\n",
       "      <td>2.421244</td>\n",
       "      <td>9.215434</td>\n",
       "      <td>F</td>\n",
       "    </tr>\n",
       "    <tr>\n",
       "      <th>15</th>\n",
       "      <td>2.132288</td>\n",
       "      <td>7.416322</td>\n",
       "      <td>F</td>\n",
       "    </tr>\n",
       "    <tr>\n",
       "      <th>16</th>\n",
       "      <td>2.608859</td>\n",
       "      <td>9.421601</td>\n",
       "      <td>F</td>\n",
       "    </tr>\n",
       "    <tr>\n",
       "      <th>17</th>\n",
       "      <td>2.329810</td>\n",
       "      <td>7.886877</td>\n",
       "      <td>F</td>\n",
       "    </tr>\n",
       "    <tr>\n",
       "      <th>18</th>\n",
       "      <td>2.499683</td>\n",
       "      <td>7.214374</td>\n",
       "      <td>F</td>\n",
       "    </tr>\n",
       "    <tr>\n",
       "      <th>19</th>\n",
       "      <td>1.752350</td>\n",
       "      <td>5.908395</td>\n",
       "      <td>F</td>\n",
       "    </tr>\n",
       "    <tr>\n",
       "      <th>20</th>\n",
       "      <td>2.538656</td>\n",
       "      <td>7.799016</td>\n",
       "      <td>F</td>\n",
       "    </tr>\n",
       "    <tr>\n",
       "      <th>21</th>\n",
       "      <td>2.591195</td>\n",
       "      <td>9.864425</td>\n",
       "      <td>F</td>\n",
       "    </tr>\n",
       "    <tr>\n",
       "      <th>22</th>\n",
       "      <td>2.131836</td>\n",
       "      <td>8.028548</td>\n",
       "      <td>F</td>\n",
       "    </tr>\n",
       "    <tr>\n",
       "      <th>23</th>\n",
       "      <td>2.628908</td>\n",
       "      <td>9.971943</td>\n",
       "      <td>F</td>\n",
       "    </tr>\n",
       "    <tr>\n",
       "      <th>24</th>\n",
       "      <td>2.023430</td>\n",
       "      <td>9.626731</td>\n",
       "      <td>F</td>\n",
       "    </tr>\n",
       "    <tr>\n",
       "      <th>25</th>\n",
       "      <td>2.088295</td>\n",
       "      <td>8.791097</td>\n",
       "      <td>F</td>\n",
       "    </tr>\n",
       "    <tr>\n",
       "      <th>26</th>\n",
       "      <td>2.694440</td>\n",
       "      <td>10.250163</td>\n",
       "      <td>F</td>\n",
       "    </tr>\n",
       "    <tr>\n",
       "      <th>27</th>\n",
       "      <td>2.404156</td>\n",
       "      <td>8.456399</td>\n",
       "      <td>F</td>\n",
       "    </tr>\n",
       "    <tr>\n",
       "      <th>28</th>\n",
       "      <td>2.463627</td>\n",
       "      <td>7.892671</td>\n",
       "      <td>F</td>\n",
       "    </tr>\n",
       "    <tr>\n",
       "      <th>29</th>\n",
       "      <td>2.079710</td>\n",
       "      <td>7.469269</td>\n",
       "      <td>F</td>\n",
       "    </tr>\n",
       "    <tr>\n",
       "      <th>30</th>\n",
       "      <td>2.565677</td>\n",
       "      <td>8.667321</td>\n",
       "      <td>F</td>\n",
       "    </tr>\n",
       "    <tr>\n",
       "      <th>31</th>\n",
       "      <td>1.943431</td>\n",
       "      <td>7.032187</td>\n",
       "      <td>F</td>\n",
       "    </tr>\n",
       "    <tr>\n",
       "      <th>32</th>\n",
       "      <td>2.173199</td>\n",
       "      <td>6.562773</td>\n",
       "      <td>F</td>\n",
       "    </tr>\n",
       "    <tr>\n",
       "      <th>33</th>\n",
       "      <td>2.054878</td>\n",
       "      <td>9.460725</td>\n",
       "      <td>F</td>\n",
       "    </tr>\n",
       "    <tr>\n",
       "      <th>34</th>\n",
       "      <td>2.303422</td>\n",
       "      <td>7.083379</td>\n",
       "      <td>F</td>\n",
       "    </tr>\n",
       "    <tr>\n",
       "      <th>35</th>\n",
       "      <td>2.214615</td>\n",
       "      <td>11.033753</td>\n",
       "      <td>F</td>\n",
       "    </tr>\n",
       "    <tr>\n",
       "      <th>36</th>\n",
       "      <td>2.263482</td>\n",
       "      <td>6.777734</td>\n",
       "      <td>F</td>\n",
       "    </tr>\n",
       "    <tr>\n",
       "      <th>37</th>\n",
       "      <td>2.691380</td>\n",
       "      <td>9.439921</td>\n",
       "      <td>F</td>\n",
       "    </tr>\n",
       "    <tr>\n",
       "      <th>38</th>\n",
       "      <td>2.527845</td>\n",
       "      <td>10.841067</td>\n",
       "      <td>F</td>\n",
       "    </tr>\n",
       "    <tr>\n",
       "      <th>39</th>\n",
       "      <td>2.523401</td>\n",
       "      <td>10.513174</td>\n",
       "      <td>F</td>\n",
       "    </tr>\n",
       "    <tr>\n",
       "      <th>40</th>\n",
       "      <td>2.191087</td>\n",
       "      <td>8.573795</td>\n",
       "      <td>F</td>\n",
       "    </tr>\n",
       "    <tr>\n",
       "      <th>41</th>\n",
       "      <td>2.773081</td>\n",
       "      <td>9.501069</td>\n",
       "      <td>F</td>\n",
       "    </tr>\n",
       "    <tr>\n",
       "      <th>42</th>\n",
       "      <td>2.163648</td>\n",
       "      <td>6.721889</td>\n",
       "      <td>F</td>\n",
       "    </tr>\n",
       "    <tr>\n",
       "      <th>43</th>\n",
       "      <td>2.490462</td>\n",
       "      <td>9.809726</td>\n",
       "      <td>F</td>\n",
       "    </tr>\n",
       "    <tr>\n",
       "      <th>44</th>\n",
       "      <td>2.724580</td>\n",
       "      <td>10.712539</td>\n",
       "      <td>F</td>\n",
       "    </tr>\n",
       "    <tr>\n",
       "      <th>45</th>\n",
       "      <td>2.274363</td>\n",
       "      <td>9.025656</td>\n",
       "      <td>F</td>\n",
       "    </tr>\n",
       "    <tr>\n",
       "      <th>46</th>\n",
       "      <td>1.982939</td>\n",
       "      <td>7.612349</td>\n",
       "      <td>F</td>\n",
       "    </tr>\n",
       "  </tbody>\n",
       "</table>\n",
       "</div>"
      ],
      "text/plain": [
       "         Bwt        Hwt Sex\n",
       "0   2.522447   8.297698   F\n",
       "1   2.492555  10.402778   F\n",
       "2   2.475531   8.502075   F\n",
       "3   2.181832   9.183459   F\n",
       "4   2.222886   9.146523   F\n",
       "5   2.294218   8.768476   F\n",
       "6   2.299740   8.734757   F\n",
       "7   2.334002   9.809693   F\n",
       "8   2.344861  10.873049   F\n",
       "9   2.300776  11.950115   F\n",
       "10  2.867885  11.514887   F\n",
       "11  2.287582  10.198268   F\n",
       "12  2.569319   9.775426   F\n",
       "13  2.276161   8.757309   F\n",
       "14  2.421244   9.215434   F\n",
       "15  2.132288   7.416322   F\n",
       "16  2.608859   9.421601   F\n",
       "17  2.329810   7.886877   F\n",
       "18  2.499683   7.214374   F\n",
       "19  1.752350   5.908395   F\n",
       "20  2.538656   7.799016   F\n",
       "21  2.591195   9.864425   F\n",
       "22  2.131836   8.028548   F\n",
       "23  2.628908   9.971943   F\n",
       "24  2.023430   9.626731   F\n",
       "25  2.088295   8.791097   F\n",
       "26  2.694440  10.250163   F\n",
       "27  2.404156   8.456399   F\n",
       "28  2.463627   7.892671   F\n",
       "29  2.079710   7.469269   F\n",
       "30  2.565677   8.667321   F\n",
       "31  1.943431   7.032187   F\n",
       "32  2.173199   6.562773   F\n",
       "33  2.054878   9.460725   F\n",
       "34  2.303422   7.083379   F\n",
       "35  2.214615  11.033753   F\n",
       "36  2.263482   6.777734   F\n",
       "37  2.691380   9.439921   F\n",
       "38  2.527845  10.841067   F\n",
       "39  2.523401  10.513174   F\n",
       "40  2.191087   8.573795   F\n",
       "41  2.773081   9.501069   F\n",
       "42  2.163648   6.721889   F\n",
       "43  2.490462   9.809726   F\n",
       "44  2.724580  10.712539   F\n",
       "45  2.274363   9.025656   F\n",
       "46  1.982939   7.612349   F"
      ]
     },
     "execution_count": 41,
     "metadata": {},
     "output_type": "execute_result"
    }
   ],
   "source": [
    "# View dataframe\n",
    "df_female_cats_mvn"
   ]
  },
  {
   "cell_type": "code",
   "execution_count": 42,
   "id": "e7509404-c675-4e98-b8a1-7e20e4a37a24",
   "metadata": {},
   "outputs": [
    {
     "data": {
      "text/html": [
       "<div>\n",
       "<style scoped>\n",
       "    .dataframe tbody tr th:only-of-type {\n",
       "        vertical-align: middle;\n",
       "    }\n",
       "\n",
       "    .dataframe tbody tr th {\n",
       "        vertical-align: top;\n",
       "    }\n",
       "\n",
       "    .dataframe thead th {\n",
       "        text-align: right;\n",
       "    }\n",
       "</style>\n",
       "<table border=\"1\" class=\"dataframe\">\n",
       "  <thead>\n",
       "    <tr style=\"text-align: right;\">\n",
       "      <th></th>\n",
       "      <th>Bwt</th>\n",
       "      <th>Hwt</th>\n",
       "    </tr>\n",
       "  </thead>\n",
       "  <tbody>\n",
       "    <tr>\n",
       "      <th>Bwt</th>\n",
       "      <td>0.218542</td>\n",
       "      <td>0.94250</td>\n",
       "    </tr>\n",
       "    <tr>\n",
       "      <th>Hwt</th>\n",
       "      <td>0.942500</td>\n",
       "      <td>6.46323</td>\n",
       "    </tr>\n",
       "  </tbody>\n",
       "</table>\n",
       "</div>"
      ],
      "text/plain": [
       "          Bwt      Hwt\n",
       "Bwt  0.218542  0.94250\n",
       "Hwt  0.942500  6.46323"
      ]
     },
     "execution_count": 42,
     "metadata": {},
     "output_type": "execute_result"
    }
   ],
   "source": [
    "# Generate random data for male cats\n",
    "# Get covariance matrix for male cats\n",
    "df_cats_male.cov()"
   ]
  },
  {
   "cell_type": "code",
   "execution_count": 43,
   "id": "00581985-fe33-4001-aa70-7a3825693029",
   "metadata": {},
   "outputs": [],
   "source": [
    "# Generate multivariate random data based on the original male df mean and covariance\n",
    "mean_m = [2.900000, 11.322680]\n",
    "cov_m = [[0.21854167, 0.9425], [0.9425, 6.46323024]]\n",
    "size_m = 97 # Match the number of males from original dataset\n",
    "male_cats_mvn = rng.multivariate_normal(mean_m, cov_m, size_m)"
   ]
  },
  {
   "cell_type": "code",
   "execution_count": 44,
   "id": "319fce3b-9978-4197-8e69-fa78eebf7187",
   "metadata": {},
   "outputs": [],
   "source": [
    "# Convert random array to pandas df\n",
    "df_male_cats_mvn = pd.DataFrame(male_cats_mvn, columns = ['Bwt', 'Hwt'])"
   ]
  },
  {
   "cell_type": "code",
   "execution_count": 45,
   "id": "7ccf52c7-89bc-4c3c-9c35-8784587468e2",
   "metadata": {},
   "outputs": [
    {
     "data": {
      "text/html": [
       "<div>\n",
       "<style scoped>\n",
       "    .dataframe tbody tr th:only-of-type {\n",
       "        vertical-align: middle;\n",
       "    }\n",
       "\n",
       "    .dataframe tbody tr th {\n",
       "        vertical-align: top;\n",
       "    }\n",
       "\n",
       "    .dataframe thead th {\n",
       "        text-align: right;\n",
       "    }\n",
       "</style>\n",
       "<table border=\"1\" class=\"dataframe\">\n",
       "  <thead>\n",
       "    <tr style=\"text-align: right;\">\n",
       "      <th></th>\n",
       "      <th>Bwt</th>\n",
       "      <th>Hwt</th>\n",
       "    </tr>\n",
       "  </thead>\n",
       "  <tbody>\n",
       "    <tr>\n",
       "      <th>count</th>\n",
       "      <td>97.000000</td>\n",
       "      <td>97.000000</td>\n",
       "    </tr>\n",
       "    <tr>\n",
       "      <th>mean</th>\n",
       "      <td>2.886138</td>\n",
       "      <td>11.232388</td>\n",
       "    </tr>\n",
       "    <tr>\n",
       "      <th>std</th>\n",
       "      <td>0.499029</td>\n",
       "      <td>2.752377</td>\n",
       "    </tr>\n",
       "    <tr>\n",
       "      <th>min</th>\n",
       "      <td>1.954291</td>\n",
       "      <td>4.725192</td>\n",
       "    </tr>\n",
       "    <tr>\n",
       "      <th>25%</th>\n",
       "      <td>2.490628</td>\n",
       "      <td>9.163956</td>\n",
       "    </tr>\n",
       "    <tr>\n",
       "      <th>50%</th>\n",
       "      <td>2.877611</td>\n",
       "      <td>11.037862</td>\n",
       "    </tr>\n",
       "    <tr>\n",
       "      <th>75%</th>\n",
       "      <td>3.203926</td>\n",
       "      <td>13.145520</td>\n",
       "    </tr>\n",
       "    <tr>\n",
       "      <th>max</th>\n",
       "      <td>4.308814</td>\n",
       "      <td>18.346890</td>\n",
       "    </tr>\n",
       "  </tbody>\n",
       "</table>\n",
       "</div>"
      ],
      "text/plain": [
       "             Bwt        Hwt\n",
       "count  97.000000  97.000000\n",
       "mean    2.886138  11.232388\n",
       "std     0.499029   2.752377\n",
       "min     1.954291   4.725192\n",
       "25%     2.490628   9.163956\n",
       "50%     2.877611  11.037862\n",
       "75%     3.203926  13.145520\n",
       "max     4.308814  18.346890"
      ]
     },
     "execution_count": 45,
     "metadata": {},
     "output_type": "execute_result"
    }
   ],
   "source": [
    "# View summary statistics of the random data\n",
    "df_male_cats_mvn.describe()"
   ]
  },
  {
   "cell_type": "code",
   "execution_count": 46,
   "id": "8c749a2f-039a-4ade-ba97-a18675b49440",
   "metadata": {},
   "outputs": [],
   "source": [
    "# Add a column with sex of female\n",
    "df_male_cats_mvn['Sex'] = 'M'"
   ]
  },
  {
   "cell_type": "code",
   "execution_count": 47,
   "id": "c63cb854-8918-4efc-a2dc-d7a3bb165269",
   "metadata": {},
   "outputs": [
    {
     "data": {
      "text/html": [
       "<div>\n",
       "<style scoped>\n",
       "    .dataframe tbody tr th:only-of-type {\n",
       "        vertical-align: middle;\n",
       "    }\n",
       "\n",
       "    .dataframe tbody tr th {\n",
       "        vertical-align: top;\n",
       "    }\n",
       "\n",
       "    .dataframe thead th {\n",
       "        text-align: right;\n",
       "    }\n",
       "</style>\n",
       "<table border=\"1\" class=\"dataframe\">\n",
       "  <thead>\n",
       "    <tr style=\"text-align: right;\">\n",
       "      <th></th>\n",
       "      <th>Bwt</th>\n",
       "      <th>Hwt</th>\n",
       "      <th>Sex</th>\n",
       "    </tr>\n",
       "  </thead>\n",
       "  <tbody>\n",
       "    <tr>\n",
       "      <th>0</th>\n",
       "      <td>2.498770</td>\n",
       "      <td>8.974813</td>\n",
       "      <td>M</td>\n",
       "    </tr>\n",
       "    <tr>\n",
       "      <th>1</th>\n",
       "      <td>2.772193</td>\n",
       "      <td>12.212678</td>\n",
       "      <td>M</td>\n",
       "    </tr>\n",
       "    <tr>\n",
       "      <th>2</th>\n",
       "      <td>2.519866</td>\n",
       "      <td>9.472758</td>\n",
       "      <td>M</td>\n",
       "    </tr>\n",
       "    <tr>\n",
       "      <th>3</th>\n",
       "      <td>2.294579</td>\n",
       "      <td>9.163956</td>\n",
       "      <td>M</td>\n",
       "    </tr>\n",
       "    <tr>\n",
       "      <th>4</th>\n",
       "      <td>2.429634</td>\n",
       "      <td>8.741393</td>\n",
       "      <td>M</td>\n",
       "    </tr>\n",
       "    <tr>\n",
       "      <th>...</th>\n",
       "      <td>...</td>\n",
       "      <td>...</td>\n",
       "      <td>...</td>\n",
       "    </tr>\n",
       "    <tr>\n",
       "      <th>92</th>\n",
       "      <td>3.008427</td>\n",
       "      <td>10.004401</td>\n",
       "      <td>M</td>\n",
       "    </tr>\n",
       "    <tr>\n",
       "      <th>93</th>\n",
       "      <td>2.740933</td>\n",
       "      <td>12.272868</td>\n",
       "      <td>M</td>\n",
       "    </tr>\n",
       "    <tr>\n",
       "      <th>94</th>\n",
       "      <td>3.148222</td>\n",
       "      <td>10.524619</td>\n",
       "      <td>M</td>\n",
       "    </tr>\n",
       "    <tr>\n",
       "      <th>95</th>\n",
       "      <td>3.546292</td>\n",
       "      <td>14.367670</td>\n",
       "      <td>M</td>\n",
       "    </tr>\n",
       "    <tr>\n",
       "      <th>96</th>\n",
       "      <td>2.110525</td>\n",
       "      <td>8.032569</td>\n",
       "      <td>M</td>\n",
       "    </tr>\n",
       "  </tbody>\n",
       "</table>\n",
       "<p>97 rows × 3 columns</p>\n",
       "</div>"
      ],
      "text/plain": [
       "         Bwt        Hwt Sex\n",
       "0   2.498770   8.974813   M\n",
       "1   2.772193  12.212678   M\n",
       "2   2.519866   9.472758   M\n",
       "3   2.294579   9.163956   M\n",
       "4   2.429634   8.741393   M\n",
       "..       ...        ...  ..\n",
       "92  3.008427  10.004401   M\n",
       "93  2.740933  12.272868   M\n",
       "94  3.148222  10.524619   M\n",
       "95  3.546292  14.367670   M\n",
       "96  2.110525   8.032569   M\n",
       "\n",
       "[97 rows x 3 columns]"
      ]
     },
     "execution_count": 47,
     "metadata": {},
     "output_type": "execute_result"
    }
   ],
   "source": [
    "# View dataframe\n",
    "df_male_cats_mvn"
   ]
  },
  {
   "cell_type": "code",
   "execution_count": 48,
   "id": "0c03e5a6-9cb2-4345-83ed-cc164305d588",
   "metadata": {},
   "outputs": [],
   "source": [
    "# ConCAT male and female dfs\n",
    "all_cats_mvn = pd.concat([df_female_cats_mvn, df_male_cats_mvn])"
   ]
  },
  {
   "cell_type": "code",
   "execution_count": 49,
   "id": "6d89ddbe-5f38-41d5-9e2e-898d4a90dff2",
   "metadata": {},
   "outputs": [],
   "source": [
    "# Round the values of the random df to one decimal place as with the original dataset\n",
    "all_cats_mvn = all_cats_mvn.round(1)"
   ]
  },
  {
   "cell_type": "code",
   "execution_count": 50,
   "id": "4ee06c82-e65c-4a32-b85f-9dc4c6433cea",
   "metadata": {},
   "outputs": [
    {
     "data": {
      "text/html": [
       "<div>\n",
       "<style scoped>\n",
       "    .dataframe tbody tr th:only-of-type {\n",
       "        vertical-align: middle;\n",
       "    }\n",
       "\n",
       "    .dataframe tbody tr th {\n",
       "        vertical-align: top;\n",
       "    }\n",
       "\n",
       "    .dataframe thead th {\n",
       "        text-align: right;\n",
       "    }\n",
       "</style>\n",
       "<table border=\"1\" class=\"dataframe\">\n",
       "  <thead>\n",
       "    <tr style=\"text-align: right;\">\n",
       "      <th></th>\n",
       "      <th>Sex</th>\n",
       "      <th>Bwt</th>\n",
       "      <th>Hwt</th>\n",
       "    </tr>\n",
       "  </thead>\n",
       "  <tbody>\n",
       "    <tr>\n",
       "      <th>0</th>\n",
       "      <td>F</td>\n",
       "      <td>2.5</td>\n",
       "      <td>8.3</td>\n",
       "    </tr>\n",
       "    <tr>\n",
       "      <th>1</th>\n",
       "      <td>F</td>\n",
       "      <td>2.5</td>\n",
       "      <td>10.4</td>\n",
       "    </tr>\n",
       "    <tr>\n",
       "      <th>2</th>\n",
       "      <td>F</td>\n",
       "      <td>2.5</td>\n",
       "      <td>8.5</td>\n",
       "    </tr>\n",
       "    <tr>\n",
       "      <th>3</th>\n",
       "      <td>F</td>\n",
       "      <td>2.2</td>\n",
       "      <td>9.2</td>\n",
       "    </tr>\n",
       "    <tr>\n",
       "      <th>4</th>\n",
       "      <td>F</td>\n",
       "      <td>2.2</td>\n",
       "      <td>9.1</td>\n",
       "    </tr>\n",
       "    <tr>\n",
       "      <th>...</th>\n",
       "      <td>...</td>\n",
       "      <td>...</td>\n",
       "      <td>...</td>\n",
       "    </tr>\n",
       "    <tr>\n",
       "      <th>92</th>\n",
       "      <td>M</td>\n",
       "      <td>3.0</td>\n",
       "      <td>10.0</td>\n",
       "    </tr>\n",
       "    <tr>\n",
       "      <th>93</th>\n",
       "      <td>M</td>\n",
       "      <td>2.7</td>\n",
       "      <td>12.3</td>\n",
       "    </tr>\n",
       "    <tr>\n",
       "      <th>94</th>\n",
       "      <td>M</td>\n",
       "      <td>3.1</td>\n",
       "      <td>10.5</td>\n",
       "    </tr>\n",
       "    <tr>\n",
       "      <th>95</th>\n",
       "      <td>M</td>\n",
       "      <td>3.5</td>\n",
       "      <td>14.4</td>\n",
       "    </tr>\n",
       "    <tr>\n",
       "      <th>96</th>\n",
       "      <td>M</td>\n",
       "      <td>2.1</td>\n",
       "      <td>8.0</td>\n",
       "    </tr>\n",
       "  </tbody>\n",
       "</table>\n",
       "<p>144 rows × 3 columns</p>\n",
       "</div>"
      ],
      "text/plain": [
       "   Sex  Bwt   Hwt\n",
       "0    F  2.5   8.3\n",
       "1    F  2.5  10.4\n",
       "2    F  2.5   8.5\n",
       "3    F  2.2   9.2\n",
       "4    F  2.2   9.1\n",
       "..  ..  ...   ...\n",
       "92   M  3.0  10.0\n",
       "93   M  2.7  12.3\n",
       "94   M  3.1  10.5\n",
       "95   M  3.5  14.4\n",
       "96   M  2.1   8.0\n",
       "\n",
       "[144 rows x 3 columns]"
      ]
     },
     "execution_count": 50,
     "metadata": {},
     "output_type": "execute_result"
    }
   ],
   "source": [
    "# Move Sex column to the front as with original dataset\n",
    "# Code adapted from: https://stackoverflow.com/questions/25122099/move-column-by-name-to-front-of-table-in-pandas\n",
    "sex = all_cats_mvn['Sex']\n",
    "all_cats_mvn.drop(labels=['Sex'], axis=1,inplace = True)\n",
    "all_cats_mvn.insert(0, 'Sex', sex)\n",
    "\n",
    "# View dataframe to see if column moved correctly\n",
    "all_cats_mvn"
   ]
  },
  {
   "cell_type": "code",
   "execution_count": 51,
   "id": "ad96ef8b-dfa0-449f-9369-21973cfa43f3",
   "metadata": {},
   "outputs": [
    {
     "data": {
      "text/html": [
       "<div>\n",
       "<style scoped>\n",
       "    .dataframe tbody tr th:only-of-type {\n",
       "        vertical-align: middle;\n",
       "    }\n",
       "\n",
       "    .dataframe tbody tr th {\n",
       "        vertical-align: top;\n",
       "    }\n",
       "\n",
       "    .dataframe thead th {\n",
       "        text-align: right;\n",
       "    }\n",
       "</style>\n",
       "<table border=\"1\" class=\"dataframe\">\n",
       "  <thead>\n",
       "    <tr style=\"text-align: right;\">\n",
       "      <th></th>\n",
       "      <th>Bwt</th>\n",
       "      <th>Hwt</th>\n",
       "    </tr>\n",
       "  </thead>\n",
       "  <tbody>\n",
       "    <tr>\n",
       "      <th>count</th>\n",
       "      <td>144.000000</td>\n",
       "      <td>144.000000</td>\n",
       "    </tr>\n",
       "    <tr>\n",
       "      <th>mean</th>\n",
       "      <td>2.709028</td>\n",
       "      <td>10.487500</td>\n",
       "    </tr>\n",
       "    <tr>\n",
       "      <th>std</th>\n",
       "      <td>0.495421</td>\n",
       "      <td>2.620998</td>\n",
       "    </tr>\n",
       "    <tr>\n",
       "      <th>min</th>\n",
       "      <td>1.800000</td>\n",
       "      <td>4.700000</td>\n",
       "    </tr>\n",
       "    <tr>\n",
       "      <th>25%</th>\n",
       "      <td>2.300000</td>\n",
       "      <td>8.700000</td>\n",
       "    </tr>\n",
       "    <tr>\n",
       "      <th>50%</th>\n",
       "      <td>2.600000</td>\n",
       "      <td>10.300000</td>\n",
       "    </tr>\n",
       "    <tr>\n",
       "      <th>75%</th>\n",
       "      <td>3.100000</td>\n",
       "      <td>12.100000</td>\n",
       "    </tr>\n",
       "    <tr>\n",
       "      <th>max</th>\n",
       "      <td>4.300000</td>\n",
       "      <td>18.300000</td>\n",
       "    </tr>\n",
       "  </tbody>\n",
       "</table>\n",
       "</div>"
      ],
      "text/plain": [
       "              Bwt         Hwt\n",
       "count  144.000000  144.000000\n",
       "mean     2.709028   10.487500\n",
       "std      0.495421    2.620998\n",
       "min      1.800000    4.700000\n",
       "25%      2.300000    8.700000\n",
       "50%      2.600000   10.300000\n",
       "75%      3.100000   12.100000\n",
       "max      4.300000   18.300000"
      ]
     },
     "execution_count": 51,
     "metadata": {},
     "output_type": "execute_result"
    }
   ],
   "source": [
    "# View summary statistics\n",
    "all_cats_mvn.describe()"
   ]
  },
  {
   "cell_type": "code",
   "execution_count": 52,
   "id": "f89821db-f6d3-42c0-90dd-fdf3b09e7475",
   "metadata": {},
   "outputs": [
    {
     "data": {
      "image/png": "[encoded data removed]",
      "text/plain": [
       "<Figure size 432x288 with 1 Axes>"
      ]
     },
     "metadata": {
      "needs_background": "light"
     },
     "output_type": "display_data"
    }
   ],
   "source": [
    "# sCATterplot of random bwt and hwt\n",
    "sns.scatterplot(data = all_cats_mvn, x = 'Bwt', y= 'Hwt', hue = 'Sex')\n",
    "# Save plot\n",
    "path = 'cats-dataset/cats-random-data/cats_random_plots/all_cats_mvn_scatter'  + current_time + '.png'\n",
    "plt.savefig(path)"
   ]
  },
  {
   "cell_type": "code",
   "execution_count": 53,
   "id": "6b8f1e6e-fb9c-45ed-8ca3-88258c84f446",
   "metadata": {},
   "outputs": [
    {
     "data": {
      "text/html": [
       "<div>\n",
       "<style scoped>\n",
       "    .dataframe tbody tr th:only-of-type {\n",
       "        vertical-align: middle;\n",
       "    }\n",
       "\n",
       "    .dataframe tbody tr th {\n",
       "        vertical-align: top;\n",
       "    }\n",
       "\n",
       "    .dataframe thead th {\n",
       "        text-align: right;\n",
       "    }\n",
       "</style>\n",
       "<table border=\"1\" class=\"dataframe\">\n",
       "  <thead>\n",
       "    <tr style=\"text-align: right;\">\n",
       "      <th></th>\n",
       "      <th>Bwt</th>\n",
       "      <th>Hwt</th>\n",
       "    </tr>\n",
       "  </thead>\n",
       "  <tbody>\n",
       "    <tr>\n",
       "      <th>Bwt</th>\n",
       "      <td>1.000000</td>\n",
       "      <td>0.827563</td>\n",
       "    </tr>\n",
       "    <tr>\n",
       "      <th>Hwt</th>\n",
       "      <td>0.827563</td>\n",
       "      <td>1.000000</td>\n",
       "    </tr>\n",
       "  </tbody>\n",
       "</table>\n",
       "</div>"
      ],
      "text/plain": [
       "          Bwt       Hwt\n",
       "Bwt  1.000000  0.827563\n",
       "Hwt  0.827563  1.000000"
      ]
     },
     "execution_count": 53,
     "metadata": {},
     "output_type": "execute_result"
    }
   ],
   "source": [
    "# View the correlation between body weight and heart weight\n",
    "all_cats_mvn.corr()"
   ]
  },
  {
   "cell_type": "code",
   "execution_count": 54,
   "id": "1d572e8d-6d84-43c5-9303-d78352ba7ffb",
   "metadata": {},
   "outputs": [
    {
     "data": {
      "image/png": "[encoded data removed]",
      "text/plain": [
       "<Figure size 432x288 with 1 Axes>"
      ]
     },
     "metadata": {
      "needs_background": "light"
     },
     "output_type": "display_data"
    }
   ],
   "source": [
    "# Plotting the random bodyweight by sex\n",
    "sns.histplot(data = all_cats_mvn, x = 'Bwt', hue = 'Sex', multiple=\"dodge\", kde=True)\n",
    "# Save plot\n",
    "path = 'cats-dataset/cats-random-data/cats_random_plots/all_cats_mvn_hist_bwt'  + current_time + '.png'\n",
    "plt.savefig(path)"
   ]
  },
  {
   "cell_type": "code",
   "execution_count": 55,
   "id": "b6537b95-7887-475c-97b4-c67ef572abbe",
   "metadata": {},
   "outputs": [
    {
     "data": {
      "image/png": "[encoded data removed]",
      "text/plain": [
       "<Figure size 432x288 with 1 Axes>"
      ]
     },
     "metadata": {
      "needs_background": "light"
     },
     "output_type": "display_data"
    }
   ],
   "source": [
    "# Plotting the random heart weight by sex\n",
    "sns.histplot(data = all_cats_mvn, x = 'Hwt', hue = 'Sex', multiple=\"dodge\", kde=True)\n",
    "# Save plot\n",
    "path = 'cats-dataset/cats-random-data/cats_random_plots/all_cats_mvn_hist_hwt'  + current_time + '.png'\n",
    "plt.savefig(path)"
   ]
  },
  {
   "cell_type": "code",
   "execution_count": null,
   "id": "45ccd3fd-e161-40e8-9408-577e4c47f1e8",
   "metadata": {},
   "outputs": [],
   "source": []
  },
  {
   "cell_type": "markdown",
   "id": "6e1dfc3c-a1b1-459d-b9fd-6337532f37fc",
   "metadata": {},
   "source": [
    "### Adding Additional Variable Columns"
   ]
  },
  {
   "cell_type": "markdown",
   "id": "4e51e07a-098f-490d-b882-fce270d01112",
   "metadata": {},
   "source": [
    "The dataset now needs more variables to meet the criteria for the assignment. Two new columns will now be randomly generated for the dataset. The first will be a unique ID for each sample, and the second will be to give each cat a name. "
   ]
  },
  {
   "cell_type": "code",
   "execution_count": 56,
   "id": "12b2cfa7-5e89-4f7a-bb5c-e9f30cfec28b",
   "metadata": {},
   "outputs": [],
   "source": [
    "# Variables to be used in generating the correct id numbers\n",
    "count = all_cats_mvn['Bwt'].count()\n",
    "possible_id = np.arange(100000,1000000)"
   ]
  },
  {
   "cell_type": "code",
   "execution_count": 57,
   "id": "2817a118-9906-4b46-86dd-47232527ba3c",
   "metadata": {},
   "outputs": [],
   "source": [
    "# Generate random 6 digit IDs\n",
    "cat_id = rng.choice(possible_id, size=count, replace=False)"
   ]
  },
  {
   "cell_type": "code",
   "execution_count": 58,
   "id": "c3b06612-b627-4ac5-8c2e-69f18be9e401",
   "metadata": {},
   "outputs": [],
   "source": [
    "# Add ID to df and move ID to be first column\n",
    "all_cats_mvn['ID'] = cat_id\n",
    "all_cats_mvn.drop(labels=['ID'], axis=1,inplace = True)\n",
    "all_cats_mvn.insert(0, 'ID', cat_id)"
   ]
  },
  {
   "cell_type": "code",
   "execution_count": 59,
   "id": "afa8e31a-83b8-4edb-b6a2-4d994d448b6e",
   "metadata": {},
   "outputs": [
    {
     "data": {
      "text/html": [
       "<div>\n",
       "<style scoped>\n",
       "    .dataframe tbody tr th:only-of-type {\n",
       "        vertical-align: middle;\n",
       "    }\n",
       "\n",
       "    .dataframe tbody tr th {\n",
       "        vertical-align: top;\n",
       "    }\n",
       "\n",
       "    .dataframe thead th {\n",
       "        text-align: right;\n",
       "    }\n",
       "</style>\n",
       "<table border=\"1\" class=\"dataframe\">\n",
       "  <thead>\n",
       "    <tr style=\"text-align: right;\">\n",
       "      <th></th>\n",
       "      <th>ID</th>\n",
       "      <th>Sex</th>\n",
       "      <th>Bwt</th>\n",
       "      <th>Hwt</th>\n",
       "    </tr>\n",
       "  </thead>\n",
       "  <tbody>\n",
       "    <tr>\n",
       "      <th>0</th>\n",
       "      <td>480953</td>\n",
       "      <td>F</td>\n",
       "      <td>2.5</td>\n",
       "      <td>8.3</td>\n",
       "    </tr>\n",
       "    <tr>\n",
       "      <th>1</th>\n",
       "      <td>978443</td>\n",
       "      <td>F</td>\n",
       "      <td>2.5</td>\n",
       "      <td>10.4</td>\n",
       "    </tr>\n",
       "    <tr>\n",
       "      <th>2</th>\n",
       "      <td>413795</td>\n",
       "      <td>F</td>\n",
       "      <td>2.5</td>\n",
       "      <td>8.5</td>\n",
       "    </tr>\n",
       "    <tr>\n",
       "      <th>3</th>\n",
       "      <td>872538</td>\n",
       "      <td>F</td>\n",
       "      <td>2.2</td>\n",
       "      <td>9.2</td>\n",
       "    </tr>\n",
       "    <tr>\n",
       "      <th>4</th>\n",
       "      <td>912009</td>\n",
       "      <td>F</td>\n",
       "      <td>2.2</td>\n",
       "      <td>9.1</td>\n",
       "    </tr>\n",
       "    <tr>\n",
       "      <th>...</th>\n",
       "      <td>...</td>\n",
       "      <td>...</td>\n",
       "      <td>...</td>\n",
       "      <td>...</td>\n",
       "    </tr>\n",
       "    <tr>\n",
       "      <th>92</th>\n",
       "      <td>272876</td>\n",
       "      <td>M</td>\n",
       "      <td>3.0</td>\n",
       "      <td>10.0</td>\n",
       "    </tr>\n",
       "    <tr>\n",
       "      <th>93</th>\n",
       "      <td>163728</td>\n",
       "      <td>M</td>\n",
       "      <td>2.7</td>\n",
       "      <td>12.3</td>\n",
       "    </tr>\n",
       "    <tr>\n",
       "      <th>94</th>\n",
       "      <td>296723</td>\n",
       "      <td>M</td>\n",
       "      <td>3.1</td>\n",
       "      <td>10.5</td>\n",
       "    </tr>\n",
       "    <tr>\n",
       "      <th>95</th>\n",
       "      <td>479809</td>\n",
       "      <td>M</td>\n",
       "      <td>3.5</td>\n",
       "      <td>14.4</td>\n",
       "    </tr>\n",
       "    <tr>\n",
       "      <th>96</th>\n",
       "      <td>997652</td>\n",
       "      <td>M</td>\n",
       "      <td>2.1</td>\n",
       "      <td>8.0</td>\n",
       "    </tr>\n",
       "  </tbody>\n",
       "</table>\n",
       "<p>144 rows × 4 columns</p>\n",
       "</div>"
      ],
      "text/plain": [
       "        ID Sex  Bwt   Hwt\n",
       "0   480953   F  2.5   8.3\n",
       "1   978443   F  2.5  10.4\n",
       "2   413795   F  2.5   8.5\n",
       "3   872538   F  2.2   9.2\n",
       "4   912009   F  2.2   9.1\n",
       "..     ...  ..  ...   ...\n",
       "92  272876   M  3.0  10.0\n",
       "93  163728   M  2.7  12.3\n",
       "94  296723   M  3.1  10.5\n",
       "95  479809   M  3.5  14.4\n",
       "96  997652   M  2.1   8.0\n",
       "\n",
       "[144 rows x 4 columns]"
      ]
     },
     "execution_count": 59,
     "metadata": {},
     "output_type": "execute_result"
    }
   ],
   "source": [
    "# View the dataframe\n",
    "all_cats_mvn"
   ]
  },
  {
   "cell_type": "markdown",
   "id": "f1e0545e-f828-425e-aad2-8bffa102fd64",
   "metadata": {},
   "source": [
    "A column of cat names will now be generated. A zip file containing a txt file with cat names was retreived from https://www.kessels.com/CatNames/. The file was manually edited to delete comma symbols which caused issues importing the file, and information in parentheses explaining the names were also deleted. Some offensive names were also manually removed, but some may have been missed and remain. This txt file will be used to generate random names for the cats in the random dataset."
   ]
  },
  {
   "cell_type": "code",
   "execution_count": 60,
   "id": "f1af2e6c-db8e-4c7e-b394-f27982b6b74b",
   "metadata": {},
   "outputs": [],
   "source": [
    "# Load cat names to pandas. Changed encoding as original recorded an error\n",
    "# \"'utf-8' codec can't decode byte 0xda\"\n",
    "# https://stackoverflow.com/questions/18171739/unicodedecodeerror-when-reading-csv-file-in-pandas-with-python\n",
    "cat_names = pd.read_csv('cats-dataset/CatNames.txt', names = ['Cat Names'],\n",
    "                        encoding = \"ISO-8859-1\")"
   ]
  },
  {
   "cell_type": "code",
   "execution_count": 61,
   "id": "02bd8bcb-1673-4c9a-9623-ae9db0697041",
   "metadata": {},
   "outputs": [],
   "source": [
    "# Retrieve random cat names from the dataframe \n",
    "random_cat_names = rng.choice(cat_names, size=count)"
   ]
  },
  {
   "cell_type": "code",
   "execution_count": 62,
   "id": "c8f4e29d-c214-4735-8384-593a469bd193",
   "metadata": {},
   "outputs": [],
   "source": [
    "# Add name column to dataframe\n",
    "all_cats_mvn['Name'] = random_cat_names"
   ]
  },
  {
   "cell_type": "code",
   "execution_count": 63,
   "id": "238062fb-aa1c-43d0-a9b2-54530450f77f",
   "metadata": {},
   "outputs": [
    {
     "data": {
      "text/html": [
       "<div>\n",
       "<style scoped>\n",
       "    .dataframe tbody tr th:only-of-type {\n",
       "        vertical-align: middle;\n",
       "    }\n",
       "\n",
       "    .dataframe tbody tr th {\n",
       "        vertical-align: top;\n",
       "    }\n",
       "\n",
       "    .dataframe thead th {\n",
       "        text-align: right;\n",
       "    }\n",
       "</style>\n",
       "<table border=\"1\" class=\"dataframe\">\n",
       "  <thead>\n",
       "    <tr style=\"text-align: right;\">\n",
       "      <th></th>\n",
       "      <th>ID</th>\n",
       "      <th>Sex</th>\n",
       "      <th>Bwt</th>\n",
       "      <th>Hwt</th>\n",
       "      <th>Name</th>\n",
       "    </tr>\n",
       "  </thead>\n",
       "  <tbody>\n",
       "    <tr>\n",
       "      <th>0</th>\n",
       "      <td>480953</td>\n",
       "      <td>F</td>\n",
       "      <td>2.5</td>\n",
       "      <td>8.3</td>\n",
       "      <td>Calli</td>\n",
       "    </tr>\n",
       "    <tr>\n",
       "      <th>1</th>\n",
       "      <td>978443</td>\n",
       "      <td>F</td>\n",
       "      <td>2.5</td>\n",
       "      <td>10.4</td>\n",
       "      <td>Yemma-Lee</td>\n",
       "    </tr>\n",
       "    <tr>\n",
       "      <th>2</th>\n",
       "      <td>413795</td>\n",
       "      <td>F</td>\n",
       "      <td>2.5</td>\n",
       "      <td>8.5</td>\n",
       "      <td>Pyewackett</td>\n",
       "    </tr>\n",
       "    <tr>\n",
       "      <th>3</th>\n",
       "      <td>872538</td>\n",
       "      <td>F</td>\n",
       "      <td>2.2</td>\n",
       "      <td>9.2</td>\n",
       "      <td>Okee</td>\n",
       "    </tr>\n",
       "    <tr>\n",
       "      <th>4</th>\n",
       "      <td>912009</td>\n",
       "      <td>F</td>\n",
       "      <td>2.2</td>\n",
       "      <td>9.1</td>\n",
       "      <td>Piper Belle</td>\n",
       "    </tr>\n",
       "    <tr>\n",
       "      <th>...</th>\n",
       "      <td>...</td>\n",
       "      <td>...</td>\n",
       "      <td>...</td>\n",
       "      <td>...</td>\n",
       "      <td>...</td>\n",
       "    </tr>\n",
       "    <tr>\n",
       "      <th>92</th>\n",
       "      <td>272876</td>\n",
       "      <td>M</td>\n",
       "      <td>3.0</td>\n",
       "      <td>10.0</td>\n",
       "      <td>Amadeus</td>\n",
       "    </tr>\n",
       "    <tr>\n",
       "      <th>93</th>\n",
       "      <td>163728</td>\n",
       "      <td>M</td>\n",
       "      <td>2.7</td>\n",
       "      <td>12.3</td>\n",
       "      <td>Mark I love you</td>\n",
       "    </tr>\n",
       "    <tr>\n",
       "      <th>94</th>\n",
       "      <td>296723</td>\n",
       "      <td>M</td>\n",
       "      <td>3.1</td>\n",
       "      <td>10.5</td>\n",
       "      <td>Hedy Lammarr</td>\n",
       "    </tr>\n",
       "    <tr>\n",
       "      <th>95</th>\n",
       "      <td>479809</td>\n",
       "      <td>M</td>\n",
       "      <td>3.5</td>\n",
       "      <td>14.4</td>\n",
       "      <td>Kid</td>\n",
       "    </tr>\n",
       "    <tr>\n",
       "      <th>96</th>\n",
       "      <td>997652</td>\n",
       "      <td>M</td>\n",
       "      <td>2.1</td>\n",
       "      <td>8.0</td>\n",
       "      <td>Fat Cat</td>\n",
       "    </tr>\n",
       "  </tbody>\n",
       "</table>\n",
       "<p>144 rows × 5 columns</p>\n",
       "</div>"
      ],
      "text/plain": [
       "        ID Sex  Bwt   Hwt             Name\n",
       "0   480953   F  2.5   8.3            Calli\n",
       "1   978443   F  2.5  10.4        Yemma-Lee\n",
       "2   413795   F  2.5   8.5       Pyewackett\n",
       "3   872538   F  2.2   9.2             Okee\n",
       "4   912009   F  2.2   9.1      Piper Belle\n",
       "..     ...  ..  ...   ...              ...\n",
       "92  272876   M  3.0  10.0          Amadeus\n",
       "93  163728   M  2.7  12.3  Mark I love you\n",
       "94  296723   M  3.1  10.5     Hedy Lammarr\n",
       "95  479809   M  3.5  14.4              Kid\n",
       "96  997652   M  2.1   8.0          Fat Cat\n",
       "\n",
       "[144 rows x 5 columns]"
      ]
     },
     "execution_count": 63,
     "metadata": {},
     "output_type": "execute_result"
    }
   ],
   "source": [
    "# View the dataframe\n",
    "all_cats_mvn"
   ]
  },
  {
   "cell_type": "code",
   "execution_count": 64,
   "id": "6d2de79f-6eed-4844-933d-69e9e38930fc",
   "metadata": {},
   "outputs": [],
   "source": [
    "# A path to save the dataframe, using dt to create unique file names\n",
    "path = 'cats-dataset/cats-random-data/cats_random_datasets/cats_random_'  + current_time + '.csv'\n",
    "\n",
    "# Save pandas data frame to disk.\n",
    "all_cats_mvn.to_csv(path)\n"
   ]
  },
  {
   "cell_type": "markdown",
   "id": "1fa8d180-c431-4c5d-a5df-4f1e54f7c3a8",
   "metadata": {},
   "source": [
    "### A Function to Generate a Simulated Cats Dataset"
   ]
  },
  {
   "cell_type": "markdown",
   "id": "63536129-32d9-435d-834c-e4e73a67e808",
   "metadata": {},
   "source": [
    "With the random data looking good, it would be useful to have a function that would allow us to quickly generate the amount of random samples as specified. "
   ]
  },
  {
   "cell_type": "code",
   "execution_count": 65,
   "id": "128667fa-0003-49de-a955-b8560c0011b3",
   "metadata": {},
   "outputs": [],
   "source": [
    "# Function to generate number of random samples specified by user\n",
    "# User specifies two numbers, one for each sex\n",
    "def random_cat_df(females=1, males=1):\n",
    "    # Unseeded to provide different random data each time              \n",
    "    rng = np.random.default_rng()\n",
    "\n",
    "    # Generate random female data based on original data statistics and user specified sample size\n",
    "    mean_f = [2.359574, 9.202128]\n",
    "    cov_f = [[0.07506938, 0.19791397], [0.19791397, 1.84325624]]\n",
    "    female_cats = rng.multivariate_normal(mean_f, cov_f, females)\n",
    "    \n",
    "    # Convert random array to pandas df\n",
    "    df_female = pd.DataFrame(female_cats, columns = ['Bwt', 'Hwt'])\n",
    "    \n",
    "    # Add a column with sex of female\n",
    "    df_female['Sex'] = 'F'\n",
    "    \n",
    "    # Generate multivariate random data based on the original male df mean and covariance\n",
    "    mean_m = [2.900000, 11.322680]\n",
    "    cov_m = [[0.21854167, 0.9425], [0.9425, 6.46323024]]\n",
    "    male_cats = rng.multivariate_normal(mean_m, cov_m, males)\n",
    "    \n",
    "    # Convert random array to pandas df\n",
    "    df_male = pd.DataFrame(male_cats, columns = ['Bwt', 'Hwt'])\n",
    "    \n",
    "    # Add a column with sex of male\n",
    "    df_male['Sex'] = 'M'\n",
    "    \n",
    "    # ConCAT male and female dfs\n",
    "    all_cats = pd.concat([df_female, df_male])\n",
    "    \n",
    "    # Round the values of the random df to one decimal place as with the original dataset\n",
    "    all_cats = all_cats.round(1)\n",
    "    \n",
    "    # Move Sex column to the front as with original dataset\n",
    "    sex = all_cats['Sex']\n",
    "    all_cats.drop(labels=['Sex'], axis=1,inplace = True)\n",
    "    all_cats.insert(0, 'Sex', sex)\n",
    "    all_cats\n",
    "    \n",
    "    # Variables to be used in generating the correct id numbers\n",
    "    count = all_cats['Bwt'].count()\n",
    "    possible_id = np.arange(100000,1000000)\n",
    "        \n",
    "    # Generate random 6 digit IDs\n",
    "    cat_id = rng.choice(possible_id, size=count, replace=False)\n",
    "    \n",
    "    # Add ID to df and move ID to be first column\n",
    "    all_cats['ID'] = cat_id\n",
    "    all_cats.drop(labels=['ID'], axis=1,inplace = True)\n",
    "    all_cats.insert(0, 'ID', cat_id)\n",
    "    \n",
    "    # Load cat names to pandas\n",
    "    cat_names = pd.read_csv('cats-dataset/CatNames.txt', names = ['Cat Names'],\n",
    "                        encoding = \"ISO-8859-1\")\n",
    "    \n",
    "    # Retrieve random cat names from the dataframe \n",
    "    random_cat_names = rng.choice(cat_names, size=count)\n",
    "    \n",
    "    # Add name column to dataframe\n",
    "    all_cats['Name'] = random_cat_names\n",
    "            \n",
    "    return all_cats"
   ]
  },
  {
   "cell_type": "code",
   "execution_count": 66,
   "id": "01aa01f9-a656-438b-a34b-ad9a36486e55",
   "metadata": {},
   "outputs": [],
   "source": [
    "# Test random cat df with a higher sample than the original\n",
    "# User can change the amount of samples generated by changing the numbers passed to female and male\n",
    "function_df = random_cat_df(females=100, males=200)"
   ]
  },
  {
   "cell_type": "code",
   "execution_count": 67,
   "id": "5b47f89a-6233-42bf-bb12-6a8af2f80c81",
   "metadata": {},
   "outputs": [
    {
     "data": {
      "text/html": [
       "<div>\n",
       "<style scoped>\n",
       "    .dataframe tbody tr th:only-of-type {\n",
       "        vertical-align: middle;\n",
       "    }\n",
       "\n",
       "    .dataframe tbody tr th {\n",
       "        vertical-align: top;\n",
       "    }\n",
       "\n",
       "    .dataframe thead th {\n",
       "        text-align: right;\n",
       "    }\n",
       "</style>\n",
       "<table border=\"1\" class=\"dataframe\">\n",
       "  <thead>\n",
       "    <tr style=\"text-align: right;\">\n",
       "      <th></th>\n",
       "      <th>ID</th>\n",
       "      <th>Sex</th>\n",
       "      <th>Bwt</th>\n",
       "      <th>Hwt</th>\n",
       "      <th>Name</th>\n",
       "    </tr>\n",
       "  </thead>\n",
       "  <tbody>\n",
       "    <tr>\n",
       "      <th>0</th>\n",
       "      <td>322926</td>\n",
       "      <td>F</td>\n",
       "      <td>2.7</td>\n",
       "      <td>10.0</td>\n",
       "      <td>Squid</td>\n",
       "    </tr>\n",
       "    <tr>\n",
       "      <th>1</th>\n",
       "      <td>311727</td>\n",
       "      <td>F</td>\n",
       "      <td>2.2</td>\n",
       "      <td>10.7</td>\n",
       "      <td>Nag</td>\n",
       "    </tr>\n",
       "    <tr>\n",
       "      <th>2</th>\n",
       "      <td>940362</td>\n",
       "      <td>F</td>\n",
       "      <td>2.5</td>\n",
       "      <td>8.1</td>\n",
       "      <td>Pavo</td>\n",
       "    </tr>\n",
       "    <tr>\n",
       "      <th>3</th>\n",
       "      <td>368255</td>\n",
       "      <td>F</td>\n",
       "      <td>2.5</td>\n",
       "      <td>9.7</td>\n",
       "      <td>Purdy</td>\n",
       "    </tr>\n",
       "    <tr>\n",
       "      <th>4</th>\n",
       "      <td>120138</td>\n",
       "      <td>F</td>\n",
       "      <td>2.5</td>\n",
       "      <td>8.2</td>\n",
       "      <td>Cattia</td>\n",
       "    </tr>\n",
       "    <tr>\n",
       "      <th>...</th>\n",
       "      <td>...</td>\n",
       "      <td>...</td>\n",
       "      <td>...</td>\n",
       "      <td>...</td>\n",
       "      <td>...</td>\n",
       "    </tr>\n",
       "    <tr>\n",
       "      <th>195</th>\n",
       "      <td>179576</td>\n",
       "      <td>M</td>\n",
       "      <td>2.4</td>\n",
       "      <td>9.2</td>\n",
       "      <td>Onya</td>\n",
       "    </tr>\n",
       "    <tr>\n",
       "      <th>196</th>\n",
       "      <td>156142</td>\n",
       "      <td>M</td>\n",
       "      <td>2.6</td>\n",
       "      <td>9.6</td>\n",
       "      <td>Bungy</td>\n",
       "    </tr>\n",
       "    <tr>\n",
       "      <th>197</th>\n",
       "      <td>465656</td>\n",
       "      <td>M</td>\n",
       "      <td>3.0</td>\n",
       "      <td>10.9</td>\n",
       "      <td>Saru</td>\n",
       "    </tr>\n",
       "    <tr>\n",
       "      <th>198</th>\n",
       "      <td>314481</td>\n",
       "      <td>M</td>\n",
       "      <td>2.7</td>\n",
       "      <td>9.5</td>\n",
       "      <td>Winder</td>\n",
       "    </tr>\n",
       "    <tr>\n",
       "      <th>199</th>\n",
       "      <td>584302</td>\n",
       "      <td>M</td>\n",
       "      <td>3.5</td>\n",
       "      <td>12.9</td>\n",
       "      <td>Sasa</td>\n",
       "    </tr>\n",
       "  </tbody>\n",
       "</table>\n",
       "<p>300 rows × 5 columns</p>\n",
       "</div>"
      ],
      "text/plain": [
       "         ID Sex  Bwt   Hwt    Name\n",
       "0    322926   F  2.7  10.0   Squid\n",
       "1    311727   F  2.2  10.7     Nag\n",
       "2    940362   F  2.5   8.1    Pavo\n",
       "3    368255   F  2.5   9.7   Purdy\n",
       "4    120138   F  2.5   8.2  Cattia\n",
       "..      ...  ..  ...   ...     ...\n",
       "195  179576   M  2.4   9.2    Onya\n",
       "196  156142   M  2.6   9.6   Bungy\n",
       "197  465656   M  3.0  10.9    Saru\n",
       "198  314481   M  2.7   9.5  Winder\n",
       "199  584302   M  3.5  12.9    Sasa\n",
       "\n",
       "[300 rows x 5 columns]"
      ]
     },
     "execution_count": 67,
     "metadata": {},
     "output_type": "execute_result"
    }
   ],
   "source": [
    "# View the dataframe\n",
    "function_df"
   ]
  },
  {
   "cell_type": "code",
   "execution_count": 68,
   "id": "3ea56de7-f9e3-445b-a759-a72ab4dc63ce",
   "metadata": {},
   "outputs": [
    {
     "data": {
      "text/html": [
       "<div>\n",
       "<style scoped>\n",
       "    .dataframe tbody tr th:only-of-type {\n",
       "        vertical-align: middle;\n",
       "    }\n",
       "\n",
       "    .dataframe tbody tr th {\n",
       "        vertical-align: top;\n",
       "    }\n",
       "\n",
       "    .dataframe thead th {\n",
       "        text-align: right;\n",
       "    }\n",
       "</style>\n",
       "<table border=\"1\" class=\"dataframe\">\n",
       "  <thead>\n",
       "    <tr style=\"text-align: right;\">\n",
       "      <th></th>\n",
       "      <th>Bwt</th>\n",
       "      <th>Hwt</th>\n",
       "    </tr>\n",
       "  </thead>\n",
       "  <tbody>\n",
       "    <tr>\n",
       "      <th>count</th>\n",
       "      <td>300.000000</td>\n",
       "      <td>300.000000</td>\n",
       "    </tr>\n",
       "    <tr>\n",
       "      <th>mean</th>\n",
       "      <td>2.685000</td>\n",
       "      <td>10.501333</td>\n",
       "    </tr>\n",
       "    <tr>\n",
       "      <th>std</th>\n",
       "      <td>0.473521</td>\n",
       "      <td>2.246290</td>\n",
       "    </tr>\n",
       "    <tr>\n",
       "      <th>min</th>\n",
       "      <td>1.500000</td>\n",
       "      <td>3.900000</td>\n",
       "    </tr>\n",
       "    <tr>\n",
       "      <th>25%</th>\n",
       "      <td>2.375000</td>\n",
       "      <td>8.900000</td>\n",
       "    </tr>\n",
       "    <tr>\n",
       "      <th>50%</th>\n",
       "      <td>2.700000</td>\n",
       "      <td>10.200000</td>\n",
       "    </tr>\n",
       "    <tr>\n",
       "      <th>75%</th>\n",
       "      <td>3.000000</td>\n",
       "      <td>11.900000</td>\n",
       "    </tr>\n",
       "    <tr>\n",
       "      <th>max</th>\n",
       "      <td>4.200000</td>\n",
       "      <td>17.400000</td>\n",
       "    </tr>\n",
       "  </tbody>\n",
       "</table>\n",
       "</div>"
      ],
      "text/plain": [
       "              Bwt         Hwt\n",
       "count  300.000000  300.000000\n",
       "mean     2.685000   10.501333\n",
       "std      0.473521    2.246290\n",
       "min      1.500000    3.900000\n",
       "25%      2.375000    8.900000\n",
       "50%      2.700000   10.200000\n",
       "75%      3.000000   11.900000\n",
       "max      4.200000   17.400000"
      ]
     },
     "execution_count": 68,
     "metadata": {},
     "output_type": "execute_result"
    }
   ],
   "source": [
    "# View summary statistics\n",
    "function_df[['Bwt', 'Hwt']].describe()"
   ]
  },
  {
   "cell_type": "code",
   "execution_count": 69,
   "id": "a5959a96-29cc-4f23-86dc-14cda586d830",
   "metadata": {},
   "outputs": [
    {
     "data": {
      "image/png": "[encoded data removed]",
      "text/plain": [
       "<Figure size 432x288 with 1 Axes>"
      ]
     },
     "metadata": {
      "needs_background": "light"
     },
     "output_type": "display_data"
    }
   ],
   "source": [
    "# sCATterplot of random function bwt and hwt\n",
    "sns.scatterplot(data = function_df, x = 'Bwt', y= 'Hwt', hue='Sex')\n",
    "# Save plot\n",
    "path = 'cats-dataset/cats-random-data/cats_random_plots/cats_random_function_scatter'  + current_time + '.png'\n",
    "plt.savefig(path)"
   ]
  },
  {
   "cell_type": "code",
   "execution_count": 70,
   "id": "ab6f1734-098a-471d-a8ea-8ac98ad3c8b5",
   "metadata": {},
   "outputs": [
    {
     "data": {
      "text/html": [
       "<div>\n",
       "<style scoped>\n",
       "    .dataframe tbody tr th:only-of-type {\n",
       "        vertical-align: middle;\n",
       "    }\n",
       "\n",
       "    .dataframe tbody tr th {\n",
       "        vertical-align: top;\n",
       "    }\n",
       "\n",
       "    .dataframe thead th {\n",
       "        text-align: right;\n",
       "    }\n",
       "</style>\n",
       "<table border=\"1\" class=\"dataframe\">\n",
       "  <thead>\n",
       "    <tr style=\"text-align: right;\">\n",
       "      <th></th>\n",
       "      <th>Bwt</th>\n",
       "      <th>Hwt</th>\n",
       "    </tr>\n",
       "  </thead>\n",
       "  <tbody>\n",
       "    <tr>\n",
       "      <th>Bwt</th>\n",
       "      <td>1.000000</td>\n",
       "      <td>0.800085</td>\n",
       "    </tr>\n",
       "    <tr>\n",
       "      <th>Hwt</th>\n",
       "      <td>0.800085</td>\n",
       "      <td>1.000000</td>\n",
       "    </tr>\n",
       "  </tbody>\n",
       "</table>\n",
       "</div>"
      ],
      "text/plain": [
       "          Bwt       Hwt\n",
       "Bwt  1.000000  0.800085\n",
       "Hwt  0.800085  1.000000"
      ]
     },
     "execution_count": 70,
     "metadata": {},
     "output_type": "execute_result"
    }
   ],
   "source": [
    "# View the correlation between body weight and heart weight\n",
    "function_df[['Bwt', 'Hwt']].corr()"
   ]
  },
  {
   "cell_type": "code",
   "execution_count": 71,
   "id": "15afe79b-4885-48cc-b09e-55cca5f2290e",
   "metadata": {},
   "outputs": [
    {
     "data": {
      "image/png": "[encoded data removed]",
      "text/plain": [
       "<Figure size 432x288 with 1 Axes>"
      ]
     },
     "metadata": {
      "needs_background": "light"
     },
     "output_type": "display_data"
    }
   ],
   "source": [
    "# Plotting the random function bodyweight by sex\n",
    "sns.histplot(data = function_df, x = 'Bwt', hue = 'Sex', multiple=\"dodge\", kde=True)\n",
    "# Save plot\n",
    "path = 'cats-dataset/cats-random-data/cats_random_plots/cats_random_function_hist_bwt'  + current_time + '.png'\n",
    "plt.savefig(path)"
   ]
  },
  {
   "cell_type": "code",
   "execution_count": 72,
   "id": "65ab574f-bb88-4af8-831d-e398d186becd",
   "metadata": {},
   "outputs": [
    {
     "data": {
      "image/png": "[encoded data removed]",
      "text/plain": [
       "<Figure size 432x288 with 1 Axes>"
      ]
     },
     "metadata": {
      "needs_background": "light"
     },
     "output_type": "display_data"
    }
   ],
   "source": [
    "# Plotting the random function heart weight by sex\n",
    "sns.histplot(data = function_df, x = 'Hwt', hue = 'Sex', multiple=\"dodge\", kde=True)\n",
    "# Save plot\n",
    "path = 'cats-dataset/cats-random-data/cats_random_plots/cats_random_function_hist_hwt'  + current_time + '.png'\n",
    "plt.savefig(path)"
   ]
  },
  {
   "cell_type": "code",
   "execution_count": 73,
   "id": "967634a8-f6ff-4fac-b97e-0f8ecf79b444",
   "metadata": {},
   "outputs": [],
   "source": [
    "# A path to save the dataframe, using dt to create unique file names\n",
    "path = 'cats-dataset/cats-random-data/cats_random_datasets/cats_random_function_'  + current_time + '.csv'\n",
    "\n",
    "# Save pandas data frame to disk.\n",
    "function_df.to_csv(path)"
   ]
  },
  {
   "cell_type": "markdown",
   "id": "6ad3688b-2927-4557-9968-0881007b5444",
   "metadata": {},
   "source": [
    "### Removing Underweight Samples"
   ]
  },
  {
   "cell_type": "markdown",
   "id": "96ddbd66-0971-4937-ac8c-d85fc3101bf3",
   "metadata": {},
   "source": [
    "In the R documentation for the original cats dataset, it states that \"The cats were all adult, over 2 kg body weight.\". This may be just a coincidence, or it may be because cats under 2kg were excluded from the dataset. If it's because cats under 2kg were excluded due to some pre-existing knowledge that they would skew the data as outliers[x], we can add code to exclude entries under 2kg in body weight."
   ]
  },
  {
   "cell_type": "code",
   "execution_count": 74,
   "id": "bc9c15d4-f604-44a1-bd88-f9489c75c79c",
   "metadata": {},
   "outputs": [],
   "source": [
    "# Filter out values under 2kg\n",
    "df_over_2kg = function_df[function_df['Bwt'] >= 2]"
   ]
  },
  {
   "cell_type": "code",
   "execution_count": 75,
   "id": "339b2054-1be1-48c5-ad8e-48bcace0db4f",
   "metadata": {},
   "outputs": [
    {
     "data": {
      "text/html": [
       "<div>\n",
       "<style scoped>\n",
       "    .dataframe tbody tr th:only-of-type {\n",
       "        vertical-align: middle;\n",
       "    }\n",
       "\n",
       "    .dataframe tbody tr th {\n",
       "        vertical-align: top;\n",
       "    }\n",
       "\n",
       "    .dataframe thead th {\n",
       "        text-align: right;\n",
       "    }\n",
       "</style>\n",
       "<table border=\"1\" class=\"dataframe\">\n",
       "  <thead>\n",
       "    <tr style=\"text-align: right;\">\n",
       "      <th></th>\n",
       "      <th>ID</th>\n",
       "      <th>Sex</th>\n",
       "      <th>Bwt</th>\n",
       "      <th>Hwt</th>\n",
       "      <th>Name</th>\n",
       "    </tr>\n",
       "  </thead>\n",
       "  <tbody>\n",
       "    <tr>\n",
       "      <th>0</th>\n",
       "      <td>322926</td>\n",
       "      <td>F</td>\n",
       "      <td>2.7</td>\n",
       "      <td>10.0</td>\n",
       "      <td>Squid</td>\n",
       "    </tr>\n",
       "    <tr>\n",
       "      <th>1</th>\n",
       "      <td>311727</td>\n",
       "      <td>F</td>\n",
       "      <td>2.2</td>\n",
       "      <td>10.7</td>\n",
       "      <td>Nag</td>\n",
       "    </tr>\n",
       "    <tr>\n",
       "      <th>2</th>\n",
       "      <td>940362</td>\n",
       "      <td>F</td>\n",
       "      <td>2.5</td>\n",
       "      <td>8.1</td>\n",
       "      <td>Pavo</td>\n",
       "    </tr>\n",
       "    <tr>\n",
       "      <th>3</th>\n",
       "      <td>368255</td>\n",
       "      <td>F</td>\n",
       "      <td>2.5</td>\n",
       "      <td>9.7</td>\n",
       "      <td>Purdy</td>\n",
       "    </tr>\n",
       "    <tr>\n",
       "      <th>4</th>\n",
       "      <td>120138</td>\n",
       "      <td>F</td>\n",
       "      <td>2.5</td>\n",
       "      <td>8.2</td>\n",
       "      <td>Cattia</td>\n",
       "    </tr>\n",
       "    <tr>\n",
       "      <th>...</th>\n",
       "      <td>...</td>\n",
       "      <td>...</td>\n",
       "      <td>...</td>\n",
       "      <td>...</td>\n",
       "      <td>...</td>\n",
       "    </tr>\n",
       "    <tr>\n",
       "      <th>195</th>\n",
       "      <td>179576</td>\n",
       "      <td>M</td>\n",
       "      <td>2.4</td>\n",
       "      <td>9.2</td>\n",
       "      <td>Onya</td>\n",
       "    </tr>\n",
       "    <tr>\n",
       "      <th>196</th>\n",
       "      <td>156142</td>\n",
       "      <td>M</td>\n",
       "      <td>2.6</td>\n",
       "      <td>9.6</td>\n",
       "      <td>Bungy</td>\n",
       "    </tr>\n",
       "    <tr>\n",
       "      <th>197</th>\n",
       "      <td>465656</td>\n",
       "      <td>M</td>\n",
       "      <td>3.0</td>\n",
       "      <td>10.9</td>\n",
       "      <td>Saru</td>\n",
       "    </tr>\n",
       "    <tr>\n",
       "      <th>198</th>\n",
       "      <td>314481</td>\n",
       "      <td>M</td>\n",
       "      <td>2.7</td>\n",
       "      <td>9.5</td>\n",
       "      <td>Winder</td>\n",
       "    </tr>\n",
       "    <tr>\n",
       "      <th>199</th>\n",
       "      <td>584302</td>\n",
       "      <td>M</td>\n",
       "      <td>3.5</td>\n",
       "      <td>12.9</td>\n",
       "      <td>Sasa</td>\n",
       "    </tr>\n",
       "  </tbody>\n",
       "</table>\n",
       "<p>283 rows × 5 columns</p>\n",
       "</div>"
      ],
      "text/plain": [
       "         ID Sex  Bwt   Hwt    Name\n",
       "0    322926   F  2.7  10.0   Squid\n",
       "1    311727   F  2.2  10.7     Nag\n",
       "2    940362   F  2.5   8.1    Pavo\n",
       "3    368255   F  2.5   9.7   Purdy\n",
       "4    120138   F  2.5   8.2  Cattia\n",
       "..      ...  ..  ...   ...     ...\n",
       "195  179576   M  2.4   9.2    Onya\n",
       "196  156142   M  2.6   9.6   Bungy\n",
       "197  465656   M  3.0  10.9    Saru\n",
       "198  314481   M  2.7   9.5  Winder\n",
       "199  584302   M  3.5  12.9    Sasa\n",
       "\n",
       "[283 rows x 5 columns]"
      ]
     },
     "execution_count": 75,
     "metadata": {},
     "output_type": "execute_result"
    }
   ],
   "source": [
    "# View the dataframe\n",
    "df_over_2kg"
   ]
  },
  {
   "cell_type": "code",
   "execution_count": 76,
   "id": "a3ca9295-93b5-46b1-8b38-c278a696193b",
   "metadata": {},
   "outputs": [
    {
     "data": {
      "text/html": [
       "<div>\n",
       "<style scoped>\n",
       "    .dataframe tbody tr th:only-of-type {\n",
       "        vertical-align: middle;\n",
       "    }\n",
       "\n",
       "    .dataframe tbody tr th {\n",
       "        vertical-align: top;\n",
       "    }\n",
       "\n",
       "    .dataframe thead th {\n",
       "        text-align: right;\n",
       "    }\n",
       "</style>\n",
       "<table border=\"1\" class=\"dataframe\">\n",
       "  <thead>\n",
       "    <tr style=\"text-align: right;\">\n",
       "      <th></th>\n",
       "      <th>Bwt</th>\n",
       "      <th>Hwt</th>\n",
       "    </tr>\n",
       "  </thead>\n",
       "  <tbody>\n",
       "    <tr>\n",
       "      <th>count</th>\n",
       "      <td>283.000000</td>\n",
       "      <td>283.000000</td>\n",
       "    </tr>\n",
       "    <tr>\n",
       "      <th>mean</th>\n",
       "      <td>2.737456</td>\n",
       "      <td>10.675265</td>\n",
       "    </tr>\n",
       "    <tr>\n",
       "      <th>std</th>\n",
       "      <td>0.433700</td>\n",
       "      <td>2.159284</td>\n",
       "    </tr>\n",
       "    <tr>\n",
       "      <th>min</th>\n",
       "      <td>2.000000</td>\n",
       "      <td>5.100000</td>\n",
       "    </tr>\n",
       "    <tr>\n",
       "      <th>25%</th>\n",
       "      <td>2.400000</td>\n",
       "      <td>9.200000</td>\n",
       "    </tr>\n",
       "    <tr>\n",
       "      <th>50%</th>\n",
       "      <td>2.700000</td>\n",
       "      <td>10.300000</td>\n",
       "    </tr>\n",
       "    <tr>\n",
       "      <th>75%</th>\n",
       "      <td>3.000000</td>\n",
       "      <td>12.100000</td>\n",
       "    </tr>\n",
       "    <tr>\n",
       "      <th>max</th>\n",
       "      <td>4.200000</td>\n",
       "      <td>17.400000</td>\n",
       "    </tr>\n",
       "  </tbody>\n",
       "</table>\n",
       "</div>"
      ],
      "text/plain": [
       "              Bwt         Hwt\n",
       "count  283.000000  283.000000\n",
       "mean     2.737456   10.675265\n",
       "std      0.433700    2.159284\n",
       "min      2.000000    5.100000\n",
       "25%      2.400000    9.200000\n",
       "50%      2.700000   10.300000\n",
       "75%      3.000000   12.100000\n",
       "max      4.200000   17.400000"
      ]
     },
     "execution_count": 76,
     "metadata": {},
     "output_type": "execute_result"
    }
   ],
   "source": [
    "# View summary statistics\n",
    "df_over_2kg[['Bwt', 'Hwt']].describe()"
   ]
  },
  {
   "cell_type": "code",
   "execution_count": 77,
   "id": "0af9c2e9-7262-4976-90ee-bb0b3cae7765",
   "metadata": {},
   "outputs": [
    {
     "data": {
      "image/png": "[encoded data removed]",
      "text/plain": [
       "<Figure size 432x288 with 1 Axes>"
      ]
     },
     "metadata": {
      "needs_background": "light"
     },
     "output_type": "display_data"
    }
   ],
   "source": [
    "# scatterplot of random function >=2kg bwt and hwt\n",
    "sns.scatterplot(data = df_over_2kg, x = 'Bwt', y= 'Hwt', hue='Sex')\n",
    "# Save plot\n",
    "path = 'cats-dataset/cats-random-data/cats_random_plots/df_over_2kg_scatter'  + current_time + '.png'\n",
    "plt.savefig(path)"
   ]
  },
  {
   "cell_type": "code",
   "execution_count": 78,
   "id": "1ac61e44-4010-4e9f-ab2f-6e023411c221",
   "metadata": {},
   "outputs": [
    {
     "data": {
      "text/html": [
       "<div>\n",
       "<style scoped>\n",
       "    .dataframe tbody tr th:only-of-type {\n",
       "        vertical-align: middle;\n",
       "    }\n",
       "\n",
       "    .dataframe tbody tr th {\n",
       "        vertical-align: top;\n",
       "    }\n",
       "\n",
       "    .dataframe thead th {\n",
       "        text-align: right;\n",
       "    }\n",
       "</style>\n",
       "<table border=\"1\" class=\"dataframe\">\n",
       "  <thead>\n",
       "    <tr style=\"text-align: right;\">\n",
       "      <th></th>\n",
       "      <th>Bwt</th>\n",
       "      <th>Hwt</th>\n",
       "    </tr>\n",
       "  </thead>\n",
       "  <tbody>\n",
       "    <tr>\n",
       "      <th>Bwt</th>\n",
       "      <td>1.000000</td>\n",
       "      <td>0.789216</td>\n",
       "    </tr>\n",
       "    <tr>\n",
       "      <th>Hwt</th>\n",
       "      <td>0.789216</td>\n",
       "      <td>1.000000</td>\n",
       "    </tr>\n",
       "  </tbody>\n",
       "</table>\n",
       "</div>"
      ],
      "text/plain": [
       "          Bwt       Hwt\n",
       "Bwt  1.000000  0.789216\n",
       "Hwt  0.789216  1.000000"
      ]
     },
     "execution_count": 78,
     "metadata": {},
     "output_type": "execute_result"
    }
   ],
   "source": [
    "# View the correlation between body weight and heart weight\n",
    "df_over_2kg[['Bwt', 'Hwt']].corr()"
   ]
  },
  {
   "cell_type": "code",
   "execution_count": 79,
   "id": "0e3c237d-38c1-4564-9034-ee8010f1c55a",
   "metadata": {},
   "outputs": [
    {
     "data": {
      "image/png": "[encoded data removed]",
      "text/plain": [
       "<Figure size 432x288 with 1 Axes>"
      ]
     },
     "metadata": {
      "needs_background": "light"
     },
     "output_type": "display_data"
    }
   ],
   "source": [
    "# Plotting the random function >=2kg bodyweight by sex\n",
    "sns.histplot(data = df_over_2kg, x = 'Bwt', hue = 'Sex', multiple=\"dodge\", kde=True)\n",
    "# Save plot\n",
    "path = 'cats-dataset/cats-random-data/cats_random_plots/df_over_2kg_hist_bwt'  + current_time + '.png'\n",
    "plt.savefig(path)"
   ]
  },
  {
   "cell_type": "code",
   "execution_count": 80,
   "id": "f3819674-6fbe-4f13-b6e7-3907a330b1e6",
   "metadata": {},
   "outputs": [
    {
     "data": {
      "image/png": "[encoded data removed]",
      "text/plain": [
       "<Figure size 432x288 with 1 Axes>"
      ]
     },
     "metadata": {
      "needs_background": "light"
     },
     "output_type": "display_data"
    }
   ],
   "source": [
    "# Plotting the random function >=2kg heart weight by sex\n",
    "sns.histplot(data = function_df, x = 'Hwt', hue = 'Sex', multiple=\"dodge\", kde=True)\n",
    "# Save plot\n",
    "path = 'cats-dataset/cats-random-data/cats_random_plots/df_over_2kg_hist_hwt'  + current_time + '.png'\n",
    "plt.savefig(path)"
   ]
  },
  {
   "cell_type": "code",
   "execution_count": 81,
   "id": "dba6f17c-8c52-48d7-a809-8ac53360f240",
   "metadata": {},
   "outputs": [],
   "source": [
    "# A path to save the dataframe, using dt to create unique file names\n",
    "path = 'cats-dataset/cats-random-data/cats_random_datasets/cats_random_over2kg_'  + current_time + '.csv'\n",
    "\n",
    "# Save pandas data frame to disk.\n",
    "df_over_2kg.to_csv(path)"
   ]
  },
  {
   "cell_type": "markdown",
   "id": "9d98ee2a-86b2-4a4c-a739-2c43c89bc910",
   "metadata": {},
   "source": [
    "### Dealing with the Truncated Distribution of Female Body Weight"
   ]
  },
  {
   "cell_type": "markdown",
   "id": "c2395b5d-4719-4399-98da-5c44eb0511fc",
   "metadata": {},
   "source": [
    "Finally, we may wish to change code for the female bodyweight since it failed the test for normality. Since an eyeball test suggests the female body weight distribution of the original dataset is normal, but likely truncated due to excluding subjects under 2kg in body weight, we could create a new function which alters the mean to be 2.1.. This value was chosen because the bin with the most values in the original dataset is between 2.0 and 2.2kg. We will include all we have done so far in a new function generate our dataset.\n",
    "\n",
    "Since this will be the final function that will be compared with the original dataset, the function will be seeded for reproducability. Should a user wish to generate different random datasets they can edit the following line of code in the function ```rng = np.random.default_rng(seed=501)``` by changing the number that the seed equals to or by removing \"seed=180\" from between the parentheses, leaving the parentheses in place. \n",
    "\n",
    "Another issue with the previous function is that the dataframe returned woud have fewer samples than the user specified due to samples under 2kg being removed. To account for this, we will use the function below which was made to cope with a truncated normal distribution to first generate random female weights within the bounds of the original weights https://stackoverflow.com/questions/33590760/how-to-generate-correlated-random-numbers-for-truncated-normal-distribution-in-p and combine it with an adapted version of our previous function to simulate a new complete dataframe."
   ]
  },
  {
   "cell_type": "code",
   "execution_count": 82,
   "id": "0303a505-d2aa-4077-a96f-067bc68425e7",
   "metadata": {},
   "outputs": [],
   "source": [
    "# Function to generate number of random samples specified by user\n",
    "# User specifies two numbers, one for each sex\n",
    "def cat_over2kg_df(females=1, males=1):         \n",
    "    rng = np.random.default_rng(seed=501)\n",
    "\n",
    "    # convert arr_means and cov matrix to np.array\n",
    "    means = np.array([2.359574, 9.202128])\n",
    "    cov_matrix = np.array([[0.07506938, 0.19791397], [0.19791397, 1.84325624]])\n",
    "    dimenions_bounds=np.array([[2,3],[6.3,13]])\n",
    "    size = females\n",
    "    \n",
    "    \n",
    "    # check if dimentions agree\n",
    "    if not means.shape[0] == cov_matrix.shape[0]:\n",
    "        raise ValueError(\"dimentions of means and cov matrix do not agree\")\n",
    "    if not cov_matrix.shape[0] == cov_matrix.shape[1]:\n",
    "        raise ValueError(\"dimentions of means and cov matrix do not agree\")\n",
    "\n",
    "    ndims = means.shape[0]\n",
    "\n",
    "    # if no dimenions_bounds if provided make a dimenions_bounds with np.nans\n",
    "    if dimenions_bounds is None:\n",
    "        dimenions_bounds = np.tile((np.nan),(ndims,2)) # make a ndims x 2 array of np.nan values\n",
    "    \n",
    "    \n",
    "    # dimenions_bounds should be a (ndims x 2) 2d array where each row represents a dimention, \n",
    "    # and, where the first column (index=0) holds the lower bound \n",
    "    #     where the second colums (index=1) holds the upper bound\n",
    "    if not dimenions_bounds.shape == (ndims,2):\n",
    "        raise ValueError(\"dimentions of dimenions_bounds doesnt match the dimention of means\")\n",
    "    \n",
    "    # define a local size\n",
    "    local_size = size\n",
    "\n",
    "    # create an empty array\n",
    "    return_samples = np.empty([0,ndims])\n",
    "\n",
    "    # generate new samples while the needed size is not reached\n",
    "    while not return_samples.shape[0] == size:\n",
    "\n",
    "        # get 'size' number of samples\n",
    "        samples = rng.multivariate_normal(means, cov_matrix,size=local_size)\n",
    "\n",
    "        # samples is n array of length n (as many as means, and as many as the side of the cov matrix)\n",
    "        # we will stack the arrays of sample on top of each other,\n",
    "        # so each row of retrun_samples is a set of n samples (each sample from one of each dimention)\n",
    "        # each colums is the set of samples from one of the n dimentions\n",
    "\n",
    "        # select only the samples that are within the upper and lower bounds for both dimentions\n",
    "\n",
    "        # for the fist of the nd value (index = 0)\n",
    "\n",
    "        # for each 'column' we check if the values are within the bounds of that respective column\n",
    "\n",
    "        for dim, bounds in enumerate(dimenions_bounds):\n",
    "\n",
    "            # keep only the samples that are bigger than the lower bound\n",
    "            if not np.isnan(bounds[0]): # bounds[0] is the lower bound\n",
    "                samples = samples[(samples[:,dim] > bounds[0])]  # samples[:,dim] is the column of the dim\n",
    "\n",
    "            # keep only the samples that are smaller than the upper bound\n",
    "            if not np.isnan(bounds[1]): # bounds[1] is the upper bound\n",
    "                samples = samples[(samples[:,dim] < bounds[1])]   # samples[:,dim] is the column of the dim\n",
    "\n",
    "\n",
    "        # input the samples into the retun samples\n",
    "        return_samples = np.vstack([return_samples, samples])\n",
    "\n",
    "        # get new size which is the difference between the requested size and the size so far.\n",
    "        local_size = size - return_samples.shape[0]\n",
    "    \n",
    "    # return a single value when the requested size is 1 (or not specified)\n",
    "    if return_samples.shape[0] == 1:\n",
    "        df_female = return_samples[0]\n",
    "    # otherwise \n",
    "    else:\n",
    "        df_female = return_samples\n",
    "    \n",
    "    # Convert random array to pandas df\n",
    "    df_female = pd.DataFrame(df_female, columns = ['Bwt', 'Hwt'])\n",
    "    \n",
    "    # Add a column with sex of female\n",
    "    df_female['Sex'] = 'F'\n",
    "    \n",
    "    # Generate multivariate random data based on the original male df mean and covariance\n",
    "    mean_m = [2.900000, 11.322680]\n",
    "    cov_m = [[0.21854167, 0.9425], [0.9425, 6.46323024]]\n",
    "    # Males times 2 so there will be enough samples to return when <2kg cats removed\n",
    "    male_cats = rng.multivariate_normal(mean_m, cov_m, males*2)\n",
    "    \n",
    "    # Convert random array to pandas df\n",
    "    df_male = pd.DataFrame(male_cats, columns = ['Bwt', 'Hwt'])\n",
    "    \n",
    "    # Add a column with sex of Male\n",
    "    df_male['Sex'] = 'M'\n",
    "    \n",
    "    # Filter out values under 2kg\n",
    "    df_male = df_male[df_male['Bwt'] >= 2]\n",
    "    \n",
    "    # Return the requested number of male subjects\n",
    "    df_male = df_male.head(males)\n",
    "    \n",
    "    # ConCAT male and female dfs\n",
    "    all_cats = pd.concat([df_female, df_male])\n",
    "    \n",
    "    # Round the values of the random df to one decimal place as with the original dataset\n",
    "    all_cats = all_cats.round(1)\n",
    "    \n",
    "    # Move Sex column to the front as with original dataset\n",
    "    sex = all_cats['Sex']\n",
    "    all_cats.drop(labels=['Sex'], axis=1,inplace = True)\n",
    "    all_cats.insert(0, 'Sex', sex)\n",
    "    all_cats\n",
    "    \n",
    "    # Variables to be used in generating the correct id numbers\n",
    "    count = all_cats['Bwt'].count()\n",
    "    possible_id = np.arange(100000,1000000)\n",
    "        \n",
    "    # Generate random 6 digit IDs\n",
    "    cat_id = rng.choice(possible_id, size=count, replace=False)\n",
    "    \n",
    "    # Add ID to df and move ID to be first column\n",
    "    all_cats['ID'] = cat_id\n",
    "    all_cats.drop(labels=['ID'], axis=1,inplace = True)\n",
    "    all_cats.insert(0, 'ID', cat_id)\n",
    "    \n",
    "    # Load cat names to pandas\n",
    "    cat_names = pd.read_csv('cats-dataset/CatNames.txt', names = ['Cat Names'],\n",
    "                        encoding = \"ISO-8859-1\")\n",
    "    \n",
    "    # Retrieve random cat names from the dataframe \n",
    "    random_cat_names = rng.choice(cat_names, size=count)\n",
    "    \n",
    "    # Add name column to dataframe\n",
    "    all_cats['Name'] = random_cat_names\n",
    "    \n",
    "            \n",
    "    return all_cats"
   ]
  },
  {
   "cell_type": "code",
   "execution_count": 83,
   "id": "60040d51-d7da-48bb-b810-7ec0bac90527",
   "metadata": {},
   "outputs": [],
   "source": [
    "# Test the function to create a random sample that mimics the original\n",
    "sim_df_cats = cat_over2kg_df(females=47, males=97)"
   ]
  },
  {
   "cell_type": "code",
   "execution_count": 84,
   "id": "a4a0aded-67d0-40b7-ae5f-02bb3cc8be78",
   "metadata": {},
   "outputs": [
    {
     "data": {
      "text/html": [
       "<div>\n",
       "<style scoped>\n",
       "    .dataframe tbody tr th:only-of-type {\n",
       "        vertical-align: middle;\n",
       "    }\n",
       "\n",
       "    .dataframe tbody tr th {\n",
       "        vertical-align: top;\n",
       "    }\n",
       "\n",
       "    .dataframe thead th {\n",
       "        text-align: right;\n",
       "    }\n",
       "</style>\n",
       "<table border=\"1\" class=\"dataframe\">\n",
       "  <thead>\n",
       "    <tr style=\"text-align: right;\">\n",
       "      <th></th>\n",
       "      <th>ID</th>\n",
       "      <th>Sex</th>\n",
       "      <th>Bwt</th>\n",
       "      <th>Hwt</th>\n",
       "      <th>Name</th>\n",
       "    </tr>\n",
       "  </thead>\n",
       "  <tbody>\n",
       "    <tr>\n",
       "      <th>0</th>\n",
       "      <td>129565</td>\n",
       "      <td>F</td>\n",
       "      <td>2.2</td>\n",
       "      <td>7.7</td>\n",
       "      <td>Marika</td>\n",
       "    </tr>\n",
       "    <tr>\n",
       "      <th>1</th>\n",
       "      <td>971197</td>\n",
       "      <td>F</td>\n",
       "      <td>2.3</td>\n",
       "      <td>8.8</td>\n",
       "      <td>Azour Mavreen</td>\n",
       "    </tr>\n",
       "    <tr>\n",
       "      <th>2</th>\n",
       "      <td>746812</td>\n",
       "      <td>F</td>\n",
       "      <td>2.6</td>\n",
       "      <td>10.2</td>\n",
       "      <td>Monther</td>\n",
       "    </tr>\n",
       "    <tr>\n",
       "      <th>3</th>\n",
       "      <td>844637</td>\n",
       "      <td>F</td>\n",
       "      <td>2.4</td>\n",
       "      <td>10.6</td>\n",
       "      <td>Beer</td>\n",
       "    </tr>\n",
       "    <tr>\n",
       "      <th>4</th>\n",
       "      <td>820451</td>\n",
       "      <td>F</td>\n",
       "      <td>2.5</td>\n",
       "      <td>8.7</td>\n",
       "      <td>Fata</td>\n",
       "    </tr>\n",
       "    <tr>\n",
       "      <th>...</th>\n",
       "      <td>...</td>\n",
       "      <td>...</td>\n",
       "      <td>...</td>\n",
       "      <td>...</td>\n",
       "      <td>...</td>\n",
       "    </tr>\n",
       "    <tr>\n",
       "      <th>92</th>\n",
       "      <td>779918</td>\n",
       "      <td>M</td>\n",
       "      <td>2.5</td>\n",
       "      <td>10.0</td>\n",
       "      <td>Drive Thru</td>\n",
       "    </tr>\n",
       "    <tr>\n",
       "      <th>93</th>\n",
       "      <td>907362</td>\n",
       "      <td>M</td>\n",
       "      <td>3.2</td>\n",
       "      <td>12.9</td>\n",
       "      <td>Edora</td>\n",
       "    </tr>\n",
       "    <tr>\n",
       "      <th>94</th>\n",
       "      <td>338773</td>\n",
       "      <td>M</td>\n",
       "      <td>3.6</td>\n",
       "      <td>14.1</td>\n",
       "      <td>Uber</td>\n",
       "    </tr>\n",
       "    <tr>\n",
       "      <th>95</th>\n",
       "      <td>829413</td>\n",
       "      <td>M</td>\n",
       "      <td>3.2</td>\n",
       "      <td>16.2</td>\n",
       "      <td>Cassanova</td>\n",
       "    </tr>\n",
       "    <tr>\n",
       "      <th>96</th>\n",
       "      <td>316558</td>\n",
       "      <td>M</td>\n",
       "      <td>2.7</td>\n",
       "      <td>7.8</td>\n",
       "      <td>F. Lee Bailey</td>\n",
       "    </tr>\n",
       "  </tbody>\n",
       "</table>\n",
       "<p>144 rows × 5 columns</p>\n",
       "</div>"
      ],
      "text/plain": [
       "        ID Sex  Bwt   Hwt           Name\n",
       "0   129565   F  2.2   7.7         Marika\n",
       "1   971197   F  2.3   8.8  Azour Mavreen\n",
       "2   746812   F  2.6  10.2        Monther\n",
       "3   844637   F  2.4  10.6           Beer\n",
       "4   820451   F  2.5   8.7           Fata\n",
       "..     ...  ..  ...   ...            ...\n",
       "92  779918   M  2.5  10.0     Drive Thru\n",
       "93  907362   M  3.2  12.9          Edora\n",
       "94  338773   M  3.6  14.1           Uber\n",
       "95  829413   M  3.2  16.2      Cassanova\n",
       "96  316558   M  2.7   7.8  F. Lee Bailey\n",
       "\n",
       "[144 rows x 5 columns]"
      ]
     },
     "execution_count": 84,
     "metadata": {},
     "output_type": "execute_result"
    }
   ],
   "source": [
    "# View the dataframe\n",
    "sim_df_cats"
   ]
  },
  {
   "cell_type": "code",
   "execution_count": 85,
   "id": "458e843c-bf3a-4c54-a5e3-6a335af5327a",
   "metadata": {},
   "outputs": [
    {
     "data": {
      "text/html": [
       "<div>\n",
       "<style scoped>\n",
       "    .dataframe tbody tr th:only-of-type {\n",
       "        vertical-align: middle;\n",
       "    }\n",
       "\n",
       "    .dataframe tbody tr th {\n",
       "        vertical-align: top;\n",
       "    }\n",
       "\n",
       "    .dataframe thead th {\n",
       "        text-align: right;\n",
       "    }\n",
       "</style>\n",
       "<table border=\"1\" class=\"dataframe\">\n",
       "  <thead>\n",
       "    <tr style=\"text-align: right;\">\n",
       "      <th></th>\n",
       "      <th>Bwt</th>\n",
       "      <th>Hwt</th>\n",
       "    </tr>\n",
       "  </thead>\n",
       "  <tbody>\n",
       "    <tr>\n",
       "      <th>count</th>\n",
       "      <td>144.000000</td>\n",
       "      <td>144.000000</td>\n",
       "    </tr>\n",
       "    <tr>\n",
       "      <th>mean</th>\n",
       "      <td>2.721528</td>\n",
       "      <td>10.751389</td>\n",
       "    </tr>\n",
       "    <tr>\n",
       "      <th>std</th>\n",
       "      <td>0.485476</td>\n",
       "      <td>2.227702</td>\n",
       "    </tr>\n",
       "    <tr>\n",
       "      <th>min</th>\n",
       "      <td>2.000000</td>\n",
       "      <td>6.200000</td>\n",
       "    </tr>\n",
       "    <tr>\n",
       "      <th>25%</th>\n",
       "      <td>2.300000</td>\n",
       "      <td>9.275000</td>\n",
       "    </tr>\n",
       "    <tr>\n",
       "      <th>50%</th>\n",
       "      <td>2.700000</td>\n",
       "      <td>10.450000</td>\n",
       "    </tr>\n",
       "    <tr>\n",
       "      <th>75%</th>\n",
       "      <td>3.000000</td>\n",
       "      <td>12.425000</td>\n",
       "    </tr>\n",
       "    <tr>\n",
       "      <th>max</th>\n",
       "      <td>4.000000</td>\n",
       "      <td>16.600000</td>\n",
       "    </tr>\n",
       "  </tbody>\n",
       "</table>\n",
       "</div>"
      ],
      "text/plain": [
       "              Bwt         Hwt\n",
       "count  144.000000  144.000000\n",
       "mean     2.721528   10.751389\n",
       "std      0.485476    2.227702\n",
       "min      2.000000    6.200000\n",
       "25%      2.300000    9.275000\n",
       "50%      2.700000   10.450000\n",
       "75%      3.000000   12.425000\n",
       "max      4.000000   16.600000"
      ]
     },
     "execution_count": 85,
     "metadata": {},
     "output_type": "execute_result"
    }
   ],
   "source": [
    "# View summary statistics\n",
    "sim_df_cats[['Bwt', 'Hwt']].describe()"
   ]
  },
  {
   "cell_type": "code",
   "execution_count": 86,
   "id": "87e6cd81-4328-44d4-8994-f1d9ae221212",
   "metadata": {},
   "outputs": [
    {
     "data": {
      "image/png": "[encoded data removed]",
      "text/plain": [
       "<Figure size 432x288 with 1 Axes>"
      ]
     },
     "metadata": {
      "needs_background": "light"
     },
     "output_type": "display_data"
    }
   ],
   "source": [
    "# scatterplot of random function >=2kg bwt and hwt\n",
    "sns.scatterplot(data = sim_df_cats, x = 'Bwt', y= 'Hwt', hue='Sex')\n",
    "# Save plot\n",
    "path = 'cats-dataset/cats-random-data/cats_random_plots/sim_df_cats_scatter'  + current_time + '.png'\n",
    "plt.savefig(path)"
   ]
  },
  {
   "cell_type": "code",
   "execution_count": 87,
   "id": "32cea9ce-0026-4a47-ad6d-0ccfa9ef66c1",
   "metadata": {},
   "outputs": [
    {
     "data": {
      "text/html": [
       "<div>\n",
       "<style scoped>\n",
       "    .dataframe tbody tr th:only-of-type {\n",
       "        vertical-align: middle;\n",
       "    }\n",
       "\n",
       "    .dataframe tbody tr th {\n",
       "        vertical-align: top;\n",
       "    }\n",
       "\n",
       "    .dataframe thead th {\n",
       "        text-align: right;\n",
       "    }\n",
       "</style>\n",
       "<table border=\"1\" class=\"dataframe\">\n",
       "  <thead>\n",
       "    <tr style=\"text-align: right;\">\n",
       "      <th></th>\n",
       "      <th>Bwt</th>\n",
       "      <th>Hwt</th>\n",
       "    </tr>\n",
       "  </thead>\n",
       "  <tbody>\n",
       "    <tr>\n",
       "      <th>Bwt</th>\n",
       "      <td>1.000000</td>\n",
       "      <td>0.773409</td>\n",
       "    </tr>\n",
       "    <tr>\n",
       "      <th>Hwt</th>\n",
       "      <td>0.773409</td>\n",
       "      <td>1.000000</td>\n",
       "    </tr>\n",
       "  </tbody>\n",
       "</table>\n",
       "</div>"
      ],
      "text/plain": [
       "          Bwt       Hwt\n",
       "Bwt  1.000000  0.773409\n",
       "Hwt  0.773409  1.000000"
      ]
     },
     "execution_count": 87,
     "metadata": {},
     "output_type": "execute_result"
    }
   ],
   "source": [
    "# View the correlation bewteen body weight and heart weight for all cats\n",
    "sim_df_cats[['Bwt', 'Hwt']].corr()"
   ]
  },
  {
   "cell_type": "code",
   "execution_count": 88,
   "id": "45501484-9fed-43e4-8192-2c721f80ddc6",
   "metadata": {},
   "outputs": [],
   "source": [
    "# Get female cats from the dataframe\n",
    "sim_f = sim_df_cats[sim_df_cats['Sex'] == 'F']"
   ]
  },
  {
   "cell_type": "code",
   "execution_count": 89,
   "id": "0880533a-6552-4232-8571-0453f421afa8",
   "metadata": {},
   "outputs": [
    {
     "data": {
      "text/html": [
       "<div>\n",
       "<style scoped>\n",
       "    .dataframe tbody tr th:only-of-type {\n",
       "        vertical-align: middle;\n",
       "    }\n",
       "\n",
       "    .dataframe tbody tr th {\n",
       "        vertical-align: top;\n",
       "    }\n",
       "\n",
       "    .dataframe thead th {\n",
       "        text-align: right;\n",
       "    }\n",
       "</style>\n",
       "<table border=\"1\" class=\"dataframe\">\n",
       "  <thead>\n",
       "    <tr style=\"text-align: right;\">\n",
       "      <th></th>\n",
       "      <th>Bwt</th>\n",
       "      <th>Hwt</th>\n",
       "    </tr>\n",
       "  </thead>\n",
       "  <tbody>\n",
       "    <tr>\n",
       "      <th>Bwt</th>\n",
       "      <td>1.000000</td>\n",
       "      <td>0.224173</td>\n",
       "    </tr>\n",
       "    <tr>\n",
       "      <th>Hwt</th>\n",
       "      <td>0.224173</td>\n",
       "      <td>1.000000</td>\n",
       "    </tr>\n",
       "  </tbody>\n",
       "</table>\n",
       "</div>"
      ],
      "text/plain": [
       "          Bwt       Hwt\n",
       "Bwt  1.000000  0.224173\n",
       "Hwt  0.224173  1.000000"
      ]
     },
     "execution_count": 89,
     "metadata": {},
     "output_type": "execute_result"
    }
   ],
   "source": [
    "# View the correlation bewteen body weight and heart weight for female cats\n",
    "sim_f[['Bwt', 'Hwt']].corr()"
   ]
  },
  {
   "cell_type": "code",
   "execution_count": 90,
   "id": "77c5d378-3ab8-4307-9928-5dfbdcc43a48",
   "metadata": {},
   "outputs": [],
   "source": [
    "# Get male cats from the dataframe\n",
    "sim_m = sim_df_cats[sim_df_cats['Sex'] == 'M']"
   ]
  },
  {
   "cell_type": "code",
   "execution_count": 91,
   "id": "d7a48c6e-2fea-4c12-8b27-02474f94f0d6",
   "metadata": {},
   "outputs": [
    {
     "data": {
      "text/html": [
       "<div>\n",
       "<style scoped>\n",
       "    .dataframe tbody tr th:only-of-type {\n",
       "        vertical-align: middle;\n",
       "    }\n",
       "\n",
       "    .dataframe tbody tr th {\n",
       "        vertical-align: top;\n",
       "    }\n",
       "\n",
       "    .dataframe thead th {\n",
       "        text-align: right;\n",
       "    }\n",
       "</style>\n",
       "<table border=\"1\" class=\"dataframe\">\n",
       "  <thead>\n",
       "    <tr style=\"text-align: right;\">\n",
       "      <th></th>\n",
       "      <th>Bwt</th>\n",
       "      <th>Hwt</th>\n",
       "    </tr>\n",
       "  </thead>\n",
       "  <tbody>\n",
       "    <tr>\n",
       "      <th>Bwt</th>\n",
       "      <td>1.00000</td>\n",
       "      <td>0.73795</td>\n",
       "    </tr>\n",
       "    <tr>\n",
       "      <th>Hwt</th>\n",
       "      <td>0.73795</td>\n",
       "      <td>1.00000</td>\n",
       "    </tr>\n",
       "  </tbody>\n",
       "</table>\n",
       "</div>"
      ],
      "text/plain": [
       "         Bwt      Hwt\n",
       "Bwt  1.00000  0.73795\n",
       "Hwt  0.73795  1.00000"
      ]
     },
     "execution_count": 91,
     "metadata": {},
     "output_type": "execute_result"
    }
   ],
   "source": [
    "# View the correlation bewteen body weight and heart weight for male cats\n",
    "sim_m[['Bwt', 'Hwt']].corr()"
   ]
  },
  {
   "cell_type": "code",
   "execution_count": 92,
   "id": "f6fdf9cc-2a85-4b0d-b967-7c4ee10f297d",
   "metadata": {},
   "outputs": [
    {
     "data": {
      "image/png": "[encoded data removed]",
      "text/plain": [
       "<Figure size 432x288 with 1 Axes>"
      ]
     },
     "metadata": {
      "needs_background": "light"
     },
     "output_type": "display_data"
    }
   ],
   "source": [
    "# Plotting the random function >=2kg bodyweight by sex\n",
    "sns.histplot(data = sim_df_cats, x = 'Bwt', hue = 'Sex', multiple=\"dodge\", kde=True)\n",
    "# Save plot\n",
    "path = 'cats-dataset/cats-random-data/cats_random_plots/sim_df_cats_hist_bwt'  + current_time + '.png'\n",
    "plt.savefig(path)"
   ]
  },
  {
   "cell_type": "code",
   "execution_count": 93,
   "id": "540eff60-f743-4b2d-b609-2d97fedf1190",
   "metadata": {},
   "outputs": [
    {
     "data": {
      "image/png": "[encoded data removed]",
      "text/plain": [
       "<Figure size 432x288 with 1 Axes>"
      ]
     },
     "metadata": {
      "needs_background": "light"
     },
     "output_type": "display_data"
    }
   ],
   "source": [
    "# Plotting the random function >=2kg heartweight by sex\n",
    "sns.histplot(data = sim_df_cats, x = 'Hwt', hue = 'Sex', multiple=\"dodge\", kde=True)\n",
    "# Save plot\n",
    "path = 'cats-dataset/cats-random-data/cats_random_plots/sim_df_cats_hist_hwt'  + current_time + '.png'\n",
    "plt.savefig(path)"
   ]
  },
  {
   "cell_type": "code",
   "execution_count": 94,
   "id": "d8906ea1-c53e-4b08-88c5-996c701f7739",
   "metadata": {},
   "outputs": [],
   "source": [
    "# A path to save the dataframe, using dt to create unique file names\n",
    "path = 'cats-dataset/cats-random-data/cats_random_datasets/cats_random_original_size_'  + current_time + '.csv'\n",
    "\n",
    "# Save pandas data frame to disk.\n",
    "sim_df_cats.to_csv(path)"
   ]
  },
  {
   "cell_type": "code",
   "execution_count": 95,
   "id": "40955954-012f-4a61-a654-fd7db6ed1315",
   "metadata": {},
   "outputs": [],
   "source": [
    "# Test the function to create a random sample of a new size\n",
    "sim_cats_final = cat_over2kg_df(females=150, males=300)"
   ]
  },
  {
   "cell_type": "code",
   "execution_count": 96,
   "id": "adab51f4-a174-458b-90cb-c110eb68ef2e",
   "metadata": {},
   "outputs": [
    {
     "data": {
      "text/html": [
       "<div>\n",
       "<style scoped>\n",
       "    .dataframe tbody tr th:only-of-type {\n",
       "        vertical-align: middle;\n",
       "    }\n",
       "\n",
       "    .dataframe tbody tr th {\n",
       "        vertical-align: top;\n",
       "    }\n",
       "\n",
       "    .dataframe thead th {\n",
       "        text-align: right;\n",
       "    }\n",
       "</style>\n",
       "<table border=\"1\" class=\"dataframe\">\n",
       "  <thead>\n",
       "    <tr style=\"text-align: right;\">\n",
       "      <th></th>\n",
       "      <th>ID</th>\n",
       "      <th>Sex</th>\n",
       "      <th>Bwt</th>\n",
       "      <th>Hwt</th>\n",
       "      <th>Name</th>\n",
       "    </tr>\n",
       "  </thead>\n",
       "  <tbody>\n",
       "    <tr>\n",
       "      <th>0</th>\n",
       "      <td>331899</td>\n",
       "      <td>F</td>\n",
       "      <td>2.2</td>\n",
       "      <td>7.7</td>\n",
       "      <td>Pookahontas</td>\n",
       "    </tr>\n",
       "    <tr>\n",
       "      <th>1</th>\n",
       "      <td>775651</td>\n",
       "      <td>F</td>\n",
       "      <td>2.3</td>\n",
       "      <td>8.8</td>\n",
       "      <td>Annelee</td>\n",
       "    </tr>\n",
       "    <tr>\n",
       "      <th>2</th>\n",
       "      <td>338459</td>\n",
       "      <td>F</td>\n",
       "      <td>2.6</td>\n",
       "      <td>10.2</td>\n",
       "      <td>Obo</td>\n",
       "    </tr>\n",
       "    <tr>\n",
       "      <th>3</th>\n",
       "      <td>764833</td>\n",
       "      <td>F</td>\n",
       "      <td>2.4</td>\n",
       "      <td>10.6</td>\n",
       "      <td>Pashu</td>\n",
       "    </tr>\n",
       "    <tr>\n",
       "      <th>4</th>\n",
       "      <td>678267</td>\n",
       "      <td>F</td>\n",
       "      <td>2.5</td>\n",
       "      <td>8.7</td>\n",
       "      <td>Breanne</td>\n",
       "    </tr>\n",
       "    <tr>\n",
       "      <th>...</th>\n",
       "      <td>...</td>\n",
       "      <td>...</td>\n",
       "      <td>...</td>\n",
       "      <td>...</td>\n",
       "      <td>...</td>\n",
       "    </tr>\n",
       "    <tr>\n",
       "      <th>301</th>\n",
       "      <td>114895</td>\n",
       "      <td>M</td>\n",
       "      <td>2.7</td>\n",
       "      <td>11.4</td>\n",
       "      <td>Macbeth</td>\n",
       "    </tr>\n",
       "    <tr>\n",
       "      <th>302</th>\n",
       "      <td>913836</td>\n",
       "      <td>M</td>\n",
       "      <td>2.7</td>\n",
       "      <td>12.6</td>\n",
       "      <td>Cinnamon Crumb Cake</td>\n",
       "    </tr>\n",
       "    <tr>\n",
       "      <th>303</th>\n",
       "      <td>574103</td>\n",
       "      <td>M</td>\n",
       "      <td>2.8</td>\n",
       "      <td>14.9</td>\n",
       "      <td>Elle</td>\n",
       "    </tr>\n",
       "    <tr>\n",
       "      <th>304</th>\n",
       "      <td>200894</td>\n",
       "      <td>M</td>\n",
       "      <td>3.2</td>\n",
       "      <td>10.7</td>\n",
       "      <td>Kitty Mouse</td>\n",
       "    </tr>\n",
       "    <tr>\n",
       "      <th>305</th>\n",
       "      <td>323780</td>\n",
       "      <td>M</td>\n",
       "      <td>2.3</td>\n",
       "      <td>11.1</td>\n",
       "      <td>Butter</td>\n",
       "    </tr>\n",
       "  </tbody>\n",
       "</table>\n",
       "<p>450 rows × 5 columns</p>\n",
       "</div>"
      ],
      "text/plain": [
       "         ID Sex  Bwt   Hwt                 Name\n",
       "0    331899   F  2.2   7.7          Pookahontas\n",
       "1    775651   F  2.3   8.8              Annelee\n",
       "2    338459   F  2.6  10.2                  Obo\n",
       "3    764833   F  2.4  10.6                Pashu\n",
       "4    678267   F  2.5   8.7              Breanne\n",
       "..      ...  ..  ...   ...                  ...\n",
       "301  114895   M  2.7  11.4              Macbeth\n",
       "302  913836   M  2.7  12.6  Cinnamon Crumb Cake\n",
       "303  574103   M  2.8  14.9                 Elle\n",
       "304  200894   M  3.2  10.7          Kitty Mouse\n",
       "305  323780   M  2.3  11.1               Butter\n",
       "\n",
       "[450 rows x 5 columns]"
      ]
     },
     "execution_count": 96,
     "metadata": {},
     "output_type": "execute_result"
    }
   ],
   "source": [
    "# View the dataframe\n",
    "sim_cats_final"
   ]
  },
  {
   "cell_type": "code",
   "execution_count": 97,
   "id": "548f9566-c176-4f5e-a3d1-323e1a9e6207",
   "metadata": {},
   "outputs": [
    {
     "data": {
      "text/html": [
       "<div>\n",
       "<style scoped>\n",
       "    .dataframe tbody tr th:only-of-type {\n",
       "        vertical-align: middle;\n",
       "    }\n",
       "\n",
       "    .dataframe tbody tr th {\n",
       "        vertical-align: top;\n",
       "    }\n",
       "\n",
       "    .dataframe thead th {\n",
       "        text-align: right;\n",
       "    }\n",
       "</style>\n",
       "<table border=\"1\" class=\"dataframe\">\n",
       "  <thead>\n",
       "    <tr style=\"text-align: right;\">\n",
       "      <th></th>\n",
       "      <th>Bwt</th>\n",
       "      <th>Hwt</th>\n",
       "    </tr>\n",
       "  </thead>\n",
       "  <tbody>\n",
       "    <tr>\n",
       "      <th>count</th>\n",
       "      <td>450.000000</td>\n",
       "      <td>450.000000</td>\n",
       "    </tr>\n",
       "    <tr>\n",
       "      <th>mean</th>\n",
       "      <td>2.729111</td>\n",
       "      <td>10.641556</td>\n",
       "    </tr>\n",
       "    <tr>\n",
       "      <th>std</th>\n",
       "      <td>0.456452</td>\n",
       "      <td>2.371224</td>\n",
       "    </tr>\n",
       "    <tr>\n",
       "      <th>min</th>\n",
       "      <td>2.000000</td>\n",
       "      <td>4.700000</td>\n",
       "    </tr>\n",
       "    <tr>\n",
       "      <th>25%</th>\n",
       "      <td>2.400000</td>\n",
       "      <td>8.825000</td>\n",
       "    </tr>\n",
       "    <tr>\n",
       "      <th>50%</th>\n",
       "      <td>2.700000</td>\n",
       "      <td>10.200000</td>\n",
       "    </tr>\n",
       "    <tr>\n",
       "      <th>75%</th>\n",
       "      <td>3.000000</td>\n",
       "      <td>12.100000</td>\n",
       "    </tr>\n",
       "    <tr>\n",
       "      <th>max</th>\n",
       "      <td>4.300000</td>\n",
       "      <td>18.700000</td>\n",
       "    </tr>\n",
       "  </tbody>\n",
       "</table>\n",
       "</div>"
      ],
      "text/plain": [
       "              Bwt         Hwt\n",
       "count  450.000000  450.000000\n",
       "mean     2.729111   10.641556\n",
       "std      0.456452    2.371224\n",
       "min      2.000000    4.700000\n",
       "25%      2.400000    8.825000\n",
       "50%      2.700000   10.200000\n",
       "75%      3.000000   12.100000\n",
       "max      4.300000   18.700000"
      ]
     },
     "execution_count": 97,
     "metadata": {},
     "output_type": "execute_result"
    }
   ],
   "source": [
    "# View summary statistics\n",
    "sim_cats_final[['Bwt', 'Hwt']].describe()"
   ]
  },
  {
   "cell_type": "code",
   "execution_count": 98,
   "id": "4bb45e5d-af63-4c7c-95b8-dffe76f707cd",
   "metadata": {},
   "outputs": [
    {
     "data": {
      "image/png": "[encoded data removed]",
      "text/plain": [
       "<Figure size 432x288 with 1 Axes>"
      ]
     },
     "metadata": {
      "needs_background": "light"
     },
     "output_type": "display_data"
    }
   ],
   "source": [
    "# scatterplot of random function >=2kg bwt and hwt\n",
    "sns.scatterplot(data = sim_cats_final, x = 'Bwt', y= 'Hwt', hue='Sex')\n",
    "# Save plot\n",
    "path = 'cats-dataset/cats-random-data/cats_random_plots/sim_cats_final_scatter'  + current_time + '.png'\n",
    "plt.savefig(path)"
   ]
  },
  {
   "cell_type": "code",
   "execution_count": 99,
   "id": "d4d6b035-e4cd-4267-8d2c-0e9f46244832",
   "metadata": {},
   "outputs": [
    {
     "data": {
      "text/html": [
       "<div>\n",
       "<style scoped>\n",
       "    .dataframe tbody tr th:only-of-type {\n",
       "        vertical-align: middle;\n",
       "    }\n",
       "\n",
       "    .dataframe tbody tr th {\n",
       "        vertical-align: top;\n",
       "    }\n",
       "\n",
       "    .dataframe thead th {\n",
       "        text-align: right;\n",
       "    }\n",
       "</style>\n",
       "<table border=\"1\" class=\"dataframe\">\n",
       "  <thead>\n",
       "    <tr style=\"text-align: right;\">\n",
       "      <th></th>\n",
       "      <th>Bwt</th>\n",
       "      <th>Hwt</th>\n",
       "    </tr>\n",
       "  </thead>\n",
       "  <tbody>\n",
       "    <tr>\n",
       "      <th>Bwt</th>\n",
       "      <td>1.000000</td>\n",
       "      <td>0.795237</td>\n",
       "    </tr>\n",
       "    <tr>\n",
       "      <th>Hwt</th>\n",
       "      <td>0.795237</td>\n",
       "      <td>1.000000</td>\n",
       "    </tr>\n",
       "  </tbody>\n",
       "</table>\n",
       "</div>"
      ],
      "text/plain": [
       "          Bwt       Hwt\n",
       "Bwt  1.000000  0.795237\n",
       "Hwt  0.795237  1.000000"
      ]
     },
     "execution_count": 99,
     "metadata": {},
     "output_type": "execute_result"
    }
   ],
   "source": [
    "# View the correlation bewteen body weight and heart weight for all cats\n",
    "sim_cats_final[['Bwt', 'Hwt']].corr()"
   ]
  },
  {
   "cell_type": "code",
   "execution_count": 100,
   "id": "40ab36fe-1c42-4baa-a395-a84ffbd6a388",
   "metadata": {},
   "outputs": [],
   "source": [
    "# Get female cats from the dataframe\n",
    "sim_f_final = sim_cats_final[sim_cats_final['Sex']=='F']"
   ]
  },
  {
   "cell_type": "code",
   "execution_count": 101,
   "id": "3e61ea7f-6c4b-40fc-ab67-7b3f3a404404",
   "metadata": {},
   "outputs": [
    {
     "data": {
      "text/html": [
       "<div>\n",
       "<style scoped>\n",
       "    .dataframe tbody tr th:only-of-type {\n",
       "        vertical-align: middle;\n",
       "    }\n",
       "\n",
       "    .dataframe tbody tr th {\n",
       "        vertical-align: top;\n",
       "    }\n",
       "\n",
       "    .dataframe thead th {\n",
       "        text-align: right;\n",
       "    }\n",
       "</style>\n",
       "<table border=\"1\" class=\"dataframe\">\n",
       "  <thead>\n",
       "    <tr style=\"text-align: right;\">\n",
       "      <th></th>\n",
       "      <th>Bwt</th>\n",
       "      <th>Hwt</th>\n",
       "    </tr>\n",
       "  </thead>\n",
       "  <tbody>\n",
       "    <tr>\n",
       "      <th>Bwt</th>\n",
       "      <td>1.000000</td>\n",
       "      <td>0.371696</td>\n",
       "    </tr>\n",
       "    <tr>\n",
       "      <th>Hwt</th>\n",
       "      <td>0.371696</td>\n",
       "      <td>1.000000</td>\n",
       "    </tr>\n",
       "  </tbody>\n",
       "</table>\n",
       "</div>"
      ],
      "text/plain": [
       "          Bwt       Hwt\n",
       "Bwt  1.000000  0.371696\n",
       "Hwt  0.371696  1.000000"
      ]
     },
     "execution_count": 101,
     "metadata": {},
     "output_type": "execute_result"
    }
   ],
   "source": [
    "# View the correlation bewteen body weight and heart weight for female cats\n",
    "sim_f_final[['Bwt', 'Hwt']].corr()"
   ]
  },
  {
   "cell_type": "code",
   "execution_count": 102,
   "id": "4a8ce621-83fc-47c5-952c-1b0c4b05e907",
   "metadata": {},
   "outputs": [],
   "source": [
    "# Get male cats from the dataframe\n",
    "sim_m_final = sim_cats_final[sim_cats_final['Sex']=='M']"
   ]
  },
  {
   "cell_type": "code",
   "execution_count": 103,
   "id": "7eef3d74-f481-47d7-a12a-c3ca86631d9f",
   "metadata": {},
   "outputs": [
    {
     "data": {
      "text/html": [
       "<div>\n",
       "<style scoped>\n",
       "    .dataframe tbody tr th:only-of-type {\n",
       "        vertical-align: middle;\n",
       "    }\n",
       "\n",
       "    .dataframe tbody tr th {\n",
       "        vertical-align: top;\n",
       "    }\n",
       "\n",
       "    .dataframe thead th {\n",
       "        text-align: right;\n",
       "    }\n",
       "</style>\n",
       "<table border=\"1\" class=\"dataframe\">\n",
       "  <thead>\n",
       "    <tr style=\"text-align: right;\">\n",
       "      <th></th>\n",
       "      <th>Bwt</th>\n",
       "      <th>Hwt</th>\n",
       "    </tr>\n",
       "  </thead>\n",
       "  <tbody>\n",
       "    <tr>\n",
       "      <th>Bwt</th>\n",
       "      <td>1.000000</td>\n",
       "      <td>0.784121</td>\n",
       "    </tr>\n",
       "    <tr>\n",
       "      <th>Hwt</th>\n",
       "      <td>0.784121</td>\n",
       "      <td>1.000000</td>\n",
       "    </tr>\n",
       "  </tbody>\n",
       "</table>\n",
       "</div>"
      ],
      "text/plain": [
       "          Bwt       Hwt\n",
       "Bwt  1.000000  0.784121\n",
       "Hwt  0.784121  1.000000"
      ]
     },
     "execution_count": 103,
     "metadata": {},
     "output_type": "execute_result"
    }
   ],
   "source": [
    "# View the correlation bewteen body weight and heart weight for male cats\n",
    "sim_m_final[['Bwt', 'Hwt']].corr()"
   ]
  },
  {
   "cell_type": "code",
   "execution_count": 104,
   "id": "0de80629-9194-4566-8edc-fc207f9d5e6e",
   "metadata": {},
   "outputs": [
    {
     "data": {
      "image/png": "[encoded data removed]",
      "text/plain": [
       "<Figure size 432x288 with 1 Axes>"
      ]
     },
     "metadata": {
      "needs_background": "light"
     },
     "output_type": "display_data"
    }
   ],
   "source": [
    "# Plotting the final simulated df by bodyweight\n",
    "sns.histplot(data = sim_cats_final, x = 'Bwt', hue = 'Sex', multiple=\"dodge\", kde=True)\n",
    "# Save plot\n",
    "path = 'cats-dataset/cats-random-data/cats_random_plots/sim_cats_final_hist_bwt'  + current_time + '.png'\n",
    "plt.savefig(path)"
   ]
  },
  {
   "cell_type": "code",
   "execution_count": 105,
   "id": "3607a9e8-e02b-40a5-ae4d-ae44a68a497b",
   "metadata": {},
   "outputs": [
    {
     "data": {
      "image/png": "[encoded data removed]",
      "text/plain": [
       "<Figure size 432x288 with 1 Axes>"
      ]
     },
     "metadata": {
      "needs_background": "light"
     },
     "output_type": "display_data"
    }
   ],
   "source": [
    "# Plotting the final simulated df by heartweight\n",
    "sns.histplot(data = sim_cats_final, x = 'Hwt', hue = 'Sex', multiple=\"dodge\", kde=True)\n",
    "# Save plot\n",
    "path = 'cats-dataset/cats-random-data/cats_random_plots/sim_cats_final_hist_hwt'  + current_time + '.png'\n",
    "plt.savefig(path)"
   ]
  },
  {
   "cell_type": "code",
   "execution_count": 106,
   "id": "d9e68ed6-0f48-4d84-be59-4ade429ee5bc",
   "metadata": {},
   "outputs": [],
   "source": [
    "# A path to save the dataframe, using dt to create unique file names\n",
    "path = 'cats-dataset/cats-random-data/cats_random_datasets/cats_random_final_'  + current_time + '.csv'\n",
    "\n",
    "# Save pandas data frame to disk.\n",
    "sim_cats_final.to_csv(path)"
   ]
  },
  {
   "cell_type": "code",
   "execution_count": null,
   "id": "3f1ca6e0-8768-4ef5-8059-de803179a7cf",
   "metadata": {},
   "outputs": [],
   "source": []
  },
  {
   "cell_type": "code",
   "execution_count": null,
   "id": "60d05b6e-0cdc-4f2f-8b21-4c56a6c35cc5",
   "metadata": {},
   "outputs": [],
   "source": []
  },
  {
   "cell_type": "code",
   "execution_count": null,
   "id": "281ea9da-cbba-4611-bf72-19a9f2f12ab5",
   "metadata": {},
   "outputs": [],
   "source": []
  },
  {
   "cell_type": "code",
   "execution_count": null,
   "id": "5fe5fdb5-aefa-4024-97c1-e9d034193290",
   "metadata": {},
   "outputs": [],
   "source": []
  },
  {
   "cell_type": "code",
   "execution_count": null,
   "id": "ec8cf1f6-638e-483d-8e66-a1cdde3e964a",
   "metadata": {},
   "outputs": [],
   "source": []
  },
  {
   "cell_type": "code",
   "execution_count": null,
   "id": "b2a4b551-3c61-49f4-a8f3-2a7b65af2054",
   "metadata": {},
   "outputs": [],
   "source": []
  },
  {
   "cell_type": "code",
   "execution_count": null,
   "id": "f6cba559-6c8d-4c76-af2e-1fd37f2c2197",
   "metadata": {},
   "outputs": [],
   "source": []
  },
  {
   "cell_type": "code",
   "execution_count": null,
   "id": "50aa58bd-1f2f-4bf6-a18b-990a29a987a1",
   "metadata": {},
   "outputs": [],
   "source": []
  },
  {
   "cell_type": "code",
   "execution_count": null,
   "id": "b56c115e-84e9-449a-98d4-7f0af17cac94",
   "metadata": {},
   "outputs": [],
   "source": []
  },
  {
   "cell_type": "code",
   "execution_count": null,
   "id": "197bb9ec-7c33-492c-94a1-e61dc8e799b0",
   "metadata": {},
   "outputs": [],
   "source": []
  },
  {
   "cell_type": "code",
   "execution_count": null,
   "id": "e1175355-2905-42d3-ad72-5cf38db2e4a1",
   "metadata": {},
   "outputs": [],
   "source": []
  },
  {
   "cell_type": "code",
   "execution_count": null,
   "id": "6e50b5d5-382a-4d9a-ab5c-4e53dbd9aaca",
   "metadata": {},
   "outputs": [],
   "source": []
  },
  {
   "cell_type": "code",
   "execution_count": null,
   "id": "4df384cb-711b-4c6d-8ba2-326cd2f57315",
   "metadata": {},
   "outputs": [],
   "source": []
  },
  {
   "cell_type": "code",
   "execution_count": null,
   "id": "097f7a3a-e8b0-42c0-aa72-d251ca200421",
   "metadata": {},
   "outputs": [],
   "source": []
  },
  {
   "cell_type": "code",
   "execution_count": null,
   "id": "50e5bf66-0711-4af5-9996-4e1dccd10b92",
   "metadata": {},
   "outputs": [],
   "source": []
  },
  {
   "cell_type": "code",
   "execution_count": null,
   "id": "775d4533-afd1-4ef0-a6fc-b2633bd56474",
   "metadata": {},
   "outputs": [],
   "source": []
  },
  {
   "cell_type": "code",
   "execution_count": null,
   "id": "6b5c6502-a2f0-4fa2-adb6-751c5be0e233",
   "metadata": {},
   "outputs": [],
   "source": []
  },
  {
   "cell_type": "code",
   "execution_count": null,
   "id": "9789a9fd-3da4-435a-ab16-2795b8a891be",
   "metadata": {},
   "outputs": [],
   "source": []
  },
  {
   "cell_type": "code",
   "execution_count": null,
   "id": "e486821f-0c22-4eef-ae7a-3df8905b202a",
   "metadata": {},
   "outputs": [],
   "source": []
  },
  {
   "cell_type": "code",
   "execution_count": null,
   "id": "b148913b-fb27-4827-ab89-b2cdbb25605c",
   "metadata": {},
   "outputs": [],
   "source": []
  },
  {
   "cell_type": "code",
   "execution_count": null,
   "id": "32af8ec2-fcee-4f99-a2f3-0f28c97a61db",
   "metadata": {},
   "outputs": [],
   "source": []
  },
  {
   "cell_type": "code",
   "execution_count": null,
   "id": "84ccfa13-a80e-45de-8259-16bf8e33993a",
   "metadata": {},
   "outputs": [],
   "source": []
  },
  {
   "cell_type": "code",
   "execution_count": null,
   "id": "c7cdb114-7dc2-4248-acdf-cb0057c4a528",
   "metadata": {},
   "outputs": [],
   "source": []
  },
  {
   "cell_type": "code",
   "execution_count": null,
   "id": "76baf782-6963-439f-9426-ae99774aa847",
   "metadata": {},
   "outputs": [],
   "source": []
  },
  {
   "cell_type": "code",
   "execution_count": null,
   "id": "ba00960e-c0a2-4959-96b3-aeee04856df9",
   "metadata": {},
   "outputs": [],
   "source": []
  },
  {
   "cell_type": "code",
   "execution_count": null,
   "id": "0e04b6c2-904b-40dd-916a-e9197e2044fd",
   "metadata": {},
   "outputs": [],
   "source": []
  }
 ],
 "metadata": {
  "kernelspec": {
   "display_name": "Python 3",
   "language": "python",
   "name": "python3"
  },
  "language_info": {
   "codemirror_mode": {
    "name": "ipython",
    "version": 3
   },
   "file_extension": ".py",
   "mimetype": "text/x-python",
   "name": "python",
   "nbconvert_exporter": "python",
   "pygments_lexer": "ipython3",
   "version": "3.8.8"
  }
 },
 "nbformat": 4,
 "nbformat_minor": 5
}
