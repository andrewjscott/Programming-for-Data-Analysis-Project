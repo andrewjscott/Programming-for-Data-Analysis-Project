{
 "cells": [
  {
   "cell_type": "markdown",
   "id": "bbd3c1b4-99a0-429a-b948-ca3058890676",
   "metadata": {},
   "source": [
    "Author: Andrew Scott"
   ]
  },
  {
   "cell_type": "code",
   "execution_count": null,
   "id": "8fa1c9a3-666b-4622-853b-27d423f98852",
   "metadata": {},
   "outputs": [],
   "source": []
  },
  {
   "cell_type": "code",
   "execution_count": 1,
   "id": "0c50677a-778d-4943-b5e1-3bc61f78577b",
   "metadata": {},
   "outputs": [],
   "source": [
    "# Package for numerical calculations and arrays\n",
    "import numpy as np\n",
    "\n",
    "# Accessing datasets\n",
    "import statsmodels.api as sm\n",
    "\n",
    "# For dataframes\n",
    "import pandas as pd\n",
    "\n",
    "# Generating plots\n",
    "import matplotlib.pyplot as plt\n",
    "\n",
    "# Generating plots \n",
    "import seaborn as sns\n",
    "\n",
    "# For accessing dates and times\n",
    "import datetime as dt\n",
    "\n",
    "# A magic command for helping display matplotlib plots in notebooks\n",
    "%matplotlib inline"
   ]
  },
  {
   "cell_type": "markdown",
   "id": "5570edc8-50fb-4bb9-977a-31720efa377c",
   "metadata": {},
   "source": [
    "The plan is to use a real-world dataset to serve as a model for the simulated dataset. I have decided to simulate the following dataset that was originally published by Ronald Fisher that consists of cats and their gender, weight, and heart weight[x]. The dataset is part of the MASS package for the programming language R. However, these datasets can be accessed in python using the statsmodel package. https://kolesnikov.ga/Datasets_in_Python/"
   ]
  },
  {
   "cell_type": "code",
   "execution_count": 2,
   "id": "114b8392-7a4e-4dfd-927a-1af4f6b390d8",
   "metadata": {},
   "outputs": [],
   "source": [
    "# Load the cats dataset \n",
    "cats = sm.datasets.get_rdataset(dataname='cats', package='MASS')"
   ]
  },
  {
   "cell_type": "code",
   "execution_count": 3,
   "id": "3a234df6-8d7a-42ed-8cae-2e92db0082bf",
   "metadata": {},
   "outputs": [
    {
     "name": "stdout",
     "output_type": "stream",
     "text": [
      ".. container::\n",
      "\n",
      "   ==== ===============\n",
      "   cats R Documentation\n",
      "   ==== ===============\n",
      "\n",
      "   .. rubric:: Anatomical Data from Domestic Cats\n",
      "      :name: anatomical-data-from-domestic-cats\n",
      "\n",
      "   .. rubric:: Description\n",
      "      :name: description\n",
      "\n",
      "   The heart and body weights of samples of male and female cats used\n",
      "   for *digitalis* experiments. The cats were all adult, over 2 kg body\n",
      "   weight.\n",
      "\n",
      "   .. rubric:: Usage\n",
      "      :name: usage\n",
      "\n",
      "   ::\n",
      "\n",
      "      cats\n",
      "\n",
      "   .. rubric:: Format\n",
      "      :name: format\n",
      "\n",
      "   This data frame contains the following columns:\n",
      "\n",
      "   ``Sex``\n",
      "      sex: Factor with levels ``\"F\"`` and ``\"M\"``.\n",
      "\n",
      "   ``Bwt``\n",
      "      body weight in kg.\n",
      "\n",
      "   ``Hwt``\n",
      "      heart weight in g.\n",
      "\n",
      "   .. rubric:: Source\n",
      "      :name: source\n",
      "\n",
      "   R. A. Fisher (1947) The analysis of covariance method for the\n",
      "   relation between a part and the whole, *Biometrics* **3**, 65–68.\n",
      "\n",
      "   .. rubric:: References\n",
      "      :name: references\n",
      "\n",
      "   Venables, W. N. and Ripley, B. D. (2002) *Modern Applied Statistics\n",
      "   with S.* Fourth edition. Springer.\n",
      "\n"
     ]
    }
   ],
   "source": [
    "# Prnt some information about the dataset \n",
    "print(cats.__doc__)"
   ]
  },
  {
   "cell_type": "code",
   "execution_count": 4,
   "id": "938967ab-9154-430d-929d-cfd207d91552",
   "metadata": {},
   "outputs": [],
   "source": [
    "# Load the cats dataset to a pandas dataframe\n",
    "df_cats = cats.data"
   ]
  },
  {
   "cell_type": "code",
   "execution_count": 5,
   "id": "9b0f5f58-72a6-4f20-a33d-2b7bf0a04d26",
   "metadata": {},
   "outputs": [
    {
     "data": {
      "text/html": [
       "<div>\n",
       "<style scoped>\n",
       "    .dataframe tbody tr th:only-of-type {\n",
       "        vertical-align: middle;\n",
       "    }\n",
       "\n",
       "    .dataframe tbody tr th {\n",
       "        vertical-align: top;\n",
       "    }\n",
       "\n",
       "    .dataframe thead th {\n",
       "        text-align: right;\n",
       "    }\n",
       "</style>\n",
       "<table border=\"1\" class=\"dataframe\">\n",
       "  <thead>\n",
       "    <tr style=\"text-align: right;\">\n",
       "      <th></th>\n",
       "      <th>Sex</th>\n",
       "      <th>Bwt</th>\n",
       "      <th>Hwt</th>\n",
       "    </tr>\n",
       "  </thead>\n",
       "  <tbody>\n",
       "    <tr>\n",
       "      <th>0</th>\n",
       "      <td>F</td>\n",
       "      <td>2.0</td>\n",
       "      <td>7.0</td>\n",
       "    </tr>\n",
       "    <tr>\n",
       "      <th>1</th>\n",
       "      <td>F</td>\n",
       "      <td>2.0</td>\n",
       "      <td>7.4</td>\n",
       "    </tr>\n",
       "    <tr>\n",
       "      <th>2</th>\n",
       "      <td>F</td>\n",
       "      <td>2.0</td>\n",
       "      <td>9.5</td>\n",
       "    </tr>\n",
       "    <tr>\n",
       "      <th>3</th>\n",
       "      <td>F</td>\n",
       "      <td>2.1</td>\n",
       "      <td>7.2</td>\n",
       "    </tr>\n",
       "    <tr>\n",
       "      <th>4</th>\n",
       "      <td>F</td>\n",
       "      <td>2.1</td>\n",
       "      <td>7.3</td>\n",
       "    </tr>\n",
       "  </tbody>\n",
       "</table>\n",
       "</div>"
      ],
      "text/plain": [
       "  Sex  Bwt  Hwt\n",
       "0   F  2.0  7.0\n",
       "1   F  2.0  7.4\n",
       "2   F  2.0  9.5\n",
       "3   F  2.1  7.2\n",
       "4   F  2.1  7.3"
      ]
     },
     "execution_count": 5,
     "metadata": {},
     "output_type": "execute_result"
    }
   ],
   "source": [
    "# View the first few rows of the dataframe\n",
    "df_cats.head()"
   ]
  },
  {
   "cell_type": "code",
   "execution_count": 6,
   "id": "4d270986-79bb-459a-8d56-158629905e6d",
   "metadata": {},
   "outputs": [
    {
     "data": {
      "text/plain": [
       "(144, 3)"
      ]
     },
     "execution_count": 6,
     "metadata": {},
     "output_type": "execute_result"
    }
   ],
   "source": [
    "# View the shape of the dataframe\n",
    "df_cats.shape"
   ]
  },
  {
   "cell_type": "code",
   "execution_count": 7,
   "id": "cc8864a2-27aa-4b7e-95a7-2be5aefbd5c7",
   "metadata": {},
   "outputs": [
    {
     "data": {
      "text/html": [
       "<div>\n",
       "<style scoped>\n",
       "    .dataframe tbody tr th:only-of-type {\n",
       "        vertical-align: middle;\n",
       "    }\n",
       "\n",
       "    .dataframe tbody tr th {\n",
       "        vertical-align: top;\n",
       "    }\n",
       "\n",
       "    .dataframe thead th {\n",
       "        text-align: right;\n",
       "    }\n",
       "</style>\n",
       "<table border=\"1\" class=\"dataframe\">\n",
       "  <thead>\n",
       "    <tr style=\"text-align: right;\">\n",
       "      <th></th>\n",
       "      <th>Bwt</th>\n",
       "      <th>Hwt</th>\n",
       "    </tr>\n",
       "  </thead>\n",
       "  <tbody>\n",
       "    <tr>\n",
       "      <th>count</th>\n",
       "      <td>144.000000</td>\n",
       "      <td>144.000000</td>\n",
       "    </tr>\n",
       "    <tr>\n",
       "      <th>mean</th>\n",
       "      <td>2.723611</td>\n",
       "      <td>10.630556</td>\n",
       "    </tr>\n",
       "    <tr>\n",
       "      <th>std</th>\n",
       "      <td>0.485307</td>\n",
       "      <td>2.434636</td>\n",
       "    </tr>\n",
       "    <tr>\n",
       "      <th>min</th>\n",
       "      <td>2.000000</td>\n",
       "      <td>6.300000</td>\n",
       "    </tr>\n",
       "    <tr>\n",
       "      <th>25%</th>\n",
       "      <td>2.300000</td>\n",
       "      <td>8.950000</td>\n",
       "    </tr>\n",
       "    <tr>\n",
       "      <th>50%</th>\n",
       "      <td>2.700000</td>\n",
       "      <td>10.100000</td>\n",
       "    </tr>\n",
       "    <tr>\n",
       "      <th>75%</th>\n",
       "      <td>3.025000</td>\n",
       "      <td>12.125000</td>\n",
       "    </tr>\n",
       "    <tr>\n",
       "      <th>max</th>\n",
       "      <td>3.900000</td>\n",
       "      <td>20.500000</td>\n",
       "    </tr>\n",
       "  </tbody>\n",
       "</table>\n",
       "</div>"
      ],
      "text/plain": [
       "              Bwt         Hwt\n",
       "count  144.000000  144.000000\n",
       "mean     2.723611   10.630556\n",
       "std      0.485307    2.434636\n",
       "min      2.000000    6.300000\n",
       "25%      2.300000    8.950000\n",
       "50%      2.700000   10.100000\n",
       "75%      3.025000   12.125000\n",
       "max      3.900000   20.500000"
      ]
     },
     "execution_count": 7,
     "metadata": {},
     "output_type": "execute_result"
    }
   ],
   "source": [
    "# View summary statistics of dataframe\n",
    "df_cats.describe()"
   ]
  },
  {
   "cell_type": "code",
   "execution_count": 8,
   "id": "cd443ff3-2575-46ce-8074-f52afdd5eafc",
   "metadata": {},
   "outputs": [
    {
     "data": {
      "text/plain": [
       "M    97\n",
       "F    47\n",
       "Name: Sex, dtype: int64"
      ]
     },
     "execution_count": 8,
     "metadata": {},
     "output_type": "execute_result"
    }
   ],
   "source": [
    "# Show the amount of male and female cats in the dataset\n",
    "df_cats['Sex'].value_counts()"
   ]
  },
  {
   "cell_type": "code",
   "execution_count": 9,
   "id": "ed4e466d-2a00-425f-9a46-d773625804f9",
   "metadata": {},
   "outputs": [],
   "source": [
    "# Save the original dataset\n",
    "# Access the current date and time.\n",
    "now = dt.datetime.now()\n",
    "\n",
    "# Formatting the current date and time as a string and saving to a variable.\n",
    "current_time = now.strftime('%Y%m%d_%H%M%S')\n",
    "\n",
    "# A path to save the dataframe, using dt to create unique file names\n",
    "path = 'cats-dataset/cats_original_'  + current_time + '.csv'\n",
    "\n",
    "# Save pandas data frame to disk.\n",
    "df_cats.to_csv(path)"
   ]
  },
  {
   "cell_type": "code",
   "execution_count": null,
   "id": "1abb306b-8d6e-4fad-b2f6-2ee98437ac65",
   "metadata": {},
   "outputs": [],
   "source": []
  },
  {
   "cell_type": "markdown",
   "id": "a9a1eabc-cab0-404c-9b8c-abeba75c5720",
   "metadata": {},
   "source": [
    "As the sex of the cat may impact the other variables, it would be a good idea to also look at the summary statistics for each sex. The idea to use both groupby and describe in the same line of code came from https://stackoverflow.com/questions/42579148/get-columns-describe-from-group-by."
   ]
  },
  {
   "cell_type": "code",
   "execution_count": null,
   "id": "4cb0b883-609a-4347-92a7-cc3fcfd78c47",
   "metadata": {},
   "outputs": [],
   "source": []
  },
  {
   "cell_type": "code",
   "execution_count": 26,
   "id": "47f7f2dc-2811-442e-9127-8bdf5d792e9c",
   "metadata": {},
   "outputs": [
    {
     "data": {
      "text/html": [
       "<div>\n",
       "<style scoped>\n",
       "    .dataframe tbody tr th:only-of-type {\n",
       "        vertical-align: middle;\n",
       "    }\n",
       "\n",
       "    .dataframe tbody tr th {\n",
       "        vertical-align: top;\n",
       "    }\n",
       "\n",
       "    .dataframe thead tr th {\n",
       "        text-align: left;\n",
       "    }\n",
       "\n",
       "    .dataframe thead tr:last-of-type th {\n",
       "        text-align: right;\n",
       "    }\n",
       "</style>\n",
       "<table border=\"1\" class=\"dataframe\">\n",
       "  <thead>\n",
       "    <tr>\n",
       "      <th></th>\n",
       "      <th colspan=\"8\" halign=\"left\">Bwt</th>\n",
       "      <th colspan=\"8\" halign=\"left\">Hwt</th>\n",
       "    </tr>\n",
       "    <tr>\n",
       "      <th></th>\n",
       "      <th>count</th>\n",
       "      <th>mean</th>\n",
       "      <th>std</th>\n",
       "      <th>min</th>\n",
       "      <th>25%</th>\n",
       "      <th>50%</th>\n",
       "      <th>75%</th>\n",
       "      <th>max</th>\n",
       "      <th>count</th>\n",
       "      <th>mean</th>\n",
       "      <th>std</th>\n",
       "      <th>min</th>\n",
       "      <th>25%</th>\n",
       "      <th>50%</th>\n",
       "      <th>75%</th>\n",
       "      <th>max</th>\n",
       "    </tr>\n",
       "    <tr>\n",
       "      <th>Sex</th>\n",
       "      <th></th>\n",
       "      <th></th>\n",
       "      <th></th>\n",
       "      <th></th>\n",
       "      <th></th>\n",
       "      <th></th>\n",
       "      <th></th>\n",
       "      <th></th>\n",
       "      <th></th>\n",
       "      <th></th>\n",
       "      <th></th>\n",
       "      <th></th>\n",
       "      <th></th>\n",
       "      <th></th>\n",
       "      <th></th>\n",
       "      <th></th>\n",
       "    </tr>\n",
       "  </thead>\n",
       "  <tbody>\n",
       "    <tr>\n",
       "      <th>F</th>\n",
       "      <td>47.0</td>\n",
       "      <td>2.359574</td>\n",
       "      <td>0.273988</td>\n",
       "      <td>2.0</td>\n",
       "      <td>2.15</td>\n",
       "      <td>2.3</td>\n",
       "      <td>2.5</td>\n",
       "      <td>3.0</td>\n",
       "      <td>47.0</td>\n",
       "      <td>9.202128</td>\n",
       "      <td>1.357666</td>\n",
       "      <td>6.3</td>\n",
       "      <td>8.35</td>\n",
       "      <td>9.1</td>\n",
       "      <td>10.1</td>\n",
       "      <td>13.0</td>\n",
       "    </tr>\n",
       "    <tr>\n",
       "      <th>M</th>\n",
       "      <td>97.0</td>\n",
       "      <td>2.900000</td>\n",
       "      <td>0.467484</td>\n",
       "      <td>2.0</td>\n",
       "      <td>2.50</td>\n",
       "      <td>2.9</td>\n",
       "      <td>3.2</td>\n",
       "      <td>3.9</td>\n",
       "      <td>97.0</td>\n",
       "      <td>11.322680</td>\n",
       "      <td>2.542288</td>\n",
       "      <td>6.5</td>\n",
       "      <td>9.40</td>\n",
       "      <td>11.4</td>\n",
       "      <td>12.8</td>\n",
       "      <td>20.5</td>\n",
       "    </tr>\n",
       "  </tbody>\n",
       "</table>\n",
       "</div>"
      ],
      "text/plain": [
       "      Bwt                                                 Hwt             \\\n",
       "    count      mean       std  min   25%  50%  75%  max count       mean   \n",
       "Sex                                                                        \n",
       "F    47.0  2.359574  0.273988  2.0  2.15  2.3  2.5  3.0  47.0   9.202128   \n",
       "M    97.0  2.900000  0.467484  2.0  2.50  2.9  3.2  3.9  97.0  11.322680   \n",
       "\n",
       "                                            \n",
       "          std  min   25%   50%   75%   max  \n",
       "Sex                                         \n",
       "F    1.357666  6.3  8.35   9.1  10.1  13.0  \n",
       "M    2.542288  6.5  9.40  11.4  12.8  20.5  "
      ]
     },
     "execution_count": 26,
     "metadata": {},
     "output_type": "execute_result"
    }
   ],
   "source": [
    "# View summary statistics for each sex\n",
    "df_cats.groupby(['Sex']).describe()"
   ]
  },
  {
   "cell_type": "markdown",
   "id": "80b5c848-f110-451f-8a0d-ab3e1769a224",
   "metadata": {},
   "source": [
    "The standard deviations of the male values for body weight and heart weight are much higher than for females, suggesting there is typically a greater variation in male sizes, whereas females tend to be more similar in body and heart weights to one another. "
   ]
  },
  {
   "cell_type": "code",
   "execution_count": null,
   "id": "e7f862af-dd75-4137-a9f2-f73196e636dc",
   "metadata": {},
   "outputs": [],
   "source": []
  },
  {
   "cell_type": "code",
   "execution_count": null,
   "id": "8903f816-58b4-438b-aec8-5ff10d8d81ad",
   "metadata": {},
   "outputs": [],
   "source": []
  },
  {
   "cell_type": "markdown",
   "id": "412deaaf-f370-4a09-b085-8cdc830ac8fc",
   "metadata": {},
   "source": [
    "The above summaries gives an overview as to the dimensions and datatypes involved. There are three variable types - a binary male/female column, and two numerical columns containing body weights and heart weights. We will have to invent a fourth column when simulating this dataset to meet the criteria of simulated dataset having at least four variables. First it will be helpful to plot the dataset to visualise the distributions of each variable. "
   ]
  },
  {
   "cell_type": "code",
   "execution_count": null,
   "id": "c8216240-34be-4fbf-9b68-a50df3a0bd2c",
   "metadata": {},
   "outputs": [],
   "source": []
  },
  {
   "cell_type": "code",
   "execution_count": 11,
   "id": "7a898c34-2449-4b8a-91f2-6323b19d70c7",
   "metadata": {},
   "outputs": [
    {
     "data": {
      "text/plain": [
       "<AxesSubplot:xlabel='Bwt', ylabel='Count'>"
      ]
     },
     "execution_count": 11,
     "metadata": {},
     "output_type": "execute_result"
    },
    {
     "data": {
      "image/png": "[encoded data removed]",
      "text/plain": [
       "<Figure size 432x288 with 1 Axes>"
      ]
     },
     "metadata": {
      "needs_background": "light"
     },
     "output_type": "display_data"
    }
   ],
   "source": [
    "# Plotting the body weight\n",
    "sns.histplot(data = df_cats, x = 'Bwt')"
   ]
  },
  {
   "cell_type": "code",
   "execution_count": 12,
   "id": "3b53e3a2-3b83-445f-a99b-b60ac35d626d",
   "metadata": {},
   "outputs": [
    {
     "data": {
      "text/plain": [
       "<AxesSubplot:xlabel='Bwt', ylabel='Count'>"
      ]
     },
     "execution_count": 12,
     "metadata": {},
     "output_type": "execute_result"
    },
    {
     "data": {
      "image/png": "[encoded data removed]",
      "text/plain": [
       "<Figure size 432x288 with 1 Axes>"
      ]
     },
     "metadata": {
      "needs_background": "light"
     },
     "output_type": "display_data"
    }
   ],
   "source": [
    "# Plotting the bodyweight by sex\n",
    "sns.histplot(data = df_cats, x = 'Bwt', hue = 'Sex', multiple=\"dodge\", kde=True)"
   ]
  },
  {
   "cell_type": "markdown",
   "id": "89760c52-c275-408e-b06d-ba8ca2076ede",
   "metadata": {},
   "source": []
  },
  {
   "cell_type": "code",
   "execution_count": 13,
   "id": "446a3eed-e452-493c-b98f-c92f52d6dc92",
   "metadata": {},
   "outputs": [
    {
     "data": {
      "text/plain": [
       "<AxesSubplot:xlabel='Hwt', ylabel='Count'>"
      ]
     },
     "execution_count": 13,
     "metadata": {},
     "output_type": "execute_result"
    },
    {
     "data": {
      "image/png": "[encoded data removed]",
      "text/plain": [
       "<Figure size 432x288 with 1 Axes>"
      ]
     },
     "metadata": {
      "needs_background": "light"
     },
     "output_type": "display_data"
    }
   ],
   "source": [
    "# Plotting the heart weight\n",
    "sns.histplot(data = df_cats, x = 'Hwt')"
   ]
  },
  {
   "cell_type": "code",
   "execution_count": 14,
   "id": "b60b63a5-a96a-48e5-9f7a-4ab42df13997",
   "metadata": {},
   "outputs": [
    {
     "data": {
      "text/plain": [
       "<AxesSubplot:xlabel='Hwt', ylabel='Count'>"
      ]
     },
     "execution_count": 14,
     "metadata": {},
     "output_type": "execute_result"
    },
    {
     "data": {
      "image/png": "[encoded data removed]",
      "text/plain": [
       "<Figure size 432x288 with 1 Axes>"
      ]
     },
     "metadata": {
      "needs_background": "light"
     },
     "output_type": "display_data"
    }
   ],
   "source": [
    "# Plotting the heart weight by sex\n",
    "sns.histplot(data = df_cats, x = 'Hwt', hue = 'Sex', multiple=\"dodge\", kde=True)"
   ]
  },
  {
   "cell_type": "markdown",
   "id": "9f463b42-c07b-4a9f-8a99-5db1ceb47142",
   "metadata": {},
   "source": [
    "Both the summary statistics and the plots suggest that sex has an influence over the distribution of the variables. Therefore, it might be a good idea to create two new dataframes containing the data for each sex. These can then be tested to see which distribution best fits the weights for each sex. "
   ]
  },
  {
   "cell_type": "code",
   "execution_count": 15,
   "id": "71b730c9-a7b7-44cb-94fd-28a67941f573",
   "metadata": {},
   "outputs": [],
   "source": [
    "# https://stackoverflow.com/questions/17071871/how-do-i-select-rows-from-a-dataframe-based-on-column-values\n",
    "# New df for each sex\n",
    "df_cats_female = df_cats.loc[df_cats['Sex'] == 'F']\n",
    "df_cats_male = df_cats.loc[df_cats['Sex'] == 'M']"
   ]
  },
  {
   "cell_type": "code",
   "execution_count": null,
   "id": "9feee7ee-03a0-4d4a-ac1b-60fb07ec65d4",
   "metadata": {},
   "outputs": [],
   "source": []
  },
  {
   "cell_type": "code",
   "execution_count": null,
   "id": "2c47263b-b217-42e1-93e5-f7d896a9f6f1",
   "metadata": {},
   "outputs": [],
   "source": []
  },
  {
   "cell_type": "code",
   "execution_count": null,
   "id": "e808ce23-ebac-49eb-973d-341cf22f51fe",
   "metadata": {},
   "outputs": [],
   "source": []
  },
  {
   "cell_type": "code",
   "execution_count": null,
   "id": "ff3c5a5a-8224-45f9-a563-4cfb99d9597e",
   "metadata": {},
   "outputs": [],
   "source": []
  },
  {
   "cell_type": "code",
   "execution_count": null,
   "id": "cd74542a-5e49-4d84-97ca-6484c5c8539f",
   "metadata": {},
   "outputs": [],
   "source": []
  },
  {
   "cell_type": "code",
   "execution_count": null,
   "id": "84567965-f916-4906-b137-fa7aedededb7",
   "metadata": {},
   "outputs": [],
   "source": []
  },
  {
   "cell_type": "code",
   "execution_count": null,
   "id": "284f5f74-4fd3-4963-9337-dbcdba925b01",
   "metadata": {},
   "outputs": [],
   "source": []
  },
  {
   "cell_type": "code",
   "execution_count": null,
   "id": "fe2fda9a-fcc8-413d-980d-22ecc315713f",
   "metadata": {},
   "outputs": [],
   "source": []
  },
  {
   "cell_type": "code",
   "execution_count": null,
   "id": "ae30a5b4-2e64-4c3a-984f-66047b8b0637",
   "metadata": {},
   "outputs": [],
   "source": []
  },
  {
   "cell_type": "code",
   "execution_count": null,
   "id": "064a56ed-fd8b-4436-baec-22de9446b316",
   "metadata": {},
   "outputs": [],
   "source": []
  },
  {
   "cell_type": "code",
   "execution_count": null,
   "id": "52cb017b-0e3b-4e98-b15f-b2432e3b8996",
   "metadata": {},
   "outputs": [],
   "source": []
  },
  {
   "cell_type": "code",
   "execution_count": null,
   "id": "1716f9f8-e10a-44e3-b504-afbcd02c682d",
   "metadata": {},
   "outputs": [],
   "source": []
  },
  {
   "cell_type": "code",
   "execution_count": null,
   "id": "bc9c15d4-f604-44a1-bd88-f9489c75c79c",
   "metadata": {},
   "outputs": [],
   "source": []
  },
  {
   "cell_type": "code",
   "execution_count": null,
   "id": "339b2054-1be1-48c5-ad8e-48bcace0db4f",
   "metadata": {},
   "outputs": [],
   "source": []
  },
  {
   "cell_type": "code",
   "execution_count": null,
   "id": "a3ca9295-93b5-46b1-8b38-c278a696193b",
   "metadata": {},
   "outputs": [],
   "source": []
  },
  {
   "cell_type": "code",
   "execution_count": null,
   "id": "0af9c2e9-7262-4976-90ee-bb0b3cae7765",
   "metadata": {},
   "outputs": [],
   "source": []
  },
  {
   "cell_type": "code",
   "execution_count": null,
   "id": "0e3c237d-38c1-4564-9034-ee8010f1c55a",
   "metadata": {},
   "outputs": [],
   "source": []
  },
  {
   "cell_type": "code",
   "execution_count": null,
   "id": "0303a505-d2aa-4077-a96f-067bc68425e7",
   "metadata": {},
   "outputs": [],
   "source": []
  },
  {
   "cell_type": "code",
   "execution_count": null,
   "id": "60040d51-d7da-48bb-b810-7ec0bac90527",
   "metadata": {},
   "outputs": [],
   "source": []
  },
  {
   "cell_type": "code",
   "execution_count": null,
   "id": "a4a0aded-67d0-40b7-ae5f-02bb3cc8be78",
   "metadata": {},
   "outputs": [],
   "source": []
  },
  {
   "cell_type": "code",
   "execution_count": null,
   "id": "458e843c-bf3a-4c54-a5e3-6a335af5327a",
   "metadata": {},
   "outputs": [],
   "source": []
  }
 ],
 "metadata": {
  "kernelspec": {
   "display_name": "Python 3",
   "language": "python",
   "name": "python3"
  },
  "language_info": {
   "codemirror_mode": {
    "name": "ipython",
    "version": 3
   },
   "file_extension": ".py",
   "mimetype": "text/x-python",
   "name": "python",
   "nbconvert_exporter": "python",
   "pygments_lexer": "ipython3",
   "version": "3.8.8"
  }
 },
 "nbformat": 4,
 "nbformat_minor": 5
}
